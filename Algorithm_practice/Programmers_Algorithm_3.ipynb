{
 "cells": [
  {
   "cell_type": "markdown",
   "metadata": {},
   "source": [
    "### 124 나라"
   ]
  },
  {
   "cell_type": "markdown",
   "metadata": {},
   "source": [
    "문제 설명\n",
    "124 나라가 있습니다. 124 나라에서는 10진법이 아닌 다음과 같은 자신들만의 규칙으로 수를 표현합니다.\n",
    "\n",
    "124 나라에는 자연수만 존재합니다.\n",
    "124 나라에는 모든 수를 표현할 때 1, 2, 4만 사용합니다.\n",
    "예를 들어서 124 나라에서 사용하는 숫자는 다음과 같이 변환됩니다.\n",
    "\n",
    "10진법\t124 나라\t10진법\t124 나라\n",
    "1\t1\t6\t14\n",
    "2\t2\t7\t21\n",
    "3\t4\t8\t22\n",
    "4\t11\t9\t24\n",
    "5\t12\t10\t41\n",
    "자연수 n이 매개변수로 주어질 때, n을 124 나라에서 사용하는 숫자로 바꾼 값을 return 하도록 solution 함수를 완성해 주세요.\n",
    "\n",
    "제한사항\n",
    "n은 500,000,000이하의 자연수 입니다.\n",
    "입출력 예\n",
    "n\tresult\n",
    "1\t1\n",
    "2\t2\n",
    "3\t4\n",
    "4\t11\n",
    "solution.py\n",
    "\n",
    "1\n",
    "def solution(n):\n",
    "2\n",
    "    answer = ''\n",
    "3\n",
    "    return answer\n",
    "실행 결과    \n",
    "실행 결과가 여기에 표시됩니다."
   ]
  },
  {
   "cell_type": "code",
   "execution_count": 11,
   "metadata": {},
   "outputs": [],
   "source": [
    "def solution(n):\n",
    "    answer=\"\"\n",
    "    while n>0:\n",
    "        n,a=divmod(n,3)\n",
    "        if a==0: n=-1\n",
    "        answer+=\"412\"[a]\n",
    "    return answer"
   ]
  },
  {
   "cell_type": "code",
   "execution_count": 14,
   "metadata": {},
   "outputs": [
    {
     "data": {
      "text/plain": [
       "'11'"
      ]
     },
     "execution_count": 14,
     "metadata": {},
     "output_type": "execute_result"
    }
   ],
   "source": [
    "solution(4)"
   ]
  }
 ],
 "metadata": {
  "kernelspec": {
   "display_name": "Python 3",
   "language": "python",
   "name": "python3"
  },
  "language_info": {
   "codemirror_mode": {
    "name": "ipython",
    "version": 3
   },
   "file_extension": ".py",
   "mimetype": "text/x-python",
   "name": "python",
   "nbconvert_exporter": "python",
   "pygments_lexer": "ipython3",
   "version": "3.6.4"
  }
 },
 "nbformat": 4,
 "nbformat_minor": 2
}
