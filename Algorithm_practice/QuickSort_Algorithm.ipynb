{
 "cells": [
  {
   "cell_type": "markdown",
   "metadata": {},
   "source": [
    "### 분할 정복(divide and conquer)\n",
    "- 문제 해결 방법 중 하나입니다.\n",
    "- 재귀적 기술입니다.(재귀적 알고리즘)"
   ]
  },
  {
   "cell_type": "markdown",
   "metadata": {},
   "source": [
    "- 간단하게 정리하자면 분할 정복 전략은 다음과 같이 동작합니다.\n",
    "    - 1) 가장 간단한 경우로 기본 단계를 찾습니다.\n",
    "    - 2) 주어진 문제를 작게 줄여서 기본 단계가 되도록 만드는 법을 찾아냅니다."
   ]
  },
  {
   "cell_type": "markdown",
   "metadata": {},
   "source": [
    "##### 예시) 숫자의 배열이 하나 주어지고 이 숫자들을 모두 더하여 합계를 구해야 합니다.\n",
    "- 반복문을 사용하면 아주 간단합니다."
   ]
  },
  {
   "cell_type": "code",
   "execution_count": 1,
   "metadata": {},
   "outputs": [],
   "source": [
    "def sum(arr):\n",
    "    total=0\n",
    "    for x in arr:\n",
    "        total += x\n",
    "    return total"
   ]
  },
  {
   "cell_type": "code",
   "execution_count": 2,
   "metadata": {},
   "outputs": [
    {
     "data": {
      "text/plain": [
       "10"
      ]
     },
     "execution_count": 2,
     "metadata": {},
     "output_type": "execute_result"
    }
   ],
   "source": [
    "sum([1,2,3,4])"
   ]
  },
  {
   "cell_type": "markdown",
   "metadata": {},
   "source": [
    "##### 재귀 함수를 사용해서 합계를 구한다면 어떻게 해야 할까요?\n",
    "- 1) 기본 단계를 찾습니다.\n",
    "    - 원소의 갯수가 0개이거나 1개이면 합계를 구하는 것은 매우 간단합니다. 0개이면 0이고 1개이면 그 원소 자체가 됩니다.\n",
    "- 2) 주어진 문제를 작게 줄여야 합니다. (기본 단계로 만듭니다.)\n",
    "    - 2,4,6의 합계를 구해야 한다면, 2+sum(4,6)으로 만듭니다. 그러면 2는 원소의 갯수가 1개인 기본 단계가 됩니다.\n",
    "    - 2+sum(4,6) -> 2+4+sum(6) -> 2+4+6으로 만드는 것입니다.\n",
    "- 아래에서 재귀함수를 사용한 sum함수를 구현해보겠습니다."
   ]
  },
  {
   "cell_type": "code",
   "execution_count": 22,
   "metadata": {},
   "outputs": [],
   "source": [
    "def sum(arr):\n",
    "    if arr==[]:return 0\n",
    "    else: return arr.pop(0) + sum(arr)"
   ]
  },
  {
   "cell_type": "markdown",
   "metadata": {},
   "source": [
    "위의 함수는 다음과 같은 방식으로 작동합니다.\n",
    "- 1) 리스트를 받는다.\n",
    "    - 2) 만약 리스트가 비어있으면 0을 반환한다.\n",
    "    - 2) 그렇지 않으면 총합은 리스트의 첫번째 숫자와 나머지 리스트의 총합을 더한값이 된다."
   ]
  },
  {
   "cell_type": "markdown",
   "metadata": {},
   "source": [
    "### 퀵 정렬(quicksort)\n",
    "- 정렬 알고리즘입니다.\n",
    "- 선택 정렬보다 훨씬 빠르고 실제로도 자주 사용됩니다.\n",
    "- 분할 정복 전략을 사용합니다."
   ]
  },
  {
   "cell_type": "markdown",
   "metadata": {},
   "source": [
    "##### 분할 정복 전략을 이용해 원소가 세 개인 배열을 정렬하는 방법(예시)\n",
    "- 1) 기준 원소를 고릅니다. (0개와 1개의 배열의 정렬은 쉽습니다.)\n",
    "- 2) 배열을 기준 원소보다 작은 원소의 배열과 기준 원소보다 큰 원소의 배열, 이렇게 두 개의 하위 배열로 분할합니다.\n",
    "- 3) 하위 배열에 대해 재귀적으로 퀵 정렬을 호출합니다.\n",
    "- 예시에서는 3개였지만, N개의 정렬로 일반화될 수 있습니다."
   ]
  },
  {
   "cell_type": "code",
   "execution_count": 1,
   "metadata": {},
   "outputs": [],
   "source": [
    "def quicksort1(array):\n",
    "    if len(array) <2: #기본단계입니다. 원소의 갯수가 0 또는 1이면 정렬상태는 그 원소 자체입니다.\n",
    "        return array\n",
    "    else:\n",
    "        pivot = array[0] # 기준 원소를 index =0 으로 잡은 것입니다. 다른 index도 가능합니다.\n",
    "        less = [i for i in array[1:] if i <=pivot] #하위 배열 less입니다. list comprehension으로 구현한 것입니다.\n",
    "        \n",
    "        greater = [i for i in array[1:] if i > pivot]#하위 배열 greater입니다. list comprehension으로 구현한 것입니다.\n",
    "        \n",
    "        return quicksort1(less) + [pivot] + quicksort1(greater)\n",
    "    #재귀적으로 less,greater 하위 배열도 기준 원소를 잡아서 재귀적으로 정렬하는 문장입니다. 기준 원소는 가운데에 둡니다.\n",
    "    #list의 합은 연결을 의미하므로 + 연산을 사용합니다."
   ]
  },
  {
   "cell_type": "code",
   "execution_count": 11,
   "metadata": {},
   "outputs": [
    {
     "name": "stdout",
     "output_type": "stream",
     "text": [
      "87.6 ms ± 968 µs per loop (mean ± std. dev. of 7 runs, 10 loops each)\n"
     ]
    }
   ],
   "source": [
    "%%timeit \n",
    "quicksort1(np.arange(1000))"
   ]
  },
  {
   "cell_type": "markdown",
   "metadata": {},
   "source": [
    "### 빅오 표기법 복습\n",
    "- 가장 일반적인 빅오 실행 시간 유형을 다시 살펴보겠습니다."
   ]
  },
  {
   "cell_type": "code",
   "execution_count": 46,
   "metadata": {},
   "outputs": [
    {
     "data": {
      "text/html": [
       "<div>\n",
       "<style scoped>\n",
       "    .dataframe tbody tr th:only-of-type {\n",
       "        vertical-align: middle;\n",
       "    }\n",
       "\n",
       "    .dataframe tbody tr th {\n",
       "        vertical-align: top;\n",
       "    }\n",
       "\n",
       "    .dataframe thead tr th {\n",
       "        text-align: left;\n",
       "    }\n",
       "</style>\n",
       "<table border=\"1\" class=\"dataframe\">\n",
       "  <thead>\n",
       "    <tr>\n",
       "      <th></th>\n",
       "      <th>이진 탐색</th>\n",
       "      <th>단순 탐색</th>\n",
       "      <th>퀵 정렬</th>\n",
       "      <th>선택 정렬</th>\n",
       "      <th>외판원 문제</th>\n",
       "    </tr>\n",
       "    <tr>\n",
       "      <th></th>\n",
       "      <th>O(log n)</th>\n",
       "      <th>O(n)</th>\n",
       "      <th>O(nlog n)</th>\n",
       "      <th>O(n**2)</th>\n",
       "      <th>O(n!)</th>\n",
       "    </tr>\n",
       "  </thead>\n",
       "  <tbody>\n",
       "    <tr>\n",
       "      <th>10</th>\n",
       "      <td>0.3s</td>\n",
       "      <td>1s</td>\n",
       "      <td>3.3s</td>\n",
       "      <td>10s</td>\n",
       "      <td>4.2d</td>\n",
       "    </tr>\n",
       "    <tr>\n",
       "      <th>100</th>\n",
       "      <td>0.6s</td>\n",
       "      <td>10s</td>\n",
       "      <td>66.4s</td>\n",
       "      <td>16.6m</td>\n",
       "      <td>2.9*10**44y</td>\n",
       "    </tr>\n",
       "    <tr>\n",
       "      <th>1000</th>\n",
       "      <td>1s</td>\n",
       "      <td>100s</td>\n",
       "      <td>996s</td>\n",
       "      <td>27.7h</td>\n",
       "      <td>1.27*10**2559y</td>\n",
       "    </tr>\n",
       "  </tbody>\n",
       "</table>\n",
       "</div>"
      ],
      "text/plain": [
       "        이진 탐색 단순 탐색      퀵 정렬   선택 정렬          외판원 문제\n",
       "     O(log n)  O(n) O(nlog n) O(n**2)           O(n!)\n",
       "10       0.3s    1s      3.3s     10s            4.2d\n",
       "100      0.6s   10s     66.4s   16.6m     2.9*10**44y\n",
       "1000       1s  100s      996s   27.7h  1.27*10**2559y"
      ]
     },
     "execution_count": 46,
     "metadata": {},
     "output_type": "execute_result"
    }
   ],
   "source": [
    "import pandas as pd\n",
    "import numpy as np\n",
    "data=np.array([['0.3s','1s','3.3s','10s','4.2d'],\n",
    "                [ '0.6s','10s','66.4s','16.6m','2.9*10**44y'],\n",
    "                ['1s','100s','996s','27.7h','1.27*10**2559y']])\n",
    "Big_O = pd.DataFrame(data,index=['10','100','1000'])\n",
    "Big_O.columns=[['이진 탐색','단순 탐색','퀵 정렬','선택 정렬','외판원 문제'],['O(log n)','O(n)','O(nlog n)','O(n**2)','O(n!)']]\n",
    "Big_O"
   ]
  },
  {
   "cell_type": "markdown",
   "metadata": {},
   "source": [
    "- 위의 표에 나온 시간은 초당 10회의 연산을 하는 느린 컴퓨터를 기준으로 하는 경우입니다.\n",
    "- 병합 정렬(merge sort)이라고 부르는 정렬 알고리즘도 있는데, 이 알고리즘의 실행 시간은 O(n)입니다.\n",
    "- 퀵 정렬의 실행 시간은 사실 최악의 경우에는 O(n**2)가 될 수도 있습니다.\n",
    "- 하지만 이것은 어디까지나 최악의 경우이고, 일반적으로는 O(nlog_n)의 실행 시간을 가집니다."
   ]
  },
  {
   "cell_type": "markdown",
   "metadata": {},
   "source": [
    "- 빅오 표기법에서 상수가 문제가 되지 않아 생략한다고 이전에 언급했던 적이 있습니다.\n",
    "- 가끔은 `상수 때문에 차이가 발생`하기도 합니다. 예로 들어서 퀵 정렬과 병합 정렬이 그 예입니다.\n",
    "- 퀵 정렬이 병합 정렬보다 더 작은 상수를 가집니다. 따라서 실행시간이 O(nlog_n)으로 동일하다면 퀵 정렬이 병합 정렬보다 빠릅니다.\n",
    "- 따라서 현실에서는 퀵이 병합보다 더 빠릅니다."
   ]
  },
  {
   "cell_type": "markdown",
   "metadata": {},
   "source": [
    "### 추가적으로 하는 이야기\n",
    "- 빅오표기법은 최악의 실행시간을 나타내는 것이라고 했습니다.\n",
    "- 근데 위의 표를 보면 퀵 정렬의 빅오 표기법은 O(nlog_n)이라고 되어있습니다.\n",
    "- 즉, 최선과 평균적인 실행 시간이 O(nlog_n)이 되는 것이고, 최악의 실행 시간이 O(n**2)가 되는 것입니다.\n",
    "- 따라서 최악의 실행시간을 나타내는 빅오 표기법에서 퀵 정렬을 O(nlog_n)로 나타낸 것이 모순적이기는 하지만, 일반적(평균적)으로 보이는 실행시간인 점을 감안하면 크게 틀리지는 않습니다."
   ]
  },
  {
   "cell_type": "markdown",
   "metadata": {},
   "source": [
    "- 블로그 출처/ 퀵 소트에 대한 글\n",
    "- Quicksort is a sorting algorithm whose worst-case running time is O(N^2) on an input array of n numbers, In spite of this slow worst-cas running time, quicksort is often the best practical choice for sorting becuz it is remarkably efficient on the average: it's expected running time is O(nlogn), and the constant factors hidden in the O(nlogn)notation are quite small, It also has the advantage of sporting in place, and it works well even in memory environments."
   ]
  }
 ],
 "metadata": {
  "kernelspec": {
   "display_name": "Python 3",
   "language": "python",
   "name": "python3"
  },
  "language_info": {
   "codemirror_mode": {
    "name": "ipython",
    "version": 3
   },
   "file_extension": ".py",
   "mimetype": "text/x-python",
   "name": "python",
   "nbconvert_exporter": "python",
   "pygments_lexer": "ipython3",
   "version": "3.6.4"
  }
 },
 "nbformat": 4,
 "nbformat_minor": 2
}
