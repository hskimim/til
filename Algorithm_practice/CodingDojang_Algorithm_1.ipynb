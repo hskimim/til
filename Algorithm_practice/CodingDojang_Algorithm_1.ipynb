{
 "cells": [
  {
   "cell_type": "code",
   "execution_count": null,
   "metadata": {},
   "outputs": [],
   "source": [
    "# 접근\n",
    "  # list를 받으면 `list[1:]` 를 구해서 zip으로 묶고 차이를 구하면 좋을 것 같음\n",
    "  # list comprehension으로 길이를 list로 받기?\n",
    "    # 길이 짧은 것의 pair를 돌려주는 방법은? - 길이를 계산해서 정렬 / 길이를 key로 정렬"
   ]
  },
  {
   "cell_type": "markdown",
   "metadata": {},
   "source": [
    "Initial Solution"
   ]
  },
  {
   "cell_type": "code",
   "execution_count": 25,
   "metadata": {},
   "outputs": [
    {
     "name": "stdout",
     "output_type": "stream",
     "text": [
      "[2, 1, 4, 5, 4, 3]\n"
     ]
    },
    {
     "data": {
      "text/plain": [
       "(3, 4)"
      ]
     },
     "execution_count": 25,
     "metadata": {},
     "output_type": "execute_result"
    }
   ],
   "source": [
    "s=[1,3,4,8,13,20,17]\n",
    "s.sort()\n",
    "pairs=zip(s[0:],s[1:])\n",
    "pairs=list(pairs)\n",
    "npairs=[]\n",
    "for i in range(len(pairs)):\n",
    "    result=pairs[i][1]-pairs[i][0]\n",
    "    npairs.append(result)\n",
    "print(npairs)\n",
    "index = npairs.index(min(npairs))\n",
    "s[index],s[index+1]"
   ]
  },
  {
   "cell_type": "markdown",
   "metadata": {},
   "source": [
    "Advanced Solution"
   ]
  },
  {
   "cell_type": "code",
   "execution_count": 2,
   "metadata": {},
   "outputs": [
    {
     "data": {
      "text/plain": [
       "(3, 4)"
      ]
     },
     "execution_count": 2,
     "metadata": {},
     "output_type": "execute_result"
    }
   ],
   "source": [
    "s=[1,3,4,8,13,20,17]\n",
    "s.sort()\n",
    "pairs=zip(s[0:],s[1:])\n",
    "sorted(pairs,key=lambda tup:tup[1]-tup[0])[0]"
   ]
  }
 ],
 "metadata": {
  "kernelspec": {
   "display_name": "Python 3",
   "language": "python",
   "name": "python3"
  },
  "language_info": {
   "codemirror_mode": {
    "name": "ipython",
    "version": 3
   },
   "file_extension": ".py",
   "mimetype": "text/x-python",
   "name": "python",
   "nbconvert_exporter": "python",
   "pygments_lexer": "ipython3",
   "version": "3.6.4"
  }
 },
 "nbformat": 4,
 "nbformat_minor": 2
}
