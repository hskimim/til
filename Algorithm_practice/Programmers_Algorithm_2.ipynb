{
 "cells": [
  {
   "cell_type": "markdown",
   "metadata": {},
   "source": [
    "## 공항 건설하기"
   ]
  },
  {
   "cell_type": "markdown",
   "metadata": {},
   "source": [
    "일직선으로 나열된 도시 n개로 이루어진 나라가 있습니다. 이번에 이 나라에서는 n개의 도시 중 한 도시에 공항을 짓기로 하였습니다. 공항이 지어질 도시의 조건은 다음과 같습니다.\n",
    "\n",
    "각 도시의 모든 거주민이 모두 공항을 사용한다고 가정해, 모든 사람의 이동 거리의 합이 최소가 되는 도시에 공항을 짓습니다.\n",
    "이동 거리의 합이 최소가 되는 공항이 여러개가 있으면 위치가 더 작은 도시에 공항을 짓습니다.\n",
    "예를 들어서 1에 위치한 도시에 5명의 사람이, 2에 위치한 도시에 2명의 사람이, 3에 위치한 도시에 3명의 사람이 산다고 하겠습니다.\n",
    "1에 위치한 도시에 공항을 짓는다면 총 이동 거리는 5 * 0 + 2 * 1 + 3 * 2 = 8\n",
    "2에 위치한 도시에 공항을 짓는다면 총 이동 거리는 5 * 1 + 2 * 0 + 3 * 1 = 8\n",
    "3에 위치한 도시에 공항을 짓는다면 총 이동 거리는 5 * 2 + 2 * 1 + 3 * 0 = 12\n",
    "따라서 이 경우는 1에 위치한 도시을 짓게 됩니다.\n",
    "\n",
    "도시의 위치와 그 도시에 사는 사람의 수 cities가 매개변수로 주어질 때, 공항을 지을 도시의 위치를 return 하는 solution 함수를 완성해 주세요.\n",
    "\n",
    "제한사항\n",
    "도시의 위치는 -100,000 이상 100,000이하인 정수 입니다.\n",
    "cities를 구성하는 원소의 첫번째 값은 도시의 위치를, 두번째 값은 도시에 사는 사람 수를 의미 합니다.\n",
    "이 나라의 도시는 10,000개 이하입니다."
   ]
  },
  {
   "cell_type": "code",
   "execution_count": null,
   "metadata": {},
   "outputs": [],
   "source": [
    "[출력표현식 for 요소 in 입력Sequence [if 조건식]]"
   ]
  },
  {
   "cell_type": "code",
   "execution_count": 4,
   "metadata": {},
   "outputs": [],
   "source": [
    "def solution(cities):\n",
    "    ls1=[]\n",
    "    ls2=[]\n",
    "    for i in range(len(cities)):\n",
    "        distance=0\n",
    "        for j in range(len(cities)):\n",
    "            distance += abs(cities[j][0]-cities[i][0])*cities[j][1]\n",
    "        ls1.append(distance)\n",
    "    for idx in range(len(ls1)):\n",
    "        if ls1[idx]==min(ls1):\n",
    "            ls2.append(idx)\n",
    "    return ls1"
   ]
  },
  {
   "cell_type": "code",
   "execution_count": 21,
   "metadata": {},
   "outputs": [],
   "source": [
    "def solution(cities):\n",
    "    ls=[]\n",
    "    for i in range(len(cities)):\n",
    "        distance=0\n",
    "        for j in range(len(cities)):\n",
    "            distance += abs(int(cities[j][0])-int(cities[i][0]))*int(cities[j][1])\n",
    "        ls.append(distance)\n",
    "    return ls.index(min(ls))+1"
   ]
  }
 ],
 "metadata": {
  "kernelspec": {
   "display_name": "Python 3",
   "language": "python",
   "name": "python3"
  },
  "language_info": {
   "codemirror_mode": {
    "name": "ipython",
    "version": 3
   },
   "file_extension": ".py",
   "mimetype": "text/x-python",
   "name": "python",
   "nbconvert_exporter": "python",
   "pygments_lexer": "ipython3",
   "version": "3.6.4"
  }
 },
 "nbformat": 4,
 "nbformat_minor": 2
}
