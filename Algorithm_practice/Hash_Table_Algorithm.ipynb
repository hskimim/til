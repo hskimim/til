{
 "cells": [
  {
   "cell_type": "markdown",
   "metadata": {},
   "source": [
    "### 해시 함수(hash function)\n",
    "- 문자열을 받아서 숫자를 반환하는 함수입니다.\n",
    "    - ex) 사과 -> 1000원 , 포도 -> 1200원\n",
    "- 문자열에 대해 숫자를 할당(mapping)합니다.\n",
    "    - 해쉬 함수에는 일관성이 있어야 합니다. 사과를 넣으면 1000원이 반환된다면 항상 반환되는 값은 1000원이여야 합니다.\n",
    "    - 다른 단어가 들어가면 다른 단어가 나와야 합니다. \n",
    "- 해쉬 함수는 같은 이름에 대해서는 항상 같은 인덱스를 할당합니다. 이에 따라 당연히 다른 문자열에 대해서는 다른 인덱스를 할당합니다."
   ]
  },
  {
   "cell_type": "markdown",
   "metadata": {},
   "source": [
    "### 해쉬 테이블 (hash table)\n",
    "- 해시 함수 + 배열 = 해시 테이블\n",
    "- 리스트 배열과 같이 일종의 자료구조입니다.\n",
    "- 자료 그 자체 외에도 해시 함수라는 추가적인 논리구조를 가지는 첫 번째 자료구조입니다.\n",
    "    - 리스트와 배열은 직접 메모리를 할당하지만, 해시 테이블은 해시 함수를 이용해 더 효율적으로 어디에 원소를 저장할지 결정합니다.\n",
    "- 파이썬에서는 딕셔너리(dictionary)라고 불리는 해시 테이블이 있습니다."
   ]
  },
  {
   "cell_type": "code",
   "execution_count": 1,
   "metadata": {},
   "outputs": [],
   "source": [
    "book = dict() #빈 해시 테이블\n",
    "book['apple']=0.67\n",
    "book['milk']=1.49\n",
    "book['avocado']=1.49"
   ]
  },
  {
   "cell_type": "code",
   "execution_count": 2,
   "metadata": {},
   "outputs": [
    {
     "data": {
      "text/plain": [
       "{'apple': 0.67, 'avocado': 1.49, 'milk': 1.49}"
      ]
     },
     "execution_count": 2,
     "metadata": {},
     "output_type": "execute_result"
    }
   ],
   "source": [
    "book"
   ]
  },
  {
   "cell_type": "code",
   "execution_count": 3,
   "metadata": {},
   "outputs": [
    {
     "data": {
      "text/plain": [
       "1.49"
      ]
     },
     "execution_count": 3,
     "metadata": {},
     "output_type": "execute_result"
    }
   ],
   "source": [
    "book['avocado']"
   ]
  },
  {
   "cell_type": "markdown",
   "metadata": {},
   "source": [
    "### 해시 테이블을 사용하는 예"
   ]
  },
  {
   "cell_type": "markdown",
   "metadata": {},
   "source": [
    "- 해시 테이블로 조회하기"
   ]
  },
  {
   "cell_type": "code",
   "execution_count": 4,
   "metadata": {},
   "outputs": [],
   "source": [
    "phone_book={} #새로운 해시 테이블을 만들어 주는 방법으로 dict()보다 더 간단한 방법입니다."
   ]
  },
  {
   "cell_type": "code",
   "execution_count": 5,
   "metadata": {},
   "outputs": [],
   "source": [
    "phone_book['jenny']=654321\n",
    "phone_book['emergency']=119"
   ]
  },
  {
   "cell_type": "code",
   "execution_count": 6,
   "metadata": {},
   "outputs": [
    {
     "data": {
      "text/plain": [
       "{'emergency': 119, 'jenny': 654321}"
      ]
     },
     "execution_count": 6,
     "metadata": {},
     "output_type": "execute_result"
    }
   ],
   "source": [
    "phone_book"
   ]
  },
  {
   "cell_type": "code",
   "execution_count": 7,
   "metadata": {},
   "outputs": [
    {
     "data": {
      "text/plain": [
       "119"
      ]
     },
     "execution_count": 7,
     "metadata": {},
     "output_type": "execute_result"
    }
   ],
   "source": [
    "phone_book['emergency']"
   ]
  },
  {
   "cell_type": "markdown",
   "metadata": {},
   "source": [
    "- 중복된 항목을 방지하기\n",
    "    - get 함수는 해시 테이블 안에 'tom'이라는 키가 있으면 그 키에 해당하는 값을 반환합니다. 만약 키가 없다면 None을 반환합니다."
   ]
  },
  {
   "cell_type": "code",
   "execution_count": 8,
   "metadata": {},
   "outputs": [],
   "source": [
    "voted={}\n",
    "def check_voter(name):\n",
    "    if voted.get(name):\n",
    "        print ('get him back!')\n",
    "    else:\n",
    "        voted[name]=True\n",
    "        print('let him vote!')"
   ]
  },
  {
   "cell_type": "code",
   "execution_count": 9,
   "metadata": {},
   "outputs": [
    {
     "name": "stdout",
     "output_type": "stream",
     "text": [
      "let him vote!\n"
     ]
    }
   ],
   "source": [
    "check_voter('tom')"
   ]
  },
  {
   "cell_type": "code",
   "execution_count": 10,
   "metadata": {},
   "outputs": [
    {
     "name": "stdout",
     "output_type": "stream",
     "text": [
      "let him vote!\n"
     ]
    }
   ],
   "source": [
    "check_voter('mike')"
   ]
  },
  {
   "cell_type": "code",
   "execution_count": 11,
   "metadata": {},
   "outputs": [
    {
     "name": "stdout",
     "output_type": "stream",
     "text": [
      "get him back!\n"
     ]
    }
   ],
   "source": [
    "check_voter('tom')"
   ]
  },
  {
   "cell_type": "markdown",
   "metadata": {},
   "source": [
    "만약 리스트에 특정 사람의 이름을 저장하고 중복 여부를 판단하려 한다면, 리스트 전체에 대해 단순 탐색을 반복해야 하기 때문에, 이 함수가 느려질 것을 알아야 합니다. 하지만 이름을 해쉬테이블에 저장하면 해당 테이블에 이름이 있는지 없는지를 순간적으로 알려주어서 중복 확인 문제에 있어서 해시 테이블이 훨씬 빠릅니다."
   ]
  },
  {
   "cell_type": "markdown",
   "metadata": {},
   "source": [
    "### 해시 테이블을 캐시로 사용하기"
   ]
  },
  {
   "cell_type": "markdown",
   "metadata": {},
   "source": [
    "- 캐싱의 핵심 개념에 대해 짚고 넘어가도록 하겠습니다.\n",
    "    - facebook.com 웹 사이트에 방문한다고 가정합니다.\n",
    "    - 페이스북 서버에 요청을 합니다.\n",
    "    - 서버는 잠시 생각한 후, 요청한 웹 페이지를 찾아서 보내줍니다.\n",
    "    - 웹 페이지를 받습니다.\n",
    "- 웹 페이지를 받을 때, 보지 않고 쌓인 친구들의 로그들을 모아서 보여주게 되면, 모든 정보들을 모으고 보여주는 데 시간이 걸리게 됩니다. 이 시간들을 단축시킬 수 있는 방법이 있습니다. 바로 cache입니다. -- 정보를 다시 계산하지 않고 저장했다가 알려주는 것을 '캐싱'이라고 합니다.\n",
    "- 캐싱은 작업 속도를 올리는 일반적인 방법입니다. 모든 대형 웹 사이트는 캐싱을 사용하고, 그 자료는 해시 테이블에 저장됩니다."
   ]
  },
  {
   "cell_type": "markdown",
   "metadata": {},
   "source": [
    "### 충돌\n",
    "- 이전까지 해시 함수는 서로 다른 키를 배열의 서로 다른 위치에 할당한다고 했습니다.(선의의 거짓말이라고 합니다. 저도 쓰면서 몰랐습니다...)\n",
    "- 예로 들어,26개의 배열(알파벳)을 할당했다고 했을 때, A로 시작하는 단어가 중복되면(Apple,Avocado..)하나의 배열에 연결 리스트를 만들어 넣어서 같은 배열 공간에 문자들을 할당하게 됩니다.\n",
    "- 이상적으로는 해시 함수는 키를 해시 테이블 전체에 고르게 할당해야 합니다.\n",
    "- 만약 연결 리스트가 길어지면 해시 테이블의 속도도 느려집니다. 좋은 해시 함수가 있다면 이런 일은 일어나지 않습니다."
   ]
  },
  {
   "cell_type": "markdown",
   "metadata": {},
   "source": [
    "### 성능"
   ]
  },
  {
   "cell_type": "code",
   "execution_count": 18,
   "metadata": {},
   "outputs": [
    {
     "data": {
      "text/html": [
       "<div>\n",
       "<style scoped>\n",
       "    .dataframe tbody tr th:only-of-type {\n",
       "        vertical-align: middle;\n",
       "    }\n",
       "\n",
       "    .dataframe tbody tr th {\n",
       "        vertical-align: top;\n",
       "    }\n",
       "\n",
       "    .dataframe thead th {\n",
       "        text-align: right;\n",
       "    }\n",
       "</style>\n",
       "<table border=\"1\" class=\"dataframe\">\n",
       "  <thead>\n",
       "    <tr style=\"text-align: right;\">\n",
       "      <th></th>\n",
       "      <th>(hash)average</th>\n",
       "      <th>(hash)the worst</th>\n",
       "      <th>array</th>\n",
       "      <th>Linked list</th>\n",
       "    </tr>\n",
       "  </thead>\n",
       "  <tbody>\n",
       "    <tr>\n",
       "      <th>search</th>\n",
       "      <td>O(1)</td>\n",
       "      <td>O(n)</td>\n",
       "      <td>O(1)</td>\n",
       "      <td>O(n)</td>\n",
       "    </tr>\n",
       "    <tr>\n",
       "      <th>insert</th>\n",
       "      <td>O(1)</td>\n",
       "      <td>O(n)</td>\n",
       "      <td>O(n)</td>\n",
       "      <td>O(1)</td>\n",
       "    </tr>\n",
       "    <tr>\n",
       "      <th>delete</th>\n",
       "      <td>O(1)</td>\n",
       "      <td>O(n)</td>\n",
       "      <td>O(n)</td>\n",
       "      <td>O(1)</td>\n",
       "    </tr>\n",
       "  </tbody>\n",
       "</table>\n",
       "</div>"
      ],
      "text/plain": [
       "       (hash)average (hash)the worst array Linked list\n",
       "search          O(1)            O(n)  O(1)        O(n)\n",
       "insert          O(1)            O(n)  O(n)        O(1)\n",
       "delete          O(1)            O(n)  O(n)        O(1)"
      ]
     },
     "execution_count": 18,
     "metadata": {},
     "output_type": "execute_result"
    }
   ],
   "source": [
    "import pandas as pd\n",
    "data=np.array([['O(1)','O(n)'],['O(1)','O(n)'],['O(1)','O(n)']])\n",
    "df=pd.DataFrame(data,index=['search','insert','delete'],columns=['(hash)average','(hash)the worst'])\n",
    "df['array'] = ['O(1)','O(n)','O(n)']\n",
    "df['Linked list']=['O(n)','O(1)','O(1)']\n",
    "df"
   ]
  },
  {
   "cell_type": "markdown",
   "metadata": {},
   "source": [
    "평균적인 경우에 해시 테이블은 모든 항목에 대해 O(1) 시간이 걸립니다. O(1)은 상수 시간(constant time)이라는 것으로 순간적이라는 뜻이 아니라 크기에 관계없이 항상 같은 시간이 걸린다는 뜻입니다. 최악의 경우가 아니라면(평균적인 경우라면), 연결 리스트와 배열의 좋은 점만 가지게 됩니다. 다만 최악의 경우 세 가지의 자료구조 중 성능이 가장 안좋게 됩니다."
   ]
  },
  {
   "cell_type": "markdown",
   "metadata": {},
   "source": [
    "- 충돌을 피하기 위한 필요조건:\n",
    "    - 낮은 사용률\n",
    "    - 좋은 해시 함수"
   ]
  },
  {
   "cell_type": "markdown",
   "metadata": {},
   "source": [
    "- 사용률(load factor)\n",
    "    - 해시 테이블의 사용률 계산법: 해시 테이블에 있는 항목의 수 / 해시 테이블에 있는 공간의 수\n",
    "- 사용률이 높아지면, 리사이징(resizing)이라는 해시 테이블의 공간을 추가하는 작업을 해줍니다. (더 큰 배열을 생성)\n",
    "- 일반적으로 사용률이 0.7보다 커지면 해시 테이블을 리사이징할 때입니다."
   ]
  }
 ],
 "metadata": {
  "kernelspec": {
   "display_name": "Python 3",
   "language": "python",
   "name": "python3"
  },
  "language_info": {
   "codemirror_mode": {
    "name": "ipython",
    "version": 3
   },
   "file_extension": ".py",
   "mimetype": "text/x-python",
   "name": "python",
   "nbconvert_exporter": "python",
   "pygments_lexer": "ipython3",
   "version": "3.6.4"
  }
 },
 "nbformat": 4,
 "nbformat_minor": 2
}
