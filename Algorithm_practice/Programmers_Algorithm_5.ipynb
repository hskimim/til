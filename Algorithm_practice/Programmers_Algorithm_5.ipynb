{
 "cells": [
  {
   "cell_type": "markdown",
   "metadata": {},
   "source": [
    "## 야근 지수"
   ]
  },
  {
   "cell_type": "markdown",
   "metadata": {},
   "source": [
    "회사원 Demi는 가끔은 야근을 하는데요, 야근을 하면 야근 피로도가 쌓입니다. 야근 피로도는 야근을 시작한 시점에서 남은 일의 작업량을 제곱하여 더한 값입니다. Demi는 N시간 동안 야근 피로도를 최소화하도록 일할 겁니다.Demi가 1시간 동안 작업량 1만큼을 처리할 수 있다고 할 때, 퇴근까지 남은 N 시간과 각 일에 대한 작업량 works에 대해 야근 피로도를 최소화한 값을 리턴하는 함수 solution을 완성해주세요.\n",
    "\n",
    "제한 사항\n",
    "works는 길이 1 이상, 20,000 이하인 배열입니다.\n",
    "works의 원소는 50000 이하인 자연수입니다.\n",
    "n은 1,000,000 이하인 자연수입니다.\n",
    "입출력 예\n",
    "works\tn\tresult\n",
    "[4, 3, 3]\t4\t12\n",
    "[2, 1, 2]\t1\t6\n",
    "[1,1]\t3\t0\n",
    "입출력 예 설명\n",
    "입출력 예 #1\n",
    "n=4 일 때, 남은 일의 작업량이 [4, 3, 3] 이라면 야근 지수를 최소화하기 위해 4시간동안 일을 한 결과는 [2, 2, 2]입니다. 이 때 야근 지수는 22 + 22 + 22 = 12 입니다.\n",
    "\n",
    "입출력 예 #2\n",
    "n=1일 때, 남은 일의 작업량이 [2,1,2]라면 야근 지수를 최소화하기 위해 1시간동안 일을 한 결과는 [1,1,2]입니다. 야근지수는 12 + 12 + 22 = 6입니다."
   ]
  },
  {
   "cell_type": "code",
   "execution_count": 51,
   "metadata": {},
   "outputs": [
    {
     "data": {
      "text/plain": [
       "12"
      ]
     },
     "execution_count": 51,
     "metadata": {},
     "output_type": "execute_result"
    }
   ],
   "source": [
    "def solution(n,works):\n",
    "    answer=0\n",
    "    while True:\n",
    "        if (sum(works)==0) | (n==0):break\n",
    "        works[works.index(max(works))]-=1\n",
    "        n-=1\n",
    "    answer=[works[i]**2 for i in range(len(works))]\n",
    "    return sum(answer)\n",
    "solution(4,[4,3,3])"
   ]
  }
 ],
 "metadata": {
  "kernelspec": {
   "display_name": "Python 3",
   "language": "python",
   "name": "python3"
  },
  "language_info": {
   "codemirror_mode": {
    "name": "ipython",
    "version": 3
   },
   "file_extension": ".py",
   "mimetype": "text/x-python",
   "name": "python",
   "nbconvert_exporter": "python",
   "pygments_lexer": "ipython3",
   "version": "3.6.4"
  }
 },
 "nbformat": 4,
 "nbformat_minor": 2
}
