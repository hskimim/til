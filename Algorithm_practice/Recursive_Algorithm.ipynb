{
 "cells": [
  {
   "cell_type": "markdown",
   "metadata": {},
   "source": [
    "### Recursive\n",
    "본격적으로 재귀 알고리즘에 대해 나가기에 앞서, 한 프로그래머의 말을 인용하며 시작하겠습니다. \" 프로그램에 반목문을 사용하면 프로그램의 성능을 향상시킬 수 있지만, 재귀를 사용하면 프로그래머의 능력을 향상시킬 수 있습니다. 상황에 따라 적절한 방법을 골라 사용하세요.\""
   ]
  },
  {
   "cell_type": "markdown",
   "metadata": {},
   "source": [
    "재귀 함수는 자기 자신을 호출하는 함수입니다. 따라서 실수로 무한 반복을 하는 함수를 만들기 쉽습니다. "
   ]
  },
  {
   "cell_type": "code",
   "execution_count": 2,
   "metadata": {},
   "outputs": [],
   "source": [
    "def countdown(i):\n",
    "    print (i)\n",
    "    countdown(i-1)\n",
    "# 스크립트를 중지하려면 Ctrl + c 를 누릅니다."
   ]
  },
  {
   "cell_type": "markdown",
   "metadata": {},
   "source": [
    "따라서 재귀 함수를 만들 대에는 기본 단계(base case)와 재귀 단계 (recursice case)라는 두 부분으로 나눠져 있습니다. \n",
    "- 재귀 단계 : 자기 자신을 호출하는 부분입니다.\n",
    "- 기본 단계 : 자기 자신을 다시 호출하지 않는 경우, 즉 무한 반복으로 빠져들지 않게 하는 부분입니다."
   ]
  },
  {
   "cell_type": "code",
   "execution_count": 3,
   "metadata": {},
   "outputs": [],
   "source": [
    "def countdown(i):\n",
    "    print(i)\n",
    "    if i<=1:\n",
    "        return \n",
    "    else:\n",
    "        countdown(i-1)"
   ]
  },
  {
   "cell_type": "code",
   "execution_count": 4,
   "metadata": {},
   "outputs": [
    {
     "name": "stdout",
     "output_type": "stream",
     "text": [
      "3\n",
      "2\n",
      "1\n"
     ]
    }
   ],
   "source": [
    "countdown(3)"
   ]
  },
  {
   "cell_type": "markdown",
   "metadata": {},
   "source": [
    "### Stack\n",
    "- Push : 가장 위에 새 항목을 추가한다.\n",
    "- Pop : 가장 위의 항목을 떼어내고 읽는다.\n"
   ]
  },
  {
   "cell_type": "code",
   "execution_count": 17,
   "metadata": {},
   "outputs": [],
   "source": [
    "def greet(name):\n",
    "    print('hello' +'\\t'+ name +'\\t'+ '!') # greet 함수 시작\n",
    "    greet2(name) # greet2 함수 push\n",
    "    print('getting ready to say bye...') # greet2 함수 pop\n",
    "    bye()# bye 함수 push \n",
    "    #bye 함수 pop and greet 함수 return"
   ]
  },
  {
   "cell_type": "code",
   "execution_count": 18,
   "metadata": {},
   "outputs": [],
   "source": [
    "def greet2(name):\n",
    "    print('how are you' +'\\t'+ name +'\\t'+ '?')"
   ]
  },
  {
   "cell_type": "code",
   "execution_count": 19,
   "metadata": {},
   "outputs": [],
   "source": [
    "def bye():\n",
    "    print('ok bye!')"
   ]
  },
  {
   "cell_type": "code",
   "execution_count": 20,
   "metadata": {},
   "outputs": [
    {
     "name": "stdout",
     "output_type": "stream",
     "text": [
      "hello\thskimim\t!\n",
      "how are you\thskimim\t?\n",
      "getting ready to say bye...\n",
      "ok bye!\n"
     ]
    }
   ],
   "source": [
    "greet('hskimim')"
   ]
  },
  {
   "cell_type": "markdown",
   "metadata": {},
   "source": [
    "재귀 함수에서 호출 스택사용"
   ]
  },
  {
   "cell_type": "code",
   "execution_count": 21,
   "metadata": {},
   "outputs": [],
   "source": [
    "def fact(x):\n",
    "    if x ==1:\n",
    "        return 1\n",
    "    else:\n",
    "        return x*fact(x-1)"
   ]
  },
  {
   "cell_type": "code",
   "execution_count": 23,
   "metadata": {},
   "outputs": [
    {
     "data": {
      "text/plain": [
       "6"
      ]
     },
     "execution_count": 23,
     "metadata": {},
     "output_type": "execute_result"
    }
   ],
   "source": [
    "fact(3)"
   ]
  },
  {
   "cell_type": "markdown",
   "metadata": {},
   "source": [
    "위의 fact(3) 함수를 통해 총 fact 함수를 세 번 호출하였습니다. 그리고 마지막에 함수 호출을 pop 을 하면서 반환을 하게 되는데, x==1인 함수부터 pop하기 시작해서 x==2,x==3까지해서 fact(x)함수 자체를 반환하면서 끝이납니다.\n",
    "- fact 함수에 대한 각각의 호출이 자기만의 x값의 사본을 가지고 있다는 사실에 주의해야 합니다. 서로 다른 함수 호출에 대한 x값에 접근할 수 없습니다.\n",
    "- 호출 스택은 너무 커져서 메모리를 엄청나게 소비할 수 도 있습니다."
   ]
  }
 ],
 "metadata": {
  "kernelspec": {
   "display_name": "Python 3",
   "language": "python",
   "name": "python3"
  },
  "language_info": {
   "codemirror_mode": {
    "name": "ipython",
    "version": 3
   },
   "file_extension": ".py",
   "mimetype": "text/x-python",
   "name": "python",
   "nbconvert_exporter": "python",
   "pygments_lexer": "ipython3",
   "version": "3.6.4"
  }
 },
 "nbformat": 4,
 "nbformat_minor": 2
}
