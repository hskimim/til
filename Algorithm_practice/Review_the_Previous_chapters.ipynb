{
 "cells": [
  {
   "cell_type": "markdown",
   "metadata": {},
   "source": [
    "## Selection Sort"
   ]
  },
  {
   "cell_type": "code",
   "execution_count": 53,
   "metadata": {},
   "outputs": [],
   "source": [
    "def findsmallest(arr):\n",
    "    smallest = arr[0]\n",
    "    smallest_index = 0\n",
    "    for i in range(1,len(arr)):\n",
    "        if arr[i] < smallest:\n",
    "            smallest_index = i\n",
    "    return smallest_index\n",
    "def selectionsort(arr):\n",
    "    newarr = []\n",
    "    for i in range(len(arr)):\n",
    "        smallest = findsmallest(arr)\n",
    "        newarr.append(arr.pop(smallest))\n",
    "    return newarr"
   ]
  },
  {
   "cell_type": "code",
   "execution_count": 54,
   "metadata": {},
   "outputs": [
    {
     "name": "stdout",
     "output_type": "stream",
     "text": [
      "3\n"
     ]
    }
   ],
   "source": [
    "print(findsmallest([5,3,6,2,10]))"
   ]
  },
  {
   "cell_type": "code",
   "execution_count": 72,
   "metadata": {},
   "outputs": [
    {
     "name": "stdout",
     "output_type": "stream",
     "text": [
      "[1, 3, 2, 1, 6, 7]\n"
     ]
    }
   ],
   "source": [
    "print(selectionsort([6,1,2,3,7,1]))"
   ]
  },
  {
   "cell_type": "markdown",
   "metadata": {},
   "source": [
    "## Recursive Algorithm"
   ]
  },
  {
   "cell_type": "code",
   "execution_count": 56,
   "metadata": {},
   "outputs": [],
   "source": [
    "def factorial(n):\n",
    "    if n<=1: return 1\n",
    "    return n*factorial(n-1)"
   ]
  },
  {
   "cell_type": "code",
   "execution_count": 57,
   "metadata": {},
   "outputs": [
    {
     "data": {
      "text/plain": [
       "120"
      ]
     },
     "execution_count": 57,
     "metadata": {},
     "output_type": "execute_result"
    }
   ],
   "source": [
    "factorial(5)"
   ]
  },
  {
   "cell_type": "markdown",
   "metadata": {},
   "source": [
    "## Quick Sort"
   ]
  },
  {
   "cell_type": "code",
   "execution_count": 61,
   "metadata": {},
   "outputs": [],
   "source": [
    "def quicksort(arr):\n",
    "    if len(arr) < 2:\n",
    "        return arr\n",
    "    else:\n",
    "        pivot = arr[0]\n",
    "        less = [i for i in arr[1:] if i<=pivot]\n",
    "        greater = [i for i in arr [1:] if i > pivot]\n",
    "        return quicksort(less) +[pivot] + quicksort(greater)"
   ]
  },
  {
   "cell_type": "code",
   "execution_count": 69,
   "metadata": {},
   "outputs": [
    {
     "data": {
      "text/plain": [
       "[15, 19, 21, 30, 39, 59, 62, 70, 80, 82]"
      ]
     },
     "execution_count": 69,
     "metadata": {},
     "output_type": "execute_result"
    }
   ],
   "source": [
    "# import numpy as np\n",
    "quicksort(np.random.randint(1,100,10))"
   ]
  },
  {
   "cell_type": "markdown",
   "metadata": {},
   "source": [
    "## Queue and Stack\n",
    "- queue : there are enqueue and dequeue (operations) \n",
    "    - FIFO : first in first out\n",
    "- stack : stack and pop\n",
    "    - LIFO : last in first out"
   ]
  },
  {
   "cell_type": "markdown",
   "metadata": {},
   "source": [
    "## 너비 우선 탐색\n",
    "- 정점 A에서 정점 B로 가는 경로가 존재하는가?\n",
    "- 정점 A에서 정점 B로 가는 최단 경로는 무엇인가?"
   ]
  },
  {
   "cell_type": "markdown",
   "metadata": {},
   "source": [
    "- 1) 확인할 사람의 명단을 넣을 큐를 준비한다.(hash table)\n",
    "- 2) 큐에서 한 사람을 꺼낸다.(dequeue)\n",
    "- 3) 이 사람이 망고 판매상인지 확인한다.\n",
    "    - 맞으면 return\n",
    "    - 아니면 그 사람의 이웃을 모두 큐에 추가한다.(enqueue)\n",
    "- 4) 1~3을 looping한다.\n",
    "- 5) 큐가 비어있으면 네트워크에는 망고 판매상이 없다."
   ]
  },
  {
   "cell_type": "code",
   "execution_count": 1,
   "metadata": {},
   "outputs": [],
   "source": [
    "# 관계 그래프\n",
    "graph = {}\n",
    "graph['you'] = ['alice','bob','claire']\n",
    "graph['bob'] = ['anuj','peggy']\n",
    "graph['alice'] = ['peggy']\n",
    "graph['claire'] = ['thom','jonny']\n",
    "graph['anuj'] = []\n",
    "graph['peggy'] = []\n",
    "graph['thom'] = []\n",
    "graph['jonny'] =[]"
   ]
  },
  {
   "cell_type": "code",
   "execution_count": 2,
   "metadata": {},
   "outputs": [],
   "source": [
    "from collections import deque# deque import \n",
    "def search(name):\n",
    "    search_queue = deque() # make class of deque\n",
    "    search_queue += graph[name] # add the network in deque obj\n",
    "    searched = [] # to prevent overlapped call\n",
    "    while search_queue: \n",
    "        person = search_queue.popleft() # first in first out\n",
    "        if not person in searched: # to prevent overlapped call\n",
    "            if person_is_seller(name): #search by the condition\n",
    "                print(person) + 'is a mango seller!'\n",
    "            return True\n",
    "        else:\n",
    "            search_queue += graph[person]\n",
    "            searched.append(person)\n",
    "    return False\n",
    "def person_is_seller(name):\n",
    "    return name[-1] == 'j'"
   ]
  },
  {
   "cell_type": "code",
   "execution_count": 3,
   "metadata": {},
   "outputs": [
    {
     "data": {
      "text/plain": [
       "True"
      ]
     },
     "execution_count": 3,
     "metadata": {},
     "output_type": "execute_result"
    }
   ],
   "source": [
    "search('you')"
   ]
  },
  {
   "cell_type": "markdown",
   "metadata": {},
   "source": [
    "- 너비 우선 탐색은 가장 적은 수의 구간을 가지는 경로를 찾아낸다.\n",
    "- 다익스트라 알고리즘은 최단 시간 경로를 구할 수 있다.\n",
    "    - 가장 가격이 싼 정점, 즉 도달하는 데 시간이 가장 적게 걸리는 정점을 찾는다.\n",
    "    - 이 정점의 이웃 정점에 대해 현재의 가격보다 더 싼 경로가 존재하는지 확인한다. 만약 존재하면 가격을 수정한다.\n",
    "    - 그래프 상의 모든 노드에 대해 이러한 일을 반복한다.\n",
    "    - 최종 경로를 계산한다.(부모 노드를 역추적한다.)"
   ]
  },
  {
   "cell_type": "code",
   "execution_count": 80,
   "metadata": {},
   "outputs": [],
   "source": [
    "graph = {}\n",
    "graph['start'] = {}#정점들을 연결하고, 그 이웃의 가중치를 표시\n",
    "graph['start']['a'] = 6\n",
    "graph['start']['b'] = 2\n",
    "graph['a'] = {}\n",
    "graph['a']['fin'] = 1\n",
    "graph['b'] ={}\n",
    "graph['b']['a'] = 3\n",
    "graph['b']['fin'] = 5\n",
    "graph['fin'] = {}\n",
    "# 이웃에 대한 네트워크를 설명해주는 그래프를 만들어준다."
   ]
  },
  {
   "cell_type": "code",
   "execution_count": 81,
   "metadata": {},
   "outputs": [
    {
     "data": {
      "text/plain": [
       "{'start': {'a': 6, 'b': 2},\n",
       " 'a': {'fin': 1},\n",
       " 'b': {'a': 3, 'fin': 5},\n",
       " 'fin': {}}"
      ]
     },
     "execution_count": 81,
     "metadata": {},
     "output_type": "execute_result"
    }
   ],
   "source": [
    "graph"
   ]
  },
  {
   "cell_type": "code",
   "execution_count": 82,
   "metadata": {},
   "outputs": [],
   "source": [
    "infinity = float('inf')\n",
    "costs = {}\n",
    "costs['a'] = 6\n",
    "costs['b'] = 2\n",
    "costs['fin'] = infinity\n",
    "# 가격에 대한 표를 만드는 코드이다."
   ]
  },
  {
   "cell_type": "code",
   "execution_count": 83,
   "metadata": {},
   "outputs": [
    {
     "data": {
      "text/plain": [
       "{'a': 6, 'b': 2, 'fin': inf}"
      ]
     },
     "execution_count": 83,
     "metadata": {},
     "output_type": "execute_result"
    }
   ],
   "source": [
    "costs"
   ]
  },
  {
   "cell_type": "code",
   "execution_count": 84,
   "metadata": {},
   "outputs": [],
   "source": [
    "parents = {}\n",
    "parents['a'] = 'start'\n",
    "parents['b'] = 'start'\n",
    "parents['fin'] = None\n",
    "# 부모에 대한 해시 테이블을 알려주는 코드이다."
   ]
  },
  {
   "cell_type": "code",
   "execution_count": 85,
   "metadata": {},
   "outputs": [],
   "source": [
    "processed = []\n",
    "# 각 정점은 한 번씩만 처리해야 하므로 이미 처리한 정점을 추적하기 위한 배열이 있어야 한다."
   ]
  },
  {
   "cell_type": "markdown",
   "metadata": {},
   "source": [
    "- 모든 정점을 처리할 때까지 반복해야 한다.\n",
    "    - 출발점에서 가장 가까운 정점을 찾는다.\n",
    "    - 이웃 정점의 가격을 갱신한다.\n",
    "    - 만약 이웃 정점의 가격을 갱신하면 부모도 갱신한다.\n",
    "    - 해당 정점을 처리했다는 사실을 기록한다."
   ]
  },
  {
   "cell_type": "code",
   "execution_count": 86,
   "metadata": {},
   "outputs": [],
   "source": [
    "def find_lowest_cost_node(costs):\n",
    "    lowest_cost = float('inf')\n",
    "    lowest_cost_node = None\n",
    "    for node in costs: #모든 정점을 확인한다.\n",
    "        cost = costs[node]#아직 처리하지 않은 정점 중 더 싼 것이 있으면\n",
    "        if cost < lowest_cost and node not in processed:\n",
    "            lowest_cost = cost#새로운 최저 정점으로 설정한다.\n",
    "            lowest_cost_node = node\n",
    "    return lowest_cost_node"
   ]
  },
  {
   "cell_type": "code",
   "execution_count": 87,
   "metadata": {},
   "outputs": [],
   "source": [
    "node= find_lowest_cost_node(costs)#아직 처리하지 않은 가장 싼 정점을 찾는다.\n",
    "while node is not None:#모든 정점을 처리하면 반복문이 종료된다.\n",
    "    cost = costs[node]\n",
    "    neighbors = graph[node]\n",
    "    for n in neighbors.keys(): #모든 이웃에 대해서 반복한다.\n",
    "        new_cost = cost + neighbors[n]\n",
    "        if costs[n] > new_cost:#만약 이 정점을 지나는 것이 가격이 더 싸다면\n",
    "            costs[n] = new_cost#정점의 가격을 갱신하고\n",
    "            parents[n] = node#부모를 이 정점으로 새로 설정한다.\n",
    "    processed.append(node)#정점을 처리한 사실을 기록하낟.\n",
    "    node = find_lowest_cost_node(costs)#다음으로 처리할 정점을 찾아 반복한다."
   ]
  },
  {
   "cell_type": "code",
   "execution_count": 88,
   "metadata": {},
   "outputs": [
    {
     "name": "stdout",
     "output_type": "stream",
     "text": [
      "Min_cost:  6\n",
      "Parents:  {'a': 'b', 'b': 'start', 'fin': 'a'}\n"
     ]
    }
   ],
   "source": [
    "print('Min_cost: ',cost)\n",
    "print('Parents: ',parents)"
   ]
  },
  {
   "cell_type": "code",
   "execution_count": 89,
   "metadata": {},
   "outputs": [
    {
     "data": {
      "text/plain": [
       "{'start': {'a': 6, 'b': 2},\n",
       " 'a': {'fin': 1},\n",
       " 'b': {'a': 3, 'fin': 5},\n",
       " 'fin': {}}"
      ]
     },
     "execution_count": 89,
     "metadata": {},
     "output_type": "execute_result"
    }
   ],
   "source": [
    "graph"
   ]
  },
  {
   "cell_type": "code",
   "execution_count": 90,
   "metadata": {},
   "outputs": [
    {
     "data": {
      "text/plain": [
       "{'a': 5, 'b': 2, 'fin': 6}"
      ]
     },
     "execution_count": 90,
     "metadata": {},
     "output_type": "execute_result"
    }
   ],
   "source": [
    "costs"
   ]
  },
  {
   "cell_type": "code",
   "execution_count": 93,
   "metadata": {},
   "outputs": [
    {
     "data": {
      "text/plain": [
       "{'a': 'b', 'b': 'start', 'fin': 'a'}"
      ]
     },
     "execution_count": 93,
     "metadata": {},
     "output_type": "execute_result"
    }
   ],
   "source": [
    "parents"
   ]
  },
  {
   "cell_type": "markdown",
   "metadata": {},
   "source": [
    "- 너비 우선 탐색은 가중치가 없는 균일 그래프에서 최단 경로를 계산하는 데 사용된다.\n",
    "- 다익스트라 알고리즘은 가중 그래프에서 최단 거리를 계산하는 데 사용된다.\n",
    "- 다익스트라 알고리즘은 모든 가중치가 양수일 때만 정상적으로 동작한다.\n",
    "- 만약 가주이가 음수이면 벨만-포드 알고리즘을 사용한다."
   ]
  }
 ],
 "metadata": {
  "kernelspec": {
   "display_name": "Python 3",
   "language": "python",
   "name": "python3"
  },
  "language_info": {
   "codemirror_mode": {
    "name": "ipython",
    "version": 3
   },
   "file_extension": ".py",
   "mimetype": "text/x-python",
   "name": "python",
   "nbconvert_exporter": "python",
   "pygments_lexer": "ipython3",
   "version": "3.6.5"
  }
 },
 "nbformat": 4,
 "nbformat_minor": 2
}
