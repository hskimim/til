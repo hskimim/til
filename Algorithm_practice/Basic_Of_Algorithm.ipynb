{
 "cells": [
  {
   "cell_type": "markdown",
   "metadata": {},
   "source": [
    "### Binary Search"
   ]
  },
  {
   "cell_type": "markdown",
   "metadata": {},
   "source": [
    "이진 탐색이란 탐색 방법의 일종으로 알고리즘입니다. 예로 들어 1에서 100 사이의 숫자 중 특정 숫자를 탐색하고자 할 때, 범위의 중간인 50부터 시작해서 대소 관계를 파악한 후, 찾고자 하는 값이 크거나 작을 때, 해당 아이템이 있는 범위에 절반씩 계속 끊어서 숫자를 탐색합니다. 단순 탐색보다 빠른 시간내에 탐색이 가능합니다. 빅오 표기법으로는 O(log n) 의 실행 시간을 보입니다."
   ]
  },
  {
   "cell_type": "code",
   "execution_count": 7,
   "metadata": {},
   "outputs": [],
   "source": [
    "def binary_search(list,item):\n",
    "    low=0\n",
    "    high=len(list)-1\n",
    "    \n",
    "    while low<=high:\n",
    "        mid = (low + high)//2\n",
    "        guess=list[mid]\n",
    "        \n",
    "        if guess == item: \n",
    "            return mid\n",
    "        if guess > item: \n",
    "            high = mid -1\n",
    "        else: low = mid + 1\n",
    "    return None"
   ]
  },
  {
   "cell_type": "code",
   "execution_count": 8,
   "metadata": {},
   "outputs": [],
   "source": [
    "my_list = [1,3,5,7,9]"
   ]
  },
  {
   "cell_type": "code",
   "execution_count": 10,
   "metadata": {},
   "outputs": [
    {
     "name": "stdout",
     "output_type": "stream",
     "text": [
      "1\n",
      "None\n"
     ]
    }
   ],
   "source": [
    "print(binary_search(my_list,3))#해당 item이 있는 index를 반환\n",
    "print( binary_search(my_list,-1))#None 반환"
   ]
  },
  {
   "cell_type": "markdown",
   "metadata": {},
   "source": [
    "### 빅오 표기법\n",
    "- 알고리즘이 동작하기 위해 필요한 연산 횟수를 나타냅니다.\n",
    "- 알고리즘이 얼마나 빠른지 말해줍니다.\n",
    "- 속도를 시간 단위로 세는 것이 아니라, 연산 회수를 비교하기 위한 것입니다.\n",
    "- 수행해야 할 일이 많아질 때 알고리즘에 걸리는 시간이 어떤 식으로 증가하는지를 알 수 있습니다."
   ]
  },
  {
   "cell_type": "markdown",
   "metadata": {},
   "source": [
    "### 배열과 연결 리스트(array and linked list)\n",
    "- 연결 리스트를 사용하면 원소를 메모리의 어느 곳에나 둘 수 있습니다.\n",
    "- 연결 리스트에는 각 원소 목록의 다음 원소에 대한 주소가 저장되어 있습니다.\n",
    "- 배열에 새 원소를 추가하는 일은 쉽지 않은 일입니다. 만약 추가해야 할 원소의 위치에 이미 다른 메모리의 원소에 있을 경우에는 모든 배열 원소들의 위치를 옮겨주어야 하는데 이 때 작업 속도가 매우 느려지게 됩니다. \n",
    "- 연결 리스트에서는 리스트의 원소들을 읽을 때 예로 들어서, 마지막 원소를 보고 싶다면 바로 읽을 수 없고 처음부터 하나하나 읽어 끝의 원소까지 가야합니다.\n",
    "- 따라서, 모든 원소의 값을 한 번에 읽어야 한다면 연결 리스트가 좋지만, 특정한 원소만을 알고 싶다면 배열이 훨씬 좋습니다. \n",
    "- 리스트의 가운데에 원소를 삽입할 때에는 이전 원소가 무엇을 가리키는지 바꾸기만 하면 되므로 리스트에 삽입하는 것이 훨씬 빠르고 쉽습니다.\n",
    "- 배열의 경우 다음에 오는 모든 원소의 위치를 바꿔야 하고 만약 공간이 부족하면 모든 원소를 새로운 장소로 복사해야 합니다."
   ]
  },
  {
   "cell_type": "code",
   "execution_count": 16,
   "metadata": {},
   "outputs": [
    {
     "data": {
      "text/html": [
       "<div>\n",
       "<style scoped>\n",
       "    .dataframe tbody tr th:only-of-type {\n",
       "        vertical-align: middle;\n",
       "    }\n",
       "\n",
       "    .dataframe tbody tr th {\n",
       "        vertical-align: top;\n",
       "    }\n",
       "\n",
       "    .dataframe thead th {\n",
       "        text-align: right;\n",
       "    }\n",
       "</style>\n",
       "<table border=\"1\" class=\"dataframe\">\n",
       "  <thead>\n",
       "    <tr style=\"text-align: right;\">\n",
       "      <th></th>\n",
       "      <th>array</th>\n",
       "      <th>linked list</th>\n",
       "    </tr>\n",
       "  </thead>\n",
       "  <tbody>\n",
       "    <tr>\n",
       "      <th>read</th>\n",
       "      <td>O(1)</td>\n",
       "      <td>O(n)</td>\n",
       "    </tr>\n",
       "    <tr>\n",
       "      <th>insert</th>\n",
       "      <td>O(n)</td>\n",
       "      <td>O(1)</td>\n",
       "    </tr>\n",
       "    <tr>\n",
       "      <th>delete</th>\n",
       "      <td>O(n)</td>\n",
       "      <td>O(1)</td>\n",
       "    </tr>\n",
       "  </tbody>\n",
       "</table>\n",
       "</div>"
      ],
      "text/plain": [
       "       array linked list\n",
       "read    O(1)        O(n)\n",
       "insert  O(n)        O(1)\n",
       "delete  O(n)        O(1)"
      ]
     },
     "execution_count": 16,
     "metadata": {},
     "output_type": "execute_result"
    }
   ],
   "source": [
    "df=pd.DataFrame({'array':['O(1)','O(n)','O(n)'],\n",
    "                'linked list':['O(n)','O(1)','O(1)']\n",
    "                },index=['read','insert','delete'])\n",
    "df"
   ]
  },
  {
   "cell_type": "markdown",
   "metadata": {},
   "source": [
    "### Selection sort"
   ]
  },
  {
   "cell_type": "markdown",
   "metadata": {},
   "source": [
    "만약 MP3 player 내에 있는 곡중에서 재생 수가 많은 순서대로 정렬을 하고 싶다면, 어떻게 정렬을 해야 할까요? 우선 선택 정렬(selection sort)에 대해서 알아보겠습니다.\n",
    "선택 정렬을 이용해서 곡들을 정렬한다면, 곡들을 처음부터 끝까지 탐색하고(n), 가장 재생 수가 높은 것을 첫번째로 할당 이 과정을 곡의 수만큼 계속적으로 실행합니다. 따라서 처음에는 n개의 항목을 점검하고 다음에는 n-1,n-2,..,2,1로 줄어들며 실행을 하여 평균적으로는 1/2 * n 개의 항목을 점검해서 빅오 표기법으로는 O( n * 1/2 * n) 시간이 걸리게 됩니다.하지만 빅오 표기법에서는 constant를 무시하기 때문에 `O(n^2)`이라고 씁니다.\n",
    "선택 정렬은 보기와 같이 깔끔한 알고리즘이지만 빠르지는 않습니다. 나중에 다룰 퀵 정렬(Quick selection)은 O(n*logn)시간밖에 걸리지 않습니다. 더욱 빠르죠."
   ]
  },
  {
   "cell_type": "code",
   "execution_count": 20,
   "metadata": {},
   "outputs": [],
   "source": [
    "def findSmallest(arr):\n",
    "    smallest = arr[0]\n",
    "    smallest_index=0\n",
    "    for i in range(1,len(arr)):\n",
    "        if arr[i] < smallest:\n",
    "            smallest = arr[i]\n",
    "            smallest_index = i\n",
    "    return smallest_index"
   ]
  },
  {
   "cell_type": "markdown",
   "metadata": {},
   "source": [
    "findSmallest 함수는 가장 작은 원소의 index를 반환하는 함수입니다."
   ]
  },
  {
   "cell_type": "code",
   "execution_count": 21,
   "metadata": {},
   "outputs": [],
   "source": [
    "def selectionSort(arr):\n",
    "    newArr = []\n",
    "    for i in range(len(arr)):\n",
    "        smallest = findSmallest(arr)\n",
    "        newArr.append(arr.pop(smallest))\n",
    "    return newArr"
   ]
  },
  {
   "cell_type": "markdown",
   "metadata": {},
   "source": [
    "selectionSort 함수는 findSmallest 함수에서 받은 index를 사용해 인자로 받은 배열이나 리스트의 원소들의 index를 pop해서 newArr라는 새롭게 할당한 리스트에 하나씩 Stack하는 것입니다."
   ]
  },
  {
   "cell_type": "code",
   "execution_count": 22,
   "metadata": {},
   "outputs": [
    {
     "name": "stdout",
     "output_type": "stream",
     "text": [
      "[2, 3, 5, 6, 10]\n"
     ]
    }
   ],
   "source": [
    "print(selectionSort([5,3,6,2,10]))"
   ]
  }
 ],
 "metadata": {
  "kernelspec": {
   "display_name": "Python 3",
   "language": "python",
   "name": "python3"
  },
  "language_info": {
   "codemirror_mode": {
    "name": "ipython",
    "version": 3
   },
   "file_extension": ".py",
   "mimetype": "text/x-python",
   "name": "python",
   "nbconvert_exporter": "python",
   "pygments_lexer": "ipython3",
   "version": "3.6.4"
  }
 },
 "nbformat": 4,
 "nbformat_minor": 2
}
