{
 "cells": [
  {
   "cell_type": "markdown",
   "metadata": {},
   "source": [
    "## Greedy Algorithm\n",
    "- 각 단계에서 국소 최적해(locally optimal solution)를 찾음으로써 최종적으로는 전역 최적해(globally optimal solution)를 구하게 된다.\n",
    "- 탐욕 알고리즘은 항상 올바른 답을 내놓는 것이 아니라, 빠르고 간단하게 근삿값(approximate solution)을 제시한다.\n",
    "- appoximation algorithm이라고 한다.\n",
    "    - 얼마나 빠른가\n",
    "    - 최적해에 얼마나 가까운가"
   ]
  },
  {
   "cell_type": "code",
   "execution_count": 6,
   "metadata": {},
   "outputs": [],
   "source": [
    "stations = {}\n",
    "stations['kone'] = set(['id','nv','ut'])\n",
    "stations['ktwo'] = set(['wa','id','mt'])\n",
    "stations['kthree'] = set(['or','nv','ca'])\n",
    "stations['kfour'] = set(['ut','nv'])\n",
    "stations['kfive'] = set(['ca','az'])\n",
    "final_stations = set()\n",
    "# set형으로 데이터형을 지정해주었기 때문에 모든 지역이 unique한 값을 지닌다."
   ]
  },
  {
   "cell_type": "code",
   "execution_count": 7,
   "metadata": {},
   "outputs": [
    {
     "name": "stdout",
     "output_type": "stream",
     "text": [
      "{'kone', 'kthree', 'ktwo', 'kfive'}\n"
     ]
    }
   ],
   "source": [
    "states_needed = set(['id','nv','ut','wa','mt','or','ca','az']) # 방송국이 필요한 지역들을 셋으로 디폴트 지정해준다.\n",
    "while states_needed: # 필요한 지역이 비어있기 전짜기 반복한다.\n",
    "    best_station = None # 방송국 디폴트\n",
    "    states_covered = set() # 방송국 위치 디폴트ㅠ\n",
    "    for station,states in stations.items(): #station에는 방송국의 이름, states에는 방송국의 위치가 반복적으로 할당된다.\n",
    "        covered = states_needed & states #방송국이 없는 지역과 반복문의 argument에 할당된 (states) 지역의 교집합 요소를 covered 변수로 빼준다.\n",
    "        if len(covered) > len(states_covered): # 현재 방송국이 위치하여 있는 지역보다 지금 할당한 방송국이 차지하고 있는(manage할 수 있는) 지역이 더 크다면 \n",
    "            best_station = station # 해당 방송국 이름을 best_station으로 지정한다.\n",
    "            states_covered = covered# 해당 방송국의 위치를 states_covered에 추가해준다.\n",
    "    states_needed -= states_covered # 그러면 우리가 방송국이 필요한 위치는 states_covered만큼 줄게 된다.\n",
    "    final_stations.add(best_station)# 우리가 다녀간 방송국을 final_station에 순서대로 넣어준다.\n",
    "print(final_stations)"
   ]
  },
  {
   "cell_type": "markdown",
   "metadata": {},
   "source": [
    "## NP-완전 문제\n",
    "- 집합 커버링(set-covering problem)와 외판원 문제를 풀기 위해서는 가능한 모든 집합을 계산해야 한다.\n",
    "- 예로 들어, 외판원 문제가 있다면 가야할 도시의 수가 한개씩 늘어나게 되면, 그 경우의 수는 팩토리얼(factorial)만큼 증가하게 된다.\n",
    "- 즉, 경우의 수가 엄청 빠르게 증가하기 때문에, 모든 가능한 경우를 다 따져서 최단최소를 구하는 것은 매우 어렵다. 하지만 set-covering과 외판원문제는 모든 경우의 수를 다 고려해야 하는 문제이다.\n",
    "- 이러한 문제를 NP-complete problem이라고 한다."
   ]
  },
  {
   "cell_type": "markdown",
   "metadata": {},
   "source": [
    "## Conclusion of Greedy Algorithm\n",
    "- 탐욕 알고리즘은 존역 최적화를 목표로 하지만, 실제로는 국소 최적화를 한다.\n",
    "- NP-완전 문제는 빠른 해답이 알려지지 않았다.\n",
    "- 만약 NP-완전 문제가 주어지면 근사 알고리즘을 쓰는 것이 최선이다.\n",
    "- 탐욕 알고리즘은 작성하기도 쉽고 빠르기 때문에 좋은 근사 알고리즘이 될 수 있다."
   ]
  }
 ],
 "metadata": {
  "kernelspec": {
   "display_name": "Python 3",
   "language": "python",
   "name": "python3"
  },
  "language_info": {
   "codemirror_mode": {
    "name": "ipython",
    "version": 3
   },
   "file_extension": ".py",
   "mimetype": "text/x-python",
   "name": "python",
   "nbconvert_exporter": "python",
   "pygments_lexer": "ipython3",
   "version": "3.6.5"
  }
 },
 "nbformat": 4,
 "nbformat_minor": 2
}
