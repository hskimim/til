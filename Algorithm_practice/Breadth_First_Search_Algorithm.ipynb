{
 "cells": [
  {
   "cell_type": "markdown",
   "metadata": {},
   "source": [
    "본 개인 학습 자료는 'Hello Coding 그림으로 개념을 이해하는 알고리즘[아디트야 바르가바 저]' 책에 기반한 것입니다."
   ]
  },
  {
   "cell_type": "markdown",
   "metadata": {},
   "source": [
    "### 시작하기에 앞서\n",
    "- 그래프에 대해서 알아봅니다.\n",
    "- 너비 우선 탐색(Breath-First_Search)라고 불리는 그래프 알고리즘을 알아봅니다."
   ]
  },
  {
   "cell_type": "markdown",
   "metadata": {},
   "source": [
    "### 그래프란 무엇인가?\n",
    "- 그래프란 연결의 집합을 모형화한 것입니다.\n",
    "- `(person1)-(person2)` 의 형태를 띄고 있다면, person1,person2는 노드(node)가 되고 '-'는 간선(edge)가 됩니다.\n",
    "- 그래프는 항목들이 서로 어떻게 연결되어 있는지를 모형화(modeling)하는 방법입니다."
   ]
  },
  {
   "cell_type": "markdown",
   "metadata": {},
   "source": [
    "### 너비 우선 탐색(Breadth First Search)\n",
    "- BFS는 다음과 같은 두 가지 종류의 질문에 대답하는 데 도움이 됩니다.\n",
    "    - 1) node A에서 node B로 가는 경로가 존재하는가?\n",
    "    - 2) node A에서 node B로 가는 최단 경로가 무엇인가?\n",
    "- 너비 우선 탐색이라고 불리는 이유부터 알아가 봅시다.\n",
    "    - 여러분이 친구들 중에 어떠한 특징(ex. 알고리즘 대회 우승자)을 가진 친구를 찾는다고 해봅시다. \n",
    "    - 여러분(You라고 지칭하겠습니다.) 과 친구들의 관계를 그래프로 모형화 할 수 있습니다.\n",
    "    - You의 친구들 중 해당 특징을 가진 친구가 없다면 친구의 친구로 관계 모형을 확장해서 탐색합니다.\n",
    "        - 위의 문제가 node A에서 node B로 가는 경로가 존재하는 지에 관한 문제입니다.\n",
    "    - 다만 여기서 You의 친구의 친구를 찾는 경로보다 You의 친구를 찾는(탐색)하는 경로가 더욱 빠르므로 직접적인 친구부터 탐색합니다.\n",
    "        - 위의 문제가 node A에서 node B로 가는 최단 경로가 무엇인지에 관한 문제입니다."
   ]
  },
  {
   "cell_type": "markdown",
   "metadata": {},
   "source": [
    "### 큐(Queue)\n",
    "- 위에서 언급했다시피 친구의 친구보다는 바로 연결될 친구부터 탐색하는 것이 최단 경로를 찾는 방법이라고 했습니다.\n",
    "- 이전에 배웠던, Stack 구조 기억이 나시나요? \n",
    "    - push : 마지막에 데이터 추가\n",
    "    - pop : 마지막에 들어온 데이터 삭제\n",
    "- 즉, stack 자료구조는 Last In First Out 형태를 띄고 있습니다.\n",
    "- 우리는 여기서 처음 등록한 우리의 관계 모형부터 탐색을 해야 하므로, First In First Out 형태의 자료구조를 사용해야 합니다.\n",
    "- Queue 자료 구조는 FIFO 자료구조를 띄고 있으며 enqueue 와 dequeue라고 하는 두 가지 연산이 있습니다."
   ]
  },
  {
   "cell_type": "markdown",
   "metadata": {},
   "source": [
    "### 그래프의 구현\n",
    "- You와 친구, 친구의 친구,...라는 관계 모형(graph)를 그릴 때 관계는 어떻게 표현해야 할까요??? ------ Hash Table(Dictionary dtype in Python)"
   ]
  },
  {
   "cell_type": "code",
   "execution_count": 21,
   "metadata": {},
   "outputs": [],
   "source": [
    "graph={}\n",
    "graph['you']=['alice','bob','claire']\n",
    "graph['bob']=['anuj','peggy']\n",
    "graph['alice']=['peggy']\n",
    "graph['claire']=['thom','jonny-a']\n",
    "graph['anuj']=[]\n",
    "graph['peggy']=[]\n",
    "graph['thom']=[]\n",
    "graph['jonny']=[]"
   ]
  },
  {
   "cell_type": "code",
   "execution_count": 11,
   "metadata": {},
   "outputs": [
    {
     "data": {
      "text/plain": [
       "{'anuj': [],\n",
       " 'bob': ['anuj', 'peggy'],\n",
       " 'claire': ['thom', 'jonny'],\n",
       " 'jonny': [],\n",
       " 'peggy': [],\n",
       " 'thom': [],\n",
       " 'you': ['alice', 'bob', 'claire']}"
      ]
     },
     "execution_count": 11,
     "metadata": {},
     "output_type": "execute_result"
    }
   ],
   "source": [
    "graph"
   ]
  },
  {
   "cell_type": "code",
   "execution_count": 13,
   "metadata": {},
   "outputs": [],
   "source": [
    "from collections import deque\n",
    "search_queue = deque() # 새 큐를 생성\n",
    "search_queue += graph['you'] # 모든 이웃을 탐색 큐에 추가"
   ]
  },
  {
   "cell_type": "code",
   "execution_count": 16,
   "metadata": {},
   "outputs": [
    {
     "data": {
      "text/plain": [
       "deque(['alice', 'bob', 'claire'])"
      ]
     },
     "execution_count": 16,
     "metadata": {},
     "output_type": "execute_result"
    }
   ],
   "source": [
    "search_queue"
   ]
  },
  {
   "cell_type": "code",
   "execution_count": 17,
   "metadata": {},
   "outputs": [
    {
     "ename": "SyntaxError",
     "evalue": "'return' outside function (<ipython-input-17-3f1b0b8eec5c>, line 5)",
     "output_type": "error",
     "traceback": [
      "\u001b[1;36m  File \u001b[1;32m\"<ipython-input-17-3f1b0b8eec5c>\"\u001b[1;36m, line \u001b[1;32m5\u001b[0m\n\u001b[1;33m    return True\u001b[0m\n\u001b[1;37m    ^\u001b[0m\n\u001b[1;31mSyntaxError\u001b[0m\u001b[1;31m:\u001b[0m 'return' outside function\n"
     ]
    }
   ],
   "source": [
    "with search_queue: # 큐가 비어있는 않는 한 계속 실행\n",
    "    person = search_queue.popleft() #큐의 첫 번째 사람을 꺼냄\n",
    "    if person_is_found(person):\n",
    "        print (person + 'is a Algorithm master!') # 찾음\n",
    "        return True\n",
    "    else:\n",
    "        search_queue +=graph[person] # 찾는 사람이 아님 모든 이웃을 탐색 목록에 추가\n",
    "return False # 여기에 도달했다는 것은 해당 특징을 가진 사람이 아무도 없다는 것을 의미"
   ]
  },
  {
   "cell_type": "code",
   "execution_count": 19,
   "metadata": {},
   "outputs": [],
   "source": [
    "def person_is_found(name):\n",
    "    return name[-1] =='a'\n",
    "# 특징을 임의로 설정한 것입니다."
   ]
  },
  {
   "cell_type": "markdown",
   "metadata": {},
   "source": [
    "- 위와 같은 경우에는 밥과 앨리스라는 사람이 모두 페기라는 관계를 형성하고 있어서 불필요한 일을 두 번 하게 됩니다.\n",
    "- 또한 이렇게 중복 상태를 방치하게 되면 무한 loop에 빠지게 될 수도 있습니다.\n",
    "    - 예로 들어서 You와 peggy가 일대일 관계를 가지고 있게 되고, 둘 다 특징을 가지고 있지 않다면 결과가 반환되지 않고 무한 반복문이 돕니다."
   ]
  },
  {
   "cell_type": "code",
   "execution_count": 27,
   "metadata": {},
   "outputs": [],
   "source": [
    "def search(name):\n",
    "    search_queue = deque()\n",
    "    search_queue += graph[name]\n",
    "    searched = [] # 찾은 사람을 search 에 넣습니다.\n",
    "    while search_queue:\n",
    "        person = search_queue.popleft()\n",
    "        if not person in searched: # search 에 있는 사람이 아니라면(중복 방지)\n",
    "            if person_is_found(person):\n",
    "                print (person + ' is a Algorithm master!')\n",
    "                return True\n",
    "            else:\n",
    "                search_queue += graph[person] # 해당 특징을 가지고 있지 않은 사람의 관계(친구)를 queue에 enqueue 합니다.(last in)\n",
    "                searched.append(person) # 한 번 탐색한 사람을 search 에 넣습니다. (다시 탐색을 하는 중복 탐색을 방지)\n",
    "    return False\n",
    "\n",
    "def person_is_found(name):\n",
    "    return name[-1] =='a'\n",
    "# 특징을 임의로 설정한 것입니다."
   ]
  },
  {
   "cell_type": "code",
   "execution_count": 26,
   "metadata": {},
   "outputs": [
    {
     "name": "stdout",
     "output_type": "stream",
     "text": [
      "jonny-a is a Algorithm master!\n"
     ]
    },
    {
     "data": {
      "text/plain": [
       "True"
      ]
     },
     "execution_count": 26,
     "metadata": {},
     "output_type": "execute_result"
    }
   ],
   "source": [
    "search('you')"
   ]
  },
  {
   "cell_type": "markdown",
   "metadata": {},
   "source": [
    "### 실행 시간\n",
    "- 여러분의 네트워크 전체를 탐색하는 것은 모든 정점을 따라서 움직인다는 뜻입니다.\n",
    "- 따라서 실행 시간은 최소한 O(간선의 갯수) 가 됩니다.\n",
    "- 탐색할 사람을 저장하는 큐도 있어야 합니다.\n",
    "- 큐에 사람을 추가하는 데는 상수 시간, 즉 O(1)이 걸립니다. 일반화 하면 O(사람의 수)가 됩니다. 여기서 사람의 수는 node 의 수입니다.\n",
    "- 따라서 저비 우선 탐색은 \n",
    "    - O(사람의 수 + 간선의 수) 다른 말로는 O(V + E)가 됩니다."
   ]
  }
 ],
 "metadata": {
  "kernelspec": {
   "display_name": "Python 3",
   "language": "python",
   "name": "python3"
  },
  "language_info": {
   "codemirror_mode": {
    "name": "ipython",
    "version": 3
   },
   "file_extension": ".py",
   "mimetype": "text/x-python",
   "name": "python",
   "nbconvert_exporter": "python",
   "pygments_lexer": "ipython3",
   "version": "3.6.4"
  }
 },
 "nbformat": 4,
 "nbformat_minor": 2
}
