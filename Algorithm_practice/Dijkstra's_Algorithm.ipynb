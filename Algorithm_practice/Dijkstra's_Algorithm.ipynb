{
 "cells": [
  {
   "cell_type": "markdown",
   "metadata": {},
   "source": [
    "### 다익스트라 알고리즘\n",
    "- 너비우선탐색\n",
    "    - 최단 경로 탐색\n",
    "    - unweighted graph\n",
    "- 다익스트라\n",
    "    - 각 구간에 숫자 혹은 weight 부여, total weight를 minimize하는 구간 탐색\n",
    "    - weighted graph\n",
    "    - every weight must be positive value\n",
    "    - Directed Acyclic Graph\n",
    "- weight 가 음수인 경우\n",
    "    - 벨만 - 포드 알고리즘을 사용해야 합니다"
   ]
  },
  {
   "cell_type": "markdown",
   "metadata": {},
   "source": [
    "그래프, 가격, 부모에 대한 해시 테이블을 만들어야 합니다."
   ]
  },
  {
   "cell_type": "markdown",
   "metadata": {},
   "source": [
    "그래프에 대한 해시 테이블 만들기"
   ]
  },
  {
   "cell_type": "code",
   "execution_count": 7,
   "metadata": {},
   "outputs": [],
   "source": [
    "graph = {}\n",
    "graph['start'] = {}\n",
    "graph['start']['a'] = 6 #start에서 a 로 가는 비용은 6\n",
    "graph['start']['b'] = 2 # start에서 b 로 가는 비용은 2\n",
    "graph['a']={}\n",
    "graph['a']['fin'] = 1\n",
    "graph['b']={}\n",
    "graph['b']['a'] = 3\n",
    "graph['b']['fin'] = 5\n",
    "graph['fin'] = {} #fin point 에는 이웃이 없습니다."
   ]
  },
  {
   "cell_type": "code",
   "execution_count": 24,
   "metadata": {},
   "outputs": [
    {
     "name": "stdout",
     "output_type": "stream",
     "text": [
      "{'start': {'a': 6, 'b': 2}, 'a': {'fin': 1}, 'b': {'a': 3, 'fin': 5}, 'fin': {}}\n"
     ]
    }
   ],
   "source": [
    "print(graph)"
   ]
  },
  {
   "cell_type": "markdown",
   "metadata": {},
   "source": [
    "정점의 가격을 저장하는 해시 테이블이 있어야 합니다\n",
    "- 정점의 가격은 출발점에서 그 정점까지 도달하는 데 걸리는 시간입니다. \n",
    "- 가격을 모드는 정점의 가격은 무한대로 둡니다."
   ]
  },
  {
   "cell_type": "code",
   "execution_count": 1,
   "metadata": {},
   "outputs": [],
   "source": [
    "infinity = float('inf')\n",
    "costs = {}\n",
    "costs['a'] = 6\n",
    "costs['b'] = 2\n",
    "costs['fin'] = infinity # 도착점의 가격은 알 수 없습니다"
   ]
  },
  {
   "cell_type": "code",
   "execution_count": 2,
   "metadata": {},
   "outputs": [
    {
     "name": "stdout",
     "output_type": "stream",
     "text": [
      "{'a': 6, 'b': 2, 'fin': inf}\n"
     ]
    }
   ],
   "source": [
    "print(costs)"
   ]
  },
  {
   "cell_type": "markdown",
   "metadata": {},
   "source": [
    "부모를 위한 해시 테이블을 만들어야 합니다. 부모는 자신이 어디서 왔느냐? 즉 이전의 노드는 무엇이었냐 에 관한 것입니다."
   ]
  },
  {
   "cell_type": "code",
   "execution_count": 4,
   "metadata": {},
   "outputs": [],
   "source": [
    "parents = {}\n",
    "parents['a'] = 'start'\n",
    "parents['b'] = 'start'\n",
    "parents['fin'] = None"
   ]
  },
  {
   "cell_type": "code",
   "execution_count": 5,
   "metadata": {},
   "outputs": [
    {
     "name": "stdout",
     "output_type": "stream",
     "text": [
      "{'a': 'start', 'b': 'start', 'fin': None}\n"
     ]
    }
   ],
   "source": [
    "print(parents)"
   ]
  },
  {
   "cell_type": "markdown",
   "metadata": {},
   "source": [
    "마지막으로 각 정점은 한 번씩만 처리해야 하므로 이미 처리한 정점을 추적하기 위한 배열도 있어야 합니다"
   ]
  },
  {
   "cell_type": "code",
   "execution_count": 14,
   "metadata": {},
   "outputs": [],
   "source": [
    "processed = []"
   ]
  },
  {
   "cell_type": "markdown",
   "metadata": {},
   "source": [
    "알고리즘 프로세스에 대해서 알아봅시다!\n",
    "- 출발점에서 가장 가까운 정점을 찾는다.\n",
    "- 이웃 정점의 가격을 갱신한다.\n",
    "- 만약 이웃 정점의 가격을 갱신하면 부모도 갱신한다.\n",
    "- 해당 정점을 처리했다는 사실을 기록한다.\n",
    "- 위 4개의 프로세스를 모든 정점을 처리할 때까지 반복한다"
   ]
  },
  {
   "cell_type": "code",
   "execution_count": 21,
   "metadata": {},
   "outputs": [],
   "source": [
    "node = find_lowest_cost_node(costs) #최소 노드를 가지는 노드값을 node 변수에 넣습니다.\n",
    "while node is not None: #더이상 갈 node가 없을 때까지 반복합니다.\n",
    "    cost = costs[node] # 비용 최신화\n",
    "    neighbors = graph[node] #이웃 최신화\n",
    "    for n in neighbors.keys():  #해당 노드로 갔을 때, graph dictionary에 저장해놓은 그 다음 노드를 검색합니다.\n",
    "        new_cost = cost + neighbors[n] # 그 다음 노드에 부모 노드에 들었던 비용을 더해줍니다. \n",
    "        if costs[n] > new_cost:  #새로 더해준 특정 노드의 비용이 다른 노드들의 옵션 중에 가장 낮다면 \n",
    "            costs[n] = new_cost  #해당 노드로 비용과 부모가 지정됩니다.\n",
    "            parents[n] = node\n",
    "    processed.append(node) #탐색된 노트는 processed 리스트에 저장됩니다.\n",
    "    node = find_lowest_cost_node(costs)"
   ]
  },
  {
   "cell_type": "code",
   "execution_count": 1,
   "metadata": {},
   "outputs": [],
   "source": [
    "def find_lowest_cost_node(costs):\n",
    "    lowest_cost = float('inf')  # 최소 비용은 우선 positive infinite입니다. (default)\n",
    "    lowest_cost_node = None # 최소 비용 노드는 None 입니다. (default)\n",
    "    for node in costs:\n",
    "#{'a': 'start', 'b': 'start', 'fin': None} 에서 하나씩 뽑아옵니다.\n",
    "        cost = costs[node] \n",
    "        if cost < lowest_cost and node not in processed: #이전에 탐색했던 노드가 아닌 조건 내에서 최소값을 찾습니다.\n",
    "            lowest_cost = cost # 최소 cost 를 lowest_cost에 저장\n",
    "            lowest_cost_node = node # 최소 cost를 가지는 최소 node를 lowest_cost를 저장\n",
    "    return lowest_cost_node"
   ]
  },
  {
   "cell_type": "markdown",
   "metadata": {},
   "source": [
    "- 너비 우선 탬색은 가중치가 없는 균일 그래프에서 최단 경로를 계산하는 데 사용됩니다.\n",
    "- 다익스트라 알고리즘은 가중 그래프에서 최단 거리를 계산하는 데 사용됩니다.\n",
    "- 다익스트라 알고리즘은 모든 가중치가 양수일 때만 정상적으로 동작합니다.\n",
    "- 만약 가중치가 음수이면 벨만 - 포드 알고리즘을 사용합니다."
   ]
  }
 ],
 "metadata": {
  "kernelspec": {
   "display_name": "Python 3",
   "language": "python",
   "name": "python3"
  },
  "language_info": {
   "codemirror_mode": {
    "name": "ipython",
    "version": 3
   },
   "file_extension": ".py",
   "mimetype": "text/x-python",
   "name": "python",
   "nbconvert_exporter": "python",
   "pygments_lexer": "ipython3",
   "version": "3.6.4"
  }
 },
 "nbformat": 4,
 "nbformat_minor": 2
}
