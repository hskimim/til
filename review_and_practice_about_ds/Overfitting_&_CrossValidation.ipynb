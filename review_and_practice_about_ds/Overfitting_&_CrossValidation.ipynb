{
 "cells": [
  {
   "cell_type": "code",
   "execution_count": 55,
   "metadata": {},
   "outputs": [],
   "source": [
    "import numpy as np\n",
    "import pandas as pd\n",
    "import scipy as sp\n",
    "import matplotlib.pylab as plt\n",
    "import seaborn as sns\n",
    "import statsmodels.api as sm"
   ]
  },
  {
   "cell_type": "code",
   "execution_count": 1,
   "metadata": {},
   "outputs": [],
   "source": [
    "def make_nonlinear(seed=0):\n",
    "    np.random.seed(seed)\n",
    "    n_samples = 30\n",
    "    X = np.sort(np.random.rand(n_samples))\n",
    "    y = np.sin(2 * np.pi * X) + np.random.randn(n_samples) * 0.1\n",
    "    X = X[:, np.newaxis]\n",
    "    return (X, y)"
   ]
  },
  {
   "cell_type": "code",
   "execution_count": 4,
   "metadata": {},
   "outputs": [
    {
     "data": {
      "image/png": "[encoded data removed]",
      "text/plain": [
       "<Figure size 432x288 with 1 Axes>"
      ]
     },
     "metadata": {},
     "output_type": "display_data"
    }
   ],
   "source": [
    "X,y = make_nonlinear()\n",
    "plt.scatter(X,y)\n",
    "plt.show()"
   ]
  },
  {
   "cell_type": "code",
   "execution_count": 5,
   "metadata": {},
   "outputs": [],
   "source": [
    "dfX = pd.DataFrame(X,columns=['x'])\n",
    "dfX = sm.add_constant(dfX)\n",
    "dfy = pd.DataFrame(y,columns=['y'])\n",
    "df = pd.concat([dfX,dfy],axis=1)"
   ]
  },
  {
   "cell_type": "code",
   "execution_count": 6,
   "metadata": {},
   "outputs": [
    {
     "name": "stdout",
     "output_type": "stream",
     "text": [
      "                            OLS Regression Results                            \n",
      "==============================================================================\n",
      "Dep. Variable:                      y   R-squared:                       0.565\n",
      "Model:                            OLS   Adj. R-squared:                  0.549\n",
      "Method:                 Least Squares   F-statistic:                     36.36\n",
      "Date:                Thu, 05 Jul 2018   Prob (F-statistic):           1.69e-06\n",
      "Time:                        00:11:55   Log-Likelihood:                -15.360\n",
      "No. Observations:                  30   AIC:                             34.72\n",
      "Df Residuals:                      28   BIC:                             37.52\n",
      "Df Model:                           1                                         \n",
      "Covariance Type:            nonrobust                                         \n",
      "==============================================================================\n",
      "                 coef    std err          t      P>|t|      [0.025      0.975]\n",
      "------------------------------------------------------------------------------\n",
      "Intercept      0.7140      0.176      4.064      0.000       0.354       1.074\n",
      "x             -1.6422      0.272     -6.030      0.000      -2.200      -1.084\n",
      "==============================================================================\n",
      "Omnibus:                        3.728   Durbin-Watson:                   0.259\n",
      "Prob(Omnibus):                  0.155   Jarque-Bera (JB):                1.766\n",
      "Skew:                           0.257   Prob(JB):                        0.414\n",
      "Kurtosis:                       1.928   Cond. No.                         4.85\n",
      "==============================================================================\n",
      "\n",
      "Warnings:\n",
      "[1] Standard Errors assume that the covariance matrix of the errors is correctly specified.\n"
     ]
    }
   ],
   "source": [
    "print(sm.OLS.from_formula('y~x',df).fit().summary())"
   ]
  },
  {
   "cell_type": "code",
   "execution_count": 8,
   "metadata": {
    "scrolled": true
   },
   "outputs": [
    {
     "name": "stdout",
     "output_type": "stream",
     "text": [
      "                            OLS Regression Results                            \n",
      "==============================================================================\n",
      "Dep. Variable:                      y   R-squared:                       0.956\n",
      "Model:                            OLS   Adj. R-squared:                  0.951\n",
      "Method:                 Least Squares   F-statistic:                     186.7\n",
      "Date:                Thu, 05 Jul 2018   Prob (F-statistic):           1.06e-17\n",
      "Time:                        00:12:19   Log-Likelihood:                 18.883\n",
      "No. Observations:                  30   AIC:                            -29.77\n",
      "Df Residuals:                      26   BIC:                            -24.16\n",
      "Df Model:                           3                                         \n",
      "Covariance Type:            nonrobust                                         \n",
      "==============================================================================\n",
      "                 coef    std err          t      P>|t|      [0.025      0.975]\n",
      "------------------------------------------------------------------------------\n",
      "Intercept     -0.2039      0.109     -1.876      0.072      -0.427       0.020\n",
      "x             12.2209      1.044     11.709      0.000      10.075      14.366\n",
      "I(x ** 2)    -35.4061      2.452    -14.439      0.000     -40.446     -30.366\n",
      "I(x ** 3)     23.5598      1.581     14.903      0.000      20.310      26.809\n",
      "==============================================================================\n",
      "Omnibus:                        0.801   Durbin-Watson:                   1.769\n",
      "Prob(Omnibus):                  0.670   Jarque-Bera (JB):                0.816\n",
      "Skew:                           0.212   Prob(JB):                        0.665\n",
      "Kurtosis:                       2.313   Cond. No.                         160.\n",
      "==============================================================================\n",
      "\n",
      "Warnings:\n",
      "[1] Standard Errors assume that the covariance matrix of the errors is correctly specified.\n"
     ]
    }
   ],
   "source": [
    "print(sm.OLS.from_formula(\"y ~ x + I(x**2) + I(x**3)\", data=df).fit().summary())"
   ]
  },
  {
   "cell_type": "code",
   "execution_count": 9,
   "metadata": {},
   "outputs": [
    {
     "data": {
      "text/plain": [
       "array([[0, 1],\n",
       "       [2, 3],\n",
       "       [4, 5],\n",
       "       [6, 7],\n",
       "       [8, 9]])"
      ]
     },
     "execution_count": 9,
     "metadata": {},
     "output_type": "execute_result"
    }
   ],
   "source": [
    "X = np.arange(10).reshape((5,2))\n",
    "X"
   ]
  },
  {
   "cell_type": "code",
   "execution_count": 10,
   "metadata": {},
   "outputs": [
    {
     "data": {
      "text/plain": [
       "array([0, 1, 2, 3, 4])"
      ]
     },
     "execution_count": 10,
     "metadata": {},
     "output_type": "execute_result"
    }
   ],
   "source": [
    "y = np.arange(5)\n",
    "y"
   ]
  },
  {
   "cell_type": "code",
   "execution_count": 11,
   "metadata": {},
   "outputs": [],
   "source": [
    "from sklearn.model_selection import train_test_split\n",
    "X_train, X_test, y_train, y_test = train_test_split(X, y, test_size=0.33, random_state=42)"
   ]
  },
  {
   "cell_type": "code",
   "execution_count": 13,
   "metadata": {},
   "outputs": [
    {
     "data": {
      "text/plain": [
       "(array([[4, 5],\n",
       "        [0, 1],\n",
       "        [6, 7]]), array([[2, 3],\n",
       "        [8, 9]]), array([2, 0, 3]), array([1, 4]))"
      ]
     },
     "execution_count": 13,
     "metadata": {},
     "output_type": "execute_result"
    }
   ],
   "source": [
    "X_train, X_test, y_train, y_test"
   ]
  },
  {
   "cell_type": "code",
   "execution_count": 14,
   "metadata": {},
   "outputs": [
    {
     "name": "stdout",
     "output_type": "stream",
     "text": [
      "test index : [0 2]\n",
      "................................................................................\n",
      "train index: [1 3 4]\n",
      "================================================================================\n",
      "test index : [1 3]\n",
      "................................................................................\n",
      "train index: [0 2 4]\n",
      "================================================================================\n",
      "test index : [4]\n",
      "................................................................................\n",
      "train index: [0 1 2 3]\n",
      "================================================================================\n"
     ]
    }
   ],
   "source": [
    "from sklearn.model_selection import KFold\n",
    "\n",
    "cv = KFold(n_splits=3, shuffle=True, random_state=0)\n",
    "for train_index, test_index in cv.split(X):\n",
    "    print(\"test index :\", test_index)\n",
    "    print(\".\" * 80 )        \n",
    "    print(\"train index:\", train_index)\n",
    "    print(\"=\" * 80 )"
   ]
  },
  {
   "cell_type": "code",
   "execution_count": 15,
   "metadata": {},
   "outputs": [
    {
     "data": {
      "text/plain": [
       "array([0.95636425, 0.94908323, 0.93880683, 0.92906829, 0.93119768,\n",
       "       0.95362566, 0.93217768, 0.94308775, 0.94579305, 0.94749884])"
      ]
     },
     "execution_count": 15,
     "metadata": {},
     "output_type": "execute_result"
    }
   ],
   "source": [
    "from sklearn.datasets import make_regression\n",
    "from sklearn.linear_model import LinearRegression\n",
    "from sklearn.metrics import r2_score\n",
    "\n",
    "X, y, coef = make_regression(n_samples=1000, n_features=1, noise=20, coef=True, random_state=0)\n",
    "\n",
    "model = LinearRegression()\n",
    "cv = KFold(10)\n",
    "\n",
    "scores = np.zeros(10)\n",
    "for i, (train_index, test_index) in enumerate(cv.split(X)):\n",
    "    X_train = X[train_index]\n",
    "    y_train = y[train_index]\n",
    "    X_test = X[test_index]\n",
    "    y_test = y[test_index]\n",
    "    model.fit(X_train, y_train)\n",
    "    y_pred = model.predict(X_test)\n",
    "    scores[i] = r2_score(y_test, y_pred)\n",
    "\n",
    "scores"
   ]
  },
  {
   "cell_type": "code",
   "execution_count": 16,
   "metadata": {},
   "outputs": [
    {
     "data": {
      "text/plain": [
       "array([0.95636425, 0.94908323, 0.93880683, 0.92906829, 0.93119768,\n",
       "       0.95362566, 0.93217768, 0.94308775, 0.94579305, 0.94749884])"
      ]
     },
     "execution_count": 16,
     "metadata": {},
     "output_type": "execute_result"
    }
   ],
   "source": [
    "from sklearn.model_selection import cross_val_score\n",
    "cross_val_score(model, X, y, scoring=\"r2\", cv=cv)"
   ]
  },
  {
   "cell_type": "code",
   "execution_count": 17,
   "metadata": {},
   "outputs": [],
   "source": [
    "def make_nonlinear(seed=0):\n",
    "    np.random.seed(seed)\n",
    "    n_samples = 30\n",
    "    X = np.sort(np.random.rand(n_samples))\n",
    "    y = np.sin(2 * np.pi * X) + np.random.randn(n_samples) * 0.1\n",
    "    X = X[:, np.newaxis]\n",
    "    return (X, y)\n",
    "\n",
    "X, y = make_nonlinear()\n",
    "dfX = pd.DataFrame(X, columns=[\"x\"])\n",
    "dfX = sm.add_constant(dfX)\n",
    "dfy = pd.DataFrame(y, columns=[\"y\"])\n",
    "df = pd.concat([dfX, dfy], axis=1)"
   ]
  },
  {
   "cell_type": "code",
   "execution_count": 18,
   "metadata": {},
   "outputs": [
    {
     "data": {
      "text/plain": [
       "Intercept       -0.169863\n",
       "x               25.735773\n",
       "I(x ** 2)     -428.141684\n",
       "I(x ** 3)     3866.723115\n",
       "I(x ** 4)   -18340.939667\n",
       "I(x ** 5)    49326.072553\n",
       "I(x ** 6)   -78884.743085\n",
       "I(x ** 7)    74538.645164\n",
       "I(x ** 8)   -38453.132196\n",
       "I(x ** 9)     8350.254987\n",
       "dtype: float64"
      ]
     },
     "execution_count": 18,
     "metadata": {},
     "output_type": "execute_result"
    }
   ],
   "source": [
    "model = sm.OLS.from_formula(\"y ~ x + I(x**2) + I(x**3) + I(x**4) + I(x**5) + I(x**6) + I(x**7) + I(x**8) + I(x**9)\", data=df)\n",
    "result1 = model.fit()\n",
    "result1.params"
   ]
  },
  {
   "cell_type": "code",
   "execution_count": 24,
   "metadata": {},
   "outputs": [
    {
     "data": {
      "image/png": "[encoded data removed]",
      "text/plain": [
       "<Figure size 432x288 with 1 Axes>"
      ]
     },
     "metadata": {},
     "output_type": "display_data"
    }
   ],
   "source": [
    "def plot_statsmodels(result):\n",
    "    plt.scatter(X, y)\n",
    "    xx = np.linspace(0, 1, 1000)\n",
    "    dfxx = pd.DataFrame(xx, columns=[\"x\"])\n",
    "    dfxx = sm.add_constant(dfxx)\n",
    "    plt.plot(xx, result.predict(dfxx).values)\n",
    "    plt.show()\n",
    "    \n",
    "plot_statsmodels(result1)    "
   ]
  },
  {
   "cell_type": "code",
   "execution_count": 41,
   "metadata": {},
   "outputs": [
    {
     "data": {
      "image/png": "[encoded data removed]",
      "text/plain": [
       "<Figure size 432x288 with 2 Axes>"
      ]
     },
     "metadata": {},
     "output_type": "display_data"
    }
   ],
   "source": [
    "X_train = np.c_[.5, 1].T\n",
    "y_train = [.5, 1]\n",
    "X_test = np.c_[-1, 3].T\n",
    "np.random.seed(0)\n",
    "\n",
    "models = {\"LinearRegression\": LinearRegression(), \n",
    "          \"Ridge\": Ridge(alpha=0.1)}\n",
    "\n",
    "for i, (name, model) in enumerate(models.items()):\n",
    "    ax = plt.subplot(1, 2, i+1)\n",
    "    for _ in range(10):\n",
    "        this_X = .1 * np.random.normal(size=(2, 1)) + X_train\n",
    "        model.fit(this_X, y_train)\n",
    "        ax.plot(X_test, model.predict(X_test), color='.5')\n",
    "        ax.scatter(this_X, y_train, s=100, c='.5', marker='o', zorder=10)\n",
    "        model.fit(X_train, y_train)\n",
    "        ax.plot(X_test, model.predict(X_test), linewidth=3, color='blue', alpha=0.5)\n",
    "        ax.scatter(X_train, y_train, s=100, c='r', marker='D', zorder=10)\n",
    "        plt.title(name)\n",
    "        ax.set_xlim(-0.5, 2)\n",
    "        ax.set_ylim(0, 1.6)\n"
   ]
  },
  {
   "cell_type": "code",
   "execution_count": 42,
   "metadata": {},
   "outputs": [],
   "source": [
    "from sklearn.datasets import load_diabetes\n",
    "diabetes = load_diabetes()\n",
    "X = diabetes.data\n",
    "y = diabetes.target"
   ]
  },
  {
   "cell_type": "code",
   "execution_count": 43,
   "metadata": {},
   "outputs": [
    {
     "data": {
      "text/html": [
       "<div>\n",
       "<style scoped>\n",
       "    .dataframe tbody tr th:only-of-type {\n",
       "        vertical-align: middle;\n",
       "    }\n",
       "\n",
       "    .dataframe tbody tr th {\n",
       "        vertical-align: top;\n",
       "    }\n",
       "\n",
       "    .dataframe thead th {\n",
       "        text-align: right;\n",
       "    }\n",
       "</style>\n",
       "<table border=\"1\" class=\"dataframe\">\n",
       "  <thead>\n",
       "    <tr style=\"text-align: right;\">\n",
       "      <th></th>\n",
       "      <th>0.001</th>\n",
       "      <th>0.01</th>\n",
       "      <th>0.1</th>\n",
       "      <th>1.0</th>\n",
       "      <th>10.0</th>\n",
       "    </tr>\n",
       "  </thead>\n",
       "  <tbody>\n",
       "    <tr>\n",
       "      <th>0</th>\n",
       "      <td>152.133484</td>\n",
       "      <td>152.133484</td>\n",
       "      <td>152.133484</td>\n",
       "      <td>152.133484</td>\n",
       "      <td>152.133484</td>\n",
       "    </tr>\n",
       "    <tr>\n",
       "      <th>1</th>\n",
       "      <td>-9.551414</td>\n",
       "      <td>-7.199457</td>\n",
       "      <td>1.307349</td>\n",
       "      <td>29.465746</td>\n",
       "      <td>19.812822</td>\n",
       "    </tr>\n",
       "    <tr>\n",
       "      <th>2</th>\n",
       "      <td>-239.090354</td>\n",
       "      <td>-234.552930</td>\n",
       "      <td>-207.194814</td>\n",
       "      <td>-83.154885</td>\n",
       "      <td>-0.918458</td>\n",
       "    </tr>\n",
       "    <tr>\n",
       "      <th>3</th>\n",
       "      <td>520.363367</td>\n",
       "      <td>520.583136</td>\n",
       "      <td>489.691080</td>\n",
       "      <td>306.351627</td>\n",
       "      <td>75.416167</td>\n",
       "    </tr>\n",
       "    <tr>\n",
       "      <th>4</th>\n",
       "      <td>323.828627</td>\n",
       "      <td>320.523356</td>\n",
       "      <td>301.769437</td>\n",
       "      <td>201.629434</td>\n",
       "      <td>55.025419</td>\n",
       "    </tr>\n",
       "    <tr>\n",
       "      <th>5</th>\n",
       "      <td>-712.328205</td>\n",
       "      <td>-380.607066</td>\n",
       "      <td>-83.466074</td>\n",
       "      <td>5.909369</td>\n",
       "      <td>19.924600</td>\n",
       "    </tr>\n",
       "    <tr>\n",
       "      <th>6</th>\n",
       "      <td>413.383794</td>\n",
       "      <td>150.483752</td>\n",
       "      <td>-70.828096</td>\n",
       "      <td>-29.515927</td>\n",
       "      <td>13.948686</td>\n",
       "    </tr>\n",
       "    <tr>\n",
       "      <th>7</th>\n",
       "      <td>65.811629</td>\n",
       "      <td>-78.591232</td>\n",
       "      <td>-188.680164</td>\n",
       "      <td>-152.040465</td>\n",
       "      <td>-47.553816</td>\n",
       "    </tr>\n",
       "    <tr>\n",
       "      <th>8</th>\n",
       "      <td>167.513774</td>\n",
       "      <td>130.313059</td>\n",
       "      <td>115.712703</td>\n",
       "      <td>117.311715</td>\n",
       "      <td>48.259420</td>\n",
       "    </tr>\n",
       "    <tr>\n",
       "      <th>9</th>\n",
       "      <td>720.944468</td>\n",
       "      <td>592.349587</td>\n",
       "      <td>443.814054</td>\n",
       "      <td>262.944995</td>\n",
       "      <td>70.144068</td>\n",
       "    </tr>\n",
       "    <tr>\n",
       "      <th>10</th>\n",
       "      <td>68.122100</td>\n",
       "      <td>71.133768</td>\n",
       "      <td>86.748539</td>\n",
       "      <td>111.878718</td>\n",
       "      <td>44.213876</td>\n",
       "    </tr>\n",
       "  </tbody>\n",
       "</table>\n",
       "</div>"
      ],
      "text/plain": [
       "        0.001       0.010       0.100       1.000       10.000\n",
       "0   152.133484  152.133484  152.133484  152.133484  152.133484\n",
       "1    -9.551414   -7.199457    1.307349   29.465746   19.812822\n",
       "2  -239.090354 -234.552930 -207.194814  -83.154885   -0.918458\n",
       "3   520.363367  520.583136  489.691080  306.351627   75.416167\n",
       "4   323.828627  320.523356  301.769437  201.629434   55.025419\n",
       "5  -712.328205 -380.607066  -83.466074    5.909369   19.924600\n",
       "6   413.383794  150.483752  -70.828096  -29.515927   13.948686\n",
       "7    65.811629  -78.591232 -188.680164 -152.040465  -47.553816\n",
       "8   167.513774  130.313059  115.712703  117.311715   48.259420\n",
       "9   720.944468  592.349587  443.814054  262.944995   70.144068\n",
       "10   68.122100   71.133768   86.748539  111.878718   44.213876"
      ]
     },
     "execution_count": 43,
     "metadata": {},
     "output_type": "execute_result"
    }
   ],
   "source": [
    "alpha = np.logspace(-3, 1, 5)\n",
    "\n",
    "data = []\n",
    "for i, a in enumerate(alpha):\n",
    "    ridge = Ridge(alpha=a).fit(X, y)\n",
    "    data.append(pd.Series(np.hstack([ridge.intercept_, ridge.coef_])))\n",
    "    \n",
    "df_ridge = pd.DataFrame(data, index=alpha).T\n",
    "df_ridge"
   ]
  },
  {
   "cell_type": "code",
   "execution_count": 44,
   "metadata": {},
   "outputs": [
    {
     "data": {
      "text/html": [
       "<div>\n",
       "<style scoped>\n",
       "    .dataframe tbody tr th:only-of-type {\n",
       "        vertical-align: middle;\n",
       "    }\n",
       "\n",
       "    .dataframe tbody tr th {\n",
       "        vertical-align: top;\n",
       "    }\n",
       "\n",
       "    .dataframe thead th {\n",
       "        text-align: right;\n",
       "    }\n",
       "</style>\n",
       "<table border=\"1\" class=\"dataframe\">\n",
       "  <thead>\n",
       "    <tr style=\"text-align: right;\">\n",
       "      <th></th>\n",
       "      <th>0.001</th>\n",
       "      <th>0.01</th>\n",
       "      <th>0.1</th>\n",
       "      <th>1.0</th>\n",
       "      <th>10.0</th>\n",
       "    </tr>\n",
       "  </thead>\n",
       "  <tbody>\n",
       "    <tr>\n",
       "      <th>0</th>\n",
       "      <td>152.133484</td>\n",
       "      <td>152.133484</td>\n",
       "      <td>152.133484</td>\n",
       "      <td>152.133484</td>\n",
       "      <td>152.133484</td>\n",
       "    </tr>\n",
       "    <tr>\n",
       "      <th>1</th>\n",
       "      <td>-8.998449</td>\n",
       "      <td>-1.306575</td>\n",
       "      <td>-0.000000</td>\n",
       "      <td>0.000000</td>\n",
       "      <td>0.000000</td>\n",
       "    </tr>\n",
       "    <tr>\n",
       "      <th>2</th>\n",
       "      <td>-238.899740</td>\n",
       "      <td>-228.822331</td>\n",
       "      <td>-155.362882</td>\n",
       "      <td>-0.000000</td>\n",
       "      <td>0.000000</td>\n",
       "    </tr>\n",
       "    <tr>\n",
       "      <th>3</th>\n",
       "      <td>520.261362</td>\n",
       "      <td>525.560658</td>\n",
       "      <td>517.182017</td>\n",
       "      <td>367.701852</td>\n",
       "      <td>0.000000</td>\n",
       "    </tr>\n",
       "    <tr>\n",
       "      <th>4</th>\n",
       "      <td>323.429484</td>\n",
       "      <td>316.175320</td>\n",
       "      <td>275.082351</td>\n",
       "      <td>6.301904</td>\n",
       "      <td>0.000000</td>\n",
       "    </tr>\n",
       "    <tr>\n",
       "      <th>5</th>\n",
       "      <td>-720.251734</td>\n",
       "      <td>-307.013677</td>\n",
       "      <td>-52.540269</td>\n",
       "      <td>0.000000</td>\n",
       "      <td>0.000000</td>\n",
       "    </tr>\n",
       "    <tr>\n",
       "      <th>6</th>\n",
       "      <td>421.405141</td>\n",
       "      <td>89.321688</td>\n",
       "      <td>-0.000000</td>\n",
       "      <td>0.000000</td>\n",
       "      <td>0.000000</td>\n",
       "    </tr>\n",
       "    <tr>\n",
       "      <th>7</th>\n",
       "      <td>66.734168</td>\n",
       "      <td>-105.081398</td>\n",
       "      <td>-210.159753</td>\n",
       "      <td>-0.000000</td>\n",
       "      <td>-0.000000</td>\n",
       "    </tr>\n",
       "    <tr>\n",
       "      <th>8</th>\n",
       "      <td>164.448873</td>\n",
       "      <td>119.597989</td>\n",
       "      <td>0.000000</td>\n",
       "      <td>0.000000</td>\n",
       "      <td>0.000000</td>\n",
       "    </tr>\n",
       "    <tr>\n",
       "      <th>9</th>\n",
       "      <td>725.340440</td>\n",
       "      <td>571.330871</td>\n",
       "      <td>483.914409</td>\n",
       "      <td>307.605700</td>\n",
       "      <td>0.000000</td>\n",
       "    </tr>\n",
       "    <tr>\n",
       "      <th>10</th>\n",
       "      <td>67.475538</td>\n",
       "      <td>65.007316</td>\n",
       "      <td>33.672821</td>\n",
       "      <td>0.000000</td>\n",
       "      <td>0.000000</td>\n",
       "    </tr>\n",
       "  </tbody>\n",
       "</table>\n",
       "</div>"
      ],
      "text/plain": [
       "        0.001       0.010       0.100       1.000       10.000\n",
       "0   152.133484  152.133484  152.133484  152.133484  152.133484\n",
       "1    -8.998449   -1.306575   -0.000000    0.000000    0.000000\n",
       "2  -238.899740 -228.822331 -155.362882   -0.000000    0.000000\n",
       "3   520.261362  525.560658  517.182017  367.701852    0.000000\n",
       "4   323.429484  316.175320  275.082351    6.301904    0.000000\n",
       "5  -720.251734 -307.013677  -52.540269    0.000000    0.000000\n",
       "6   421.405141   89.321688   -0.000000    0.000000    0.000000\n",
       "7    66.734168 -105.081398 -210.159753   -0.000000   -0.000000\n",
       "8   164.448873  119.597989    0.000000    0.000000    0.000000\n",
       "9   725.340440  571.330871  483.914409  307.605700    0.000000\n",
       "10   67.475538   65.007316   33.672821    0.000000    0.000000"
      ]
     },
     "execution_count": 44,
     "metadata": {},
     "output_type": "execute_result"
    }
   ],
   "source": [
    "alpha = np.logspace(-3, 1, 5)\n",
    "\n",
    "data = []\n",
    "for i, a in enumerate(alpha):\n",
    "    lasso = Lasso(alpha=a).fit(X, y)\n",
    "    data.append(pd.Series(np.hstack([lasso.intercept_, lasso.coef_])))\n",
    "    \n",
    "df_lasso = pd.DataFrame(data, index=alpha).T\n",
    "df_lasso"
   ]
  },
  {
   "cell_type": "code",
   "execution_count": 46,
   "metadata": {},
   "outputs": [
    {
     "data": {
      "image/png": "[encoded data removed]",
      "text/plain": [
       "<Figure size 432x288 with 2 Axes>"
      ]
     },
     "metadata": {},
     "output_type": "display_data"
    }
   ],
   "source": [
    "import matplotlib as mpl\n",
    "mpl.rcParams[\"font.family\"] = 'DejaVu Sans'\n",
    "\n",
    "ax1 = plt.subplot(121)\n",
    "plt.semilogx(df_ridge.T)\n",
    "plt.xticks(alpha)\n",
    "plt.title(\"Ridge\")\n",
    "ax2 = plt.subplot(122)\n",
    "plt.semilogx(df_lasso.T)\n",
    "plt.xticks(alpha)\n",
    "plt.title(\"Lasso\")\n",
    "plt.show()"
   ]
  },
  {
   "cell_type": "code",
   "execution_count": 58,
   "metadata": {},
   "outputs": [],
   "source": [
    "def plot_sklearn(model):\n",
    "    plt.scatter(X, y)\n",
    "    xx = np.linspace(0, 1, 1000)\n",
    "    plt.plot(xx, model.predict(xx[:, np.newaxis]))\n",
    "    plt.show()"
   ]
  },
  {
   "cell_type": "code",
   "execution_count": 60,
   "metadata": {
    "scrolled": true
   },
   "outputs": [
    {
     "data": {
      "text/plain": [
       "PolynomialFeatures(degree=9, include_bias=True, interaction_only=False)"
      ]
     },
     "execution_count": 60,
     "metadata": {},
     "output_type": "execute_result"
    }
   ],
   "source": [
    "from sklearn.preprocessing import PolynomialFeatures\n",
    "from sklearn.pipeline import make_pipeline\n",
    "from sklearn.linear_model import LinearRegression, Ridge, Lasso, ElasticNet\n",
    "\n",
    "poly = PolynomialFeatures(9)\n",
    "poly"
   ]
  },
  {
   "cell_type": "code",
   "execution_count": 61,
   "metadata": {},
   "outputs": [
    {
     "name": "stdout",
     "output_type": "stream",
     "text": [
      "[ 0.00000000e+00  2.57357731e+01 -4.28141683e+02  3.86672311e+03\n",
      " -1.83409397e+04  4.93260725e+04 -7.88847431e+04  7.45386451e+04\n",
      " -3.84531322e+04  8.35025499e+03]\n"
     ]
    },
    {
     "data": {
      "image/png": "[encoded data removed]",
      "text/plain": [
       "<Figure size 432x288 with 1 Axes>"
      ]
     },
     "metadata": {},
     "output_type": "display_data"
    }
   ],
   "source": [
    "model = make_pipeline(poly, LinearRegression()).fit(X, y)\n",
    "print(model.steps[1][1].coef_)\n",
    "plot_sklearn(model)"
   ]
  },
  {
   "cell_type": "code",
   "execution_count": 62,
   "metadata": {},
   "outputs": [
    {
     "name": "stdout",
     "output_type": "stream",
     "text": [
      "[ 0.          1.51430399 -3.90160797 -2.6359859  -0.41526792  1.07530175\n",
      "  1.64913273  1.52026782  0.94651401  0.13299614]\n"
     ]
    },
    {
     "data": {
      "image/png": "[encoded data removed]",
      "text/plain": [
       "<Figure size 432x288 with 1 Axes>"
      ]
     },
     "metadata": {},
     "output_type": "display_data"
    }
   ],
   "source": [
    "model = make_pipeline(poly, Ridge(alpha=0.01)).fit(X, y)\n",
    "print(model.steps[1][1].coef_)\n",
    "plot_sklearn(model)"
   ]
  },
  {
   "cell_type": "code",
   "execution_count": 56,
   "metadata": {},
   "outputs": [],
   "source": [
    "def make_nonlinear(seed=0):\n",
    "    np.random.seed(seed)\n",
    "    n_samples = 30\n",
    "    X = np.sort(np.random.rand(n_samples))\n",
    "    y = np.sin(2 * np.pi * X) + np.random.randn(n_samples) * 0.1\n",
    "    X = X[:, np.newaxis]\n",
    "    return (X, y)\n",
    "\n",
    "X, y = make_nonlinear()\n",
    "dfX = pd.DataFrame(X, columns=[\"x\"])\n",
    "dfX = sm.add_constant(dfX)\n",
    "dfy = pd.DataFrame(y, columns=[\"y\"])\n",
    "df = pd.concat([dfX, dfy], axis=1)"
   ]
  },
  {
   "cell_type": "code",
   "execution_count": 57,
   "metadata": {},
   "outputs": [
    {
     "data": {
      "text/plain": [
       "Intercept       -0.169863\n",
       "x               25.735773\n",
       "I(x ** 2)     -428.141684\n",
       "I(x ** 3)     3866.723115\n",
       "I(x ** 4)   -18340.939667\n",
       "I(x ** 5)    49326.072553\n",
       "I(x ** 6)   -78884.743085\n",
       "I(x ** 7)    74538.645164\n",
       "I(x ** 8)   -38453.132196\n",
       "I(x ** 9)     8350.254987\n",
       "dtype: float64"
      ]
     },
     "execution_count": 57,
     "metadata": {},
     "output_type": "execute_result"
    }
   ],
   "source": [
    "model = sm.OLS.from_formula(\"y ~ x + I(x**2) + I(x**3) + I(x**4) + I(x**5) + I(x**6) + I(x**7) + I(x**8) + I(x**9)\", data=df)\n",
    "result1 = model.fit()\n",
    "result1.params"
   ]
  }
 ],
 "metadata": {
  "kernelspec": {
   "display_name": "Python 3",
   "language": "python",
   "name": "python3"
  },
  "language_info": {
   "codemirror_mode": {
    "name": "ipython",
    "version": 3
   },
   "file_extension": ".py",
   "mimetype": "text/x-python",
   "name": "python",
   "nbconvert_exporter": "python",
   "pygments_lexer": "ipython3",
   "version": "3.6.5"
  }
 },
 "nbformat": 4,
 "nbformat_minor": 2
}
