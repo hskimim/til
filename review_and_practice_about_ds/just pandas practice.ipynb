{
 "cells": [
  {
   "cell_type": "code",
   "execution_count": 1,
   "metadata": {},
   "outputs": [],
   "source": [
    "import pandas as pd\n",
    "import numpy as np\n",
    "import matplotlib.pyplot as plt"
   ]
  },
  {
   "cell_type": "code",
   "execution_count": 3,
   "metadata": {},
   "outputs": [
    {
     "data": {
      "text/plain": [
       "0    1\n",
       "1    2\n",
       "2    3\n",
       "3    4\n",
       "4    5\n",
       "dtype: int64"
      ]
     },
     "execution_count": 3,
     "metadata": {},
     "output_type": "execute_result"
    }
   ],
   "source": [
    "s=pd.Series([1,2,3,4,5])\n",
    "s"
   ]
  },
  {
   "cell_type": "code",
   "execution_count": 31,
   "metadata": {},
   "outputs": [
    {
     "data": {
      "text/plain": [
       "21"
      ]
     },
     "execution_count": 31,
     "metadata": {},
     "output_type": "execute_result"
    }
   ],
   "source": [
    "dates=pd.date_range('20160816','20180515',period=21,freq=\"M\")\n",
    "len(dates)"
   ]
  },
  {
   "cell_type": "code",
   "execution_count": 41,
   "metadata": {},
   "outputs": [
    {
     "data": {
      "text/html": [
       "<div>\n",
       "<style scoped>\n",
       "    .dataframe tbody tr th:only-of-type {\n",
       "        vertical-align: middle;\n",
       "    }\n",
       "\n",
       "    .dataframe tbody tr th {\n",
       "        vertical-align: top;\n",
       "    }\n",
       "\n",
       "    .dataframe thead th {\n",
       "        text-align: right;\n",
       "    }\n",
       "</style>\n",
       "<table border=\"1\" class=\"dataframe\">\n",
       "  <thead>\n",
       "    <tr style=\"text-align: right;\">\n",
       "      <th></th>\n",
       "      <th>amy_life</th>\n",
       "    </tr>\n",
       "  </thead>\n",
       "  <tbody>\n",
       "    <tr>\n",
       "      <th>2016-08-31</th>\n",
       "      <td>No Answer</td>\n",
       "    </tr>\n",
       "    <tr>\n",
       "      <th>2016-09-30</th>\n",
       "      <td>No Answer</td>\n",
       "    </tr>\n",
       "    <tr>\n",
       "      <th>2016-10-31</th>\n",
       "      <td>No Answer</td>\n",
       "    </tr>\n",
       "    <tr>\n",
       "      <th>2016-11-30</th>\n",
       "      <td>Do you think you more than before? Really?</td>\n",
       "    </tr>\n",
       "    <tr>\n",
       "      <th>2016-12-31</th>\n",
       "      <td>Do you think you more than before? Really?</td>\n",
       "    </tr>\n",
       "    <tr>\n",
       "      <th>2017-01-31</th>\n",
       "      <td>Do you think you more than before? Really?</td>\n",
       "    </tr>\n",
       "    <tr>\n",
       "      <th>2017-02-28</th>\n",
       "      <td>Do you think you more than before? Really?</td>\n",
       "    </tr>\n",
       "    <tr>\n",
       "      <th>2017-03-31</th>\n",
       "      <td>Do you think you more than before? Really?</td>\n",
       "    </tr>\n",
       "    <tr>\n",
       "      <th>2017-04-30</th>\n",
       "      <td>Do you think you more than before? Really?</td>\n",
       "    </tr>\n",
       "    <tr>\n",
       "      <th>2017-05-31</th>\n",
       "      <td>Do you think you more than before? Really?</td>\n",
       "    </tr>\n",
       "    <tr>\n",
       "      <th>2017-06-30</th>\n",
       "      <td>Do you think you more than before? Really?</td>\n",
       "    </tr>\n",
       "    <tr>\n",
       "      <th>2017-07-31</th>\n",
       "      <td>Congratulation! you did half of it!!kkkkkkk</td>\n",
       "    </tr>\n",
       "    <tr>\n",
       "      <th>2017-08-31</th>\n",
       "      <td>you have been here, and will be</td>\n",
       "    </tr>\n",
       "    <tr>\n",
       "      <th>2017-09-30</th>\n",
       "      <td>you have been here, and will be</td>\n",
       "    </tr>\n",
       "    <tr>\n",
       "      <th>2017-10-31</th>\n",
       "      <td>you have been here, and will be</td>\n",
       "    </tr>\n",
       "    <tr>\n",
       "      <th>2017-11-30</th>\n",
       "      <td>you have been here, and will be</td>\n",
       "    </tr>\n",
       "    <tr>\n",
       "      <th>2017-12-31</th>\n",
       "      <td>you have been here, and will be</td>\n",
       "    </tr>\n",
       "    <tr>\n",
       "      <th>2018-01-31</th>\n",
       "      <td>well...</td>\n",
       "    </tr>\n",
       "    <tr>\n",
       "      <th>2018-02-28</th>\n",
       "      <td>uhm...something is showing up a little!!</td>\n",
       "    </tr>\n",
       "    <tr>\n",
       "      <th>2018-03-31</th>\n",
       "      <td>uhm...something is showing up a little!!</td>\n",
       "    </tr>\n",
       "    <tr>\n",
       "      <th>2018-04-30</th>\n",
       "      <td>Good work!</td>\n",
       "    </tr>\n",
       "  </tbody>\n",
       "</table>\n",
       "</div>"
      ],
      "text/plain": [
       "                                               amy_life\n",
       "2016-08-31                                    No Answer\n",
       "2016-09-30                                    No Answer\n",
       "2016-10-31                                    No Answer\n",
       "2016-11-30   Do you think you more than before? Really?\n",
       "2016-12-31   Do you think you more than before? Really?\n",
       "2017-01-31   Do you think you more than before? Really?\n",
       "2017-02-28   Do you think you more than before? Really?\n",
       "2017-03-31   Do you think you more than before? Really?\n",
       "2017-04-30   Do you think you more than before? Really?\n",
       "2017-05-31   Do you think you more than before? Really?\n",
       "2017-06-30   Do you think you more than before? Really?\n",
       "2017-07-31  Congratulation! you did half of it!!kkkkkkk\n",
       "2017-08-31              you have been here, and will be\n",
       "2017-09-30              you have been here, and will be\n",
       "2017-10-31              you have been here, and will be\n",
       "2017-11-30              you have been here, and will be\n",
       "2017-12-31              you have been here, and will be\n",
       "2018-01-31                                      well...\n",
       "2018-02-28     uhm...something is showing up a little!!\n",
       "2018-03-31     uhm...something is showing up a little!!\n",
       "2018-04-30                                   Good work!"
      ]
     },
     "execution_count": 41,
     "metadata": {},
     "output_type": "execute_result"
    }
   ],
   "source": [
    "df=pd.DataFrame(np.random.randn(21,1),index=dates,columns=['amy_life'])\n",
    "df.loc[:3]='No Answer'\n",
    "df.loc[3:11]='Do you think you more than before? Really?'\n",
    "df.loc[11:12]='Congratulation! you did half of it!!kkkkkkk'\n",
    "df.loc[12:17]=' you have been here, and will be'\n",
    "df.loc[17:18]='well...'\n",
    "df.loc[18:20]='uhm...something is showing up a little!!'\n",
    "df.loc[20:]='Good work!'\n",
    "df"
   ]
  },
  {
   "cell_type": "code",
   "execution_count": 45,
   "metadata": {},
   "outputs": [
    {
     "data": {
      "text/plain": [
       "2016-08-31                                      No Answer\n",
       "2016-09-30                                      No Answer\n",
       "2016-10-31                                      No Answer\n",
       "2016-11-30     Do you think you more than before? Really?\n",
       "2016-12-31     Do you think you more than before? Really?\n",
       "2017-01-31     Do you think you more than before? Really?\n",
       "2017-02-28     Do you think you more than before? Really?\n",
       "2017-03-31     Do you think you more than before? Really?\n",
       "2017-04-30     Do you think you more than before? Really?\n",
       "2017-05-31     Do you think you more than before? Really?\n",
       "2017-06-30     Do you think you more than before? Really?\n",
       "2017-07-31    Congratulation! you did half of it!!kkkkkkk\n",
       "2017-08-31                you have been here, and will be\n",
       "2017-09-30                you have been here, and will be\n",
       "2017-10-31                you have been here, and will be\n",
       "2017-11-30                you have been here, and will be\n",
       "2017-12-31                you have been here, and will be\n",
       "2018-01-31                                        well...\n",
       "2018-02-28       uhm...something is showing up a little!!\n",
       "2018-03-31       uhm...something is showing up a little!!\n",
       "2018-04-30                                     Good work!\n",
       "Freq: M, Name: amy_life, dtype: object"
      ]
     },
     "execution_count": 45,
     "metadata": {},
     "output_type": "execute_result"
    }
   ],
   "source": [
    "df['amy_life']"
   ]
  },
  {
   "cell_type": "code",
   "execution_count": 46,
   "metadata": {},
   "outputs": [
    {
     "data": {
      "text/html": [
       "<div>\n",
       "<style scoped>\n",
       "    .dataframe tbody tr th:only-of-type {\n",
       "        vertical-align: middle;\n",
       "    }\n",
       "\n",
       "    .dataframe tbody tr th {\n",
       "        vertical-align: top;\n",
       "    }\n",
       "\n",
       "    .dataframe thead th {\n",
       "        text-align: right;\n",
       "    }\n",
       "</style>\n",
       "<table border=\"1\" class=\"dataframe\">\n",
       "  <thead>\n",
       "    <tr style=\"text-align: right;\">\n",
       "      <th></th>\n",
       "      <th>amy_life</th>\n",
       "    </tr>\n",
       "  </thead>\n",
       "  <tbody>\n",
       "    <tr>\n",
       "      <th>2016-08-31</th>\n",
       "      <td>No Answer</td>\n",
       "    </tr>\n",
       "    <tr>\n",
       "      <th>2016-09-30</th>\n",
       "      <td>No Answer</td>\n",
       "    </tr>\n",
       "    <tr>\n",
       "      <th>2016-10-31</th>\n",
       "      <td>No Answer</td>\n",
       "    </tr>\n",
       "  </tbody>\n",
       "</table>\n",
       "</div>"
      ],
      "text/plain": [
       "             amy_life\n",
       "2016-08-31  No Answer\n",
       "2016-09-30  No Answer\n",
       "2016-10-31  No Answer"
      ]
     },
     "execution_count": 46,
     "metadata": {},
     "output_type": "execute_result"
    }
   ],
   "source": [
    "df[0:3]"
   ]
  },
  {
   "cell_type": "code",
   "execution_count": 55,
   "metadata": {},
   "outputs": [
    {
     "data": {
      "text/plain": [
       "'No Answer'"
      ]
     },
     "execution_count": 55,
     "metadata": {},
     "output_type": "execute_result"
    }
   ],
   "source": [
    "df.at[dates[1],'amy_life']"
   ]
  },
  {
   "cell_type": "code",
   "execution_count": 56,
   "metadata": {},
   "outputs": [
    {
     "data": {
      "text/html": [
       "<div>\n",
       "<style scoped>\n",
       "    .dataframe tbody tr th:only-of-type {\n",
       "        vertical-align: middle;\n",
       "    }\n",
       "\n",
       "    .dataframe tbody tr th {\n",
       "        vertical-align: top;\n",
       "    }\n",
       "\n",
       "    .dataframe thead th {\n",
       "        text-align: right;\n",
       "    }\n",
       "</style>\n",
       "<table border=\"1\" class=\"dataframe\">\n",
       "  <thead>\n",
       "    <tr style=\"text-align: right;\">\n",
       "      <th></th>\n",
       "      <th>amy_life</th>\n",
       "    </tr>\n",
       "  </thead>\n",
       "  <tbody>\n",
       "    <tr>\n",
       "      <th>2016-11-30</th>\n",
       "      <td>Do you think you more than before? Really?</td>\n",
       "    </tr>\n",
       "    <tr>\n",
       "      <th>2016-12-31</th>\n",
       "      <td>Do you think you more than before? Really?</td>\n",
       "    </tr>\n",
       "  </tbody>\n",
       "</table>\n",
       "</div>"
      ],
      "text/plain": [
       "                                              amy_life\n",
       "2016-11-30  Do you think you more than before? Really?\n",
       "2016-12-31  Do you think you more than before? Really?"
      ]
     },
     "execution_count": 56,
     "metadata": {},
     "output_type": "execute_result"
    }
   ],
   "source": [
    "df.iloc[3:5,0:1]"
   ]
  },
  {
   "cell_type": "code",
   "execution_count": 60,
   "metadata": {},
   "outputs": [
    {
     "data": {
      "text/plain": [
       "'Good work!'"
      ]
     },
     "execution_count": 60,
     "metadata": {},
     "output_type": "execute_result"
    }
   ],
   "source": [
    "df.iat[20,0]"
   ]
  },
  {
   "cell_type": "code",
   "execution_count": 63,
   "metadata": {},
   "outputs": [
    {
     "data": {
      "text/html": [
       "<div>\n",
       "<style scoped>\n",
       "    .dataframe tbody tr th:only-of-type {\n",
       "        vertical-align: middle;\n",
       "    }\n",
       "\n",
       "    .dataframe tbody tr th {\n",
       "        vertical-align: top;\n",
       "    }\n",
       "\n",
       "    .dataframe thead th {\n",
       "        text-align: right;\n",
       "    }\n",
       "</style>\n",
       "<table border=\"1\" class=\"dataframe\">\n",
       "  <thead>\n",
       "    <tr style=\"text-align: right;\">\n",
       "      <th></th>\n",
       "      <th>a</th>\n",
       "      <th>b</th>\n",
       "      <th>c</th>\n",
       "      <th>d</th>\n",
       "      <th>e</th>\n",
       "      <th>f</th>\n",
       "    </tr>\n",
       "  </thead>\n",
       "  <tbody>\n",
       "    <tr>\n",
       "      <th>0</th>\n",
       "      <td>-2.063528</td>\n",
       "      <td>-0.673446</td>\n",
       "      <td>-0.484862</td>\n",
       "      <td>-0.316648</td>\n",
       "      <td>0.844868</td>\n",
       "      <td>-0.474021</td>\n",
       "    </tr>\n",
       "    <tr>\n",
       "      <th>1</th>\n",
       "      <td>0.404557</td>\n",
       "      <td>-0.884838</td>\n",
       "      <td>0.594606</td>\n",
       "      <td>-0.538970</td>\n",
       "      <td>0.397858</td>\n",
       "      <td>-0.466859</td>\n",
       "    </tr>\n",
       "    <tr>\n",
       "      <th>2</th>\n",
       "      <td>0.154853</td>\n",
       "      <td>-0.252535</td>\n",
       "      <td>-0.507515</td>\n",
       "      <td>1.121743</td>\n",
       "      <td>-0.153770</td>\n",
       "      <td>0.108289</td>\n",
       "    </tr>\n",
       "    <tr>\n",
       "      <th>3</th>\n",
       "      <td>-0.201208</td>\n",
       "      <td>0.847204</td>\n",
       "      <td>-1.882425</td>\n",
       "      <td>0.097666</td>\n",
       "      <td>0.181159</td>\n",
       "      <td>0.040267</td>\n",
       "    </tr>\n",
       "    <tr>\n",
       "      <th>4</th>\n",
       "      <td>-0.036224</td>\n",
       "      <td>0.473562</td>\n",
       "      <td>0.194966</td>\n",
       "      <td>0.404510</td>\n",
       "      <td>-0.527774</td>\n",
       "      <td>0.723997</td>\n",
       "    </tr>\n",
       "    <tr>\n",
       "      <th>5</th>\n",
       "      <td>1.673953</td>\n",
       "      <td>1.781844</td>\n",
       "      <td>-0.715153</td>\n",
       "      <td>-0.459187</td>\n",
       "      <td>-0.088549</td>\n",
       "      <td>0.498387</td>\n",
       "    </tr>\n",
       "  </tbody>\n",
       "</table>\n",
       "</div>"
      ],
      "text/plain": [
       "          a         b         c         d         e         f\n",
       "0 -2.063528 -0.673446 -0.484862 -0.316648  0.844868 -0.474021\n",
       "1  0.404557 -0.884838  0.594606 -0.538970  0.397858 -0.466859\n",
       "2  0.154853 -0.252535 -0.507515  1.121743 -0.153770  0.108289\n",
       "3 -0.201208  0.847204 -1.882425  0.097666  0.181159  0.040267\n",
       "4 -0.036224  0.473562  0.194966  0.404510 -0.527774  0.723997\n",
       "5  1.673953  1.781844 -0.715153 -0.459187 -0.088549  0.498387"
      ]
     },
     "execution_count": 63,
     "metadata": {},
     "output_type": "execute_result"
    }
   ],
   "source": [
    "df=pd.DataFrame(data=np.random.randn(6,6),columns=list('abcdef'))\n",
    "df"
   ]
  },
  {
   "cell_type": "code",
   "execution_count": 64,
   "metadata": {},
   "outputs": [
    {
     "data": {
      "text/html": [
       "<div>\n",
       "<style scoped>\n",
       "    .dataframe tbody tr th:only-of-type {\n",
       "        vertical-align: middle;\n",
       "    }\n",
       "\n",
       "    .dataframe tbody tr th {\n",
       "        vertical-align: top;\n",
       "    }\n",
       "\n",
       "    .dataframe thead th {\n",
       "        text-align: right;\n",
       "    }\n",
       "</style>\n",
       "<table border=\"1\" class=\"dataframe\">\n",
       "  <thead>\n",
       "    <tr style=\"text-align: right;\">\n",
       "      <th></th>\n",
       "      <th>a</th>\n",
       "      <th>b</th>\n",
       "      <th>c</th>\n",
       "      <th>d</th>\n",
       "      <th>e</th>\n",
       "      <th>f</th>\n",
       "    </tr>\n",
       "  </thead>\n",
       "  <tbody>\n",
       "    <tr>\n",
       "      <th>5</th>\n",
       "      <td>1.673953</td>\n",
       "      <td>1.781844</td>\n",
       "      <td>-0.715153</td>\n",
       "      <td>-0.459187</td>\n",
       "      <td>-0.088549</td>\n",
       "      <td>0.498387</td>\n",
       "    </tr>\n",
       "    <tr>\n",
       "      <th>4</th>\n",
       "      <td>-0.036224</td>\n",
       "      <td>0.473562</td>\n",
       "      <td>0.194966</td>\n",
       "      <td>0.404510</td>\n",
       "      <td>-0.527774</td>\n",
       "      <td>0.723997</td>\n",
       "    </tr>\n",
       "    <tr>\n",
       "      <th>3</th>\n",
       "      <td>-0.201208</td>\n",
       "      <td>0.847204</td>\n",
       "      <td>-1.882425</td>\n",
       "      <td>0.097666</td>\n",
       "      <td>0.181159</td>\n",
       "      <td>0.040267</td>\n",
       "    </tr>\n",
       "    <tr>\n",
       "      <th>2</th>\n",
       "      <td>0.154853</td>\n",
       "      <td>-0.252535</td>\n",
       "      <td>-0.507515</td>\n",
       "      <td>1.121743</td>\n",
       "      <td>-0.153770</td>\n",
       "      <td>0.108289</td>\n",
       "    </tr>\n",
       "    <tr>\n",
       "      <th>1</th>\n",
       "      <td>0.404557</td>\n",
       "      <td>-0.884838</td>\n",
       "      <td>0.594606</td>\n",
       "      <td>-0.538970</td>\n",
       "      <td>0.397858</td>\n",
       "      <td>-0.466859</td>\n",
       "    </tr>\n",
       "    <tr>\n",
       "      <th>0</th>\n",
       "      <td>-2.063528</td>\n",
       "      <td>-0.673446</td>\n",
       "      <td>-0.484862</td>\n",
       "      <td>-0.316648</td>\n",
       "      <td>0.844868</td>\n",
       "      <td>-0.474021</td>\n",
       "    </tr>\n",
       "  </tbody>\n",
       "</table>\n",
       "</div>"
      ],
      "text/plain": [
       "          a         b         c         d         e         f\n",
       "5  1.673953  1.781844 -0.715153 -0.459187 -0.088549  0.498387\n",
       "4 -0.036224  0.473562  0.194966  0.404510 -0.527774  0.723997\n",
       "3 -0.201208  0.847204 -1.882425  0.097666  0.181159  0.040267\n",
       "2  0.154853 -0.252535 -0.507515  1.121743 -0.153770  0.108289\n",
       "1  0.404557 -0.884838  0.594606 -0.538970  0.397858 -0.466859\n",
       "0 -2.063528 -0.673446 -0.484862 -0.316648  0.844868 -0.474021"
      ]
     },
     "execution_count": 64,
     "metadata": {},
     "output_type": "execute_result"
    }
   ],
   "source": [
    "df.sort_index(ascending=False)"
   ]
  },
  {
   "cell_type": "code",
   "execution_count": 65,
   "metadata": {},
   "outputs": [
    {
     "data": {
      "text/html": [
       "<div>\n",
       "<style scoped>\n",
       "    .dataframe tbody tr th:only-of-type {\n",
       "        vertical-align: middle;\n",
       "    }\n",
       "\n",
       "    .dataframe tbody tr th {\n",
       "        vertical-align: top;\n",
       "    }\n",
       "\n",
       "    .dataframe thead th {\n",
       "        text-align: right;\n",
       "    }\n",
       "</style>\n",
       "<table border=\"1\" class=\"dataframe\">\n",
       "  <thead>\n",
       "    <tr style=\"text-align: right;\">\n",
       "      <th></th>\n",
       "      <th>f</th>\n",
       "      <th>e</th>\n",
       "      <th>d</th>\n",
       "      <th>c</th>\n",
       "      <th>b</th>\n",
       "      <th>a</th>\n",
       "    </tr>\n",
       "  </thead>\n",
       "  <tbody>\n",
       "    <tr>\n",
       "      <th>0</th>\n",
       "      <td>-0.474021</td>\n",
       "      <td>0.844868</td>\n",
       "      <td>-0.316648</td>\n",
       "      <td>-0.484862</td>\n",
       "      <td>-0.673446</td>\n",
       "      <td>-2.063528</td>\n",
       "    </tr>\n",
       "    <tr>\n",
       "      <th>1</th>\n",
       "      <td>-0.466859</td>\n",
       "      <td>0.397858</td>\n",
       "      <td>-0.538970</td>\n",
       "      <td>0.594606</td>\n",
       "      <td>-0.884838</td>\n",
       "      <td>0.404557</td>\n",
       "    </tr>\n",
       "    <tr>\n",
       "      <th>2</th>\n",
       "      <td>0.108289</td>\n",
       "      <td>-0.153770</td>\n",
       "      <td>1.121743</td>\n",
       "      <td>-0.507515</td>\n",
       "      <td>-0.252535</td>\n",
       "      <td>0.154853</td>\n",
       "    </tr>\n",
       "    <tr>\n",
       "      <th>3</th>\n",
       "      <td>0.040267</td>\n",
       "      <td>0.181159</td>\n",
       "      <td>0.097666</td>\n",
       "      <td>-1.882425</td>\n",
       "      <td>0.847204</td>\n",
       "      <td>-0.201208</td>\n",
       "    </tr>\n",
       "    <tr>\n",
       "      <th>4</th>\n",
       "      <td>0.723997</td>\n",
       "      <td>-0.527774</td>\n",
       "      <td>0.404510</td>\n",
       "      <td>0.194966</td>\n",
       "      <td>0.473562</td>\n",
       "      <td>-0.036224</td>\n",
       "    </tr>\n",
       "    <tr>\n",
       "      <th>5</th>\n",
       "      <td>0.498387</td>\n",
       "      <td>-0.088549</td>\n",
       "      <td>-0.459187</td>\n",
       "      <td>-0.715153</td>\n",
       "      <td>1.781844</td>\n",
       "      <td>1.673953</td>\n",
       "    </tr>\n",
       "  </tbody>\n",
       "</table>\n",
       "</div>"
      ],
      "text/plain": [
       "          f         e         d         c         b         a\n",
       "0 -0.474021  0.844868 -0.316648 -0.484862 -0.673446 -2.063528\n",
       "1 -0.466859  0.397858 -0.538970  0.594606 -0.884838  0.404557\n",
       "2  0.108289 -0.153770  1.121743 -0.507515 -0.252535  0.154853\n",
       "3  0.040267  0.181159  0.097666 -1.882425  0.847204 -0.201208\n",
       "4  0.723997 -0.527774  0.404510  0.194966  0.473562 -0.036224\n",
       "5  0.498387 -0.088549 -0.459187 -0.715153  1.781844  1.673953"
      ]
     },
     "execution_count": 65,
     "metadata": {},
     "output_type": "execute_result"
    }
   ],
   "source": [
    "df.sort_index(axis=1,ascending=False)"
   ]
  },
  {
   "cell_type": "code",
   "execution_count": 68,
   "metadata": {},
   "outputs": [
    {
     "data": {
      "text/html": [
       "<div>\n",
       "<style scoped>\n",
       "    .dataframe tbody tr th:only-of-type {\n",
       "        vertical-align: middle;\n",
       "    }\n",
       "\n",
       "    .dataframe tbody tr th {\n",
       "        vertical-align: top;\n",
       "    }\n",
       "\n",
       "    .dataframe thead th {\n",
       "        text-align: right;\n",
       "    }\n",
       "</style>\n",
       "<table border=\"1\" class=\"dataframe\">\n",
       "  <thead>\n",
       "    <tr style=\"text-align: right;\">\n",
       "      <th></th>\n",
       "      <th>a</th>\n",
       "      <th>b</th>\n",
       "      <th>c</th>\n",
       "      <th>d</th>\n",
       "      <th>e</th>\n",
       "      <th>f</th>\n",
       "    </tr>\n",
       "  </thead>\n",
       "  <tbody>\n",
       "    <tr>\n",
       "      <th>0</th>\n",
       "      <td>-2.063528</td>\n",
       "      <td>-0.673446</td>\n",
       "      <td>-0.484862</td>\n",
       "      <td>-0.316648</td>\n",
       "      <td>0.844868</td>\n",
       "      <td>-0.474021</td>\n",
       "    </tr>\n",
       "    <tr>\n",
       "      <th>1</th>\n",
       "      <td>0.404557</td>\n",
       "      <td>-0.884838</td>\n",
       "      <td>0.594606</td>\n",
       "      <td>-0.538970</td>\n",
       "      <td>0.397858</td>\n",
       "      <td>-0.466859</td>\n",
       "    </tr>\n",
       "    <tr>\n",
       "      <th>2</th>\n",
       "      <td>0.154853</td>\n",
       "      <td>-0.252535</td>\n",
       "      <td>-0.507515</td>\n",
       "      <td>1.121743</td>\n",
       "      <td>-0.153770</td>\n",
       "      <td>0.108289</td>\n",
       "    </tr>\n",
       "    <tr>\n",
       "      <th>3</th>\n",
       "      <td>-0.201208</td>\n",
       "      <td>0.847204</td>\n",
       "      <td>-1.882425</td>\n",
       "      <td>0.097666</td>\n",
       "      <td>0.181159</td>\n",
       "      <td>0.040267</td>\n",
       "    </tr>\n",
       "    <tr>\n",
       "      <th>4</th>\n",
       "      <td>-0.036224</td>\n",
       "      <td>0.473562</td>\n",
       "      <td>0.194966</td>\n",
       "      <td>0.404510</td>\n",
       "      <td>-0.527774</td>\n",
       "      <td>0.723997</td>\n",
       "    </tr>\n",
       "    <tr>\n",
       "      <th>5</th>\n",
       "      <td>1.673953</td>\n",
       "      <td>1.781844</td>\n",
       "      <td>-0.715153</td>\n",
       "      <td>-0.459187</td>\n",
       "      <td>-0.088549</td>\n",
       "      <td>0.498387</td>\n",
       "    </tr>\n",
       "  </tbody>\n",
       "</table>\n",
       "</div>"
      ],
      "text/plain": [
       "          a         b         c         d         e         f\n",
       "0 -2.063528 -0.673446 -0.484862 -0.316648  0.844868 -0.474021\n",
       "1  0.404557 -0.884838  0.594606 -0.538970  0.397858 -0.466859\n",
       "2  0.154853 -0.252535 -0.507515  1.121743 -0.153770  0.108289\n",
       "3 -0.201208  0.847204 -1.882425  0.097666  0.181159  0.040267\n",
       "4 -0.036224  0.473562  0.194966  0.404510 -0.527774  0.723997\n",
       "5  1.673953  1.781844 -0.715153 -0.459187 -0.088549  0.498387"
      ]
     },
     "execution_count": 68,
     "metadata": {},
     "output_type": "execute_result"
    }
   ],
   "source": [
    "df"
   ]
  },
  {
   "cell_type": "code",
   "execution_count": 66,
   "metadata": {},
   "outputs": [
    {
     "data": {
      "text/plain": [
       "a   -0.011266\n",
       "b    0.215299\n",
       "c   -0.466730\n",
       "d    0.051519\n",
       "e    0.108965\n",
       "f    0.071677\n",
       "dtype: float64"
      ]
     },
     "execution_count": 66,
     "metadata": {},
     "output_type": "execute_result"
    }
   ],
   "source": [
    "df.mean()"
   ]
  },
  {
   "cell_type": "code",
   "execution_count": 67,
   "metadata": {},
   "outputs": [
    {
     "data": {
      "text/plain": [
       "0   -0.527940\n",
       "1   -0.082274\n",
       "2    0.078511\n",
       "3   -0.152890\n",
       "4    0.205506\n",
       "5    0.448549\n",
       "dtype: float64"
      ]
     },
     "execution_count": 67,
     "metadata": {},
     "output_type": "execute_result"
    }
   ],
   "source": [
    "df.mean(axis=1)"
   ]
  },
  {
   "cell_type": "code",
   "execution_count": 69,
   "metadata": {},
   "outputs": [],
   "source": [
    "df['g']=np.random.randn(6)"
   ]
  },
  {
   "cell_type": "code",
   "execution_count": 70,
   "metadata": {},
   "outputs": [
    {
     "data": {
      "text/html": [
       "<div>\n",
       "<style scoped>\n",
       "    .dataframe tbody tr th:only-of-type {\n",
       "        vertical-align: middle;\n",
       "    }\n",
       "\n",
       "    .dataframe tbody tr th {\n",
       "        vertical-align: top;\n",
       "    }\n",
       "\n",
       "    .dataframe thead th {\n",
       "        text-align: right;\n",
       "    }\n",
       "</style>\n",
       "<table border=\"1\" class=\"dataframe\">\n",
       "  <thead>\n",
       "    <tr style=\"text-align: right;\">\n",
       "      <th></th>\n",
       "      <th>a</th>\n",
       "      <th>b</th>\n",
       "      <th>c</th>\n",
       "      <th>d</th>\n",
       "      <th>e</th>\n",
       "      <th>f</th>\n",
       "      <th>g</th>\n",
       "    </tr>\n",
       "  </thead>\n",
       "  <tbody>\n",
       "    <tr>\n",
       "      <th>0</th>\n",
       "      <td>-2.063528</td>\n",
       "      <td>-0.673446</td>\n",
       "      <td>-0.484862</td>\n",
       "      <td>-0.316648</td>\n",
       "      <td>0.844868</td>\n",
       "      <td>-0.474021</td>\n",
       "      <td>0.351044</td>\n",
       "    </tr>\n",
       "    <tr>\n",
       "      <th>1</th>\n",
       "      <td>0.404557</td>\n",
       "      <td>-0.884838</td>\n",
       "      <td>0.594606</td>\n",
       "      <td>-0.538970</td>\n",
       "      <td>0.397858</td>\n",
       "      <td>-0.466859</td>\n",
       "      <td>0.575221</td>\n",
       "    </tr>\n",
       "    <tr>\n",
       "      <th>2</th>\n",
       "      <td>0.154853</td>\n",
       "      <td>-0.252535</td>\n",
       "      <td>-0.507515</td>\n",
       "      <td>1.121743</td>\n",
       "      <td>-0.153770</td>\n",
       "      <td>0.108289</td>\n",
       "      <td>-0.864692</td>\n",
       "    </tr>\n",
       "    <tr>\n",
       "      <th>3</th>\n",
       "      <td>-0.201208</td>\n",
       "      <td>0.847204</td>\n",
       "      <td>-1.882425</td>\n",
       "      <td>0.097666</td>\n",
       "      <td>0.181159</td>\n",
       "      <td>0.040267</td>\n",
       "      <td>0.864652</td>\n",
       "    </tr>\n",
       "    <tr>\n",
       "      <th>4</th>\n",
       "      <td>-0.036224</td>\n",
       "      <td>0.473562</td>\n",
       "      <td>0.194966</td>\n",
       "      <td>0.404510</td>\n",
       "      <td>-0.527774</td>\n",
       "      <td>0.723997</td>\n",
       "      <td>-0.142306</td>\n",
       "    </tr>\n",
       "    <tr>\n",
       "      <th>5</th>\n",
       "      <td>1.673953</td>\n",
       "      <td>1.781844</td>\n",
       "      <td>-0.715153</td>\n",
       "      <td>-0.459187</td>\n",
       "      <td>-0.088549</td>\n",
       "      <td>0.498387</td>\n",
       "      <td>-1.103761</td>\n",
       "    </tr>\n",
       "  </tbody>\n",
       "</table>\n",
       "</div>"
      ],
      "text/plain": [
       "          a         b         c         d         e         f         g\n",
       "0 -2.063528 -0.673446 -0.484862 -0.316648  0.844868 -0.474021  0.351044\n",
       "1  0.404557 -0.884838  0.594606 -0.538970  0.397858 -0.466859  0.575221\n",
       "2  0.154853 -0.252535 -0.507515  1.121743 -0.153770  0.108289 -0.864692\n",
       "3 -0.201208  0.847204 -1.882425  0.097666  0.181159  0.040267  0.864652\n",
       "4 -0.036224  0.473562  0.194966  0.404510 -0.527774  0.723997 -0.142306\n",
       "5  1.673953  1.781844 -0.715153 -0.459187 -0.088549  0.498387 -1.103761"
      ]
     },
     "execution_count": 70,
     "metadata": {},
     "output_type": "execute_result"
    }
   ],
   "source": [
    "df"
   ]
  },
  {
   "cell_type": "code",
   "execution_count": null,
   "metadata": {},
   "outputs": [],
   "source": []
  }
 ],
 "metadata": {
  "kernelspec": {
   "display_name": "Python 3",
   "language": "python",
   "name": "python3"
  },
  "language_info": {
   "codemirror_mode": {
    "name": "ipython",
    "version": 3
   },
   "file_extension": ".py",
   "mimetype": "text/x-python",
   "name": "python",
   "nbconvert_exporter": "python",
   "pygments_lexer": "ipython3",
   "version": "3.6.4"
  }
 },
 "nbformat": 4,
 "nbformat_minor": 2
}
