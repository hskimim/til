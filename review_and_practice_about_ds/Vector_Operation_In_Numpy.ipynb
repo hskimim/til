{
 "cells": [
  {
   "cell_type": "markdown",
   "metadata": {},
   "source": [
    "Numpy 배열: 모든 원소가 같은 자료형, 원소의 갯수를 바꿀 수 없다.\n",
    "파이썬은 자체적으로 배열자료형을 제공하지 않으므로 배열을 구현한 다른 패키지를 import해야 한다. 그것이 바로 numpy!"
   ]
  },
  {
   "cell_type": "markdown",
   "metadata": {},
   "source": [
    "numpy는 수치해석용 파이썬 패키지로 C로 구현된 내부 반복문으로 사용하기 때문에 속도가 빠르며 벡터화 연산(vectorized operation)을 이용해서 간단한 코드로 복잡한 선형 대수 연산을 수행할 수 있다."
   ]
  },
  {
   "cell_type": "code",
   "execution_count": 1,
   "metadata": {},
   "outputs": [],
   "source": [
    "import numpy as np"
   ]
  },
  {
   "cell_type": "code",
   "execution_count": 2,
   "metadata": {},
   "outputs": [
    {
     "data": {
      "text/plain": [
       "array([0, 1, 2, 3, 4, 5, 6, 7, 8, 9])"
      ]
     },
     "execution_count": 2,
     "metadata": {},
     "output_type": "execute_result"
    }
   ],
   "source": [
    "ar=np.array([0,1,2,3,4,5,6,7,8,9])\n",
    "ar"
   ]
  },
  {
   "cell_type": "code",
   "execution_count": 3,
   "metadata": {},
   "outputs": [
    {
     "data": {
      "text/plain": [
       "numpy.ndarray"
      ]
     },
     "execution_count": 3,
     "metadata": {},
     "output_type": "execute_result"
    }
   ],
   "source": [
    "type(ar)"
   ]
  },
  {
   "cell_type": "code",
   "execution_count": 4,
   "metadata": {},
   "outputs": [
    {
     "data": {
      "text/plain": [
       "array([0, 1, 2, 3, 4, 5, 6, 7, 8, 9])"
      ]
     },
     "execution_count": 4,
     "metadata": {},
     "output_type": "execute_result"
    }
   ],
   "source": [
    "ar"
   ]
  },
  {
   "cell_type": "code",
   "execution_count": 5,
   "metadata": {},
   "outputs": [
    {
     "data": {
      "text/plain": [
       "array([ 0,  2,  4,  6,  8, 10, 12, 14, 16, 18])"
      ]
     },
     "execution_count": 5,
     "metadata": {},
     "output_type": "execute_result"
    }
   ],
   "source": [
    "ar*2"
   ]
  },
  {
   "cell_type": "code",
   "execution_count": 6,
   "metadata": {},
   "outputs": [
    {
     "data": {
      "text/plain": [
       "array([ True, False,  True, False,  True, False,  True, False,  True,\n",
       "       False])"
      ]
     },
     "execution_count": 6,
     "metadata": {},
     "output_type": "execute_result"
    }
   ],
   "source": [
    "ar%2==0"
   ]
  },
  {
   "cell_type": "code",
   "execution_count": 7,
   "metadata": {},
   "outputs": [
    {
     "data": {
      "text/plain": [
       "array([0, 2, 4, 6, 8])"
      ]
     },
     "execution_count": 7,
     "metadata": {},
     "output_type": "execute_result"
    }
   ],
   "source": [
    "ar[ar%2==0]"
   ]
  },
  {
   "cell_type": "code",
   "execution_count": 8,
   "metadata": {},
   "outputs": [
    {
     "data": {
      "text/plain": [
       "array([[0, 1, 2],\n",
       "       [3, 4, 5]])"
      ]
     },
     "execution_count": 8,
     "metadata": {},
     "output_type": "execute_result"
    }
   ],
   "source": [
    "c=np.array([[0,1,2],[3,4,5]])\n",
    "c"
   ]
  },
  {
   "cell_type": "code",
   "execution_count": 11,
   "metadata": {},
   "outputs": [
    {
     "data": {
      "text/plain": [
       "2"
      ]
     },
     "execution_count": 11,
     "metadata": {},
     "output_type": "execute_result"
    }
   ],
   "source": [
    "len(c) #column length"
   ]
  },
  {
   "cell_type": "code",
   "execution_count": 12,
   "metadata": {},
   "outputs": [
    {
     "data": {
      "text/plain": [
       "3"
      ]
     },
     "execution_count": 12,
     "metadata": {},
     "output_type": "execute_result"
    }
   ],
   "source": [
    "len(c[0]) #row length"
   ]
  },
  {
   "cell_type": "code",
   "execution_count": 13,
   "metadata": {},
   "outputs": [],
   "source": [
    "d=np.array([\n",
    "        [[1,2,3,4],\n",
    "        [3,4,5,6]],\n",
    "        [[1,2,3,4],\n",
    "        [2,3,4,5]],\n",
    "        [[2,3,4,5],\n",
    "        [3,4,5,6]]\n",
    "])"
   ]
  },
  {
   "cell_type": "code",
   "execution_count": 16,
   "metadata": {},
   "outputs": [
    {
     "data": {
      "text/plain": [
       "numpy.ndarray"
      ]
     },
     "execution_count": 16,
     "metadata": {},
     "output_type": "execute_result"
    }
   ],
   "source": [
    "type(d)"
   ]
  },
  {
   "cell_type": "code",
   "execution_count": 17,
   "metadata": {},
   "outputs": [
    {
     "data": {
      "text/plain": [
       "3"
      ]
     },
     "execution_count": 17,
     "metadata": {},
     "output_type": "execute_result"
    }
   ],
   "source": [
    "len(d)"
   ]
  },
  {
   "cell_type": "code",
   "execution_count": 18,
   "metadata": {},
   "outputs": [
    {
     "data": {
      "text/plain": [
       "3"
      ]
     },
     "execution_count": 18,
     "metadata": {},
     "output_type": "execute_result"
    }
   ],
   "source": [
    "d.ndim#dimension"
   ]
  },
  {
   "cell_type": "code",
   "execution_count": 19,
   "metadata": {},
   "outputs": [
    {
     "data": {
      "text/plain": [
       "(3, 2, 4)"
      ]
     },
     "execution_count": 19,
     "metadata": {},
     "output_type": "execute_result"
    }
   ],
   "source": [
    "d.shape#shape"
   ]
  },
  {
   "cell_type": "code",
   "execution_count": 20,
   "metadata": {},
   "outputs": [],
   "source": [
    "a=np.array([0,1,2,3,4])"
   ]
  },
  {
   "cell_type": "code",
   "execution_count": 21,
   "metadata": {},
   "outputs": [
    {
     "data": {
      "text/plain": [
       "2"
      ]
     },
     "execution_count": 21,
     "metadata": {},
     "output_type": "execute_result"
    }
   ],
   "source": [
    "a[2]"
   ]
  },
  {
   "cell_type": "code",
   "execution_count": 22,
   "metadata": {},
   "outputs": [
    {
     "data": {
      "text/plain": [
       "4"
      ]
     },
     "execution_count": 22,
     "metadata": {},
     "output_type": "execute_result"
    }
   ],
   "source": [
    "a[-1]"
   ]
  },
  {
   "cell_type": "code",
   "execution_count": 23,
   "metadata": {},
   "outputs": [],
   "source": [
    "a=np.array([[0,1,2],[1,2,3]])"
   ]
  },
  {
   "cell_type": "code",
   "execution_count": 24,
   "metadata": {},
   "outputs": [
    {
     "data": {
      "text/plain": [
       "1"
      ]
     },
     "execution_count": 24,
     "metadata": {},
     "output_type": "execute_result"
    }
   ],
   "source": [
    "a[0,1]"
   ]
  },
  {
   "cell_type": "code",
   "execution_count": 25,
   "metadata": {},
   "outputs": [
    {
     "data": {
      "text/plain": [
       "array([0, 1, 2])"
      ]
     },
     "execution_count": 25,
     "metadata": {},
     "output_type": "execute_result"
    }
   ],
   "source": [
    "a[0,:]"
   ]
  },
  {
   "cell_type": "markdown",
   "metadata": {},
   "source": [
    "배열 인덱싱: 인덱싱이라는 이름이 붙었지만 사실은 데이터베이스의 Query기능을 수행한다. 배열 인덱싱에서는 대괄호[] 안의 인덱스 정보로 숫자나 슬라이스가 아니라 위치 정보를 나타내는 또 다른 배열을 받을 수 있다. \n",
    "방식에는 불리안 배열 방식과 정수 배열 방식 두 가지가 있다."
   ]
  },
  {
   "cell_type": "markdown",
   "metadata": {},
   "source": [
    "예를 들어 다음과 같은 1차원 ndarray에서 홀수인 원소만 골라내려면 홀수인 원소에 대응하는 인덱스값이 T이고 나머지에는 F를 넣으면 된다."
   ]
  },
  {
   "cell_type": "code",
   "execution_count": 29,
   "metadata": {},
   "outputs": [
    {
     "data": {
      "text/plain": [
       "array([0, 2, 4, 6, 8])"
      ]
     },
     "execution_count": 29,
     "metadata": {},
     "output_type": "execute_result"
    }
   ],
   "source": [
    "a = np.array([0, 1, 2, 3, 4, 5, 6, 7, 8, 9])\n",
    "idx = np.array([True, False, True, False, True, False, True, False, True, False])\n",
    "a[idx]"
   ]
  },
  {
   "cell_type": "code",
   "execution_count": 30,
   "metadata": {},
   "outputs": [
    {
     "data": {
      "text/plain": [
       "array([0, 2, 4, 6, 8])"
      ]
     },
     "execution_count": 30,
     "metadata": {},
     "output_type": "execute_result"
    }
   ],
   "source": [
    "a[a%2==0]"
   ]
  },
  {
   "cell_type": "markdown",
   "metadata": {},
   "source": [
    "정수 배열 인덱싱에서는 인덱스 배열의 원소 각각이 원래 ndarray 객체 원소 하나를 가리키는 인덱스 정수여야 한다."
   ]
  },
  {
   "cell_type": "code",
   "execution_count": 31,
   "metadata": {},
   "outputs": [
    {
     "data": {
      "text/plain": [
       "array([11, 33, 55, 77, 99])"
      ]
     },
     "execution_count": 31,
     "metadata": {},
     "output_type": "execute_result"
    }
   ],
   "source": [
    "a=np.array([11,22,33,44,55,66,77,88,99])\n",
    "idx=np.array([0,2,4,6,8])\n",
    "a[idx]"
   ]
  },
  {
   "cell_type": "markdown",
   "metadata": {},
   "source": [
    "배열 인덱스의 크기가 원래의 배열 크기와 달라도 상관없다. 같은 원소를 반복해서 가리키는 경우는 배열 인덱스가 원래의 배열보다 더 커지기도 한다."
   ]
  },
  {
   "cell_type": "code",
   "execution_count": 32,
   "metadata": {},
   "outputs": [
    {
     "data": {
      "text/plain": [
       "array([11, 11, 11, 11, 11, 11, 22, 22, 22, 22, 22, 33, 33, 33, 33, 33])"
      ]
     },
     "execution_count": 32,
     "metadata": {},
     "output_type": "execute_result"
    }
   ],
   "source": [
    "a=np.array([11,22,33,44,55,66,77,88,99])\n",
    "idx=np.array([0,0,0,0,0,0,1,1,1,1,1,2,2,2,2,2])\n",
    "a[idx]"
   ]
  },
  {
   "cell_type": "code",
   "execution_count": 33,
   "metadata": {},
   "outputs": [
    {
     "data": {
      "text/plain": [
       "array([[ 1,  2,  3,  4],\n",
       "       [ 5,  6,  7,  8],\n",
       "       [ 9, 10, 11, 12]])"
      ]
     },
     "execution_count": 33,
     "metadata": {},
     "output_type": "execute_result"
    }
   ],
   "source": [
    "a=np.array([[1,2,3,4],[5,6,7,8],[9,10,11,12]])\n",
    "a"
   ]
  },
  {
   "cell_type": "code",
   "execution_count": 34,
   "metadata": {},
   "outputs": [
    {
     "data": {
      "text/plain": [
       "array([[ 1,  4],\n",
       "       [ 5,  8],\n",
       "       [ 9, 12]])"
      ]
     },
     "execution_count": 34,
     "metadata": {},
     "output_type": "execute_result"
    }
   ],
   "source": [
    "a[:,[True,False,False,True]]"
   ]
  },
  {
   "cell_type": "code",
   "execution_count": 38,
   "metadata": {},
   "outputs": [
    {
     "data": {
      "text/plain": [
       "array([[ 9, 10, 11, 12],\n",
       "       [ 1,  2,  3,  4],\n",
       "       [ 5,  6,  7,  8]])"
      ]
     },
     "execution_count": 38,
     "metadata": {},
     "output_type": "execute_result"
    }
   ],
   "source": [
    "a[[2,0,1]]"
   ]
  },
  {
   "cell_type": "code",
   "execution_count": 39,
   "metadata": {},
   "outputs": [
    {
     "data": {
      "text/plain": [
       "array([[5, 6, 7, 8],\n",
       "       [1, 2, 3, 4],\n",
       "       [5, 6, 7, 8]])"
      ]
     },
     "execution_count": 39,
     "metadata": {},
     "output_type": "execute_result"
    }
   ],
   "source": [
    "a[[1,0,1]]"
   ]
  },
  {
   "cell_type": "code",
   "execution_count": 40,
   "metadata": {
    "scrolled": true
   },
   "outputs": [
    {
     "data": {
      "text/plain": [
       "array([[ 9, 10, 11, 12],\n",
       "       [ 1,  2,  3,  4],\n",
       "       [ 9, 10, 11, 12]])"
      ]
     },
     "execution_count": 40,
     "metadata": {},
     "output_type": "execute_result"
    }
   ],
   "source": [
    "a[[2,0,-1]]"
   ]
  },
  {
   "cell_type": "code",
   "execution_count": 43,
   "metadata": {},
   "outputs": [
    {
     "data": {
      "text/plain": [
       "dtype('float32')"
      ]
     },
     "execution_count": 43,
     "metadata": {},
     "output_type": "execute_result"
    }
   ],
   "source": [
    "x=np.array([1,2,3],dtype='f')\n",
    "x.dtype"
   ]
  },
  {
   "cell_type": "code",
   "execution_count": 44,
   "metadata": {},
   "outputs": [
    {
     "data": {
      "text/plain": [
       "3.0"
      ]
     },
     "execution_count": 44,
     "metadata": {},
     "output_type": "execute_result"
    }
   ],
   "source": [
    "x[0]+x[1]"
   ]
  },
  {
   "cell_type": "code",
   "execution_count": 45,
   "metadata": {},
   "outputs": [
    {
     "name": "stderr",
     "output_type": "stream",
     "text": [
      "C:\\Users\\hskim\\Anaconda3\\lib\\site-packages\\ipykernel_launcher.py:1: RuntimeWarning: divide by zero encountered in true_divide\n",
      "  \"\"\"Entry point for launching an IPython kernel.\n",
      "C:\\Users\\hskim\\Anaconda3\\lib\\site-packages\\ipykernel_launcher.py:1: RuntimeWarning: invalid value encountered in true_divide\n",
      "  \"\"\"Entry point for launching an IPython kernel.\n"
     ]
    },
    {
     "data": {
      "text/plain": [
       "array([  0.,  inf, -inf,  nan])"
      ]
     },
     "execution_count": 45,
     "metadata": {},
     "output_type": "execute_result"
    }
   ],
   "source": [
    "np.array([0,1,-1,0])/np.array([1,0,0,0])"
   ]
  },
  {
   "cell_type": "code",
   "execution_count": 46,
   "metadata": {},
   "outputs": [
    {
     "name": "stderr",
     "output_type": "stream",
     "text": [
      "C:\\Users\\hskim\\Anaconda3\\lib\\site-packages\\ipykernel_launcher.py:1: RuntimeWarning: divide by zero encountered in log\n",
      "  \"\"\"Entry point for launching an IPython kernel.\n"
     ]
    },
    {
     "data": {
      "text/plain": [
       "-inf"
      ]
     },
     "execution_count": 46,
     "metadata": {},
     "output_type": "execute_result"
    }
   ],
   "source": [
    "np.log(0)"
   ]
  },
  {
   "cell_type": "code",
   "execution_count": 47,
   "metadata": {},
   "outputs": [
    {
     "data": {
      "text/plain": [
       "0.0"
      ]
     },
     "execution_count": 47,
     "metadata": {},
     "output_type": "execute_result"
    }
   ],
   "source": [
    "np.exp(-np.inf)"
   ]
  },
  {
   "cell_type": "code",
   "execution_count": 51,
   "metadata": {},
   "outputs": [],
   "source": [
    "a1=np.ones((2,3))\n",
    "a2=np.zeros((2,3))"
   ]
  },
  {
   "cell_type": "code",
   "execution_count": 52,
   "metadata": {},
   "outputs": [
    {
     "data": {
      "text/plain": [
       "array([[1., 1., 1., 0., 0., 0.],\n",
       "       [1., 1., 1., 0., 0., 0.]])"
      ]
     },
     "execution_count": 52,
     "metadata": {},
     "output_type": "execute_result"
    }
   ],
   "source": [
    "np.hstack([a1,a2])"
   ]
  },
  {
   "cell_type": "code",
   "execution_count": 53,
   "metadata": {},
   "outputs": [
    {
     "data": {
      "text/plain": [
       "array([[1., 1., 1.],\n",
       "       [1., 1., 1.],\n",
       "       [0., 0., 0.],\n",
       "       [0., 0., 0.]])"
      ]
     },
     "execution_count": 53,
     "metadata": {},
     "output_type": "execute_result"
    }
   ],
   "source": [
    "np.vstack([a1,a2])"
   ]
  },
  {
   "cell_type": "code",
   "execution_count": 54,
   "metadata": {},
   "outputs": [
    {
     "data": {
      "text/plain": [
       "array([[[1., 0.],\n",
       "        [1., 0.],\n",
       "        [1., 0.]],\n",
       "\n",
       "       [[1., 0.],\n",
       "        [1., 0.],\n",
       "        [1., 0.]]])"
      ]
     },
     "execution_count": 54,
     "metadata": {},
     "output_type": "execute_result"
    }
   ],
   "source": [
    "np.dstack([a1,a2])"
   ]
  },
  {
   "cell_type": "markdown",
   "metadata": {},
   "source": [
    "stack 명령은 dstack의 기능을 확장한 것으로 dstack처럼 마지막 차원으로 연결하는 것이 아니라 사용자가 지정한 차원(축으로) 연결한다. axis 인수를 사용하여 연결후의 회전 방향을 지정한다."
   ]
  },
  {
   "cell_type": "code",
   "execution_count": 62,
   "metadata": {},
   "outputs": [
    {
     "name": "stdout",
     "output_type": "stream",
     "text": [
      "(2, 2, 3)\n"
     ]
    },
    {
     "data": {
      "text/plain": [
       "array([[[1., 1., 1.],\n",
       "        [1., 1., 1.]],\n",
       "\n",
       "       [[0., 0., 0.],\n",
       "        [0., 0., 0.]]])"
      ]
     },
     "execution_count": 62,
     "metadata": {},
     "output_type": "execute_result"
    }
   ],
   "source": [
    "c=np.stack([a1,a2])\n",
    "print(c.shape)\n",
    "c"
   ]
  },
  {
   "cell_type": "code",
   "execution_count": 64,
   "metadata": {},
   "outputs": [
    {
     "name": "stdout",
     "output_type": "stream",
     "text": [
      "(2, 2, 3)\n"
     ]
    },
    {
     "data": {
      "text/plain": [
       "array([[[1., 1., 1.],\n",
       "        [0., 0., 0.]],\n",
       "\n",
       "       [[1., 1., 1.],\n",
       "        [0., 0., 0.]]])"
      ]
     },
     "execution_count": 64,
     "metadata": {},
     "output_type": "execute_result"
    }
   ],
   "source": [
    "c=np.stack([a1,a2],axis=1)\n",
    "print(c.shape)\n",
    "c"
   ]
  },
  {
   "cell_type": "code",
   "execution_count": 66,
   "metadata": {},
   "outputs": [
    {
     "name": "stdout",
     "output_type": "stream",
     "text": [
      "(2, 3, 2)\n"
     ]
    },
    {
     "data": {
      "text/plain": [
       "array([[[1., 0.],\n",
       "        [1., 0.],\n",
       "        [1., 0.]],\n",
       "\n",
       "       [[1., 0.],\n",
       "        [1., 0.],\n",
       "        [1., 0.]]])"
      ]
     },
     "execution_count": 66,
     "metadata": {},
     "output_type": "execute_result"
    }
   ],
   "source": [
    "c=np.stack([a1,a2],axis=2)\n",
    "print(c.shape)\n",
    "c\n",
    "# dstack과 같다."
   ]
  },
  {
   "cell_type": "code",
   "execution_count": 67,
   "metadata": {},
   "outputs": [
    {
     "data": {
      "text/plain": [
       "array([[1, 4],\n",
       "       [2, 5],\n",
       "       [3, 6]])"
      ]
     },
     "execution_count": 67,
     "metadata": {},
     "output_type": "execute_result"
    }
   ],
   "source": [
    "np.c_[np.array([1,2,3]),np.array([4,5,6])]"
   ]
  },
  {
   "cell_type": "code",
   "execution_count": 68,
   "metadata": {},
   "outputs": [
    {
     "data": {
      "text/plain": [
       "array([1, 2, 3, 4, 5, 6])"
      ]
     },
     "execution_count": 68,
     "metadata": {},
     "output_type": "execute_result"
    }
   ],
   "source": [
    "np.r_[np.array([1,2,3]),np.array([4,5,6])]"
   ]
  },
  {
   "cell_type": "markdown",
   "metadata": {},
   "source": [
    "2차원 그리드 포인트 생성 meshgrid 명령"
   ]
  },
  {
   "cell_type": "code",
   "execution_count": 70,
   "metadata": {},
   "outputs": [],
   "source": [
    "x=np.arange(3)"
   ]
  },
  {
   "cell_type": "code",
   "execution_count": 71,
   "metadata": {},
   "outputs": [],
   "source": [
    "y=np.arange(5)"
   ]
  },
  {
   "cell_type": "code",
   "execution_count": 72,
   "metadata": {},
   "outputs": [],
   "source": [
    "X,Y=np.meshgrid(x,y)"
   ]
  },
  {
   "cell_type": "code",
   "execution_count": 73,
   "metadata": {},
   "outputs": [
    {
     "data": {
      "text/plain": [
       "array([[0, 1, 2],\n",
       "       [0, 1, 2],\n",
       "       [0, 1, 2],\n",
       "       [0, 1, 2],\n",
       "       [0, 1, 2]])"
      ]
     },
     "execution_count": 73,
     "metadata": {},
     "output_type": "execute_result"
    }
   ],
   "source": [
    "X"
   ]
  },
  {
   "cell_type": "code",
   "execution_count": 74,
   "metadata": {},
   "outputs": [
    {
     "data": {
      "text/plain": [
       "array([[0, 0, 0],\n",
       "       [1, 1, 1],\n",
       "       [2, 2, 2],\n",
       "       [3, 3, 3],\n",
       "       [4, 4, 4]])"
      ]
     },
     "execution_count": 74,
     "metadata": {},
     "output_type": "execute_result"
    }
   ],
   "source": [
    "Y"
   ]
  },
  {
   "cell_type": "code",
   "execution_count": 75,
   "metadata": {},
   "outputs": [
    {
     "data": {
      "text/plain": [
       "[[(0, 0), (1, 0), (2, 0)],\n",
       " [(0, 1), (1, 1), (2, 1)],\n",
       " [(0, 2), (1, 2), (2, 2)],\n",
       " [(0, 3), (1, 3), (2, 3)],\n",
       " [(0, 4), (1, 4), (2, 4)]]"
      ]
     },
     "execution_count": 75,
     "metadata": {},
     "output_type": "execute_result"
    }
   ],
   "source": [
    "[list(zip(x,y)) for x,y in zip(X,Y)]"
   ]
  },
  {
   "cell_type": "code",
   "execution_count": 77,
   "metadata": {},
   "outputs": [
    {
     "data": {
      "application/javascript": [
       "/* Put everything inside the global mpl namespace */\n",
       "window.mpl = {};\n",
       "\n",
       "\n",
       "mpl.get_websocket_type = function() {\n",
       "    if (typeof(WebSocket) !== 'undefined') {\n",
       "        return WebSocket;\n",
       "    } else if (typeof(MozWebSocket) !== 'undefined') {\n",
       "        return MozWebSocket;\n",
       "    } else {\n",
       "        alert('Your browser does not have WebSocket support.' +\n",
       "              'Please try Chrome, Safari or Firefox ≥ 6. ' +\n",
       "              'Firefox 4 and 5 are also supported but you ' +\n",
       "              'have to enable WebSockets in about:config.');\n",
       "    };\n",
       "}\n",
       "\n",
       "mpl.figure = function(figure_id, websocket, ondownload, parent_element) {\n",
       "    this.id = figure_id;\n",
       "\n",
       "    this.ws = websocket;\n",
       "\n",
       "    this.supports_binary = (this.ws.binaryType != undefined);\n",
       "\n",
       "    if (!this.supports_binary) {\n",
       "        var warnings = document.getElementById(\"mpl-warnings\");\n",
       "        if (warnings) {\n",
       "            warnings.style.display = 'block';\n",
       "            warnings.textContent = (\n",
       "                \"This browser does not support binary websocket messages. \" +\n",
       "                    \"Performance may be slow.\");\n",
       "        }\n",
       "    }\n",
       "\n",
       "    this.imageObj = new Image();\n",
       "\n",
       "    this.context = undefined;\n",
       "    this.message = undefined;\n",
       "    this.canvas = undefined;\n",
       "    this.rubberband_canvas = undefined;\n",
       "    this.rubberband_context = undefined;\n",
       "    this.format_dropdown = undefined;\n",
       "\n",
       "    this.image_mode = 'full';\n",
       "\n",
       "    this.root = $('<div/>');\n",
       "    this._root_extra_style(this.root)\n",
       "    this.root.attr('style', 'display: inline-block');\n",
       "\n",
       "    $(parent_element).append(this.root);\n",
       "\n",
       "    this._init_header(this);\n",
       "    this._init_canvas(this);\n",
       "    this._init_toolbar(this);\n",
       "\n",
       "    var fig = this;\n",
       "\n",
       "    this.waiting = false;\n",
       "\n",
       "    this.ws.onopen =  function () {\n",
       "            fig.send_message(\"supports_binary\", {value: fig.supports_binary});\n",
       "            fig.send_message(\"send_image_mode\", {});\n",
       "            if (mpl.ratio != 1) {\n",
       "                fig.send_message(\"set_dpi_ratio\", {'dpi_ratio': mpl.ratio});\n",
       "            }\n",
       "            fig.send_message(\"refresh\", {});\n",
       "        }\n",
       "\n",
       "    this.imageObj.onload = function() {\n",
       "            if (fig.image_mode == 'full') {\n",
       "                // Full images could contain transparency (where diff images\n",
       "                // almost always do), so we need to clear the canvas so that\n",
       "                // there is no ghosting.\n",
       "                fig.context.clearRect(0, 0, fig.canvas.width, fig.canvas.height);\n",
       "            }\n",
       "            fig.context.drawImage(fig.imageObj, 0, 0);\n",
       "        };\n",
       "\n",
       "    this.imageObj.onunload = function() {\n",
       "        fig.ws.close();\n",
       "    }\n",
       "\n",
       "    this.ws.onmessage = this._make_on_message_function(this);\n",
       "\n",
       "    this.ondownload = ondownload;\n",
       "}\n",
       "\n",
       "mpl.figure.prototype._init_header = function() {\n",
       "    var titlebar = $(\n",
       "        '<div class=\"ui-dialog-titlebar ui-widget-header ui-corner-all ' +\n",
       "        'ui-helper-clearfix\"/>');\n",
       "    var titletext = $(\n",
       "        '<div class=\"ui-dialog-title\" style=\"width: 100%; ' +\n",
       "        'text-align: center; padding: 3px;\"/>');\n",
       "    titlebar.append(titletext)\n",
       "    this.root.append(titlebar);\n",
       "    this.header = titletext[0];\n",
       "}\n",
       "\n",
       "\n",
       "\n",
       "mpl.figure.prototype._canvas_extra_style = function(canvas_div) {\n",
       "\n",
       "}\n",
       "\n",
       "\n",
       "mpl.figure.prototype._root_extra_style = function(canvas_div) {\n",
       "\n",
       "}\n",
       "\n",
       "mpl.figure.prototype._init_canvas = function() {\n",
       "    var fig = this;\n",
       "\n",
       "    var canvas_div = $('<div/>');\n",
       "\n",
       "    canvas_div.attr('style', 'position: relative; clear: both; outline: 0');\n",
       "\n",
       "    function canvas_keyboard_event(event) {\n",
       "        return fig.key_event(event, event['data']);\n",
       "    }\n",
       "\n",
       "    canvas_div.keydown('key_press', canvas_keyboard_event);\n",
       "    canvas_div.keyup('key_release', canvas_keyboard_event);\n",
       "    this.canvas_div = canvas_div\n",
       "    this._canvas_extra_style(canvas_div)\n",
       "    this.root.append(canvas_div);\n",
       "\n",
       "    var canvas = $('<canvas/>');\n",
       "    canvas.addClass('mpl-canvas');\n",
       "    canvas.attr('style', \"left: 0; top: 0; z-index: 0; outline: 0\")\n",
       "\n",
       "    this.canvas = canvas[0];\n",
       "    this.context = canvas[0].getContext(\"2d\");\n",
       "\n",
       "    var backingStore = this.context.backingStorePixelRatio ||\n",
       "\tthis.context.webkitBackingStorePixelRatio ||\n",
       "\tthis.context.mozBackingStorePixelRatio ||\n",
       "\tthis.context.msBackingStorePixelRatio ||\n",
       "\tthis.context.oBackingStorePixelRatio ||\n",
       "\tthis.context.backingStorePixelRatio || 1;\n",
       "\n",
       "    mpl.ratio = (window.devicePixelRatio || 1) / backingStore;\n",
       "\n",
       "    var rubberband = $('<canvas/>');\n",
       "    rubberband.attr('style', \"position: absolute; left: 0; top: 0; z-index: 1;\")\n",
       "\n",
       "    var pass_mouse_events = true;\n",
       "\n",
       "    canvas_div.resizable({\n",
       "        start: function(event, ui) {\n",
       "            pass_mouse_events = false;\n",
       "        },\n",
       "        resize: function(event, ui) {\n",
       "            fig.request_resize(ui.size.width, ui.size.height);\n",
       "        },\n",
       "        stop: function(event, ui) {\n",
       "            pass_mouse_events = true;\n",
       "            fig.request_resize(ui.size.width, ui.size.height);\n",
       "        },\n",
       "    });\n",
       "\n",
       "    function mouse_event_fn(event) {\n",
       "        if (pass_mouse_events)\n",
       "            return fig.mouse_event(event, event['data']);\n",
       "    }\n",
       "\n",
       "    rubberband.mousedown('button_press', mouse_event_fn);\n",
       "    rubberband.mouseup('button_release', mouse_event_fn);\n",
       "    // Throttle sequential mouse events to 1 every 20ms.\n",
       "    rubberband.mousemove('motion_notify', mouse_event_fn);\n",
       "\n",
       "    rubberband.mouseenter('figure_enter', mouse_event_fn);\n",
       "    rubberband.mouseleave('figure_leave', mouse_event_fn);\n",
       "\n",
       "    canvas_div.on(\"wheel\", function (event) {\n",
       "        event = event.originalEvent;\n",
       "        event['data'] = 'scroll'\n",
       "        if (event.deltaY < 0) {\n",
       "            event.step = 1;\n",
       "        } else {\n",
       "            event.step = -1;\n",
       "        }\n",
       "        mouse_event_fn(event);\n",
       "    });\n",
       "\n",
       "    canvas_div.append(canvas);\n",
       "    canvas_div.append(rubberband);\n",
       "\n",
       "    this.rubberband = rubberband;\n",
       "    this.rubberband_canvas = rubberband[0];\n",
       "    this.rubberband_context = rubberband[0].getContext(\"2d\");\n",
       "    this.rubberband_context.strokeStyle = \"#000000\";\n",
       "\n",
       "    this._resize_canvas = function(width, height) {\n",
       "        // Keep the size of the canvas, canvas container, and rubber band\n",
       "        // canvas in synch.\n",
       "        canvas_div.css('width', width)\n",
       "        canvas_div.css('height', height)\n",
       "\n",
       "        canvas.attr('width', width * mpl.ratio);\n",
       "        canvas.attr('height', height * mpl.ratio);\n",
       "        canvas.attr('style', 'width: ' + width + 'px; height: ' + height + 'px;');\n",
       "\n",
       "        rubberband.attr('width', width);\n",
       "        rubberband.attr('height', height);\n",
       "    }\n",
       "\n",
       "    // Set the figure to an initial 600x600px, this will subsequently be updated\n",
       "    // upon first draw.\n",
       "    this._resize_canvas(600, 600);\n",
       "\n",
       "    // Disable right mouse context menu.\n",
       "    $(this.rubberband_canvas).bind(\"contextmenu\",function(e){\n",
       "        return false;\n",
       "    });\n",
       "\n",
       "    function set_focus () {\n",
       "        canvas.focus();\n",
       "        canvas_div.focus();\n",
       "    }\n",
       "\n",
       "    window.setTimeout(set_focus, 100);\n",
       "}\n",
       "\n",
       "mpl.figure.prototype._init_toolbar = function() {\n",
       "    var fig = this;\n",
       "\n",
       "    var nav_element = $('<div/>')\n",
       "    nav_element.attr('style', 'width: 100%');\n",
       "    this.root.append(nav_element);\n",
       "\n",
       "    // Define a callback function for later on.\n",
       "    function toolbar_event(event) {\n",
       "        return fig.toolbar_button_onclick(event['data']);\n",
       "    }\n",
       "    function toolbar_mouse_event(event) {\n",
       "        return fig.toolbar_button_onmouseover(event['data']);\n",
       "    }\n",
       "\n",
       "    for(var toolbar_ind in mpl.toolbar_items) {\n",
       "        var name = mpl.toolbar_items[toolbar_ind][0];\n",
       "        var tooltip = mpl.toolbar_items[toolbar_ind][1];\n",
       "        var image = mpl.toolbar_items[toolbar_ind][2];\n",
       "        var method_name = mpl.toolbar_items[toolbar_ind][3];\n",
       "\n",
       "        if (!name) {\n",
       "            // put a spacer in here.\n",
       "            continue;\n",
       "        }\n",
       "        var button = $('<button/>');\n",
       "        button.addClass('ui-button ui-widget ui-state-default ui-corner-all ' +\n",
       "                        'ui-button-icon-only');\n",
       "        button.attr('role', 'button');\n",
       "        button.attr('aria-disabled', 'false');\n",
       "        button.click(method_name, toolbar_event);\n",
       "        button.mouseover(tooltip, toolbar_mouse_event);\n",
       "\n",
       "        var icon_img = $('<span/>');\n",
       "        icon_img.addClass('ui-button-icon-primary ui-icon');\n",
       "        icon_img.addClass(image);\n",
       "        icon_img.addClass('ui-corner-all');\n",
       "\n",
       "        var tooltip_span = $('<span/>');\n",
       "        tooltip_span.addClass('ui-button-text');\n",
       "        tooltip_span.html(tooltip);\n",
       "\n",
       "        button.append(icon_img);\n",
       "        button.append(tooltip_span);\n",
       "\n",
       "        nav_element.append(button);\n",
       "    }\n",
       "\n",
       "    var fmt_picker_span = $('<span/>');\n",
       "\n",
       "    var fmt_picker = $('<select/>');\n",
       "    fmt_picker.addClass('mpl-toolbar-option ui-widget ui-widget-content');\n",
       "    fmt_picker_span.append(fmt_picker);\n",
       "    nav_element.append(fmt_picker_span);\n",
       "    this.format_dropdown = fmt_picker[0];\n",
       "\n",
       "    for (var ind in mpl.extensions) {\n",
       "        var fmt = mpl.extensions[ind];\n",
       "        var option = $(\n",
       "            '<option/>', {selected: fmt === mpl.default_extension}).html(fmt);\n",
       "        fmt_picker.append(option)\n",
       "    }\n",
       "\n",
       "    // Add hover states to the ui-buttons\n",
       "    $( \".ui-button\" ).hover(\n",
       "        function() { $(this).addClass(\"ui-state-hover\");},\n",
       "        function() { $(this).removeClass(\"ui-state-hover\");}\n",
       "    );\n",
       "\n",
       "    var status_bar = $('<span class=\"mpl-message\"/>');\n",
       "    nav_element.append(status_bar);\n",
       "    this.message = status_bar[0];\n",
       "}\n",
       "\n",
       "mpl.figure.prototype.request_resize = function(x_pixels, y_pixels) {\n",
       "    // Request matplotlib to resize the figure. Matplotlib will then trigger a resize in the client,\n",
       "    // which will in turn request a refresh of the image.\n",
       "    this.send_message('resize', {'width': x_pixels, 'height': y_pixels});\n",
       "}\n",
       "\n",
       "mpl.figure.prototype.send_message = function(type, properties) {\n",
       "    properties['type'] = type;\n",
       "    properties['figure_id'] = this.id;\n",
       "    this.ws.send(JSON.stringify(properties));\n",
       "}\n",
       "\n",
       "mpl.figure.prototype.send_draw_message = function() {\n",
       "    if (!this.waiting) {\n",
       "        this.waiting = true;\n",
       "        this.ws.send(JSON.stringify({type: \"draw\", figure_id: this.id}));\n",
       "    }\n",
       "}\n",
       "\n",
       "\n",
       "mpl.figure.prototype.handle_save = function(fig, msg) {\n",
       "    var format_dropdown = fig.format_dropdown;\n",
       "    var format = format_dropdown.options[format_dropdown.selectedIndex].value;\n",
       "    fig.ondownload(fig, format);\n",
       "}\n",
       "\n",
       "\n",
       "mpl.figure.prototype.handle_resize = function(fig, msg) {\n",
       "    var size = msg['size'];\n",
       "    if (size[0] != fig.canvas.width || size[1] != fig.canvas.height) {\n",
       "        fig._resize_canvas(size[0], size[1]);\n",
       "        fig.send_message(\"refresh\", {});\n",
       "    };\n",
       "}\n",
       "\n",
       "mpl.figure.prototype.handle_rubberband = function(fig, msg) {\n",
       "    var x0 = msg['x0'] / mpl.ratio;\n",
       "    var y0 = (fig.canvas.height - msg['y0']) / mpl.ratio;\n",
       "    var x1 = msg['x1'] / mpl.ratio;\n",
       "    var y1 = (fig.canvas.height - msg['y1']) / mpl.ratio;\n",
       "    x0 = Math.floor(x0) + 0.5;\n",
       "    y0 = Math.floor(y0) + 0.5;\n",
       "    x1 = Math.floor(x1) + 0.5;\n",
       "    y1 = Math.floor(y1) + 0.5;\n",
       "    var min_x = Math.min(x0, x1);\n",
       "    var min_y = Math.min(y0, y1);\n",
       "    var width = Math.abs(x1 - x0);\n",
       "    var height = Math.abs(y1 - y0);\n",
       "\n",
       "    fig.rubberband_context.clearRect(\n",
       "        0, 0, fig.canvas.width, fig.canvas.height);\n",
       "\n",
       "    fig.rubberband_context.strokeRect(min_x, min_y, width, height);\n",
       "}\n",
       "\n",
       "mpl.figure.prototype.handle_figure_label = function(fig, msg) {\n",
       "    // Updates the figure title.\n",
       "    fig.header.textContent = msg['label'];\n",
       "}\n",
       "\n",
       "mpl.figure.prototype.handle_cursor = function(fig, msg) {\n",
       "    var cursor = msg['cursor'];\n",
       "    switch(cursor)\n",
       "    {\n",
       "    case 0:\n",
       "        cursor = 'pointer';\n",
       "        break;\n",
       "    case 1:\n",
       "        cursor = 'default';\n",
       "        break;\n",
       "    case 2:\n",
       "        cursor = 'crosshair';\n",
       "        break;\n",
       "    case 3:\n",
       "        cursor = 'move';\n",
       "        break;\n",
       "    }\n",
       "    fig.rubberband_canvas.style.cursor = cursor;\n",
       "}\n",
       "\n",
       "mpl.figure.prototype.handle_message = function(fig, msg) {\n",
       "    fig.message.textContent = msg['message'];\n",
       "}\n",
       "\n",
       "mpl.figure.prototype.handle_draw = function(fig, msg) {\n",
       "    // Request the server to send over a new figure.\n",
       "    fig.send_draw_message();\n",
       "}\n",
       "\n",
       "mpl.figure.prototype.handle_image_mode = function(fig, msg) {\n",
       "    fig.image_mode = msg['mode'];\n",
       "}\n",
       "\n",
       "mpl.figure.prototype.updated_canvas_event = function() {\n",
       "    // Called whenever the canvas gets updated.\n",
       "    this.send_message(\"ack\", {});\n",
       "}\n",
       "\n",
       "// A function to construct a web socket function for onmessage handling.\n",
       "// Called in the figure constructor.\n",
       "mpl.figure.prototype._make_on_message_function = function(fig) {\n",
       "    return function socket_on_message(evt) {\n",
       "        if (evt.data instanceof Blob) {\n",
       "            /* FIXME: We get \"Resource interpreted as Image but\n",
       "             * transferred with MIME type text/plain:\" errors on\n",
       "             * Chrome.  But how to set the MIME type?  It doesn't seem\n",
       "             * to be part of the websocket stream */\n",
       "            evt.data.type = \"image/png\";\n",
       "\n",
       "            /* Free the memory for the previous frames */\n",
       "            if (fig.imageObj.src) {\n",
       "                (window.URL || window.webkitURL).revokeObjectURL(\n",
       "                    fig.imageObj.src);\n",
       "            }\n",
       "\n",
       "            fig.imageObj.src = (window.URL || window.webkitURL).createObjectURL(\n",
       "                evt.data);\n",
       "            fig.updated_canvas_event();\n",
       "            fig.waiting = false;\n",
       "            return;\n",
       "        }\n",
       "        else if (typeof evt.data === 'string' && evt.data.slice(0, 21) == \"data:image/png;base64\") {\n",
       "            fig.imageObj.src = evt.data;\n",
       "            fig.updated_canvas_event();\n",
       "            fig.waiting = false;\n",
       "            return;\n",
       "        }\n",
       "\n",
       "        var msg = JSON.parse(evt.data);\n",
       "        var msg_type = msg['type'];\n",
       "\n",
       "        // Call the  \"handle_{type}\" callback, which takes\n",
       "        // the figure and JSON message as its only arguments.\n",
       "        try {\n",
       "            var callback = fig[\"handle_\" + msg_type];\n",
       "        } catch (e) {\n",
       "            console.log(\"No handler for the '\" + msg_type + \"' message type: \", msg);\n",
       "            return;\n",
       "        }\n",
       "\n",
       "        if (callback) {\n",
       "            try {\n",
       "                // console.log(\"Handling '\" + msg_type + \"' message: \", msg);\n",
       "                callback(fig, msg);\n",
       "            } catch (e) {\n",
       "                console.log(\"Exception inside the 'handler_\" + msg_type + \"' callback:\", e, e.stack, msg);\n",
       "            }\n",
       "        }\n",
       "    };\n",
       "}\n",
       "\n",
       "// from http://stackoverflow.com/questions/1114465/getting-mouse-location-in-canvas\n",
       "mpl.findpos = function(e) {\n",
       "    //this section is from http://www.quirksmode.org/js/events_properties.html\n",
       "    var targ;\n",
       "    if (!e)\n",
       "        e = window.event;\n",
       "    if (e.target)\n",
       "        targ = e.target;\n",
       "    else if (e.srcElement)\n",
       "        targ = e.srcElement;\n",
       "    if (targ.nodeType == 3) // defeat Safari bug\n",
       "        targ = targ.parentNode;\n",
       "\n",
       "    // jQuery normalizes the pageX and pageY\n",
       "    // pageX,Y are the mouse positions relative to the document\n",
       "    // offset() returns the position of the element relative to the document\n",
       "    var x = e.pageX - $(targ).offset().left;\n",
       "    var y = e.pageY - $(targ).offset().top;\n",
       "\n",
       "    return {\"x\": x, \"y\": y};\n",
       "};\n",
       "\n",
       "/*\n",
       " * return a copy of an object with only non-object keys\n",
       " * we need this to avoid circular references\n",
       " * http://stackoverflow.com/a/24161582/3208463\n",
       " */\n",
       "function simpleKeys (original) {\n",
       "  return Object.keys(original).reduce(function (obj, key) {\n",
       "    if (typeof original[key] !== 'object')\n",
       "        obj[key] = original[key]\n",
       "    return obj;\n",
       "  }, {});\n",
       "}\n",
       "\n",
       "mpl.figure.prototype.mouse_event = function(event, name) {\n",
       "    var canvas_pos = mpl.findpos(event)\n",
       "\n",
       "    if (name === 'button_press')\n",
       "    {\n",
       "        this.canvas.focus();\n",
       "        this.canvas_div.focus();\n",
       "    }\n",
       "\n",
       "    var x = canvas_pos.x * mpl.ratio;\n",
       "    var y = canvas_pos.y * mpl.ratio;\n",
       "\n",
       "    this.send_message(name, {x: x, y: y, button: event.button,\n",
       "                             step: event.step,\n",
       "                             guiEvent: simpleKeys(event)});\n",
       "\n",
       "    /* This prevents the web browser from automatically changing to\n",
       "     * the text insertion cursor when the button is pressed.  We want\n",
       "     * to control all of the cursor setting manually through the\n",
       "     * 'cursor' event from matplotlib */\n",
       "    event.preventDefault();\n",
       "    return false;\n",
       "}\n",
       "\n",
       "mpl.figure.prototype._key_event_extra = function(event, name) {\n",
       "    // Handle any extra behaviour associated with a key event\n",
       "}\n",
       "\n",
       "mpl.figure.prototype.key_event = function(event, name) {\n",
       "\n",
       "    // Prevent repeat events\n",
       "    if (name == 'key_press')\n",
       "    {\n",
       "        if (event.which === this._key)\n",
       "            return;\n",
       "        else\n",
       "            this._key = event.which;\n",
       "    }\n",
       "    if (name == 'key_release')\n",
       "        this._key = null;\n",
       "\n",
       "    var value = '';\n",
       "    if (event.ctrlKey && event.which != 17)\n",
       "        value += \"ctrl+\";\n",
       "    if (event.altKey && event.which != 18)\n",
       "        value += \"alt+\";\n",
       "    if (event.shiftKey && event.which != 16)\n",
       "        value += \"shift+\";\n",
       "\n",
       "    value += 'k';\n",
       "    value += event.which.toString();\n",
       "\n",
       "    this._key_event_extra(event, name);\n",
       "\n",
       "    this.send_message(name, {key: value,\n",
       "                             guiEvent: simpleKeys(event)});\n",
       "    return false;\n",
       "}\n",
       "\n",
       "mpl.figure.prototype.toolbar_button_onclick = function(name) {\n",
       "    if (name == 'download') {\n",
       "        this.handle_save(this, null);\n",
       "    } else {\n",
       "        this.send_message(\"toolbar_button\", {name: name});\n",
       "    }\n",
       "};\n",
       "\n",
       "mpl.figure.prototype.toolbar_button_onmouseover = function(tooltip) {\n",
       "    this.message.textContent = tooltip;\n",
       "};\n",
       "mpl.toolbar_items = [[\"Home\", \"Reset original view\", \"fa fa-home icon-home\", \"home\"], [\"Back\", \"Back to  previous view\", \"fa fa-arrow-left icon-arrow-left\", \"back\"], [\"Forward\", \"Forward to next view\", \"fa fa-arrow-right icon-arrow-right\", \"forward\"], [\"\", \"\", \"\", \"\"], [\"Pan\", \"Pan axes with left mouse, zoom with right\", \"fa fa-arrows icon-move\", \"pan\"], [\"Zoom\", \"Zoom to rectangle\", \"fa fa-square-o icon-check-empty\", \"zoom\"], [\"\", \"\", \"\", \"\"], [\"Download\", \"Download plot\", \"fa fa-floppy-o icon-save\", \"download\"]];\n",
       "\n",
       "mpl.extensions = [\"eps\", \"jpeg\", \"pdf\", \"png\", \"ps\", \"raw\", \"svg\", \"tif\"];\n",
       "\n",
       "mpl.default_extension = \"png\";var comm_websocket_adapter = function(comm) {\n",
       "    // Create a \"websocket\"-like object which calls the given IPython comm\n",
       "    // object with the appropriate methods. Currently this is a non binary\n",
       "    // socket, so there is still some room for performance tuning.\n",
       "    var ws = {};\n",
       "\n",
       "    ws.close = function() {\n",
       "        comm.close()\n",
       "    };\n",
       "    ws.send = function(m) {\n",
       "        //console.log('sending', m);\n",
       "        comm.send(m);\n",
       "    };\n",
       "    // Register the callback with on_msg.\n",
       "    comm.on_msg(function(msg) {\n",
       "        //console.log('receiving', msg['content']['data'], msg);\n",
       "        // Pass the mpl event to the overriden (by mpl) onmessage function.\n",
       "        ws.onmessage(msg['content']['data'])\n",
       "    });\n",
       "    return ws;\n",
       "}\n",
       "\n",
       "mpl.mpl_figure_comm = function(comm, msg) {\n",
       "    // This is the function which gets called when the mpl process\n",
       "    // starts-up an IPython Comm through the \"matplotlib\" channel.\n",
       "\n",
       "    var id = msg.content.data.id;\n",
       "    // Get hold of the div created by the display call when the Comm\n",
       "    // socket was opened in Python.\n",
       "    var element = $(\"#\" + id);\n",
       "    var ws_proxy = comm_websocket_adapter(comm)\n",
       "\n",
       "    function ondownload(figure, format) {\n",
       "        window.open(figure.imageObj.src);\n",
       "    }\n",
       "\n",
       "    var fig = new mpl.figure(id, ws_proxy,\n",
       "                           ondownload,\n",
       "                           element.get(0));\n",
       "\n",
       "    // Call onopen now - mpl needs it, as it is assuming we've passed it a real\n",
       "    // web socket which is closed, not our websocket->open comm proxy.\n",
       "    ws_proxy.onopen();\n",
       "\n",
       "    fig.parent_element = element.get(0);\n",
       "    fig.cell_info = mpl.find_output_cell(\"<div id='\" + id + \"'></div>\");\n",
       "    if (!fig.cell_info) {\n",
       "        console.error(\"Failed to find cell for figure\", id, fig);\n",
       "        return;\n",
       "    }\n",
       "\n",
       "    var output_index = fig.cell_info[2]\n",
       "    var cell = fig.cell_info[0];\n",
       "\n",
       "};\n",
       "\n",
       "mpl.figure.prototype.handle_close = function(fig, msg) {\n",
       "    var width = fig.canvas.width/mpl.ratio\n",
       "    fig.root.unbind('remove')\n",
       "\n",
       "    // Update the output cell to use the data from the current canvas.\n",
       "    fig.push_to_output();\n",
       "    var dataURL = fig.canvas.toDataURL();\n",
       "    // Re-enable the keyboard manager in IPython - without this line, in FF,\n",
       "    // the notebook keyboard shortcuts fail.\n",
       "    IPython.keyboard_manager.enable()\n",
       "    $(fig.parent_element).html('<img src=\"' + dataURL + '\" width=\"' + width + '\">');\n",
       "    fig.close_ws(fig, msg);\n",
       "}\n",
       "\n",
       "mpl.figure.prototype.close_ws = function(fig, msg){\n",
       "    fig.send_message('closing', msg);\n",
       "    // fig.ws.close()\n",
       "}\n",
       "\n",
       "mpl.figure.prototype.push_to_output = function(remove_interactive) {\n",
       "    // Turn the data on the canvas into data in the output cell.\n",
       "    var width = this.canvas.width/mpl.ratio\n",
       "    var dataURL = this.canvas.toDataURL();\n",
       "    this.cell_info[1]['text/html'] = '<img src=\"' + dataURL + '\" width=\"' + width + '\">';\n",
       "}\n",
       "\n",
       "mpl.figure.prototype.updated_canvas_event = function() {\n",
       "    // Tell IPython that the notebook contents must change.\n",
       "    IPython.notebook.set_dirty(true);\n",
       "    this.send_message(\"ack\", {});\n",
       "    var fig = this;\n",
       "    // Wait a second, then push the new image to the DOM so\n",
       "    // that it is saved nicely (might be nice to debounce this).\n",
       "    setTimeout(function () { fig.push_to_output() }, 1000);\n",
       "}\n",
       "\n",
       "mpl.figure.prototype._init_toolbar = function() {\n",
       "    var fig = this;\n",
       "\n",
       "    var nav_element = $('<div/>')\n",
       "    nav_element.attr('style', 'width: 100%');\n",
       "    this.root.append(nav_element);\n",
       "\n",
       "    // Define a callback function for later on.\n",
       "    function toolbar_event(event) {\n",
       "        return fig.toolbar_button_onclick(event['data']);\n",
       "    }\n",
       "    function toolbar_mouse_event(event) {\n",
       "        return fig.toolbar_button_onmouseover(event['data']);\n",
       "    }\n",
       "\n",
       "    for(var toolbar_ind in mpl.toolbar_items){\n",
       "        var name = mpl.toolbar_items[toolbar_ind][0];\n",
       "        var tooltip = mpl.toolbar_items[toolbar_ind][1];\n",
       "        var image = mpl.toolbar_items[toolbar_ind][2];\n",
       "        var method_name = mpl.toolbar_items[toolbar_ind][3];\n",
       "\n",
       "        if (!name) { continue; };\n",
       "\n",
       "        var button = $('<button class=\"btn btn-default\" href=\"#\" title=\"' + name + '\"><i class=\"fa ' + image + ' fa-lg\"></i></button>');\n",
       "        button.click(method_name, toolbar_event);\n",
       "        button.mouseover(tooltip, toolbar_mouse_event);\n",
       "        nav_element.append(button);\n",
       "    }\n",
       "\n",
       "    // Add the status bar.\n",
       "    var status_bar = $('<span class=\"mpl-message\" style=\"text-align:right; float: right;\"/>');\n",
       "    nav_element.append(status_bar);\n",
       "    this.message = status_bar[0];\n",
       "\n",
       "    // Add the close button to the window.\n",
       "    var buttongrp = $('<div class=\"btn-group inline pull-right\"></div>');\n",
       "    var button = $('<button class=\"btn btn-mini btn-primary\" href=\"#\" title=\"Stop Interaction\"><i class=\"fa fa-power-off icon-remove icon-large\"></i></button>');\n",
       "    button.click(function (evt) { fig.handle_close(fig, {}); } );\n",
       "    button.mouseover('Stop Interaction', toolbar_mouse_event);\n",
       "    buttongrp.append(button);\n",
       "    var titlebar = this.root.find($('.ui-dialog-titlebar'));\n",
       "    titlebar.prepend(buttongrp);\n",
       "}\n",
       "\n",
       "mpl.figure.prototype._root_extra_style = function(el){\n",
       "    var fig = this\n",
       "    el.on(\"remove\", function(){\n",
       "\tfig.close_ws(fig, {});\n",
       "    });\n",
       "}\n",
       "\n",
       "mpl.figure.prototype._canvas_extra_style = function(el){\n",
       "    // this is important to make the div 'focusable\n",
       "    el.attr('tabindex', 0)\n",
       "    // reach out to IPython and tell the keyboard manager to turn it's self\n",
       "    // off when our div gets focus\n",
       "\n",
       "    // location in version 3\n",
       "    if (IPython.notebook.keyboard_manager) {\n",
       "        IPython.notebook.keyboard_manager.register_events(el);\n",
       "    }\n",
       "    else {\n",
       "        // location in version 2\n",
       "        IPython.keyboard_manager.register_events(el);\n",
       "    }\n",
       "\n",
       "}\n",
       "\n",
       "mpl.figure.prototype._key_event_extra = function(event, name) {\n",
       "    var manager = IPython.notebook.keyboard_manager;\n",
       "    if (!manager)\n",
       "        manager = IPython.keyboard_manager;\n",
       "\n",
       "    // Check for shift+enter\n",
       "    if (event.shiftKey && event.which == 13) {\n",
       "        this.canvas_div.blur();\n",
       "        event.shiftKey = false;\n",
       "        // Send a \"J\" for go to next cell\n",
       "        event.which = 74;\n",
       "        event.keyCode = 74;\n",
       "        manager.command_mode();\n",
       "        manager.handle_keydown(event);\n",
       "    }\n",
       "}\n",
       "\n",
       "mpl.figure.prototype.handle_save = function(fig, msg) {\n",
       "    fig.ondownload(fig, null);\n",
       "}\n",
       "\n",
       "\n",
       "mpl.find_output_cell = function(html_output) {\n",
       "    // Return the cell and output element which can be found *uniquely* in the notebook.\n",
       "    // Note - this is a bit hacky, but it is done because the \"notebook_saving.Notebook\"\n",
       "    // IPython event is triggered only after the cells have been serialised, which for\n",
       "    // our purposes (turning an active figure into a static one), is too late.\n",
       "    var cells = IPython.notebook.get_cells();\n",
       "    var ncells = cells.length;\n",
       "    for (var i=0; i<ncells; i++) {\n",
       "        var cell = cells[i];\n",
       "        if (cell.cell_type === 'code'){\n",
       "            for (var j=0; j<cell.output_area.outputs.length; j++) {\n",
       "                var data = cell.output_area.outputs[j];\n",
       "                if (data.data) {\n",
       "                    // IPython >= 3 moved mimebundle to data attribute of output\n",
       "                    data = data.data;\n",
       "                }\n",
       "                if (data['text/html'] == html_output) {\n",
       "                    return [cell, data, j];\n",
       "                }\n",
       "            }\n",
       "        }\n",
       "    }\n",
       "}\n",
       "\n",
       "// Register the function which deals with the matplotlib target/channel.\n",
       "// The kernel may be null if the page has been refreshed.\n",
       "if (IPython.notebook.kernel != null) {\n",
       "    IPython.notebook.kernel.comm_manager.register_target('matplotlib', mpl.mpl_figure_comm);\n",
       "}\n"
      ],
      "text/plain": [
       "<IPython.core.display.Javascript object>"
      ]
     },
     "metadata": {},
     "output_type": "display_data"
    },
    {
     "data": {
      "text/html": [
       "<img src=\"data:image/png;base64,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\" width=\"640\">"
      ],
      "text/plain": [
       "<IPython.core.display.HTML object>"
      ]
     },
     "metadata": {},
     "output_type": "display_data"
    }
   ],
   "source": [
    "import matplotlib.pyplot as plt\n",
    "plt.scatter(X,Y, linewidths=10)\n",
    "plt.show()"
   ]
  },
  {
   "cell_type": "code",
   "execution_count": 79,
   "metadata": {},
   "outputs": [
    {
     "data": {
      "text/plain": [
       "array([[ 1,  2,  3,  4],\n",
       "       [ 1, 33, 22,  3],\n",
       "       [ 2, 15,  1, 12]])"
      ]
     },
     "execution_count": 79,
     "metadata": {},
     "output_type": "execute_result"
    }
   ],
   "source": [
    "a=np.array([\n",
    "    [1,2,3,4],\n",
    "    [1,33,22,3],\n",
    "    [2,15,1,12]\n",
    "])\n",
    "a"
   ]
  },
  {
   "cell_type": "code",
   "execution_count": 80,
   "metadata": {},
   "outputs": [
    {
     "data": {
      "text/plain": [
       "array([[ 1,  2,  3,  4],\n",
       "       [ 1,  3, 22, 33],\n",
       "       [ 1,  2, 12, 15]])"
      ]
     },
     "execution_count": 80,
     "metadata": {},
     "output_type": "execute_result"
    }
   ],
   "source": [
    "np.sort(a)"
   ]
  },
  {
   "cell_type": "code",
   "execution_count": 82,
   "metadata": {},
   "outputs": [
    {
     "data": {
      "text/plain": [
       "array([[ 1,  2,  1,  3],\n",
       "       [ 1, 15,  3,  4],\n",
       "       [ 2, 33, 22, 12]])"
      ]
     },
     "execution_count": 82,
     "metadata": {},
     "output_type": "execute_result"
    }
   ],
   "source": [
    "np.sort(a,axis=0)"
   ]
  },
  {
   "cell_type": "code",
   "execution_count": 83,
   "metadata": {},
   "outputs": [
    {
     "data": {
      "text/plain": [
       "array([2, 3, 1, 0], dtype=int64)"
      ]
     },
     "execution_count": 83,
     "metadata": {},
     "output_type": "execute_result"
    }
   ],
   "source": [
    "a=np.array([42,38,12,25])\n",
    "j=np.argsort(a)\n",
    "j"
   ]
  }
 ],
 "metadata": {
  "kernelspec": {
   "display_name": "Python 3",
   "language": "python",
   "name": "python3"
  },
  "language_info": {
   "codemirror_mode": {
    "name": "ipython",
    "version": 3
   },
   "file_extension": ".py",
   "mimetype": "text/x-python",
   "name": "python",
   "nbconvert_exporter": "python",
   "pygments_lexer": "ipython3",
   "version": "3.6.4"
  }
 },
 "nbformat": 4,
 "nbformat_minor": 2
}
