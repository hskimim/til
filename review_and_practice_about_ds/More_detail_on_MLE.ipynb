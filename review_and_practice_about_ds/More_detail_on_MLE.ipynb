{
 "cells": [
  {
   "cell_type": "markdown",
   "metadata": {},
   "source": [
    "이전 자료에서 간단하게 MLE(Maximum Likelihood Estimation)에 대해서 다뤘는데요. Machine Learning definition의 기반이 되는 개념이기 때문에, 상대적으로 깊게 다시 다뤄보려고 합니다."
   ]
  },
  {
   "cell_type": "markdown",
   "metadata": {},
   "source": [
    "### 다뤄볼 것\n",
    "- MLE(maximum likelihood estimation)\n",
    "- MAP(maximum a posterirori estimation)\n",
    "- Bayesian model"
   ]
  },
  {
   "cell_type": "markdown",
   "metadata": {},
   "source": [
    "### MLE\n",
    "- 한국어로 최대 우도 추정이라고 불리는 이 방법은 가장 간단하면서도 확률 모형에서 가장 일반적으로 사용되는 방법입니다.\n",
    "- 이 추정 방법에서 포인트로 생각해야 하는 것은 다음과 같습니다.\n",
    "    - 1. likelihood function\n",
    "    - 2. pdf function\n",
    "    - 3. compare above two function's features\n",
    "- 이전 자료에서 언급했다시피, likelihood와 pdf의 차이는 모수(theta)의 deterministic 여부에 달려있다고 말씀드린바 있습니다.\n",
    "- 즉, parameter(theta)가 정해지고 data set이 나왔냐, 아니면 data set이 나와서 이것을 가지고 parameter(theta) 추정을 하겠느냐의 차이입니다.\n",
    "- 마지막으로 말씀드리고 싶은 것은, likelihood 함수를 수식으로 나타내면 수식 자체는 pdf와 다르지 않다는 것입니다. 모수를 상수가 아닌 rv로 보는 경우에는 conditional pdf로 쓸 수도 있습니다.\n",
    "- L(theta;x) = f(x;theta) = f(x|theta)\n",
    "- theta_hat_MLE = argmax_theta L(theta;{x_i})\n",
    "    - likelihood를 maximize 해주는 모수를 구하는 것입니다.\n",
    "- MLE는 주어진 샘플에 대해 우도를 가장 크게 해주는 모수를 찾는 방법입니다!!\n",
    "- 계산을 할 때는 뒤에서 부가적으로 설명을 드리겠지만 IID(independent and indentical distributed) rv의 반복시행에 대해서는 합이 아닌 곱연산을 하기 때문에, 양 쪽에 log 연산 시행을 해줍니다. log 연산은 상대적 크기도 유지시켜줍니다."
   ]
  },
  {
   "cell_type": "markdown",
   "metadata": {},
   "source": [
    "### MAP\n",
    "- 이전 자료에서는 다루지 않았지만 MLE와 함께 machine learning 의 중요한 개념으로 다뤄지기 때문에 이번 자료에서 같이 다루게 되었습니다.\n",
    "- 확률을 대한 개념을 얘기할 때, frequentism, Bayesian 이렇게 두 개로 관점이 나눠진다고 말씀드린 적이 있습니다. \n",
    "- MLE method를 보게 되면, 빈도주의적 관점으로 모수를 추정한다고 할 수 있습니다. \n",
    "- 빈도주의적 관점으로 모수 추정을 하게 되면, MLE의 특성처럼 매우 간단하고 직관적이지만 outlier(observations) 데이터에 의해서 그 값이 너무 민감하게 바뀐다는 것에 있습니다.\n",
    "- 이러한 MLE의 약점을 보완하고자 나온 것이 MAP입니다. \n",
    "- 이 방법은 theta가 주어지고 그 theta에 대한 데이터들의 확률을 최대화하는 것이 아니라, 주어진 데이터에 대해 최대 확률을 가지는 theta를 찾는 것입니다.\n",
    "- theta_hat = argmax_theta f(theata|X)\n",
    "- MLE와 비교해서 MAP는 보다 자연스러운 값을 지니게 됩니다. 무슨 말씀이냐면, MLE는 현재 researcher가 가지고 있는 데이터에 대해서 해석적인 답을 내놓는 모수를 가져다 주는 반면에, MAP는 보다 gerneral한 값을 가지고 옵니다. \n",
    "- 하지만 MAP를 구하기 위해서는 f(x|theta)가 아닌 f(theata|X)가 필요합니다. 즉, Bayesian theorem을 적용해야 합니다."
   ]
  },
  {
   "cell_type": "markdown",
   "metadata": {},
   "source": [
    "### Bayes' Theorem\n",
    "- Bayes' theorem에 관해서는 이전에 깊게 다룬 적이 있기 때문에 등식만 다루고 넘어가겠습니다.\n",
    "- p(Y|X) = {p(X|Y) p(Y) \\ p(X)}\n",
    "- 이 정리를 MLE -> MAP 로 넘기는데 적용을 해보면\n",
    "    - theta_hat = argmax_theta f(theata|X)\n",
    "    - = argmax_theta f(X|theta)f(theta) / f(X) \n",
    "    - = argmax_theta L(theta;X)f(theta) / f(X)\n",
    "    - 여기서 f(X)는 theta와 독립이므로 생략이 가능합니다.(그때는 등식이 아닌 proportional 이라고 표현(을 하게 됩니다.)\n",
    "- 관건은 우리가 f(theta)을 아느냐에 관한 것입니다. (hyper-parameter)\n",
    "- hyper-parameter을 안다면, MLE가 아니라 MAP를 하는 것이 가능하고 결과를 향상시킬 수 있습니다.\n",
    "- 즉, 베이즈 정리는 더 좋은 prior가 있다면 더 좋은 posterior(결과)를 도출할 수 있는 수식입니다. 많은 머신러닝 기술이 이러한 베이즈 정리에 의해 만들어졌습니다."
   ]
  },
  {
   "cell_type": "markdown",
   "metadata": {},
   "source": [
    "### conjugate prior\n",
    "- 이전에 다루지 않았거나 매우 얉게 다뤘던 conjugate prior 에 대해서 짚고 가겠습니다.\n",
    "- separable 개념에 대해서 기억이 나실지 모르겠습니다. f(x,y) = f(x)f(y)\n",
    "- 지수함수는 separable한 feature들을 가지고 있습니다. (exponential family)\n",
    "- exponential family={Bernoulli, binomial, Poisson, Gaussian, Laplace, gamma, beta distribution}\n",
    "- if prior is in exponential family: conjugate prior"
   ]
  },
  {
   "cell_type": "markdown",
   "metadata": {},
   "source": [
    "### confusing corrector:\n",
    "- 저번에 다뤘던 내용 중에 bayesian parameter estimation에 대해서 기억하시나요?\n",
    "- 그 개념이 오늘 다뤘던 MAP라고 생각하시면 될 것 같습니다.\n",
    "- MAP = Bayesian parameter estimation with using parametric method"
   ]
  }
 ],
 "metadata": {
  "kernelspec": {
   "display_name": "Python 3",
   "language": "python",
   "name": "python3"
  },
  "language_info": {
   "codemirror_mode": {
    "name": "ipython",
    "version": 3
   },
   "file_extension": ".py",
   "mimetype": "text/x-python",
   "name": "python",
   "nbconvert_exporter": "python",
   "pygments_lexer": "ipython3",
   "version": "3.6.5"
  }
 },
 "nbformat": 4,
 "nbformat_minor": 2
}
