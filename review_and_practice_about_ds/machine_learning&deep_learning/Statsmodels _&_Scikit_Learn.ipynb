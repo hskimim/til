{
 "cells": [
  {
   "cell_type": "code",
   "execution_count": 12,
   "metadata": {},
   "outputs": [],
   "source": [
    "import statsmodels.api as sm\n",
    "import matplotlib.pylab as plt"
   ]
  },
  {
   "cell_type": "markdown",
   "metadata": {},
   "source": [
    "## Statsmodel package"
   ]
  },
  {
   "cell_type": "markdown",
   "metadata": {},
   "source": [
    "- 기초 통계 (Statistics)\n",
    "\n",
    "- 각종 검정(test) 기능\n",
    "- 커널 밀도 추정\n",
    "- Generalized Method of Moments\n",
    "- 회귀 분석 (Linear Regression)\n",
    "\n",
    "- 선형 모형 (Linear Model)\n",
    "- 일반화 선형 모형 (Generalized Linear Model)\n",
    "- 강인 선형 모형 (Robust Linear Model)\n",
    "- 선형 혼합 효과 모형 (Linear Mixed Effects Model)\n",
    "- ANOVA (Analysis of Variance)\n",
    "- Discrete Dependent Variable (Logistic Regression 포함)\n",
    "- 시계열 분석 (Time Series Analysis)\n",
    " \n",
    "- ARMA/ARIMA Process\n",
    "- Vector ARMA Process"
   ]
  },
  {
   "cell_type": "markdown",
   "metadata": {},
   "source": [
    "## Statsmodel's sample data from R_datasets"
   ]
  },
  {
   "cell_type": "markdown",
   "metadata": {},
   "source": [
    "- statsmodel's main object is letting users can do same analysis which have done in R packages. So Not only commands but also Rdatasets project is also going on. \n",
    "- form : `get_rdataset(item, [package = 'datasets])`\n",
    "    - `data` : dataframe has data\n",
    "    - `__doc__` : description string. usrs cannot use it in Python cuz, this is directly from R package."
   ]
  },
  {
   "cell_type": "markdown",
   "metadata": {},
   "source": [
    "## Sample : Titanic"
   ]
  },
  {
   "cell_type": "code",
   "execution_count": 2,
   "metadata": {},
   "outputs": [],
   "source": [
    "data = sm.datasets.get_rdataset('Titanic',package='datasets')"
   ]
  },
  {
   "cell_type": "code",
   "execution_count": 3,
   "metadata": {},
   "outputs": [
    {
     "data": {
      "text/html": [
       "<div>\n",
       "<style scoped>\n",
       "    .dataframe tbody tr th:only-of-type {\n",
       "        vertical-align: middle;\n",
       "    }\n",
       "\n",
       "    .dataframe tbody tr th {\n",
       "        vertical-align: top;\n",
       "    }\n",
       "\n",
       "    .dataframe thead th {\n",
       "        text-align: right;\n",
       "    }\n",
       "</style>\n",
       "<table border=\"1\" class=\"dataframe\">\n",
       "  <thead>\n",
       "    <tr style=\"text-align: right;\">\n",
       "      <th></th>\n",
       "      <th>Class</th>\n",
       "      <th>Sex</th>\n",
       "      <th>Age</th>\n",
       "      <th>Survived</th>\n",
       "      <th>Freq</th>\n",
       "    </tr>\n",
       "  </thead>\n",
       "  <tbody>\n",
       "    <tr>\n",
       "      <th>27</th>\n",
       "      <td>Crew</td>\n",
       "      <td>Male</td>\n",
       "      <td>Adult</td>\n",
       "      <td>Yes</td>\n",
       "      <td>192</td>\n",
       "    </tr>\n",
       "    <tr>\n",
       "      <th>28</th>\n",
       "      <td>1st</td>\n",
       "      <td>Female</td>\n",
       "      <td>Adult</td>\n",
       "      <td>Yes</td>\n",
       "      <td>140</td>\n",
       "    </tr>\n",
       "    <tr>\n",
       "      <th>29</th>\n",
       "      <td>2nd</td>\n",
       "      <td>Female</td>\n",
       "      <td>Adult</td>\n",
       "      <td>Yes</td>\n",
       "      <td>80</td>\n",
       "    </tr>\n",
       "    <tr>\n",
       "      <th>30</th>\n",
       "      <td>3rd</td>\n",
       "      <td>Female</td>\n",
       "      <td>Adult</td>\n",
       "      <td>Yes</td>\n",
       "      <td>76</td>\n",
       "    </tr>\n",
       "    <tr>\n",
       "      <th>31</th>\n",
       "      <td>Crew</td>\n",
       "      <td>Female</td>\n",
       "      <td>Adult</td>\n",
       "      <td>Yes</td>\n",
       "      <td>20</td>\n",
       "    </tr>\n",
       "  </tbody>\n",
       "</table>\n",
       "</div>"
      ],
      "text/plain": [
       "   Class     Sex    Age Survived  Freq\n",
       "27  Crew    Male  Adult      Yes   192\n",
       "28   1st  Female  Adult      Yes   140\n",
       "29   2nd  Female  Adult      Yes    80\n",
       "30   3rd  Female  Adult      Yes    76\n",
       "31  Crew  Female  Adult      Yes    20"
      ]
     },
     "execution_count": 3,
     "metadata": {},
     "output_type": "execute_result"
    }
   ],
   "source": [
    "df = data.data\n",
    "df.tail()"
   ]
  },
  {
   "cell_type": "code",
   "execution_count": 5,
   "metadata": {},
   "outputs": [
    {
     "name": "stdout",
     "output_type": "stream",
     "text": [
      "+---------+-----------------+\n",
      "| Titanic | R Documentation |\n",
      "+---------+-----------------+\n",
      "\n",
      "Survival of passengers on the Titanic\n",
      "-------------------------------------\n",
      "\n",
      "Description\n",
      "~~~~~~~~~~~\n",
      "\n",
      "This data set provides information on the fate of passengers on the\n",
      "fatal maiden voyage of the ocean liner ‘Titanic’, summarized according\n",
      "to economic status (class), sex, age and survival.\n",
      "\n",
      "Usage\n",
      "~~~~~\n",
      "\n",
      "::\n",
      "\n",
      "    Titanic\n",
      "\n",
      "Format\n",
      "~~~~~~\n",
      "\n",
      "A 4-dimensional array resulting from cross-tabulating 2201 observations\n",
      "on 4 variables. The variables and their levels are as follows:\n",
      "\n",
      "+----+----------+---------------------+\n",
      "| No | Name     | Levels              |\n",
      "+----+----------+---------------------+\n",
      "| 1  | Class    | 1st, 2nd, 3rd, Crew |\n",
      "+----+----------+---------------------+\n",
      "| 2  | Sex      | Male, Female        |\n",
      "+----+----------+---------------------+\n",
      "| 3  | Age      | Child, Adult        |\n",
      "+----+----------+---------------------+\n",
      "| 4  | Survived | No, Yes             |\n",
      "+----+----------+---------------------+\n",
      "\n",
      "Details\n",
      "~~~~~~~\n",
      "\n",
      "The sinking of the Titanic is a famous event, and new books are still\n",
      "being published about it. Many well-known facts—from the proportions of\n",
      "first-class passengers to the ‘women and children first’ policy, and the\n",
      "fact that that policy was not entirely successful in saving the women\n",
      "and children in the third class—are reflected in the survival rates for\n",
      "various classes of passenger.\n",
      "\n",
      "These data were originally collected by the British Board of Trade in\n",
      "their investigation of the sinking. Note that there is not complete\n",
      "agreement among primary sources as to the exact numbers on board,\n",
      "rescued, or lost.\n",
      "\n",
      "Due in particular to the very successful film ‘Titanic’, the last years\n",
      "saw a rise in public interest in the Titanic. Very detailed data about\n",
      "the passengers is now available on the Internet, at sites such as\n",
      "*Encyclopedia Titanica* (http://www.rmplc.co.uk/eduweb/sites/phind).\n",
      "\n",
      "Source\n",
      "~~~~~~\n",
      "\n",
      "Dawson, Robert J. MacG. (1995), The ‘Unusual Episode’ Data Revisited.\n",
      "*Journal of Statistics Education*, **3**.\n",
      "https://www.amstat.org/publications/jse/v3n3/datasets.dawson.html\n",
      "\n",
      "The source provides a data set recording class, sex, age, and survival\n",
      "status for each person on board of the Titanic, and is based on data\n",
      "originally collected by the British Board of Trade and reprinted in:\n",
      "\n",
      "British Board of Trade (1990), *Report on the Loss of the ‘Titanic’\n",
      "(S.S.)*. British Board of Trade Inquiry Report (reprint). Gloucester,\n",
      "UK: Allan Sutton Publishing.\n",
      "\n",
      "Examples\n",
      "~~~~~~~~\n",
      "\n",
      "::\n",
      "\n",
      "    require(graphics)\n",
      "    mosaicplot(Titanic, main = \"Survival on the Titanic\")\n",
      "    ## Higher survival rates in children?\n",
      "    apply(Titanic, c(3, 4), sum)\n",
      "    ## Higher survival rates in females?\n",
      "    apply(Titanic, c(2, 4), sum)\n",
      "    ## Use loglm() in package 'MASS' for further analysis ...\n",
      "\n"
     ]
    }
   ],
   "source": [
    "print(data.__doc__)"
   ]
  },
  {
   "cell_type": "markdown",
   "metadata": {},
   "source": [
    "## Sample : precipitation"
   ]
  },
  {
   "cell_type": "code",
   "execution_count": 6,
   "metadata": {},
   "outputs": [],
   "source": [
    "data = sm.datasets.get_rdataset('precip')"
   ]
  },
  {
   "cell_type": "code",
   "execution_count": 8,
   "metadata": {},
   "outputs": [
    {
     "data": {
      "text/html": [
       "<div>\n",
       "<style scoped>\n",
       "    .dataframe tbody tr th:only-of-type {\n",
       "        vertical-align: middle;\n",
       "    }\n",
       "\n",
       "    .dataframe tbody tr th {\n",
       "        vertical-align: top;\n",
       "    }\n",
       "\n",
       "    .dataframe thead th {\n",
       "        text-align: right;\n",
       "    }\n",
       "</style>\n",
       "<table border=\"1\" class=\"dataframe\">\n",
       "  <thead>\n",
       "    <tr style=\"text-align: right;\">\n",
       "      <th></th>\n",
       "      <th>dat</th>\n",
       "    </tr>\n",
       "  </thead>\n",
       "  <tbody>\n",
       "    <tr>\n",
       "      <th>0</th>\n",
       "      <td>67.0</td>\n",
       "    </tr>\n",
       "    <tr>\n",
       "      <th>1</th>\n",
       "      <td>54.7</td>\n",
       "    </tr>\n",
       "    <tr>\n",
       "      <th>2</th>\n",
       "      <td>7.0</td>\n",
       "    </tr>\n",
       "    <tr>\n",
       "      <th>3</th>\n",
       "      <td>48.5</td>\n",
       "    </tr>\n",
       "    <tr>\n",
       "      <th>4</th>\n",
       "      <td>14.0</td>\n",
       "    </tr>\n",
       "  </tbody>\n",
       "</table>\n",
       "</div>"
      ],
      "text/plain": [
       "    dat\n",
       "0  67.0\n",
       "1  54.7\n",
       "2   7.0\n",
       "3  48.5\n",
       "4  14.0"
      ]
     },
     "execution_count": 8,
     "metadata": {},
     "output_type": "execute_result"
    }
   ],
   "source": [
    "df = data.data\n",
    "df.head()"
   ]
  },
  {
   "cell_type": "code",
   "execution_count": 10,
   "metadata": {},
   "outputs": [
    {
     "name": "stdout",
     "output_type": "stream",
     "text": [
      "+--------+-----------------+\n",
      "| precip | R Documentation |\n",
      "+--------+-----------------+\n",
      "\n",
      "Annual Precipitation in US Cities\n",
      "---------------------------------\n",
      "\n",
      "Description\n",
      "~~~~~~~~~~~\n",
      "\n",
      "The average amount of precipitation (rainfall) in inches for each of 70\n",
      "United States (and Puerto Rico) cities.\n",
      "\n",
      "Usage\n",
      "~~~~~\n",
      "\n",
      "::\n",
      "\n",
      "    precip\n",
      "\n",
      "Format\n",
      "~~~~~~\n",
      "\n",
      "A named vector of length 70.\n",
      "\n",
      "Note\n",
      "~~~~\n",
      "\n",
      "The dataset version up to Nov.16, 2016 had a typo in ``\"Cincinnati\"``'s\n",
      "name. The examples show how to recreate that version.\n",
      "\n",
      "Source\n",
      "~~~~~~\n",
      "\n",
      "Statistical Abstracts of the United States, 1975.\n",
      "\n",
      "References\n",
      "~~~~~~~~~~\n",
      "\n",
      "McNeil, D. R. (1977) *Interactive Data Analysis*. New York: Wiley.\n",
      "\n",
      "Examples\n",
      "~~~~~~~~\n",
      "\n",
      "::\n",
      "\n",
      "    require(graphics)\n",
      "    dotchart(precip[order(precip)], main = \"precip data\")\n",
      "    title(sub = \"Average annual precipitation (in.)\")\n",
      "\n",
      "    ## Old (\"wrong\") version of dataset (just name change):\n",
      "    precip.O <- local({\n",
      "       p <- precip; names(p)[names(p) == \"Cincinnati\"] <- \"Cincinati\" ; p })\n",
      "    stopifnot(all(precip == precip.O),\n",
      "          match(\"Cincinnati\", names(precip)) == 46,\n",
      "          identical(names(precip)[-46], names(precip.O)[-46]))\n",
      "\n"
     ]
    }
   ],
   "source": [
    "print(data.__doc__)"
   ]
  },
  {
   "cell_type": "code",
   "execution_count": 13,
   "metadata": {},
   "outputs": [
    {
     "data": {
      "image/png": "[encoded data removed]",
      "text/plain": [
       "<Figure size 432x288 with 1 Axes>"
      ]
     },
     "metadata": {},
     "output_type": "display_data"
    }
   ],
   "source": [
    "df.plot()\n",
    "plt.show()"
   ]
  },
  {
   "cell_type": "markdown",
   "metadata": {},
   "source": [
    "## Sample : Hormone"
   ]
  },
  {
   "cell_type": "code",
   "execution_count": 16,
   "metadata": {},
   "outputs": [],
   "source": [
    "data = sm.datasets.get_rdataset('lh')"
   ]
  },
  {
   "cell_type": "code",
   "execution_count": 17,
   "metadata": {},
   "outputs": [
    {
     "data": {
      "text/html": [
       "<div>\n",
       "<style scoped>\n",
       "    .dataframe tbody tr th:only-of-type {\n",
       "        vertical-align: middle;\n",
       "    }\n",
       "\n",
       "    .dataframe tbody tr th {\n",
       "        vertical-align: top;\n",
       "    }\n",
       "\n",
       "    .dataframe thead th {\n",
       "        text-align: right;\n",
       "    }\n",
       "</style>\n",
       "<table border=\"1\" class=\"dataframe\">\n",
       "  <thead>\n",
       "    <tr style=\"text-align: right;\">\n",
       "      <th></th>\n",
       "      <th>time</th>\n",
       "      <th>value</th>\n",
       "    </tr>\n",
       "  </thead>\n",
       "  <tbody>\n",
       "    <tr>\n",
       "      <th>0</th>\n",
       "      <td>1</td>\n",
       "      <td>2.4</td>\n",
       "    </tr>\n",
       "    <tr>\n",
       "      <th>1</th>\n",
       "      <td>2</td>\n",
       "      <td>2.4</td>\n",
       "    </tr>\n",
       "    <tr>\n",
       "      <th>2</th>\n",
       "      <td>3</td>\n",
       "      <td>2.4</td>\n",
       "    </tr>\n",
       "    <tr>\n",
       "      <th>3</th>\n",
       "      <td>4</td>\n",
       "      <td>2.2</td>\n",
       "    </tr>\n",
       "    <tr>\n",
       "      <th>4</th>\n",
       "      <td>5</td>\n",
       "      <td>2.1</td>\n",
       "    </tr>\n",
       "  </tbody>\n",
       "</table>\n",
       "</div>"
      ],
      "text/plain": [
       "   time  value\n",
       "0     1    2.4\n",
       "1     2    2.4\n",
       "2     3    2.4\n",
       "3     4    2.2\n",
       "4     5    2.1"
      ]
     },
     "execution_count": 17,
     "metadata": {},
     "output_type": "execute_result"
    }
   ],
   "source": [
    "df = data.data\n",
    "df.head()"
   ]
  },
  {
   "cell_type": "code",
   "execution_count": 18,
   "metadata": {},
   "outputs": [
    {
     "name": "stdout",
     "output_type": "stream",
     "text": [
      "+----+-----------------+\n",
      "| lh | R Documentation |\n",
      "+----+-----------------+\n",
      "\n",
      "Luteinizing Hormone in Blood Samples\n",
      "------------------------------------\n",
      "\n",
      "Description\n",
      "~~~~~~~~~~~\n",
      "\n",
      "A regular time series giving the luteinizing hormone in blood samples at\n",
      "10 mins intervals from a human female, 48 samples.\n",
      "\n",
      "Usage\n",
      "~~~~~\n",
      "\n",
      "::\n",
      "\n",
      "    lh\n",
      "\n",
      "Source\n",
      "~~~~~~\n",
      "\n",
      "P.J. Diggle (1990) *Time Series: A Biostatistical Introduction.* Oxford,\n",
      "table A.1, series 3\n",
      "\n"
     ]
    }
   ],
   "source": [
    "print(data.__doc__)"
   ]
  },
  {
   "cell_type": "code",
   "execution_count": 19,
   "metadata": {},
   "outputs": [
    {
     "data": {
      "image/png": "[encoded data removed]",
      "text/plain": [
       "<Figure size 432x288 with 1 Axes>"
      ]
     },
     "metadata": {},
     "output_type": "display_data"
    }
   ],
   "source": [
    "df.plot(x='time',y='value')\n",
    "plt.show()"
   ]
  },
  {
   "cell_type": "markdown",
   "metadata": {},
   "source": [
    "## Sample : Monthly Deaths"
   ]
  },
  {
   "cell_type": "code",
   "execution_count": 20,
   "metadata": {},
   "outputs": [],
   "source": [
    "data = sm.datasets.get_rdataset('deaths','MASS')"
   ]
  },
  {
   "cell_type": "code",
   "execution_count": 21,
   "metadata": {},
   "outputs": [
    {
     "data": {
      "text/html": [
       "<div>\n",
       "<style scoped>\n",
       "    .dataframe tbody tr th:only-of-type {\n",
       "        vertical-align: middle;\n",
       "    }\n",
       "\n",
       "    .dataframe tbody tr th {\n",
       "        vertical-align: top;\n",
       "    }\n",
       "\n",
       "    .dataframe thead th {\n",
       "        text-align: right;\n",
       "    }\n",
       "</style>\n",
       "<table border=\"1\" class=\"dataframe\">\n",
       "  <thead>\n",
       "    <tr style=\"text-align: right;\">\n",
       "      <th></th>\n",
       "      <th>time</th>\n",
       "      <th>value</th>\n",
       "    </tr>\n",
       "  </thead>\n",
       "  <tbody>\n",
       "    <tr>\n",
       "      <th>67</th>\n",
       "      <td>1979.583333</td>\n",
       "      <td>1354</td>\n",
       "    </tr>\n",
       "    <tr>\n",
       "      <th>68</th>\n",
       "      <td>1979.666667</td>\n",
       "      <td>1333</td>\n",
       "    </tr>\n",
       "    <tr>\n",
       "      <th>69</th>\n",
       "      <td>1979.750000</td>\n",
       "      <td>1492</td>\n",
       "    </tr>\n",
       "    <tr>\n",
       "      <th>70</th>\n",
       "      <td>1979.833333</td>\n",
       "      <td>1781</td>\n",
       "    </tr>\n",
       "    <tr>\n",
       "      <th>71</th>\n",
       "      <td>1979.916667</td>\n",
       "      <td>1915</td>\n",
       "    </tr>\n",
       "  </tbody>\n",
       "</table>\n",
       "</div>"
      ],
      "text/plain": [
       "           time  value\n",
       "67  1979.583333   1354\n",
       "68  1979.666667   1333\n",
       "69  1979.750000   1492\n",
       "70  1979.833333   1781\n",
       "71  1979.916667   1915"
      ]
     },
     "execution_count": 21,
     "metadata": {},
     "output_type": "execute_result"
    }
   ],
   "source": [
    "df =data.data\n",
    "df.tail()"
   ]
  },
  {
   "cell_type": "code",
   "execution_count": 22,
   "metadata": {},
   "outputs": [
    {
     "name": "stdout",
     "output_type": "stream",
     "text": [
      "+--------+-----------------+\n",
      "| deaths | R Documentation |\n",
      "+--------+-----------------+\n",
      "\n",
      "Monthly Deaths from Lung Diseases in the UK\n",
      "-------------------------------------------\n",
      "\n",
      "Description\n",
      "~~~~~~~~~~~\n",
      "\n",
      "A time series giving the monthly deaths from bronchitis, emphysema and\n",
      "asthma in the UK, 1974-1979, both sexes (``deaths``),\n",
      "\n",
      "Usage\n",
      "~~~~~\n",
      "\n",
      "::\n",
      "\n",
      "    deaths\n",
      "\n",
      "Source\n",
      "~~~~~~\n",
      "\n",
      "P. J. Diggle (1990) *Time Series: A Biostatistical Introduction.*\n",
      "Oxford, table A.3\n",
      "\n",
      "References\n",
      "~~~~~~~~~~\n",
      "\n",
      "Venables, W. N. and Ripley, B. D. (2002) *Modern Applied Statistics with\n",
      "S.* Fourth edition. Springer.\n",
      "\n",
      "See Also\n",
      "~~~~~~~~\n",
      "\n",
      "This the same as dataset ``ldeaths`` in **R**'s datasets package.\n",
      "\n"
     ]
    }
   ],
   "source": [
    "print(data.__doc__)"
   ]
  },
  {
   "cell_type": "code",
   "execution_count": 23,
   "metadata": {},
   "outputs": [],
   "source": [
    "def yearfraction2datetime(yearfraction, startyear=0):\n",
    "    import datetime, dateutil\n",
    "    year = int(yearfraction) + startyear\n",
    "    month = int(round(12 * (yearfraction - year)))\n",
    "    delta = dateutil.relativedelta.relativedelta(months=month)\n",
    "    date = datetime.datetime(year, 1, 1) + delta\n",
    "    return date"
   ]
  },
  {
   "cell_type": "code",
   "execution_count": 24,
   "metadata": {
    "scrolled": true
   },
   "outputs": [
    {
     "data": {
      "text/html": [
       "<div>\n",
       "<style scoped>\n",
       "    .dataframe tbody tr th:only-of-type {\n",
       "        vertical-align: middle;\n",
       "    }\n",
       "\n",
       "    .dataframe tbody tr th {\n",
       "        vertical-align: top;\n",
       "    }\n",
       "\n",
       "    .dataframe thead th {\n",
       "        text-align: right;\n",
       "    }\n",
       "</style>\n",
       "<table border=\"1\" class=\"dataframe\">\n",
       "  <thead>\n",
       "    <tr style=\"text-align: right;\">\n",
       "      <th></th>\n",
       "      <th>time</th>\n",
       "      <th>value</th>\n",
       "      <th>datetime</th>\n",
       "    </tr>\n",
       "  </thead>\n",
       "  <tbody>\n",
       "    <tr>\n",
       "      <th>67</th>\n",
       "      <td>1979.583333</td>\n",
       "      <td>1354</td>\n",
       "      <td>1979-08-01</td>\n",
       "    </tr>\n",
       "    <tr>\n",
       "      <th>68</th>\n",
       "      <td>1979.666667</td>\n",
       "      <td>1333</td>\n",
       "      <td>1979-09-01</td>\n",
       "    </tr>\n",
       "    <tr>\n",
       "      <th>69</th>\n",
       "      <td>1979.750000</td>\n",
       "      <td>1492</td>\n",
       "      <td>1979-10-01</td>\n",
       "    </tr>\n",
       "    <tr>\n",
       "      <th>70</th>\n",
       "      <td>1979.833333</td>\n",
       "      <td>1781</td>\n",
       "      <td>1979-11-01</td>\n",
       "    </tr>\n",
       "    <tr>\n",
       "      <th>71</th>\n",
       "      <td>1979.916667</td>\n",
       "      <td>1915</td>\n",
       "      <td>1979-12-01</td>\n",
       "    </tr>\n",
       "  </tbody>\n",
       "</table>\n",
       "</div>"
      ],
      "text/plain": [
       "           time  value   datetime\n",
       "67  1979.583333   1354 1979-08-01\n",
       "68  1979.666667   1333 1979-09-01\n",
       "69  1979.750000   1492 1979-10-01\n",
       "70  1979.833333   1781 1979-11-01\n",
       "71  1979.916667   1915 1979-12-01"
      ]
     },
     "execution_count": 24,
     "metadata": {},
     "output_type": "execute_result"
    }
   ],
   "source": [
    "df[\"datetime\"] = df.time.map(yearfraction2datetime)\n",
    "df.tail()"
   ]
  },
  {
   "cell_type": "code",
   "execution_count": 27,
   "metadata": {},
   "outputs": [
    {
     "data": {
      "image/png": "[encoded data removed]",
      "text/plain": [
       "<Figure size 432x288 with 1 Axes>"
      ]
     },
     "metadata": {},
     "output_type": "display_data"
    }
   ],
   "source": [
    "df.plot(x=\"datetime\", y=\"value\")\n",
    "plt.show()"
   ]
  },
  {
   "cell_type": "code",
   "execution_count": 28,
   "metadata": {},
   "outputs": [],
   "source": [
    "data = sm.datasets.get_rdataset('AirPassengers')"
   ]
  },
  {
   "cell_type": "code",
   "execution_count": 29,
   "metadata": {},
   "outputs": [
    {
     "data": {
      "text/html": [
       "<div>\n",
       "<style scoped>\n",
       "    .dataframe tbody tr th:only-of-type {\n",
       "        vertical-align: middle;\n",
       "    }\n",
       "\n",
       "    .dataframe tbody tr th {\n",
       "        vertical-align: top;\n",
       "    }\n",
       "\n",
       "    .dataframe thead th {\n",
       "        text-align: right;\n",
       "    }\n",
       "</style>\n",
       "<table border=\"1\" class=\"dataframe\">\n",
       "  <thead>\n",
       "    <tr style=\"text-align: right;\">\n",
       "      <th></th>\n",
       "      <th>time</th>\n",
       "      <th>value</th>\n",
       "    </tr>\n",
       "  </thead>\n",
       "  <tbody>\n",
       "    <tr>\n",
       "      <th>139</th>\n",
       "      <td>1960.583333</td>\n",
       "      <td>606</td>\n",
       "    </tr>\n",
       "    <tr>\n",
       "      <th>140</th>\n",
       "      <td>1960.666667</td>\n",
       "      <td>508</td>\n",
       "    </tr>\n",
       "    <tr>\n",
       "      <th>141</th>\n",
       "      <td>1960.750000</td>\n",
       "      <td>461</td>\n",
       "    </tr>\n",
       "    <tr>\n",
       "      <th>142</th>\n",
       "      <td>1960.833333</td>\n",
       "      <td>390</td>\n",
       "    </tr>\n",
       "    <tr>\n",
       "      <th>143</th>\n",
       "      <td>1960.916667</td>\n",
       "      <td>432</td>\n",
       "    </tr>\n",
       "  </tbody>\n",
       "</table>\n",
       "</div>"
      ],
      "text/plain": [
       "            time  value\n",
       "139  1960.583333    606\n",
       "140  1960.666667    508\n",
       "141  1960.750000    461\n",
       "142  1960.833333    390\n",
       "143  1960.916667    432"
      ]
     },
     "execution_count": 29,
     "metadata": {},
     "output_type": "execute_result"
    }
   ],
   "source": [
    "df = data.data\n",
    "df.tail()"
   ]
  },
  {
   "cell_type": "code",
   "execution_count": 30,
   "metadata": {},
   "outputs": [
    {
     "name": "stdout",
     "output_type": "stream",
     "text": [
      "+---------------+-----------------+\n",
      "| AirPassengers | R Documentation |\n",
      "+---------------+-----------------+\n",
      "\n",
      "Monthly Airline Passenger Numbers 1949-1960\n",
      "-------------------------------------------\n",
      "\n",
      "Description\n",
      "~~~~~~~~~~~\n",
      "\n",
      "The classic Box & Jenkins airline data. Monthly totals of international\n",
      "airline passengers, 1949 to 1960.\n",
      "\n",
      "Usage\n",
      "~~~~~\n",
      "\n",
      "::\n",
      "\n",
      "    AirPassengers\n",
      "\n",
      "Format\n",
      "~~~~~~\n",
      "\n",
      "A monthly time series, in thousands.\n",
      "\n",
      "Source\n",
      "~~~~~~\n",
      "\n",
      "Box, G. E. P., Jenkins, G. M. and Reinsel, G. C. (1976) *Time Series\n",
      "Analysis, Forecasting and Control.* Third Edition. Holden-Day. Series G.\n",
      "\n",
      "Examples\n",
      "~~~~~~~~\n",
      "\n",
      "::\n",
      "\n",
      "    ## Not run: \n",
      "    ## These are quite slow and so not run by example(AirPassengers)\n",
      "\n",
      "    ## The classic 'airline model', by full ML\n",
      "    (fit <- arima(log10(AirPassengers), c(0, 1, 1),\n",
      "                  seasonal = list(order = c(0, 1, 1), period = 12)))\n",
      "    update(fit, method = \"CSS\")\n",
      "    update(fit, x = window(log10(AirPassengers), start = 1954))\n",
      "    pred <- predict(fit, n.ahead = 24)\n",
      "    tl <- pred$pred - 1.96 * pred$se\n",
      "    tu <- pred$pred + 1.96 * pred$se\n",
      "    ts.plot(AirPassengers, 10^tl, 10^tu, log = \"y\", lty = c(1, 2, 2))\n",
      "\n",
      "    ## full ML fit is the same if the series is reversed, CSS fit is not\n",
      "    ap0 <- rev(log10(AirPassengers))\n",
      "    attributes(ap0) <- attributes(AirPassengers)\n",
      "    arima(ap0, c(0, 1, 1), seasonal = list(order = c(0, 1, 1), period = 12))\n",
      "    arima(ap0, c(0, 1, 1), seasonal = list(order = c(0, 1, 1), period = 12),\n",
      "          method = \"CSS\")\n",
      "\n",
      "    ## Structural Time Series\n",
      "    ap <- log10(AirPassengers) - 2\n",
      "    (fit <- StructTS(ap, type = \"BSM\"))\n",
      "    par(mfrow = c(1, 2))\n",
      "    plot(cbind(ap, fitted(fit)), plot.type = \"single\")\n",
      "    plot(cbind(ap, tsSmooth(fit)), plot.type = \"single\")\n",
      "\n",
      "    ## End(Not run)\n",
      "\n"
     ]
    }
   ],
   "source": [
    "print(data.__doc__)"
   ]
  },
  {
   "cell_type": "code",
   "execution_count": 40,
   "metadata": {},
   "outputs": [
    {
     "data": {
      "text/html": [
       "<div>\n",
       "<style scoped>\n",
       "    .dataframe tbody tr th:only-of-type {\n",
       "        vertical-align: middle;\n",
       "    }\n",
       "\n",
       "    .dataframe tbody tr th {\n",
       "        vertical-align: top;\n",
       "    }\n",
       "\n",
       "    .dataframe thead th {\n",
       "        text-align: right;\n",
       "    }\n",
       "</style>\n",
       "<table border=\"1\" class=\"dataframe\">\n",
       "  <thead>\n",
       "    <tr style=\"text-align: right;\">\n",
       "      <th></th>\n",
       "      <th>datatime</th>\n",
       "      <th>AirPassengers</th>\n",
       "      <th>datetime</th>\n",
       "    </tr>\n",
       "  </thead>\n",
       "  <tbody>\n",
       "    <tr>\n",
       "      <th>139</th>\n",
       "      <td>1960.583333</td>\n",
       "      <td>606</td>\n",
       "      <td>1960-08-01</td>\n",
       "    </tr>\n",
       "    <tr>\n",
       "      <th>140</th>\n",
       "      <td>1960.666667</td>\n",
       "      <td>508</td>\n",
       "      <td>1960-09-01</td>\n",
       "    </tr>\n",
       "    <tr>\n",
       "      <th>141</th>\n",
       "      <td>1960.750000</td>\n",
       "      <td>461</td>\n",
       "      <td>1960-10-01</td>\n",
       "    </tr>\n",
       "    <tr>\n",
       "      <th>142</th>\n",
       "      <td>1960.833333</td>\n",
       "      <td>390</td>\n",
       "      <td>1960-11-01</td>\n",
       "    </tr>\n",
       "    <tr>\n",
       "      <th>143</th>\n",
       "      <td>1960.916667</td>\n",
       "      <td>432</td>\n",
       "      <td>1960-12-01</td>\n",
       "    </tr>\n",
       "  </tbody>\n",
       "</table>\n",
       "</div>"
      ],
      "text/plain": [
       "        datatime  AirPassengers   datetime\n",
       "139  1960.583333            606 1960-08-01\n",
       "140  1960.666667            508 1960-09-01\n",
       "141  1960.750000            461 1960-10-01\n",
       "142  1960.833333            390 1960-11-01\n",
       "143  1960.916667            432 1960-12-01"
      ]
     },
     "execution_count": 40,
     "metadata": {},
     "output_type": "execute_result"
    }
   ],
   "source": [
    "df['datetime'] = df.time.map(yearfraction2datetime)\n",
    "df.rename(columns = {'value':'AirPassengers','time' : 'datatime'},inplace = True)\n",
    "df.tail()"
   ]
  },
  {
   "cell_type": "code",
   "execution_count": 41,
   "metadata": {},
   "outputs": [
    {
     "data": {
      "image/png": "[encoded data removed]",
      "text/plain": [
       "<Figure size 432x288 with 1 Axes>"
      ]
     },
     "metadata": {},
     "output_type": "display_data"
    }
   ],
   "source": [
    "df.plot(x='datatime',y='AirPassengers')\n",
    "plt.show()"
   ]
  },
  {
   "cell_type": "markdown",
   "metadata": {},
   "source": [
    "## Scikit-Learn Package"
   ]
  },
  {
   "cell_type": "markdown",
   "metadata": {},
   "source": [
    "- 벤치마크용 샘플 데이터 세트\n",
    "- 데이터 전처리(preprocessing) 기능\n",
    "- 지도 학습(Supervised learning) 모형\n",
    "    - 지도 학습(Supervised learning) 모형¶\n",
    "    - Generalized Linear Models\n",
    "    - Ordinary Least Squares\n",
    "    - Ridge/Lasso/Elastic Net Regression\n",
    "    - Logistic regression\n",
    "    - Polynomial regression\n",
    "    - Perceptron\n",
    "    - Linear and Quadratic Discriminant Analysis\n",
    "    - Support Vector Machines\n",
    "    - Stochastic Gradient Descent\n",
    "    - Nearest Neighbor Algorithms\n",
    "    - Gaussian Processes\n",
    "    - Naive Bayes\n",
    "    - Decision Trees\n",
    "    - Ensemble methods\n",
    "    - Random Forests\n",
    "    - AdaBoost\n",
    "- 비지도 학습(Unsupervised learning) 모형\n",
    "    - 비지도 학습(Unsupervised learning) 모형¶\n",
    "    - Gaussian mixture models\n",
    "    - Manifold learning\n",
    "    - Clustering\n",
    "    - K-means\n",
    "    - DBSCAN\n",
    "    - Biclustering\n",
    "    - Decomposing\n",
    "    - Principal component analysis (PCA)\n",
    "    - Factor Analysis\n",
    "    - Independent component analysis (ICA)\n",
    "    - Latent Dirichlet Allocation (LDA)\n",
    "    - Covariance estimation\n",
    "    - Novelty and Outlier Detection\n",
    "    - Density Estimation\n",
    "\n",
    "- 모형 평가 및 선택"
   ]
  },
  {
   "cell_type": "markdown",
   "metadata": {},
   "source": [
    "## Scikit-learn 's sample data\n",
    "- sklearn.datasets subpackage supplies dataset for modeling practice.\n",
    "- it can be divided by three type of commands like this:\n",
    "     - load : have been saved datset import\n",
    "     - fetch : download dataset from Internet by cached and import\n",
    "     - make : making virtual dataset"
   ]
  },
  {
   "cell_type": "markdown",
   "metadata": {},
   "source": [
    "### load\n",
    "- you dont have to download it! it is already in your sub-package\n",
    "- load_boston(): 회귀 분석용 보스턴 집값\n",
    "- load_diabetes(): 회귀 분석용 당뇨병 자료\n",
    "- load_linnerud(): 회귀 분석용 linnerud 자료\n",
    "- load_iris(): classification용 iris 자료\n",
    "- load_digits(): classification용 숫자 필기 이미지 자료\n",
    "- load_wine(): classification용 포도주 등급 자료\n",
    "- load_breast_cancer(): classification용 유방암 진단 자료"
   ]
  },
  {
   "cell_type": "markdown",
   "metadata": {},
   "source": [
    "### fetch\n",
    "- this dataset's volumns is too big to save in package so you should download from Internet. And download file is gonna go to sub-directory named scikit_learn_data and you can call those files anytime you want. Last, Internet connect when you download it first time\n",
    "- fetch_covtype() : 회귀분석용 토지 조사 자료\n",
    "- fetch_20newsgroups() : 뉴스 그룹 텍스트 자료\n",
    "- fetch_olivetti_faces() : 얼굴 이미지 자료\n",
    "- fetch_lfw_people() : 얼굴 이미지 자료\n",
    "- fetch_lfw_pairs() : 얼굴 이미지 자료\n",
    "- fetch_rcv1() : 로이터 뉴스 corpus\n",
    "- fetch_mldata() : ML 웹사이트에서 다운로드"
   ]
  },
  {
   "cell_type": "markdown",
   "metadata": {},
   "source": [
    "### make\n",
    "- In case, you might be need some virtual dataset which fullfills your needs. make commands can make datasets which have features you want.\n",
    "- make_regression(): 회귀 분석용 가상 데이터 생성\n",
    "- make_classification(): 분류용 가상 데이터 생성\n",
    "- make_blobs(): 클러스터링용 가상 데이터 생성"
   ]
  },
  {
   "cell_type": "markdown",
   "metadata": {},
   "source": [
    "## form of data set\n",
    "- most of dataset from scikit-learn is formed class object name 'Bunch'. And those class object has feature like this :\n",
    "    - data: (필수) 독립 변수 ndarray 배열\n",
    "    - target: (필수) 종속 변수 ndarray 배열\n",
    "    - feature_names: (옵션) 독립 변수 이름 리스트\n",
    "    - target_names: (옵션) 종속 변수 이름 리스트\n",
    "    - DESCR: (옵션) 자료에 대한 설명"
   ]
  }
 ],
 "metadata": {
  "kernelspec": {
   "display_name": "Python 3",
   "language": "python",
   "name": "python3"
  },
  "language_info": {
   "codemirror_mode": {
    "name": "ipython",
    "version": 3
   },
   "file_extension": ".py",
   "mimetype": "text/x-python",
   "name": "python",
   "nbconvert_exporter": "python",
   "pygments_lexer": "ipython3",
   "version": "3.6.5"
  }
 },
 "nbformat": 4,
 "nbformat_minor": 2
}
