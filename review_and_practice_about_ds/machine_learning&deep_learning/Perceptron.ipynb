{
 "cells": [
  {
   "cell_type": "markdown",
   "metadata": {},
   "source": [
    "- based on : https://datascienceschool.net/view-notebook/342b8e2ecf7a4911a727e6fe97f4ab6b/"
   ]
  },
  {
   "cell_type": "markdown",
   "metadata": {},
   "source": [
    "Im gonna be deal with 'keyword' about def of the 'perceptron' mainly in this notebook"
   ]
  },
  {
   "cell_type": "markdown",
   "metadata": {},
   "source": [
    "- perceptron is the oldest and simplest `discriminant function` based model"
   ]
  },
  {
   "cell_type": "markdown",
   "metadata": {},
   "source": [
    "- 입력 요소 x(data)들이 여러 개가 있고, 각각의 요소(feature)마다 다른 가중치가 부여된다.(np.dot(w.T,x))\n",
    "- 이러한 가중치가 1 또는 -1이라는 라벨값을 가져야 하기 땜누에 활성화 함수 a()안에 들어가게 된다.(a(np.dot(w.T,x)) = a(z) = a(f(x)))\n",
    "- 이에 따라 z<0 then = -1 , z>=0 = 1 이라는 binary classification이 성립한다."
   ]
  },
  {
   "cell_type": "markdown",
   "metadata": {},
   "source": [
    "- 손실은 가중치에 따라 달라지는 전체 예측 오차의 개별 데이터의 합으로 구한다.\n",
    "- 선형 회귀에서와는 다르게 이진 분류 문제이기 때문에 다른 식을 RSS와는 다른 식을 적용한다.\n",
    "- L(y_pred,y_true) = max(0,-1*y_pred*y_true)\n",
    "- 즉 ,예측이 맞으면 0이고 틀리면 1이다. 이것이 퍼셉트론의 손실함수이다.\n",
    "- 어자피 맞으면 0이기 때문에, 손실함수의 합은 오분류된 데이터 집합들의 합이다.\n",
    "- 우리는 이렇게 구한 합들을 가중치로 최소화시켜야 하는데 Heaviside function(a)가 붙으면 불가능하기 때문에 이전의 f(x) 를 미분하는데 사용한다."
   ]
  },
  {
   "cell_type": "markdown",
   "metadata": {},
   "source": [
    "- 퍼셉트론에서는 손실 함수를 최소화하는 가중치를 찾기 위해서 general gradient descent method 가 아닌 stochastic gradient method를 쓰게 된다.\n",
    "- Roughly speaking, SGD is method that using fractional data instead of whole data for gradient descent. IN perceptron, this method uses only one data from gradient change.(가장 극단적인 경우이다.) "
   ]
  },
  {
   "cell_type": "code",
   "execution_count": 16,
   "metadata": {},
   "outputs": [],
   "source": [
    "import numpy as np\n",
    "import matplotlib.pylab as plt\n",
    "import pandas as pd\n",
    "from sklearn.linear_model import Perceptron"
   ]
  },
  {
   "cell_type": "code",
   "execution_count": 8,
   "metadata": {},
   "outputs": [],
   "source": [
    "from sklearn.datasets import load_iris\n",
    "iris = load_iris()\n",
    "X,y = iris.data,iris.target"
   ]
  },
  {
   "cell_type": "code",
   "execution_count": 21,
   "metadata": {},
   "outputs": [],
   "source": [
    "X = X[:100,:2]\n",
    "y = y[:100]"
   ]
  },
  {
   "cell_type": "code",
   "execution_count": 22,
   "metadata": {},
   "outputs": [
    {
     "name": "stderr",
     "output_type": "stream",
     "text": [
      "/home/hskimim/anaconda3/lib/python3.6/site-packages/sklearn/linear_model/stochastic_gradient.py:128: FutureWarning: max_iter and tol parameters have been added in <class 'sklearn.linear_model.perceptron.Perceptron'> in 0.19. If both are left unset, they default to max_iter=5 and tol=None. If tol is not None, max_iter defaults to max_iter=1000. From 0.21, default max_iter will be 1000, and default tol will be 1e-3.\n",
      "  \"and default tol will be 1e-3.\" % type(self), FutureWarning)\n"
     ]
    }
   ],
   "source": [
    "model = Perceptron().fit(X,y)"
   ]
  },
  {
   "cell_type": "code",
   "execution_count": 27,
   "metadata": {},
   "outputs": [
    {
     "data": {
      "text/plain": [
       "array([[49,  1],\n",
       "       [ 2, 48]])"
      ]
     },
     "execution_count": 27,
     "metadata": {},
     "output_type": "execute_result"
    }
   ],
   "source": [
    "from sklearn.metrics import confusion_matrix\n",
    "confusion_matrix(y,model.predict(X))"
   ]
  },
  {
   "cell_type": "code",
   "execution_count": 28,
   "metadata": {},
   "outputs": [],
   "source": [
    "from sklearn.datasets import load_iris\n",
    "iris = load_iris()\n",
    "X,y = iris.data,iris.target\n",
    "X = X[:100,:2]\n",
    "y = y[:100]"
   ]
  },
  {
   "cell_type": "code",
   "execution_count": 30,
   "metadata": {},
   "outputs": [
    {
     "name": "stderr",
     "output_type": "stream",
     "text": [
      "/home/hskimim/anaconda3/lib/python3.6/site-packages/sklearn/linear_model/stochastic_gradient.py:128: FutureWarning: max_iter and tol parameters have been added in <class 'sklearn.linear_model.stochastic_gradient.SGDClassifier'> in 0.19. If both are left unset, they default to max_iter=5 and tol=None. If tol is not None, max_iter defaults to max_iter=1000. From 0.21, default max_iter will be 1000, and default tol will be 1e-3.\n",
      "  \"and default tol will be 1e-3.\" % type(self), FutureWarning)\n"
     ]
    }
   ],
   "source": [
    "from sklearn.linear_model import SGDClassifier\n",
    "model2 = SGDClassifier().fit(X,y)"
   ]
  },
  {
   "cell_type": "code",
   "execution_count": 31,
   "metadata": {},
   "outputs": [
    {
     "data": {
      "text/plain": [
       "array([[49,  1],\n",
       "       [ 0, 50]])"
      ]
     },
     "execution_count": 31,
     "metadata": {},
     "output_type": "execute_result"
    }
   ],
   "source": [
    "confusion_matrix(y,model2.predict(X))"
   ]
  }
 ],
 "metadata": {
  "kernelspec": {
   "display_name": "Python 3",
   "language": "python",
   "name": "python3"
  },
  "language_info": {
   "codemirror_mode": {
    "name": "ipython",
    "version": 3
   },
   "file_extension": ".py",
   "mimetype": "text/x-python",
   "name": "python",
   "nbconvert_exporter": "python",
   "pygments_lexer": "ipython3",
   "version": "3.6.5"
  }
 },
 "nbformat": 4,
 "nbformat_minor": 2
}
