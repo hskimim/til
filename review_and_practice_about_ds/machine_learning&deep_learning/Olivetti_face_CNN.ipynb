{
 "cells": [
  {
   "cell_type": "code",
   "execution_count": 13,
   "metadata": {
    "scrolled": false
   },
   "outputs": [],
   "source": [
    "import numpy as np\n",
    "import pandas as pd\n",
    "import warnings\n",
    "warnings.simplefilter('ignore')"
   ]
  },
  {
   "cell_type": "code",
   "execution_count": 14,
   "metadata": {},
   "outputs": [],
   "source": [
    "from sklearn.datasets import fetch_olivetti_faces\n",
    "faces = fetch_olivetti_faces()"
   ]
  },
  {
   "cell_type": "code",
   "execution_count": 15,
   "metadata": {},
   "outputs": [],
   "source": [
    "from sklearn.model_selection import train_test_split\n",
    "train_X, test_X, train_y, test_y = train_test_split(faces.data, faces.target, test_size=0.4, random_state=0)"
   ]
  },
  {
   "cell_type": "code",
   "execution_count": 16,
   "metadata": {
    "scrolled": true
   },
   "outputs": [
    {
     "data": {
      "text/plain": [
       "((240, 4096), (240,), (160, 4096), (160,))"
      ]
     },
     "execution_count": 16,
     "metadata": {},
     "output_type": "execute_result"
    }
   ],
   "source": [
    "train_X.shape,train_y.shape,test_X.shape,test_y.shape"
   ]
  },
  {
   "cell_type": "code",
   "execution_count": 17,
   "metadata": {},
   "outputs": [],
   "source": [
    "from sklearn.preprocessing import LabelBinarizer\n",
    "lb = LabelBinarizer()\n",
    "train_y = lb.fit_transform(train_y)\n",
    "test_y = lb.fit_transform(test_y)"
   ]
  },
  {
   "cell_type": "code",
   "execution_count": 18,
   "metadata": {
    "scrolled": true
   },
   "outputs": [
    {
     "data": {
      "text/plain": [
       "((240, 40), (160, 40))"
      ]
     },
     "execution_count": 18,
     "metadata": {},
     "output_type": "execute_result"
    }
   ],
   "source": [
    "train_y.shape , test_y.shape"
   ]
  },
  {
   "cell_type": "code",
   "execution_count": 19,
   "metadata": {},
   "outputs": [],
   "source": [
    "train_X = train_X.reshape(240,64,64)\n",
    "test_X = test_X.reshape(160,64,64)"
   ]
  },
  {
   "cell_type": "code",
   "execution_count": 20,
   "metadata": {},
   "outputs": [],
   "source": [
    "train_X = train_X[:, :,:, np.newaxis].astype('float32')\n",
    "test_X = test_X[:, :,:,np.newaxis].astype('float32')"
   ]
  },
  {
   "cell_type": "code",
   "execution_count": 21,
   "metadata": {},
   "outputs": [
    {
     "data": {
      "text/plain": [
       "((240, 64, 64, 1), (160, 64, 64, 1))"
      ]
     },
     "execution_count": 21,
     "metadata": {},
     "output_type": "execute_result"
    }
   ],
   "source": [
    "train_X.shape , test_X.shape"
   ]
  },
  {
   "cell_type": "code",
   "execution_count": 65,
   "metadata": {},
   "outputs": [],
   "source": [
    "from keras.models import Sequential\n",
    "from keras.layers import Conv2D, MaxPooling2D, Flatten, Dense, Dropout\n",
    "from keras.optimizers import Adadelta\n",
    "from keras.regularizers import l2\n",
    "\n",
    "\n",
    "model1 = Sequential()\n",
    "model1.add(Conv2D(32, (5, 5), activation='relu', input_shape=(64, 64, 1), kernel_initializer=\"glorot_uniform\"))\n",
    "model1.add(MaxPooling2D())\n",
    "\n",
    "model1.add(Conv2D(40, (5, 5), activation='relu', input_shape=(64, 64, 1), kernel_initializer=\"glorot_uniform\"))\n",
    "model1.add(MaxPooling2D())\n",
    "\n",
    "\n",
    "model1.add(Flatten())\n",
    "model1.add(Dense(40, activation='softmax', kernel_initializer=\"glorot_uniform\"))\n",
    "\n",
    "np.random.seed(0)\n",
    "model1.compile(loss='categorical_crossentropy', metrics=['accuracy'], optimizer=Adadelta())"
   ]
  },
  {
   "cell_type": "code",
   "execution_count": 66,
   "metadata": {
    "scrolled": false
   },
   "outputs": [
    {
     "name": "stdout",
     "output_type": "stream",
     "text": [
      "_________________________________________________________________\n",
      "Layer (type)                 Output Shape              Param #   \n",
      "=================================================================\n",
      "conv2d_11 (Conv2D)           (None, 60, 60, 32)        832       \n",
      "_________________________________________________________________\n",
      "max_pooling2d_11 (MaxPooling (None, 30, 30, 32)        0         \n",
      "_________________________________________________________________\n",
      "conv2d_12 (Conv2D)           (None, 26, 26, 40)        32040     \n",
      "_________________________________________________________________\n",
      "max_pooling2d_12 (MaxPooling (None, 13, 13, 40)        0         \n",
      "_________________________________________________________________\n",
      "flatten_7 (Flatten)          (None, 6760)              0         \n",
      "_________________________________________________________________\n",
      "dense_7 (Dense)              (None, 40)                270440    \n",
      "=================================================================\n",
      "Total params: 303,312\n",
      "Trainable params: 303,312\n",
      "Non-trainable params: 0\n",
      "_________________________________________________________________\n"
     ]
    }
   ],
   "source": [
    "model1.summary()\n"
   ]
  },
  {
   "cell_type": "code",
   "execution_count": 67,
   "metadata": {
    "scrolled": true
   },
   "outputs": [
    {
     "name": "stdout",
     "output_type": "stream",
     "text": [
      "Train on 240 samples, validate on 160 samples\n",
      "Epoch 1/200\n",
      " - 2s - loss: 3.6972 - acc: 0.0333 - val_loss: 3.7609 - val_acc: 0.0125\n",
      "Epoch 2/200\n",
      " - 1s - loss: 3.6485 - acc: 0.0458 - val_loss: 3.8445 - val_acc: 0.0063\n",
      "Epoch 3/200\n",
      " - 1s - loss: 3.6297 - acc: 0.0375 - val_loss: 3.7093 - val_acc: 0.0375\n",
      "Epoch 4/200\n",
      " - 1s - loss: 3.6217 - acc: 0.0875 - val_loss: 3.8673 - val_acc: 0.0063\n",
      "Epoch 5/200\n",
      " - 1s - loss: 3.5893 - acc: 0.0500 - val_loss: 3.6065 - val_acc: 0.0812\n",
      "Epoch 6/200\n",
      " - 1s - loss: 3.6118 - acc: 0.0792 - val_loss: 3.8664 - val_acc: 0.0562\n",
      "Epoch 7/200\n",
      " - 1s - loss: 3.5494 - acc: 0.1500 - val_loss: 3.5647 - val_acc: 0.1000\n",
      "Epoch 8/200\n",
      " - 1s - loss: 3.5808 - acc: 0.1167 - val_loss: 3.8891 - val_acc: 0.0312\n",
      "Epoch 9/200\n",
      " - 1s - loss: 3.5491 - acc: 0.1042 - val_loss: 3.5499 - val_acc: 0.0938\n",
      "Epoch 10/200\n",
      " - 1s - loss: 3.5819 - acc: 0.1167 - val_loss: 3.6955 - val_acc: 0.0188\n",
      "Epoch 11/200\n",
      " - 1s - loss: 3.4147 - acc: 0.0750 - val_loss: 3.5095 - val_acc: 0.1375\n",
      "Epoch 12/200\n",
      " - 1s - loss: 3.4955 - acc: 0.1875 - val_loss: 3.9197 - val_acc: 0.0562\n",
      "Epoch 13/200\n",
      " - 1s - loss: 3.5937 - acc: 0.1917 - val_loss: 3.6072 - val_acc: 0.0500\n",
      "Epoch 14/200\n",
      " - 1s - loss: 3.5696 - acc: 0.1042 - val_loss: 3.6427 - val_acc: 0.0688\n",
      "Epoch 15/200\n",
      " - 1s - loss: 3.4350 - acc: 0.1750 - val_loss: 3.5253 - val_acc: 0.0750\n",
      "Epoch 16/200\n",
      " - 2s - loss: 3.3262 - acc: 0.1792 - val_loss: 3.9073 - val_acc: 0.0812\n",
      "Epoch 17/200\n",
      " - 1s - loss: 3.5505 - acc: 0.1667 - val_loss: 3.7380 - val_acc: 0.0500\n",
      "Epoch 18/200\n",
      " - 1s - loss: 3.7935 - acc: 0.0708 - val_loss: 3.3778 - val_acc: 0.1625\n",
      "Epoch 19/200\n",
      " - 1s - loss: 3.2826 - acc: 0.2042 - val_loss: 3.3323 - val_acc: 0.1562\n",
      "Epoch 20/200\n",
      " - 1s - loss: 2.9740 - acc: 0.2958 - val_loss: 3.1352 - val_acc: 0.1187\n",
      "Epoch 21/200\n",
      " - 1s - loss: 3.0497 - acc: 0.1750 - val_loss: 4.2992 - val_acc: 0.1688\n",
      "Epoch 22/200\n",
      " - 1s - loss: 3.4951 - acc: 0.3125 - val_loss: 3.3429 - val_acc: 0.2062\n",
      "Epoch 23/200\n",
      " - 1s - loss: 3.2236 - acc: 0.3333 - val_loss: 3.3712 - val_acc: 0.1688\n",
      "Epoch 24/200\n",
      " - 1s - loss: 2.9676 - acc: 0.2833 - val_loss: 4.1032 - val_acc: 0.0500\n",
      "Epoch 25/200\n",
      " - 1s - loss: 3.6474 - acc: 0.1667 - val_loss: 3.4026 - val_acc: 0.2250\n",
      "Epoch 26/200\n",
      " - 1s - loss: 3.8787 - acc: 0.2458 - val_loss: 3.4263 - val_acc: 0.1375\n",
      "Epoch 27/200\n",
      " - 1s - loss: 2.9470 - acc: 0.2083 - val_loss: 4.4257 - val_acc: 0.0312\n",
      "Epoch 28/200\n",
      " - 1s - loss: 4.3529 - acc: 0.0625 - val_loss: 3.4510 - val_acc: 0.1312\n",
      "Epoch 29/200\n",
      " - 1s - loss: 3.0925 - acc: 0.1875 - val_loss: 3.0606 - val_acc: 0.1375\n",
      "Epoch 30/200\n",
      " - 1s - loss: 2.8552 - acc: 0.3125 - val_loss: 2.9245 - val_acc: 0.1750\n",
      "Epoch 31/200\n",
      " - 1s - loss: 2.4857 - acc: 0.3333 - val_loss: 2.8717 - val_acc: 0.2812\n",
      "Epoch 32/200\n",
      " - 1s - loss: 2.5900 - acc: 0.4000 - val_loss: 3.6588 - val_acc: 0.2000\n",
      "Epoch 33/200\n",
      " - 1s - loss: 3.1147 - acc: 0.2708 - val_loss: 4.1360 - val_acc: 0.0688\n",
      "Epoch 34/200\n",
      " - 1s - loss: 4.5738 - acc: 0.0833 - val_loss: 3.3015 - val_acc: 0.2625\n",
      "Epoch 35/200\n",
      " - 1s - loss: 3.4008 - acc: 0.2667 - val_loss: 3.6397 - val_acc: 0.0375\n",
      "Epoch 36/200\n",
      " - 1s - loss: 3.4297 - acc: 0.0500 - val_loss: 3.0338 - val_acc: 0.3250\n",
      "Epoch 37/200\n",
      " - 1s - loss: 2.9267 - acc: 0.4792 - val_loss: 3.9571 - val_acc: 0.0812\n",
      "Epoch 38/200\n",
      " - 1s - loss: 3.5236 - acc: 0.1708 - val_loss: 3.1375 - val_acc: 0.3063\n",
      "Epoch 39/200\n",
      " - 1s - loss: 3.0099 - acc: 0.3958 - val_loss: 3.0332 - val_acc: 0.2875\n",
      "Epoch 40/200\n",
      " - 1s - loss: 2.6711 - acc: 0.3542 - val_loss: 3.2639 - val_acc: 0.2062\n",
      "Epoch 41/200\n",
      " - 1s - loss: 2.9690 - acc: 0.3000 - val_loss: 2.6437 - val_acc: 0.3562\n",
      "Epoch 42/200\n",
      " - 1s - loss: 2.5389 - acc: 0.3833 - val_loss: 2.8927 - val_acc: 0.3000\n",
      "Epoch 43/200\n",
      " - 1s - loss: 2.3161 - acc: 0.4167 - val_loss: 2.3695 - val_acc: 0.3500\n",
      "Epoch 44/200\n",
      " - 1s - loss: 1.9410 - acc: 0.4333 - val_loss: 2.4669 - val_acc: 0.3187\n",
      "Epoch 45/200\n",
      " - 1s - loss: 1.9709 - acc: 0.4375 - val_loss: 2.6141 - val_acc: 0.3375\n",
      "Epoch 46/200\n",
      " - 1s - loss: 2.3243 - acc: 0.3792 - val_loss: 4.4614 - val_acc: 0.1562\n",
      "Epoch 47/200\n",
      " - 1s - loss: 3.6010 - acc: 0.2583 - val_loss: 2.6699 - val_acc: 0.4062\n",
      "Epoch 48/200\n",
      " - 1s - loss: 2.4677 - acc: 0.4333 - val_loss: 3.8571 - val_acc: 0.1187\n",
      "Epoch 49/200\n",
      " - 1s - loss: 3.2103 - acc: 0.2000 - val_loss: 3.4903 - val_acc: 0.1375\n",
      "Epoch 50/200\n",
      " - 1s - loss: 3.1271 - acc: 0.1458 - val_loss: 2.2702 - val_acc: 0.4250\n",
      "Epoch 51/200\n",
      " - 1s - loss: 1.9432 - acc: 0.5292 - val_loss: 2.7182 - val_acc: 0.2438\n",
      "Epoch 52/200\n",
      " - 1s - loss: 2.3101 - acc: 0.3500 - val_loss: 3.6083 - val_acc: 0.3625\n",
      "Epoch 53/200\n",
      " - 1s - loss: 3.5216 - acc: 0.4583 - val_loss: 3.9501 - val_acc: 0.1562\n",
      "Epoch 54/200\n",
      " - 1s - loss: 3.6263 - acc: 0.2125 - val_loss: 4.5878 - val_acc: 0.1937\n",
      "Epoch 55/200\n",
      " - 1s - loss: 4.8775 - acc: 0.1875 - val_loss: 3.0796 - val_acc: 0.2500\n",
      "Epoch 56/200\n",
      " - 1s - loss: 2.6236 - acc: 0.2917 - val_loss: 2.3352 - val_acc: 0.4125\n",
      "Epoch 57/200\n",
      " - 1s - loss: 1.8327 - acc: 0.4375 - val_loss: 5.1759 - val_acc: 0.0625\n",
      "Epoch 58/200\n",
      " - 1s - loss: 4.9060 - acc: 0.0917 - val_loss: 2.1418 - val_acc: 0.5250\n",
      "Epoch 59/200\n",
      " - 1s - loss: 1.7644 - acc: 0.5917 - val_loss: 1.7017 - val_acc: 0.5813\n",
      "Epoch 60/200\n",
      " - 1s - loss: 0.9008 - acc: 0.7417 - val_loss: 1.4013 - val_acc: 0.6000\n",
      "Epoch 61/200\n",
      " - 1s - loss: 0.7019 - acc: 0.8167 - val_loss: 1.0922 - val_acc: 0.7188\n",
      "Epoch 62/200\n",
      " - 1s - loss: 0.6818 - acc: 0.8333 - val_loss: 2.2060 - val_acc: 0.5312\n",
      "Epoch 63/200\n",
      " - 1s - loss: 1.1958 - acc: 0.7208 - val_loss: 1.3536 - val_acc: 0.6562\n",
      "Epoch 64/200\n",
      " - 1s - loss: 0.7054 - acc: 0.8125 - val_loss: 1.2656 - val_acc: 0.7188\n",
      "Epoch 65/200\n",
      " - 1s - loss: 0.4861 - acc: 0.9167 - val_loss: 0.9817 - val_acc: 0.7250\n",
      "Epoch 66/200\n",
      " - 1s - loss: 0.4258 - acc: 0.8708 - val_loss: 1.0418 - val_acc: 0.7375\n",
      "Epoch 67/200\n",
      " - 1s - loss: 0.3952 - acc: 0.9000 - val_loss: 1.1081 - val_acc: 0.7125\n",
      "Epoch 68/200\n",
      " - 1s - loss: 0.4244 - acc: 0.8708 - val_loss: 1.0671 - val_acc: 0.7188\n",
      "Epoch 69/200\n",
      " - 1s - loss: 0.3587 - acc: 0.9083 - val_loss: 0.9457 - val_acc: 0.7563\n",
      "Epoch 70/200\n",
      " - 1s - loss: 0.3190 - acc: 0.9417 - val_loss: 0.7828 - val_acc: 0.7750\n",
      "Epoch 71/200\n",
      " - 1s - loss: 0.1370 - acc: 0.9750 - val_loss: 0.6252 - val_acc: 0.8562\n",
      "Epoch 72/200\n",
      " - 1s - loss: 0.1053 - acc: 0.9917 - val_loss: 0.6344 - val_acc: 0.8438\n",
      "Epoch 73/200\n",
      " - 1s - loss: 0.0740 - acc: 0.9917 - val_loss: 0.5921 - val_acc: 0.8313\n",
      "Epoch 74/200\n",
      " - 1s - loss: 0.0627 - acc: 1.0000 - val_loss: 0.5889 - val_acc: 0.8500\n",
      "Epoch 75/200\n",
      " - 1s - loss: 0.0555 - acc: 0.9958 - val_loss: 0.5937 - val_acc: 0.8500\n",
      "Epoch 76/200\n",
      " - 1s - loss: 0.0503 - acc: 1.0000 - val_loss: 0.5745 - val_acc: 0.8438\n",
      "Epoch 77/200\n",
      " - 1s - loss: 0.0460 - acc: 1.0000 - val_loss: 0.5905 - val_acc: 0.8250\n",
      "Epoch 78/200\n",
      " - 1s - loss: 0.0424 - acc: 1.0000 - val_loss: 0.5646 - val_acc: 0.8375\n",
      "Epoch 79/200\n",
      " - 1s - loss: 0.0396 - acc: 1.0000 - val_loss: 0.5852 - val_acc: 0.8313\n",
      "Epoch 80/200\n",
      " - 1s - loss: 0.0368 - acc: 1.0000 - val_loss: 0.5578 - val_acc: 0.8375\n",
      "Epoch 81/200\n",
      " - 1s - loss: 0.0347 - acc: 1.0000 - val_loss: 0.5785 - val_acc: 0.8375\n",
      "Epoch 82/200\n",
      " - 1s - loss: 0.0324 - acc: 1.0000 - val_loss: 0.5535 - val_acc: 0.8500\n",
      "Epoch 83/200\n",
      " - 1s - loss: 0.0307 - acc: 1.0000 - val_loss: 0.5713 - val_acc: 0.8375\n",
      "Epoch 84/200\n",
      " - 1s - loss: 0.0289 - acc: 1.0000 - val_loss: 0.5506 - val_acc: 0.8500\n",
      "Epoch 85/200\n",
      " - 1s - loss: 0.0274 - acc: 1.0000 - val_loss: 0.5639 - val_acc: 0.8313\n",
      "Epoch 86/200\n",
      " - 1s - loss: 0.0260 - acc: 1.0000 - val_loss: 0.5492 - val_acc: 0.8500\n",
      "Epoch 87/200\n",
      " - 1s - loss: 0.0248 - acc: 1.0000 - val_loss: 0.5573 - val_acc: 0.8375\n",
      "Epoch 88/200\n",
      " - 1s - loss: 0.0236 - acc: 1.0000 - val_loss: 0.5475 - val_acc: 0.8562\n",
      "Epoch 89/200\n",
      " - 1s - loss: 0.0226 - acc: 1.0000 - val_loss: 0.5519 - val_acc: 0.8375\n",
      "Epoch 90/200\n",
      " - 1s - loss: 0.0217 - acc: 1.0000 - val_loss: 0.5456 - val_acc: 0.8562\n",
      "Epoch 91/200\n",
      " - 1s - loss: 0.0208 - acc: 1.0000 - val_loss: 0.5477 - val_acc: 0.8438\n",
      "Epoch 92/200\n",
      " - 1s - loss: 0.0200 - acc: 1.0000 - val_loss: 0.5435 - val_acc: 0.8562\n",
      "Epoch 93/200\n",
      " - 1s - loss: 0.0193 - acc: 1.0000 - val_loss: 0.5443 - val_acc: 0.8562\n",
      "Epoch 94/200\n",
      " - 1s - loss: 0.0186 - acc: 1.0000 - val_loss: 0.5417 - val_acc: 0.8562\n",
      "Epoch 95/200\n",
      " - 1s - loss: 0.0180 - acc: 1.0000 - val_loss: 0.5414 - val_acc: 0.8562\n",
      "Epoch 96/200\n",
      " - 1s - loss: 0.0174 - acc: 1.0000 - val_loss: 0.5395 - val_acc: 0.8562\n"
     ]
    },
    {
     "name": "stdout",
     "output_type": "stream",
     "text": [
      "Epoch 97/200\n",
      " - 1s - loss: 0.0169 - acc: 1.0000 - val_loss: 0.5390 - val_acc: 0.8562\n",
      "Epoch 98/200\n",
      " - 1s - loss: 0.0164 - acc: 1.0000 - val_loss: 0.5377 - val_acc: 0.8562\n",
      "Epoch 99/200\n",
      " - 1s - loss: 0.0159 - acc: 1.0000 - val_loss: 0.5370 - val_acc: 0.8562\n",
      "Epoch 100/200\n",
      " - 1s - loss: 0.0154 - acc: 1.0000 - val_loss: 0.5359 - val_acc: 0.8562\n",
      "Epoch 101/200\n",
      " - 1s - loss: 0.0149 - acc: 1.0000 - val_loss: 0.5351 - val_acc: 0.8562\n",
      "Epoch 102/200\n",
      " - 1s - loss: 0.0145 - acc: 1.0000 - val_loss: 0.5342 - val_acc: 0.8562\n",
      "Epoch 103/200\n",
      " - 1s - loss: 0.0141 - acc: 1.0000 - val_loss: 0.5334 - val_acc: 0.8562\n",
      "Epoch 104/200\n",
      " - 1s - loss: 0.0137 - acc: 1.0000 - val_loss: 0.5325 - val_acc: 0.8625\n",
      "Epoch 105/200\n",
      " - 1s - loss: 0.0134 - acc: 1.0000 - val_loss: 0.5318 - val_acc: 0.8625\n",
      "Epoch 106/200\n",
      " - 1s - loss: 0.0130 - acc: 1.0000 - val_loss: 0.5310 - val_acc: 0.8625\n",
      "Epoch 107/200\n",
      " - 1s - loss: 0.0127 - acc: 1.0000 - val_loss: 0.5303 - val_acc: 0.8625\n",
      "Epoch 108/200\n",
      " - 1s - loss: 0.0124 - acc: 1.0000 - val_loss: 0.5295 - val_acc: 0.8625\n",
      "Epoch 109/200\n",
      " - 1s - loss: 0.0121 - acc: 1.0000 - val_loss: 0.5288 - val_acc: 0.8625\n",
      "Epoch 110/200\n",
      " - 1s - loss: 0.0118 - acc: 1.0000 - val_loss: 0.5281 - val_acc: 0.8625\n",
      "Epoch 111/200\n",
      " - 1s - loss: 0.0115 - acc: 1.0000 - val_loss: 0.5274 - val_acc: 0.8625\n",
      "Epoch 112/200\n",
      " - 1s - loss: 0.0112 - acc: 1.0000 - val_loss: 0.5268 - val_acc: 0.8625\n",
      "Epoch 113/200\n",
      " - 1s - loss: 0.0110 - acc: 1.0000 - val_loss: 0.5262 - val_acc: 0.8625\n",
      "Epoch 114/200\n",
      " - 1s - loss: 0.0107 - acc: 1.0000 - val_loss: 0.5255 - val_acc: 0.8625\n",
      "Epoch 115/200\n",
      " - 1s - loss: 0.0105 - acc: 1.0000 - val_loss: 0.5249 - val_acc: 0.8625\n",
      "Epoch 116/200\n",
      " - 1s - loss: 0.0102 - acc: 1.0000 - val_loss: 0.5243 - val_acc: 0.8625\n",
      "Epoch 117/200\n",
      " - 1s - loss: 0.0100 - acc: 1.0000 - val_loss: 0.5237 - val_acc: 0.8625\n",
      "Epoch 118/200\n",
      " - 1s - loss: 0.0098 - acc: 1.0000 - val_loss: 0.5231 - val_acc: 0.8625\n",
      "Epoch 119/200\n",
      " - 1s - loss: 0.0096 - acc: 1.0000 - val_loss: 0.5225 - val_acc: 0.8625\n",
      "Epoch 120/200\n",
      " - 1s - loss: 0.0094 - acc: 1.0000 - val_loss: 0.5219 - val_acc: 0.8625\n",
      "Epoch 121/200\n",
      " - 1s - loss: 0.0092 - acc: 1.0000 - val_loss: 0.5213 - val_acc: 0.8625\n",
      "Epoch 122/200\n",
      " - 1s - loss: 0.0090 - acc: 1.0000 - val_loss: 0.5208 - val_acc: 0.8625\n",
      "Epoch 123/200\n",
      " - 1s - loss: 0.0088 - acc: 1.0000 - val_loss: 0.5202 - val_acc: 0.8625\n",
      "Epoch 124/200\n",
      " - 1s - loss: 0.0086 - acc: 1.0000 - val_loss: 0.5196 - val_acc: 0.8625\n",
      "Epoch 125/200\n",
      " - 1s - loss: 0.0085 - acc: 1.0000 - val_loss: 0.5191 - val_acc: 0.8625\n",
      "Epoch 126/200\n",
      " - 1s - loss: 0.0083 - acc: 1.0000 - val_loss: 0.5186 - val_acc: 0.8625\n",
      "Epoch 127/200\n",
      " - 1s - loss: 0.0081 - acc: 1.0000 - val_loss: 0.5180 - val_acc: 0.8687\n",
      "Epoch 128/200\n",
      " - 1s - loss: 0.0080 - acc: 1.0000 - val_loss: 0.5176 - val_acc: 0.8687\n",
      "Epoch 129/200\n",
      " - 1s - loss: 0.0078 - acc: 1.0000 - val_loss: 0.5171 - val_acc: 0.8687\n",
      "Epoch 130/200\n",
      " - 1s - loss: 0.0077 - acc: 1.0000 - val_loss: 0.5166 - val_acc: 0.8687\n",
      "Epoch 131/200\n",
      " - 1s - loss: 0.0075 - acc: 1.0000 - val_loss: 0.5161 - val_acc: 0.8687\n",
      "Epoch 132/200\n",
      " - 1s - loss: 0.0074 - acc: 1.0000 - val_loss: 0.5156 - val_acc: 0.8687\n",
      "Epoch 133/200\n",
      " - 1s - loss: 0.0073 - acc: 1.0000 - val_loss: 0.5151 - val_acc: 0.8687\n",
      "Epoch 134/200\n",
      " - 1s - loss: 0.0071 - acc: 1.0000 - val_loss: 0.5146 - val_acc: 0.8687\n",
      "Epoch 135/200\n",
      " - 1s - loss: 0.0070 - acc: 1.0000 - val_loss: 0.5141 - val_acc: 0.8687\n",
      "Epoch 136/200\n",
      " - 1s - loss: 0.0069 - acc: 1.0000 - val_loss: 0.5137 - val_acc: 0.8687\n",
      "Epoch 137/200\n",
      " - 1s - loss: 0.0067 - acc: 1.0000 - val_loss: 0.5132 - val_acc: 0.8687\n",
      "Epoch 138/200\n",
      " - 1s - loss: 0.0066 - acc: 1.0000 - val_loss: 0.5127 - val_acc: 0.8687\n",
      "Epoch 139/200\n",
      " - 1s - loss: 0.0065 - acc: 1.0000 - val_loss: 0.5122 - val_acc: 0.8687\n",
      "Epoch 140/200\n",
      " - 1s - loss: 0.0064 - acc: 1.0000 - val_loss: 0.5117 - val_acc: 0.8687\n",
      "Epoch 141/200\n",
      " - 1s - loss: 0.0063 - acc: 1.0000 - val_loss: 0.5112 - val_acc: 0.8687\n",
      "Epoch 142/200\n",
      " - 1s - loss: 0.0062 - acc: 1.0000 - val_loss: 0.5108 - val_acc: 0.8687\n",
      "Epoch 143/200\n",
      " - 1s - loss: 0.0061 - acc: 1.0000 - val_loss: 0.5102 - val_acc: 0.8687\n",
      "Epoch 144/200\n",
      " - 1s - loss: 0.0060 - acc: 1.0000 - val_loss: 0.5098 - val_acc: 0.8687\n",
      "Epoch 145/200\n",
      " - 1s - loss: 0.0058 - acc: 1.0000 - val_loss: 0.5092 - val_acc: 0.8687\n",
      "Epoch 146/200\n",
      " - 1s - loss: 0.0057 - acc: 1.0000 - val_loss: 0.5087 - val_acc: 0.8687\n",
      "Epoch 147/200\n",
      " - 1s - loss: 0.0056 - acc: 1.0000 - val_loss: 0.5082 - val_acc: 0.8687\n",
      "Epoch 148/200\n",
      " - 1s - loss: 0.0056 - acc: 1.0000 - val_loss: 0.5077 - val_acc: 0.8687\n",
      "Epoch 149/200\n",
      " - 1s - loss: 0.0055 - acc: 1.0000 - val_loss: 0.5072 - val_acc: 0.8687\n",
      "Epoch 150/200\n",
      " - 1s - loss: 0.0054 - acc: 1.0000 - val_loss: 0.5067 - val_acc: 0.8687\n",
      "Epoch 151/200\n",
      " - 1s - loss: 0.0053 - acc: 1.0000 - val_loss: 0.5063 - val_acc: 0.8687\n",
      "Epoch 152/200\n",
      " - 1s - loss: 0.0052 - acc: 1.0000 - val_loss: 0.5058 - val_acc: 0.8687\n",
      "Epoch 153/200\n",
      " - 1s - loss: 0.0051 - acc: 1.0000 - val_loss: 0.5053 - val_acc: 0.8687\n",
      "Epoch 154/200\n",
      " - 1s - loss: 0.0050 - acc: 1.0000 - val_loss: 0.5048 - val_acc: 0.8687\n",
      "Epoch 155/200\n",
      " - 1s - loss: 0.0049 - acc: 1.0000 - val_loss: 0.5043 - val_acc: 0.8750\n",
      "Epoch 156/200\n",
      " - 1s - loss: 0.0048 - acc: 1.0000 - val_loss: 0.5038 - val_acc: 0.8750\n",
      "Epoch 157/200\n",
      " - 1s - loss: 0.0048 - acc: 1.0000 - val_loss: 0.5033 - val_acc: 0.8750\n",
      "Epoch 158/200\n",
      " - 1s - loss: 0.0047 - acc: 1.0000 - val_loss: 0.5028 - val_acc: 0.8750\n",
      "Epoch 159/200\n",
      " - 1s - loss: 0.0046 - acc: 1.0000 - val_loss: 0.5023 - val_acc: 0.8750\n",
      "Epoch 160/200\n",
      " - 1s - loss: 0.0045 - acc: 1.0000 - val_loss: 0.5018 - val_acc: 0.8750\n",
      "Epoch 161/200\n",
      " - 1s - loss: 0.0044 - acc: 1.0000 - val_loss: 0.5013 - val_acc: 0.8750\n",
      "Epoch 162/200\n",
      " - 1s - loss: 0.0044 - acc: 1.0000 - val_loss: 0.5008 - val_acc: 0.8750\n",
      "Epoch 163/200\n",
      " - 1s - loss: 0.0043 - acc: 1.0000 - val_loss: 0.5003 - val_acc: 0.8750\n",
      "Epoch 164/200\n",
      " - 1s - loss: 0.0042 - acc: 1.0000 - val_loss: 0.4998 - val_acc: 0.8750\n",
      "Epoch 165/200\n",
      " - 1s - loss: 0.0041 - acc: 1.0000 - val_loss: 0.4994 - val_acc: 0.8750\n",
      "Epoch 166/200\n",
      " - 1s - loss: 0.0041 - acc: 1.0000 - val_loss: 0.4989 - val_acc: 0.8750\n",
      "Epoch 167/200\n",
      " - 1s - loss: 0.0040 - acc: 1.0000 - val_loss: 0.4984 - val_acc: 0.8750\n",
      "Epoch 168/200\n",
      " - 1s - loss: 0.0039 - acc: 1.0000 - val_loss: 0.4979 - val_acc: 0.8750\n",
      "Epoch 169/200\n",
      " - 1s - loss: 0.0039 - acc: 1.0000 - val_loss: 0.4974 - val_acc: 0.8750\n",
      "Epoch 170/200\n",
      " - 1s - loss: 0.0038 - acc: 1.0000 - val_loss: 0.4969 - val_acc: 0.8750\n",
      "Epoch 171/200\n",
      " - 1s - loss: 0.0037 - acc: 1.0000 - val_loss: 0.4965 - val_acc: 0.8750\n",
      "Epoch 172/200\n",
      " - 1s - loss: 0.0037 - acc: 1.0000 - val_loss: 0.4960 - val_acc: 0.8750\n",
      "Epoch 173/200\n",
      " - 1s - loss: 0.0036 - acc: 1.0000 - val_loss: 0.4955 - val_acc: 0.8750\n",
      "Epoch 174/200\n",
      " - 1s - loss: 0.0036 - acc: 1.0000 - val_loss: 0.4950 - val_acc: 0.8750\n",
      "Epoch 175/200\n",
      " - 1s - loss: 0.0035 - acc: 1.0000 - val_loss: 0.4945 - val_acc: 0.8750\n",
      "Epoch 176/200\n",
      " - 1s - loss: 0.0034 - acc: 1.0000 - val_loss: 0.4940 - val_acc: 0.8750\n",
      "Epoch 177/200\n",
      " - 1s - loss: 0.0034 - acc: 1.0000 - val_loss: 0.4936 - val_acc: 0.8750\n",
      "Epoch 178/200\n",
      " - 1s - loss: 0.0033 - acc: 1.0000 - val_loss: 0.4931 - val_acc: 0.8750\n",
      "Epoch 179/200\n",
      " - 1s - loss: 0.0033 - acc: 1.0000 - val_loss: 0.4926 - val_acc: 0.8750\n",
      "Epoch 180/200\n",
      " - 1s - loss: 0.0032 - acc: 1.0000 - val_loss: 0.4921 - val_acc: 0.8750\n",
      "Epoch 181/200\n",
      " - 1s - loss: 0.0032 - acc: 1.0000 - val_loss: 0.4917 - val_acc: 0.8750\n",
      "Epoch 182/200\n",
      " - 1s - loss: 0.0031 - acc: 1.0000 - val_loss: 0.4912 - val_acc: 0.8750\n",
      "Epoch 183/200\n",
      " - 1s - loss: 0.0030 - acc: 1.0000 - val_loss: 0.4907 - val_acc: 0.8750\n",
      "Epoch 184/200\n",
      " - 1s - loss: 0.0030 - acc: 1.0000 - val_loss: 0.4903 - val_acc: 0.8750\n",
      "Epoch 185/200\n",
      " - 1s - loss: 0.0029 - acc: 1.0000 - val_loss: 0.4898 - val_acc: 0.8750\n",
      "Epoch 186/200\n",
      " - 1s - loss: 0.0029 - acc: 1.0000 - val_loss: 0.4893 - val_acc: 0.8750\n",
      "Epoch 187/200\n",
      " - 1s - loss: 0.0028 - acc: 1.0000 - val_loss: 0.4889 - val_acc: 0.8750\n",
      "Epoch 188/200\n",
      " - 1s - loss: 0.0028 - acc: 1.0000 - val_loss: 0.4884 - val_acc: 0.8750\n",
      "Epoch 189/200\n",
      " - 1s - loss: 0.0027 - acc: 1.0000 - val_loss: 0.4880 - val_acc: 0.8750\n",
      "Epoch 190/200\n",
      " - 1s - loss: 0.0027 - acc: 1.0000 - val_loss: 0.4875 - val_acc: 0.8750\n",
      "Epoch 191/200\n",
      " - 1s - loss: 0.0026 - acc: 1.0000 - val_loss: 0.4872 - val_acc: 0.8813\n",
      "Epoch 192/200\n",
      " - 1s - loss: 0.0026 - acc: 1.0000 - val_loss: 0.4866 - val_acc: 0.8813\n"
     ]
    },
    {
     "name": "stdout",
     "output_type": "stream",
     "text": [
      "Epoch 193/200\n",
      " - 1s - loss: 0.0026 - acc: 1.0000 - val_loss: 0.4863 - val_acc: 0.8813\n",
      "Epoch 194/200\n",
      " - 1s - loss: 0.0025 - acc: 1.0000 - val_loss: 0.4856 - val_acc: 0.8813\n",
      "Epoch 195/200\n",
      " - 1s - loss: 0.0025 - acc: 1.0000 - val_loss: 0.4855 - val_acc: 0.8813\n",
      "Epoch 196/200\n",
      " - 1s - loss: 0.0024 - acc: 1.0000 - val_loss: 0.4847 - val_acc: 0.8813\n",
      "Epoch 197/200\n",
      " - 1s - loss: 0.0024 - acc: 1.0000 - val_loss: 0.4847 - val_acc: 0.8813\n",
      "Epoch 198/200\n",
      " - 1s - loss: 0.0023 - acc: 1.0000 - val_loss: 0.4838 - val_acc: 0.8813\n",
      "Epoch 199/200\n",
      " - 1s - loss: 0.0023 - acc: 1.0000 - val_loss: 0.4840 - val_acc: 0.8813\n",
      "Epoch 200/200\n",
      " - 1s - loss: 0.0023 - acc: 1.0000 - val_loss: 0.4827 - val_acc: 0.8813\n"
     ]
    }
   ],
   "source": [
    "# %%time\n",
    "hist1 = model1.fit(train_X, train_y, epochs=200, batch_size=500, validation_data=(test_X, test_y), verbose=2)"
   ]
  },
  {
   "cell_type": "code",
   "execution_count": 68,
   "metadata": {},
   "outputs": [
    {
     "data": {
      "image/png": "[encoded data removed]",
      "text/plain": [
       "<Figure size 432x288 with 1 Axes>"
      ]
     },
     "metadata": {},
     "output_type": "display_data"
    }
   ],
   "source": [
    "import matplotlib.pylab as plt\n",
    "plt.plot(hist1.history['acc'], 'b-', label=\"training\")\n",
    "plt.plot(hist1.history['val_acc'], 'r:', label=\"test\")\n",
    "plt.legend()\n",
    "plt.show()"
   ]
  },
  {
   "cell_type": "code",
   "execution_count": 69,
   "metadata": {},
   "outputs": [
    {
     "data": {
      "text/plain": [
       "(1.0, 0.8812500238418579)"
      ]
     },
     "execution_count": 69,
     "metadata": {},
     "output_type": "execute_result"
    }
   ],
   "source": [
    "np.max(hist1.history['acc']),np.max(hist1.history['val_acc'])"
   ]
  }
 ],
 "metadata": {
  "kernelspec": {
   "display_name": "Python 3",
   "language": "python",
   "name": "python3"
  },
  "language_info": {
   "codemirror_mode": {
    "name": "ipython",
    "version": 3
   },
   "file_extension": ".py",
   "mimetype": "text/x-python",
   "name": "python",
   "nbconvert_exporter": "python",
   "pygments_lexer": "ipython3",
   "version": "3.6.5"
  }
 },
 "nbformat": 4,
 "nbformat_minor": 2
}
