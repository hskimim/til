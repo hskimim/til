{
 "cells": [
  {
   "cell_type": "markdown",
   "metadata": {},
   "source": [
    "## 선형 회귀 분석의 기초\n",
    "- 독립변수와 종속 변수의 관계를 정량화(quantitative) 하는 작업입니다.\n",
    "    - Deterministic Model\n",
    "    - Probabilistic Model\n",
    "    - We gonna talk about Deterministic model in this page.\n",
    "- 결정론적 모형은 독립 변수에 대해 대응하는 종속 변수와 가장 비슷한 (approximate)한 값을 출력하는 함수를 찾는 과정입니다.\n",
    "- 이러한 함수가 linear combination form을 띄고 있다면 linear regression analysis하고 합니다.\n",
    "- linear regression equation에서 w_i part is called 'parameter' and 'coefficient'."
   ]
  },
  {
   "cell_type": "markdown",
   "metadata": {},
   "source": [
    "## Bias augmentation\n",
    "- 상수항이 0이 아닌 회귀분석모형인 경우에는 수식을 간단하게 만들기 위해 다음과 같이 상수항을 독립변수에 추가합니다. 이를 bias augmentation이라고 합니다. 여기서 상수항이 이 식의 bias입니다.\n",
    "- 아래에서 예시를 보시는게 이해에 더 좋을 것 같습니다."
   ]
  },
  {
   "cell_type": "code",
   "execution_count": 4,
   "metadata": {},
   "outputs": [
    {
     "data": {
      "text/plain": [
       "array([['x11', 'x12', 'x13'],\n",
       "       ['x21', 'x22', 'x23'],\n",
       "       ['x31', 'x32', 'x33']], dtype='<U3')"
      ]
     },
     "execution_count": 4,
     "metadata": {},
     "output_type": "execute_result"
    }
   ],
   "source": [
    "import numpy as np\n",
    "x0 = np.array([['x11','x12','x13'],\n",
    "             ['x21','x22','x23'],\n",
    "             ['x31','x32','x33']])\n",
    "x0"
   ]
  },
  {
   "cell_type": "code",
   "execution_count": 6,
   "metadata": {},
   "outputs": [
    {
     "data": {
      "text/plain": [
       "array([['1', 'x11', 'x12', 'x13'],\n",
       "       ['1', 'x21', 'x22', 'x23'],\n",
       "       ['1', 'x31', 'x32', 'x33']], dtype='<U3')"
      ]
     },
     "execution_count": 6,
     "metadata": {},
     "output_type": "execute_result"
    }
   ],
   "source": [
    "x = np.array([['1','x11','x12','x13'],\n",
    "             ['1','x21','x22','x23'],\n",
    "             ['1','x31','x32','x33']])\n",
    "x"
   ]
  },
  {
   "cell_type": "markdown",
   "metadata": {},
   "source": [
    "- 위의 식에서는 배열의 자료형을 같게 해주기 위해서 str타입을 부여했지만, 1은 상수항, 나머지는 데이터 세트를 의미합니다.\n",
    "- 상수항이 0이 아닌 경우에는 항상 바이어스 오그멘테이션을 하기 때문에 특별히 벡터 기호를 오그멘테이션을 하기 전과 다르게 하지 않아도 디폴트하게 적용되어 있는 경우가 많습니다."
   ]
  },
  {
   "cell_type": "code",
   "execution_count": 7,
   "metadata": {},
   "outputs": [],
   "source": [
    "from sklearn.datasets import make_regression\n",
    "\n",
    "X0, y, coef = make_regression(n_samples=100, n_features=2,\n",
    "                              bias=100, noise=10, coef=True, random_state=1)"
   ]
  },
  {
   "cell_type": "code",
   "execution_count": 8,
   "metadata": {},
   "outputs": [
    {
     "data": {
      "text/plain": [
       "array([[ 0.0465673 ,  0.80186103],\n",
       "       [-2.02220122,  0.31563495],\n",
       "       [-0.38405435, -0.3224172 ],\n",
       "       [-1.31228341,  0.35054598],\n",
       "       [-0.88762896, -0.19183555]])"
      ]
     },
     "execution_count": 8,
     "metadata": {},
     "output_type": "execute_result"
    }
   ],
   "source": [
    "# 원래 데이터\n",
    "X0[:5]"
   ]
  },
  {
   "cell_type": "code",
   "execution_count": 9,
   "metadata": {},
   "outputs": [
    {
     "data": {
      "text/plain": [
       "array([[ 1.        ,  0.0465673 ,  0.80186103],\n",
       "       [ 1.        , -2.02220122,  0.31563495],\n",
       "       [ 1.        , -0.38405435, -0.3224172 ],\n",
       "       [ 1.        , -1.31228341,  0.35054598],\n",
       "       [ 1.        , -0.88762896, -0.19183555]])"
      ]
     },
     "execution_count": 9,
     "metadata": {},
     "output_type": "execute_result"
    }
   ],
   "source": [
    "# 바이어스 오그멘테이션\n",
    "X = np.hstack([np.ones((X0.shape[0], 1)), X0])\n",
    "X[:5]"
   ]
  },
  {
   "cell_type": "code",
   "execution_count": 10,
   "metadata": {},
   "outputs": [
    {
     "data": {
      "text/plain": [
       "array([[ 1.        ,  0.0465673 ,  0.80186103],\n",
       "       [ 1.        , -2.02220122,  0.31563495],\n",
       "       [ 1.        , -0.38405435, -0.3224172 ],\n",
       "       [ 1.        , -1.31228341,  0.35054598],\n",
       "       [ 1.        , -0.88762896, -0.19183555]])"
      ]
     },
     "execution_count": 10,
     "metadata": {},
     "output_type": "execute_result"
    }
   ],
   "source": [
    "# statsmodel에는 add_constant라는 바이어스 오그멘테이션을 해주는 함수가 있습니다.\n",
    "import statsmodels.api as sm\n",
    "X = sm.add_constant(X0)\n",
    "X[:5]"
   ]
  },
  {
   "cell_type": "markdown",
   "metadata": {},
   "source": [
    "## Numpy 를 이용한 선형회귀분석"
   ]
  },
  {
   "cell_type": "code",
   "execution_count": 11,
   "metadata": {},
   "outputs": [],
   "source": [
    "from sklearn.datasets import make_regression\n",
    "\n",
    "bias = 100\n",
    "X0,y,w = make_regression(n_samples=100,n_features=1,bias=bias,noise=10,coef=True,random_state=1)\n",
    "X = sm.add_constant(X0)\n",
    "y= y.reshape(len(y),1)"
   ]
  },
  {
   "cell_type": "code",
   "execution_count": 15,
   "metadata": {},
   "outputs": [
    {
     "data": {
      "text/plain": [
       "array([[102.02701439],\n",
       "       [ 81.59750943]])"
      ]
     },
     "execution_count": 15,
     "metadata": {},
     "output_type": "execute_result"
    }
   ],
   "source": [
    "w\n",
    "# X is bias augmented data set(100)\n",
    "# y is dependent data set "
   ]
  },
  {
   "cell_type": "markdown",
   "metadata": {},
   "source": [
    "- linear regression equation : \n",
    "    - y = 100(bias)+80.710519 * x + e(noise)\n",
    "- minimize the RSS equation:\n",
    "    - w* = np.dot(np.dot((np.linalg.inv(np.dot(X.T,X)),X.T),y)"
   ]
  },
  {
   "cell_type": "code",
   "execution_count": 13,
   "metadata": {},
   "outputs": [
    {
     "data": {
      "text/plain": [
       "array([[102.02701439],\n",
       "       [ 81.59750943]])"
      ]
     },
     "execution_count": 13,
     "metadata": {},
     "output_type": "execute_result"
    }
   ],
   "source": [
    "# OLS 해를 직접 이용하는 방법\n",
    "w = np.dot(np.dot(np.linalg.inv(np.dot(X.T, X)), X.T), y)\n",
    "w"
   ]
  },
  {
   "cell_type": "markdown",
   "metadata": {},
   "source": [
    "- above solution means that we gonna predict y with equation `y= 102.02701439 + 81.59750943 * x`\n",
    "- this equation actually not precise exactly. cuz we dont have enough data set(only n_samples are 100)."
   ]
  },
  {
   "cell_type": "code",
   "execution_count": 16,
   "metadata": {},
   "outputs": [
    {
     "name": "stderr",
     "output_type": "stream",
     "text": [
      "/home/hskimim/anaconda3/lib/python3.6/site-packages/ipykernel_launcher.py:2: FutureWarning: `rcond` parameter will change to the default of machine precision times ``max(M, N)`` where M and N are the input matrix dimensions.\n",
      "To use the future default and silence this warning we advise to pass `rcond=None`, to keep using the old, explicitly pass `rcond=-1`.\n",
      "  \n"
     ]
    },
    {
     "data": {
      "text/plain": [
       "array([[102.02701439],\n",
       "       [ 81.59750943]])"
      ]
     },
     "execution_count": 16,
     "metadata": {},
     "output_type": "execute_result"
    }
   ],
   "source": [
    "# lstsq 명령을 이용하는 방법\n",
    "w = np.linalg.lstsq(X, y)[0]\n",
    "w"
   ]
  },
  {
   "cell_type": "code",
   "execution_count": 18,
   "metadata": {},
   "outputs": [
    {
     "data": {
      "image/png": "[encoded data removed]",
      "text/plain": [
       "<Figure size 432x288 with 1 Axes>"
      ]
     },
     "metadata": {},
     "output_type": "display_data"
    }
   ],
   "source": [
    "import matplotlib.pylab as plt\n",
    "x_new = np.linspace(np.min(X0), np.max(X0), 100)\n",
    "X_new = sm.add_constant(x_new)  # 오그멘테이션\n",
    "y_new = np.dot(X_new, w)\n",
    "\n",
    "plt.scatter(X0, y, label=\"data\")\n",
    "plt.plot(x_new, y_new, 'r-', label=\"regression\")\n",
    "plt.xlabel(\"x\")\n",
    "plt.ylabel(\"y\")\n",
    "plt.title(\"Example of Linear Regression Analysis\")\n",
    "plt.legend()\n",
    "plt.show()"
   ]
  },
  {
   "cell_type": "markdown",
   "metadata": {},
   "source": [
    "## Scikit-Learn 패키를 사용한 선형회귀분석t\n",
    "- linear_model(subpackage) LinearRegresiion(class)\n",
    "- 1. LinearRegression 클래스 객체 생성\n",
    "    - `model = LinearRegression(fit_intercept = True)`\n",
    "    - fit_intercept는 모형에 상수항이 있는가 없는가를 결정한다.\n",
    "- 2. fit 메소드로 모형 추정. augmentation is automated. you dont have to do.\n",
    "    - `model = model.fit(X,y)`\n",
    "    - coef_ : 추정된 가중치 벡터\n",
    "    - intercept_ : 추정된 상수항\n",
    "- 3. predict 메서드로 새로운 입력 데이터에 대한 출력 데이터 예측\n",
    "    - `y_new = model.predict(x_new)`"
   ]
  },
  {
   "cell_type": "code",
   "execution_count": 21,
   "metadata": {},
   "outputs": [],
   "source": [
    "from sklearn.datasets import load_boston\n",
    "from sklearn.linear_model import LinearRegression\n",
    "\n",
    "boston = load_boston()\n",
    "model_boston = LinearRegression().fit(boston.data,boston.target)"
   ]
  },
  {
   "cell_type": "code",
   "execution_count": 22,
   "metadata": {},
   "outputs": [
    {
     "data": {
      "text/plain": [
       "array([-1.07170557e-01,  4.63952195e-02,  2.08602395e-02,  2.68856140e+00,\n",
       "       -1.77957587e+01,  3.80475246e+00,  7.51061703e-04, -1.47575880e+00,\n",
       "        3.05655038e-01, -1.23293463e-02, -9.53463555e-01,  9.39251272e-03,\n",
       "       -5.25466633e-01])"
      ]
     },
     "execution_count": 22,
     "metadata": {},
     "output_type": "execute_result"
    }
   ],
   "source": [
    "model_boston.coef_"
   ]
  },
  {
   "cell_type": "code",
   "execution_count": 23,
   "metadata": {},
   "outputs": [
    {
     "data": {
      "text/plain": [
       "36.4911032803614"
      ]
     },
     "execution_count": 23,
     "metadata": {},
     "output_type": "execute_result"
    }
   ],
   "source": [
    "model_boston.intercept_"
   ]
  },
  {
   "cell_type": "code",
   "execution_count": 25,
   "metadata": {},
   "outputs": [
    {
     "data": {
      "image/png": "[encoded data removed]",
      "text/plain": [
       "<Figure size 432x288 with 1 Axes>"
      ]
     },
     "metadata": {},
     "output_type": "display_data"
    }
   ],
   "source": [
    "predictions = model_boston.predict(boston.data)\n",
    "\n",
    "plt.scatter(boston.target, predictions)\n",
    "plt.xlabel('real')\n",
    "plt.ylabel(u\"prediction\")\n",
    "plt.show()"
   ]
  },
  {
   "cell_type": "markdown",
   "metadata": {},
   "source": [
    "## StatsModels 를 사용한 선형회귀분석\n",
    "- statsmodel 패키지에서는 OLS 클래스를 사용하여 선형회귀분석을 실시한다.\n",
    "- 1. OLS 클래스 객체를 생성한다. scikit-learn과는 달리 데이터를 미리 주어야 하고, 오그멘데이션을 add-constant로 직접해주어야 한다. 또한 입력 입수가 y가 먼저이다.\n",
    "    - `model = OLS(y,X)`\n",
    "- 2. fit 메서드로 모형 추정 scikit-learn 에서는 fit이 자기 자신을 반환하는 형태이지만 sm에서는 별도의 RegressionResults 클래스 객체로 출력된다.\n",
    "    - `result = model.fit()`\n",
    "- 3. RegressionResults 클래스 객체는 결과 리포트용 summary method와 예측을 위한  prediction method를 제공한다."
   ]
  },
  {
   "cell_type": "code",
   "execution_count": 30,
   "metadata": {},
   "outputs": [
    {
     "name": "stdout",
     "output_type": "stream",
     "text": [
      "                            OLS Regression Results                            \n",
      "==============================================================================\n",
      "Dep. Variable:                   MEDV   R-squared:                       0.741\n",
      "Model:                            OLS   Adj. R-squared:                  0.734\n",
      "Method:                 Least Squares   F-statistic:                     108.1\n",
      "Date:                Tue, 26 Jun 2018   Prob (F-statistic):          6.95e-135\n",
      "Time:                        01:09:40   Log-Likelihood:                -1498.8\n",
      "No. Observations:                 506   AIC:                             3026.\n",
      "Df Residuals:                     492   BIC:                             3085.\n",
      "Df Model:                          13                                         \n",
      "Covariance Type:            nonrobust                                         \n",
      "==============================================================================\n",
      "                 coef    std err          t      P>|t|      [0.025      0.975]\n",
      "------------------------------------------------------------------------------\n",
      "const         36.4911      5.104      7.149      0.000      26.462      46.520\n",
      "CRIM          -0.1072      0.033     -3.276      0.001      -0.171      -0.043\n",
      "ZN             0.0464      0.014      3.380      0.001       0.019       0.073\n",
      "INDUS          0.0209      0.061      0.339      0.735      -0.100       0.142\n",
      "CHAS           2.6886      0.862      3.120      0.002       0.996       4.381\n",
      "NOX          -17.7958      3.821     -4.658      0.000     -25.302     -10.289\n",
      "RM             3.8048      0.418      9.102      0.000       2.983       4.626\n",
      "AGE            0.0008      0.013      0.057      0.955      -0.025       0.027\n",
      "DIS           -1.4758      0.199     -7.398      0.000      -1.868      -1.084\n",
      "RAD            0.3057      0.066      4.608      0.000       0.175       0.436\n",
      "TAX           -0.0123      0.004     -3.278      0.001      -0.020      -0.005\n",
      "PTRATIO       -0.9535      0.131     -7.287      0.000      -1.211      -0.696\n",
      "B              0.0094      0.003      3.500      0.001       0.004       0.015\n",
      "LSTAT         -0.5255      0.051    -10.366      0.000      -0.625      -0.426\n",
      "==============================================================================\n",
      "Omnibus:                      178.029   Durbin-Watson:                   1.078\n",
      "Prob(Omnibus):                  0.000   Jarque-Bera (JB):              782.015\n",
      "Skew:                           1.521   Prob(JB):                    1.54e-170\n",
      "Kurtosis:                       8.276   Cond. No.                     1.51e+04\n",
      "==============================================================================\n",
      "\n",
      "Warnings:\n",
      "[1] Standard Errors assume that the covariance matrix of the errors is correctly specified.\n",
      "[2] The condition number is large, 1.51e+04. This might indicate that there are\n",
      "strong multicollinearity or other numerical problems.\n"
     ]
    }
   ],
   "source": [
    "import pandas as pd\n",
    "dfX0 = pd.DataFrame(boston.data,columns=boston.feature_names)\n",
    "dfX= sm.add_constant(dfX0)\n",
    "dfy = pd.DataFrame(boston.target,columns=['MEDV'])\n",
    "model_boston2 = sm.OLS(dfy,dfX)\n",
    "result_boston2 = model_boston2.fit()\n",
    "print(result_boston2.summary())"
   ]
  },
  {
   "cell_type": "code",
   "execution_count": 31,
   "metadata": {},
   "outputs": [
    {
     "data": {
      "image/png": "[encoded data removed]",
      "text/plain": [
       "<Figure size 432x288 with 1 Axes>"
      ]
     },
     "metadata": {},
     "output_type": "display_data"
    }
   ],
   "source": [
    "dfy_new = result_boston2.predict(dfX)\n",
    "\n",
    "plt.scatter(dfy, dfy_new)\n",
    "plt.xlabel(u\"실제 집값\")\n",
    "plt.ylabel(u\"집값 예측치\")\n",
    "plt.show()"
   ]
  },
  {
   "cell_type": "code",
   "execution_count": 34,
   "metadata": {},
   "outputs": [
    {
     "data": {
      "text/plain": [
       "22.53280632411066"
      ]
     },
     "execution_count": 34,
     "metadata": {},
     "output_type": "execute_result"
    }
   ],
   "source": [
    "dfy_new.mean()"
   ]
  },
  {
   "cell_type": "markdown",
   "metadata": {},
   "source": [
    "예측을 할 때에는 입력 데이터가 추정모형과 동일한 형태가 되어야 한다. prediction 명령의 인수로는 회귀 분석에 사용했던 원래 X 데이터와 동일한 형태의 데이터프레임을 만들어야 한다. "
   ]
  },
  {
   "cell_type": "markdown",
   "metadata": {},
   "source": [
    "`RegressionResults` 클래스는 분석 결과를 다양한 속성에 저장해주므로 추후 사용자가 선택하여 활용할 수 있다. 자주 사용되는 속성으로는 `resid` `params` 가 있다."
   ]
  },
  {
   "cell_type": "code",
   "execution_count": 35,
   "metadata": {},
   "outputs": [
    {
     "data": {
      "text/plain": [
       "const      36.491103\n",
       "CRIM       -0.107171\n",
       "ZN          0.046395\n",
       "INDUS       0.020860\n",
       "CHAS        2.688561\n",
       "NOX       -17.795759\n",
       "RM          3.804752\n",
       "AGE         0.000751\n",
       "DIS        -1.475759\n",
       "RAD         0.305655\n",
       "TAX        -0.012329\n",
       "PTRATIO    -0.953464\n",
       "B           0.009393\n",
       "LSTAT      -0.525467\n",
       "dtype: float64"
      ]
     },
     "execution_count": 35,
     "metadata": {},
     "output_type": "execute_result"
    }
   ],
   "source": [
    "result_boston2.params\n"
   ]
  },
  {
   "cell_type": "code",
   "execution_count": 36,
   "metadata": {},
   "outputs": [
    {
     "data": {
      "text/plain": [
       "0   -6.008213\n",
       "1   -3.429861\n",
       "2    4.129768\n",
       "3    4.791859\n",
       "4    8.257118\n",
       "dtype: float64"
      ]
     },
     "execution_count": 36,
     "metadata": {},
     "output_type": "execute_result"
    }
   ],
   "source": [
    "result_boston2.resid.head()\n"
   ]
  },
  {
   "cell_type": "markdown",
   "metadata": {},
   "source": [
    "이외에도 StatsModels 패키지는 회귀분석 결과를 살펴볼 수 있는 다양한 메서드와 도구를 제공한다. `plot_regress_exog` 명령은 StatsModels 패키지가 제공하는 분석용 함수의 한 예이다."
   ]
  },
  {
   "cell_type": "code",
   "execution_count": 37,
   "metadata": {},
   "outputs": [
    {
     "data": {
      "image/png": "[encoded data removed]",
      "text/plain": [
       "<Figure size 432x288 with 4 Axes>"
      ]
     },
     "metadata": {},
     "output_type": "display_data"
    }
   ],
   "source": [
    "fig = sm.graphics.plot_regress_exog(result_boston2, \"CRIM\")\n",
    "fig.suptitle(\"\")\n",
    "plt.show()"
   ]
  }
 ],
 "metadata": {
  "kernelspec": {
   "display_name": "Python 3",
   "language": "python",
   "name": "python3"
  },
  "language_info": {
   "codemirror_mode": {
    "name": "ipython",
    "version": 3
   },
   "file_extension": ".py",
   "mimetype": "text/x-python",
   "name": "python",
   "nbconvert_exporter": "python",
   "pygments_lexer": "ipython3",
   "version": "3.6.5"
  }
 },
 "nbformat": 4,
 "nbformat_minor": 2
}
