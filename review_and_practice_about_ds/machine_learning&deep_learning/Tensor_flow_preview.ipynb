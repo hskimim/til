{
 "cells": [
  {
   "cell_type": "markdown",
   "metadata": {},
   "source": [
    "## TensorFlow\n",
    "- 선형 대수 심볼 컴파일러이다. Theano에 비해 분산 처리 기능이 강화되어 있다."
   ]
  },
  {
   "cell_type": "markdown",
   "metadata": {},
   "source": [
    "- 1. 심볼 변수 정의\n",
    "- 2. 심볼 관계 정의\n",
    "- 3. 세션 정의\n",
    "- 4. 세션 사용\n",
    "- 세션은 Theano의 함수와 유사한 역할을 하며 실제 심볼 변수의 관계를 분석하고 값을 계산해준다."
   ]
  },
  {
   "cell_type": "markdown",
   "metadata": {},
   "source": [
    "TensorFlow는 Variable 명령으로 정의하며 Theano와 달리 각 심볼 변수의 형태를 스칼라, 벡터, 행렬 등으로 명시적으로 정의하지 않는 대신 초기값을 이용해서 형태를 지정한다. 심볼의 이름은 명시적으로 주지 않아도 된다."
   ]
  },
  {
   "cell_type": "code",
   "execution_count": 1,
   "metadata": {},
   "outputs": [
    {
     "ename": "ModuleNotFoundError",
     "evalue": "No module named 'tensorflow'",
     "output_type": "error",
     "traceback": [
      "\u001b[0;31m---------------------------------------------------------------------------\u001b[0m",
      "\u001b[0;31mModuleNotFoundError\u001b[0m                       Traceback (most recent call last)",
      "\u001b[0;32m<ipython-input-1-7f4d96991aba>\u001b[0m in \u001b[0;36m<module>\u001b[0;34m()\u001b[0m\n\u001b[0;32m----> 1\u001b[0;31m \u001b[0;32mimport\u001b[0m \u001b[0mtensorflow\u001b[0m \u001b[0;32mas\u001b[0m \u001b[0mtf\u001b[0m\u001b[0;34m\u001b[0m\u001b[0m\n\u001b[0m\u001b[1;32m      2\u001b[0m \u001b[0;32mimport\u001b[0m \u001b[0mwarnings\u001b[0m\u001b[0;34m\u001b[0m\u001b[0m\n\u001b[1;32m      3\u001b[0m \u001b[0mwarnings\u001b[0m\u001b[0;34m.\u001b[0m\u001b[0mfilterwarnings\u001b[0m\u001b[0;34m(\u001b[0m\u001b[0;34m\"ignore\"\u001b[0m\u001b[0;34m)\u001b[0m\u001b[0;34m\u001b[0m\u001b[0m\n",
      "\u001b[0;31mModuleNotFoundError\u001b[0m: No module named 'tensorflow'"
     ]
    }
   ],
   "source": [
    "import tensorflow as tf\n",
    "import warnings\n",
    "warnings.filterwarnings(\"ignore\")"
   ]
  },
  {
   "cell_type": "code",
   "execution_count": 7,
   "metadata": {},
   "outputs": [],
   "source": [
    "x = tf.Variable(1.0)\n",
    "y = tf.Variable(2.0)"
   ]
  },
  {
   "cell_type": "code",
   "execution_count": 8,
   "metadata": {},
   "outputs": [
    {
     "data": {
      "text/plain": [
       "(tensorflow.python.ops.variables.Variable,\n",
       " tensorflow.python.ops.variables.Variable)"
      ]
     },
     "execution_count": 8,
     "metadata": {},
     "output_type": "execute_result"
    }
   ],
   "source": [
    "type(x), type(y)"
   ]
  },
  {
   "cell_type": "code",
   "execution_count": 9,
   "metadata": {},
   "outputs": [],
   "source": [
    "z = x + y"
   ]
  },
  {
   "cell_type": "code",
   "execution_count": 10,
   "metadata": {},
   "outputs": [
    {
     "data": {
      "text/plain": [
       "tensorflow.python.framework.ops.Tensor"
      ]
     },
     "execution_count": 10,
     "metadata": {},
     "output_type": "execute_result"
    }
   ],
   "source": [
    "type(z)"
   ]
  },
  {
   "cell_type": "code",
   "execution_count": 11,
   "metadata": {},
   "outputs": [],
   "source": [
    "u = tf.log(z)"
   ]
  },
  {
   "cell_type": "code",
   "execution_count": 12,
   "metadata": {},
   "outputs": [
    {
     "data": {
      "text/plain": [
       "tensorflow.python.framework.ops.Tensor"
      ]
     },
     "execution_count": 12,
     "metadata": {},
     "output_type": "execute_result"
    }
   ],
   "source": [
    "type(u)"
   ]
  },
  {
   "cell_type": "markdown",
   "metadata": {},
   "source": [
    "TensorFlow의 세션은 Theano의 함수와 유사한 역할을 하며 실제로 계산 그래프를 생성하고 값을 계산하기 위한 환경을 제공한다. Theano의 함수와 달리 세션 생성과 실행 시작, 종료를 다음과 같은 방법으로 명시해야 한다.\n",
    "- 세션 생성 : Session 객체 생성\n",
    "- 세션 사용 : run 메서드. 그래프의 값을 실제로 계산하고 결과를 반환한다.\n",
    "- 세션 종료 : close 메서드. with 문으로 대체하기도 한다.\n",
    "- 그리고 각 변수의 초기값을 대입하기 위한 특별한 그래프인 global_variables_initializer를 생성하고 실행해야 한다."
   ]
  },
  {
   "cell_type": "code",
   "execution_count": 13,
   "metadata": {},
   "outputs": [
    {
     "name": "stdout",
     "output_type": "stream",
     "text": [
      "3.0\n",
      "1.0986123\n"
     ]
    }
   ],
   "source": [
    "sess = tf.Session()\n",
    "init = tf.global_variables_initializer()\n",
    "# make speacial graph by allocating initial value\n",
    "sess.run(init)\n",
    "print(sess.run(z))\n",
    "print(sess.run(u))\n",
    "sess.close()"
   ]
  },
  {
   "cell_type": "markdown",
   "metadata": {},
   "source": [
    "TensorFlow 도 심볼릭 연산에 의한 미분 계산이 가능하다. 도함수를 만들 때는 gradients 명령을 사용한다."
   ]
  },
  {
   "cell_type": "code",
   "execution_count": 14,
   "metadata": {},
   "outputs": [
    {
     "name": "stdout",
     "output_type": "stream",
     "text": [
      "1.0\n",
      "[2.0]\n"
     ]
    }
   ],
   "source": [
    "f = x**2\n",
    "fx = tf.gradients(f,[x])\n",
    "# In theano, gradients method was `grad` \n",
    "with tf.Session() as sess:\n",
    "    init = tf.global_variables_initializer()\n",
    "    sess.run(init)\n",
    "    print(sess.run(f))\n",
    "    print(sess.run(fx))"
   ]
  },
  {
   "cell_type": "markdown",
   "metadata": {},
   "source": [
    "TensorFlow에는 Theano와 달리 최적화를 위한 `GradientDescentOptimizer` 등의 클래스가 미리 구현되어 있으므로 사용자가 구현할 필요가 없다."
   ]
  },
  {
   "cell_type": "markdown",
   "metadata": {},
   "source": [
    "## Tensorboard 용 로그 생성\n",
    "- 텐서플로 처리 과정에서 로그 파일을 만들면 추후 텐서보드 등의 프로그램에서 읽어서 웹 화면에 나타낼 뿐이다. 따라서 계산 코드에서 로그 생성을 위한 코드를 추가해 주어야 한다.\n",
    "- 로그 코드는 다음과 같은 순서로 추가한다.\n",
    "    1. `summary.histogram` 명령으로 개별 변수 `기록용 summary 생성`\n",
    "    2. `summary.merge` 명령으로 개별 변수 기록용 `summmary를 하나의 것으로 합침`\n",
    "    3. 세션 생성후 `tf.summary.FileWriter` 명령으로 `기록용 writer 객체 생성`(위 예제에서는 writer). 이 때 기록할 디렉토리 설정\n",
    "    4. `sess.run` 명령으로 summary 객체(위 예제에서는 merged)를 보내면 기록 실시\n",
    "    5. 기록용 write 객체의 `add_summary` 명령으로 summary를 실제 파일에 쓰기."
   ]
  },
  {
   "cell_type": "code",
   "execution_count": 4,
   "metadata": {},
   "outputs": [],
   "source": [
    "from sklearn.datasets import load_iris\n",
    "iris = load_iris()\n",
    "\n",
    "idx = np.in1d(iris.target, [0, 2])\n",
    "X_data = iris.data[idx, 0:2]\n",
    "y_data = (iris.target[idx] - 1.0)[:, np.newaxis] # y=1 또는 y=-1. 2차원임을 명시"
   ]
  },
  {
   "cell_type": "code",
   "execution_count": 5,
   "metadata": {},
   "outputs": [
    {
     "name": "stdout",
     "output_type": "stream",
     "text": [
      "   0:  0.5494091733308988\n",
      "  10:  0.4550718147888182\n",
      "  20:  0.3607278431087564\n",
      "  30:  0.2663786243415365\n",
      "  40:  0.17202552496054824\n",
      "  50:  0.07766991175203047\n",
      "  60:  0.0009515019028440592\n",
      "  70:  0.0003168280919044532\n",
      "  80:  0.0002921058755255818\n",
      "  90:  0.0002922898747369561\n"
     ]
    }
   ],
   "source": [
    "np.random.seed(0)\n",
    "w = tf.Variable(1e-3 * np.random.randn(2, 1))\n",
    "b = tf.Variable(1e-3 * np.random.randn(1)[0])\n",
    "d = tf.tanh(tf.matmul(X_data, w) + b)\n",
    "\n",
    "zero = np.zeros(1, dtype=np.float64)[0] # float64 자료형의 0 값 생성 \n",
    "cost = tf.reduce_sum(tf.maximum(zero, tf.multiply(-y_data, d)))\n",
    "optimizer = tf.train.GradientDescentOptimizer(1e-7)# factory class(step size)\n",
    "train = optimizer.minimize(cost)# train is for updating the comp\n",
    "\n",
    "sess = tf.Session()\n",
    "\n",
    "w_summary = tf.summary.histogram(\"w\", w)\n",
    "b_summary = tf.summary.histogram(\"b\", b)\n",
    "d_summary = tf.summary.histogram(\"d\", d)\n",
    "cost_summary = tf.summary.histogram(\"cost\", cost)\n",
    "merged = tf.summary.merge([w_summary, b_summary, d_summary, cost_summary])\n",
    "\n",
    "init = tf.global_variables_initializer()\n",
    "sess.run(init)\n",
    "\n",
    "writer = tf.summary.FileWriter(\"/home/hskimim/logs\", sess.graph)\n",
    "\n",
    "for i in range(100):\n",
    "    sess.run(train)\n",
    "    summary = sess.run(merged)\n",
    "    writer.add_summary(summary, i)\n",
    "    if i % 10 == 0:\n",
    "        print(\"{:4d}: \".format(i), sess.run(cost))"
   ]
  },
  {
   "cell_type": "code",
   "execution_count": 6,
   "metadata": {},
   "outputs": [],
   "source": [
    "y_pred = sess.run(tf.sign(d))"
   ]
  },
  {
   "cell_type": "code",
   "execution_count": 7,
   "metadata": {},
   "outputs": [],
   "source": [
    "sess.close()"
   ]
  },
  {
   "cell_type": "code",
   "execution_count": 8,
   "metadata": {},
   "outputs": [
    {
     "data": {
      "text/plain": [
       "array([[49,  1],\n",
       "       [ 1, 49]])"
      ]
     },
     "execution_count": 8,
     "metadata": {},
     "output_type": "execute_result"
    }
   ],
   "source": [
    "from sklearn.metrics import confusion_matrix\n",
    "confusion_matrix(y_data, y_pred)"
   ]
  },
  {
   "cell_type": "code",
   "execution_count": null,
   "metadata": {},
   "outputs": [],
   "source": []
  },
  {
   "cell_type": "code",
   "execution_count": null,
   "metadata": {},
   "outputs": [],
   "source": []
  },
  {
   "cell_type": "code",
   "execution_count": null,
   "metadata": {},
   "outputs": [],
   "source": []
  },
  {
   "cell_type": "code",
   "execution_count": null,
   "metadata": {},
   "outputs": [],
   "source": []
  },
  {
   "cell_type": "code",
   "execution_count": null,
   "metadata": {},
   "outputs": [],
   "source": []
  },
  {
   "cell_type": "code",
   "execution_count": null,
   "metadata": {},
   "outputs": [],
   "source": []
  },
  {
   "cell_type": "code",
   "execution_count": null,
   "metadata": {},
   "outputs": [],
   "source": []
  },
  {
   "cell_type": "code",
   "execution_count": null,
   "metadata": {},
   "outputs": [],
   "source": []
  },
  {
   "cell_type": "code",
   "execution_count": 50,
   "metadata": {},
   "outputs": [
    {
     "name": "stdout",
     "output_type": "stream",
     "text": [
      "   0:  0.5494091733308988\n",
      "  10:  0.4550718147888182\n",
      "  20:  0.3607278431087564\n",
      "  30:  0.2663786243415365\n",
      "  40:  0.17202552496054824\n",
      "  50:  0.07766991175203047\n",
      "  60:  0.0009515019028440592\n",
      "  70:  0.0003168280919044532\n",
      "  80:  0.0002921058755255818\n",
      "  90:  0.0002922898747369561\n"
     ]
    }
   ],
   "source": [
    "from sklearn.datasets import load_iris\n",
    "iris = load_iris()\n",
    "\n",
    "idx = np.in1d(iris.target, [0, 2])\n",
    "X_data = iris.data[idx, 0:2]\n",
    "y_data = (iris.target[idx] - 1.0)[:, np.newaxis] # y=1 또는 y=-1. 2차원임을 명시\n",
    "np.random.seed(0)\n",
    "w = tf.Variable(1e-3 * np.random.randn(2, 1))\n",
    "b = tf.Variable(1e-3 * np.random.randn(1)[0])\n",
    "d = tf.tanh(tf.matmul(X_data, w) + b)\n",
    "\n",
    "zero = np.zeros(1, dtype=np.float64)[0] # float64 자료형의 0 값 생성 \n",
    "cost = tf.reduce_sum(tf.maximum(zero, tf.multiply(-y_data, d)))\n",
    "optimizer = tf.train.GradientDescentOptimizer(1e-7)\n",
    "train = optimizer.minimize(cost)\n",
    "\n",
    "sess = tf.Session()\n",
    "\n",
    "init = tf.global_variables_initializer()\n",
    "sess.run(init)\n",
    "\n",
    "\n",
    "for i in range(100):\n",
    "    sess.run(train)\n",
    "    if i % 10 == 0:\n",
    "        print(\"{:4d}: \".format(i), sess.run(cost))"
   ]
  },
  {
   "cell_type": "code",
   "execution_count": 51,
   "metadata": {},
   "outputs": [
    {
     "data": {
      "text/plain": [
       "array([[49,  1],\n",
       "       [ 1, 49]])"
      ]
     },
     "execution_count": 51,
     "metadata": {},
     "output_type": "execute_result"
    }
   ],
   "source": [
    "y_pred = sess.run(tf.sign(d))\n",
    "sess.close()\n",
    "from sklearn.metrics import confusion_matrix\n",
    "\n",
    "confusion_matrix(y_data, y_pred)"
   ]
  },
  {
   "cell_type": "markdown",
   "metadata": {},
   "source": [
    "#### 연습 문제 1\n",
    "- 위 퍼셉트론 코드를 다음과 같이 고쳐라.\n",
    "    - y값은 0과 1이라는 값만 가진다.\n",
    "    - 활성화 함수는 로지스틱 함수를 사용한다.\n",
    "    - 코스트 함수는 다음과 같은 오차 제곱 합수를 사용한다."
   ]
  },
  {
   "cell_type": "code",
   "execution_count": 27,
   "metadata": {},
   "outputs": [],
   "source": [
    "import numpy as np\n",
    "from sklearn.datasets import load_iris\n",
    "iris = load_iris()\n",
    "\n",
    "idx = np.in1d(iris.target, [0, 2])\n",
    "X_data = iris.data[idx, 0:2]\n",
    "y_data = (iris.target[idx] - 1.0)[:, np.newaxis] \n",
    "# y=1 또는 y=-1. 2차원임을 명시"
   ]
  },
  {
   "cell_type": "code",
   "execution_count": 44,
   "metadata": {},
   "outputs": [],
   "source": [
    "np.random.seed(0)\n",
    "w = tf.Variable(1e-2 * np.random.randn(2, 1))\n",
    "b = tf.Variable(1e-2 * np.random.randn(1)[0])\n",
    "d = 1 / (1 + tf.exp(-(tf.matmul(X_data, w) + b)))\n",
    "\n",
    "zero = np.zeros(1, dtype=np.float64)[0] # float64 자료형의 0 값 생성 \n",
    "cost = tf.reduce_sum(tf.square(y_data - d))\n",
    "optimizer = tf.train.GradientDescentOptimizer(1e-2)\n",
    "train = optimizer.minimize(cost)\n",
    "\n",
    "sess = tf.Session()\n",
    "init = tf.global_variables_initializer()\n",
    "sess.run(init)"
   ]
  },
  {
   "cell_type": "code",
   "execution_count": 45,
   "metadata": {},
   "outputs": [
    {
     "name": "stdout",
     "output_type": "stream",
     "text": [
      "   0:  23.089692786456325\n",
      "5000:  0.6179743797251298\n",
      "10000:  0.4429841429727435\n",
      "15000:  0.36432122030317815\n",
      "20000:  0.3215152805682526\n",
      "25000:  0.2938979513044885\n",
      "30000:  0.2739215908492397\n",
      "35000:  0.2583384270042387\n",
      "40000:  0.24553876193040775\n",
      "45000:  0.23463454999187516\n",
      "50000:  0.22509475512844496\n",
      "55000:  0.21658158118657522\n",
      "60000:  0.2088694346873602\n",
      "65000:  0.2018015918607085\n",
      "70000:  0.19526552747200795\n",
      "75000:  0.18917812986948235\n",
      "80000:  0.1834764584977726\n",
      "85000:  0.17811176035553816\n",
      "90000:  0.1730454816219592\n",
      "95000:  0.1682465433230773\n"
     ]
    }
   ],
   "source": [
    "for i in range(100000):\n",
    "    sess.run(train)\n",
    "    if i % 5000 == 0:\n",
    "        print(\"{:4d}: \".format(i), sess.run(cost))\n"
   ]
  },
  {
   "cell_type": "code",
   "execution_count": 46,
   "metadata": {},
   "outputs": [],
   "source": [
    "y_pred = sess.run(tf.round(d))"
   ]
  },
  {
   "cell_type": "code",
   "execution_count": 47,
   "metadata": {},
   "outputs": [],
   "source": [
    "sess.close()"
   ]
  },
  {
   "cell_type": "code",
   "execution_count": 48,
   "metadata": {},
   "outputs": [
    {
     "data": {
      "text/plain": [
       "array([[50,  0],\n",
       "       [ 0, 50]])"
      ]
     },
     "execution_count": 48,
     "metadata": {},
     "output_type": "execute_result"
    }
   ],
   "source": [
    "from sklearn.metrics import confusion_matrix\n",
    "\n",
    "confusion_matrix(y_data, y_pred)"
   ]
  },
  {
   "cell_type": "code",
   "execution_count": null,
   "metadata": {},
   "outputs": [],
   "source": []
  },
  {
   "cell_type": "code",
   "execution_count": null,
   "metadata": {},
   "outputs": [],
   "source": []
  }
 ],
 "metadata": {
  "kernelspec": {
   "display_name": "Python 3",
   "language": "python",
   "name": "python3"
  },
  "language_info": {
   "codemirror_mode": {
    "name": "ipython",
    "version": 3
   },
   "file_extension": ".py",
   "mimetype": "text/x-python",
   "name": "python",
   "nbconvert_exporter": "python",
   "pygments_lexer": "ipython3",
   "version": "3.6.5"
  }
 },
 "nbformat": 4,
 "nbformat_minor": 2
}
