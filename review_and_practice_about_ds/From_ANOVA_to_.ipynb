{
 "cells": [
  {
   "cell_type": "code",
   "execution_count": 2,
   "metadata": {},
   "outputs": [],
   "source": [
    "from sklearn.datasets import make_regression\n",
    "import numpy as np\n",
    "import pandas as pd\n",
    "import statsmodels.api as sm"
   ]
  },
  {
   "cell_type": "code",
   "execution_count": 4,
   "metadata": {},
   "outputs": [],
   "source": [
    "X0,y,coef = make_regression(n_samples=100,n_features=1,noise=30,coef=True,random_state=0)\n",
    "dfX0 = pd.DataFrame(X0,columns=['X'])\n",
    "dfX = sm.add_constant(dfX0)\n",
    "dfy = pd.DataFrame(y,columns=['Y'])\n",
    "df = pd.concat([dfX,dfy],axis=1)"
   ]
  },
  {
   "cell_type": "code",
   "execution_count": 7,
   "metadata": {
    "scrolled": true
   },
   "outputs": [
    {
     "name": "stdout",
     "output_type": "stream",
     "text": [
      "                            OLS Regression Results                            \n",
      "==============================================================================\n",
      "Dep. Variable:                      Y   R-squared:                       0.647\n",
      "Model:                            OLS   Adj. R-squared:                  0.644\n",
      "Method:                 Least Squares   F-statistic:                     179.9\n",
      "Date:                Tue, 03 Jul 2018   Prob (F-statistic):           6.60e-24\n",
      "Time:                        15:11:44   Log-Likelihood:                -488.64\n",
      "No. Observations:                 100   AIC:                             981.3\n",
      "Df Residuals:                      98   BIC:                             986.5\n",
      "Df Model:                           1                                         \n",
      "Covariance Type:            nonrobust                                         \n",
      "==============================================================================\n",
      "                 coef    std err          t      P>|t|      [0.025      0.975]\n",
      "------------------------------------------------------------------------------\n",
      "Intercept     -2.4425      3.244     -0.753      0.453      -8.880       3.995\n",
      "X             43.0873      3.213     13.411      0.000      36.712      49.463\n",
      "==============================================================================\n",
      "Omnibus:                        3.523   Durbin-Watson:                   1.984\n",
      "Prob(Omnibus):                  0.172   Jarque-Bera (JB):                2.059\n",
      "Skew:                          -0.073   Prob(JB):                        0.357\n",
      "Kurtosis:                       2.312   Cond. No.                         1.06\n",
      "==============================================================================\n",
      "\n",
      "Warnings:\n",
      "[1] Standard Errors assume that the covariance matrix of the errors is correctly specified.\n"
     ]
    }
   ],
   "source": [
    "model = sm.OLS.from_formula('Y ~ X',data = df)\n",
    "result = model.fit()\n",
    "print(result.summary())"
   ]
  },
  {
   "cell_type": "code",
   "execution_count": 8,
   "metadata": {
    "collapsed": true
   },
   "outputs": [
    {
     "name": "stdout",
     "output_type": "stream",
     "text": [
      "TSS =  291345.7578983061\n",
      "ESS =  188589.61349210917\n",
      "RSS =  102754.33755137533\n",
      "ESS + RSS =  291343.9510434845\n",
      "R squared =  0.6473091780922586\n"
     ]
    }
   ],
   "source": [
    "print(\"TSS = \", result.uncentered_tss)\n",
    "print(\"ESS = \", result.mse_model)\n",
    "print(\"RSS = \", result.ssr)\n",
    "print(\"ESS + RSS = \", result.mse_model + result.ssr)\n",
    "print(\"R squared = \", result.rsquared)"
   ]
  },
  {
   "cell_type": "code",
   "execution_count": 9,
   "metadata": {},
   "outputs": [],
   "source": [
    "X0, y, coef = make_regression(n_samples=100, n_features=1, noise=30, bias=100, coef=True, random_state=0)\n",
    "dfX = pd.DataFrame(X0, columns=[\"X\"])\n",
    "dfy = pd.DataFrame(y, columns=[\"Y\"])\n",
    "df = pd.concat([dfX, dfy], axis=1)\n",
    "\n",
    "model2 = sm.OLS.from_formula(\"Y ~ X + 0\", data=df)\n",
    "result2 = model2.fit()"
   ]
  },
  {
   "cell_type": "code",
   "execution_count": 10,
   "metadata": {},
   "outputs": [
    {
     "data": {
      "text/plain": [
       "0.18768724705943896"
      ]
     },
     "execution_count": 10,
     "metadata": {},
     "output_type": "execute_result"
    }
   ],
   "source": [
    "result2.rsquared"
   ]
  },
  {
   "cell_type": "code",
   "execution_count": 11,
   "metadata": {},
   "outputs": [],
   "source": [
    "model1 = sm.OLS.from_formula(\"Y ~ X \", data=df)\n",
    "result1 = model1.fit()"
   ]
  },
  {
   "cell_type": "code",
   "execution_count": 12,
   "metadata": {},
   "outputs": [
    {
     "data": {
      "text/plain": [
       "0.6473091780922586"
      ]
     },
     "execution_count": 12,
     "metadata": {},
     "output_type": "execute_result"
    }
   ],
   "source": [
    "result1.rsquared"
   ]
  },
  {
   "cell_type": "code",
   "execution_count": 13,
   "metadata": {},
   "outputs": [],
   "source": [
    "from sklearn.datasets import load_boston\n",
    "\n",
    "boston = load_boston()\n",
    "dfX0_boston = pd.DataFrame(boston.data, columns=boston.feature_names)\n",
    "dfy_boston = pd.DataFrame(boston.target, columns=[\"MEDV\"])\n",
    "dfX_boston = sm.add_constant(dfX0_boston)\n",
    "df_boston = pd.concat([dfX_boston, dfy_boston], axis=1)"
   ]
  },
  {
   "cell_type": "code",
   "execution_count": 14,
   "metadata": {},
   "outputs": [
    {
     "name": "stderr",
     "output_type": "stream",
     "text": [
      "/home/hskimim/anaconda3/lib/python3.6/site-packages/scipy/stats/_distn_infrastructure.py:879: RuntimeWarning: invalid value encountered in greater\n",
      "  return (self.a < x) & (x < self.b)\n",
      "/home/hskimim/anaconda3/lib/python3.6/site-packages/scipy/stats/_distn_infrastructure.py:879: RuntimeWarning: invalid value encountered in less\n",
      "  return (self.a < x) & (x < self.b)\n",
      "/home/hskimim/anaconda3/lib/python3.6/site-packages/scipy/stats/_distn_infrastructure.py:1821: RuntimeWarning: invalid value encountered in less_equal\n",
      "  cond2 = cond0 & (x <= self.a)\n"
     ]
    },
    {
     "data": {
      "text/html": [
       "<div>\n",
       "<style scoped>\n",
       "    .dataframe tbody tr th:only-of-type {\n",
       "        vertical-align: middle;\n",
       "    }\n",
       "\n",
       "    .dataframe tbody tr th {\n",
       "        vertical-align: top;\n",
       "    }\n",
       "\n",
       "    .dataframe thead th {\n",
       "        text-align: right;\n",
       "    }\n",
       "</style>\n",
       "<table border=\"1\" class=\"dataframe\">\n",
       "  <thead>\n",
       "    <tr style=\"text-align: right;\">\n",
       "      <th></th>\n",
       "      <th>df_resid</th>\n",
       "      <th>ssr</th>\n",
       "      <th>df_diff</th>\n",
       "      <th>ss_diff</th>\n",
       "      <th>F</th>\n",
       "      <th>Pr(&gt;F)</th>\n",
       "    </tr>\n",
       "  </thead>\n",
       "  <tbody>\n",
       "    <tr>\n",
       "      <th>0</th>\n",
       "      <td>494.0</td>\n",
       "      <td>11082.941389</td>\n",
       "      <td>0.0</td>\n",
       "      <td>NaN</td>\n",
       "      <td>NaN</td>\n",
       "      <td>NaN</td>\n",
       "    </tr>\n",
       "    <tr>\n",
       "      <th>1</th>\n",
       "      <td>492.0</td>\n",
       "      <td>11080.276284</td>\n",
       "      <td>2.0</td>\n",
       "      <td>2.665105</td>\n",
       "      <td>0.05917</td>\n",
       "      <td>0.942554</td>\n",
       "    </tr>\n",
       "  </tbody>\n",
       "</table>\n",
       "</div>"
      ],
      "text/plain": [
       "   df_resid           ssr  df_diff   ss_diff        F    Pr(>F)\n",
       "0     494.0  11082.941389      0.0       NaN      NaN       NaN\n",
       "1     492.0  11080.276284      2.0  2.665105  0.05917  0.942554"
      ]
     },
     "execution_count": 14,
     "metadata": {},
     "output_type": "execute_result"
    }
   ],
   "source": [
    "model_full = sm.OLS.from_formula(\"MEDV ~ CRIM + ZN + INDUS + NOX + RM + AGE + DIS + RAD + TAX + PTRATIO + B + LSTAT + CHAS\", data=df_boston)\n",
    "model_reduced = sm.OLS.from_formula(\"MEDV ~ CRIM + ZN + NOX + RM + DIS + RAD + TAX + PTRATIO + B + LSTAT + CHAS\", data=df_boston)\n",
    "\n",
    "sm.stats.anova_lm(model_reduced.fit(), model_full.fit())"
   ]
  },
  {
   "cell_type": "code",
   "execution_count": 15,
   "metadata": {},
   "outputs": [
    {
     "data": {
      "text/html": [
       "<div>\n",
       "<style scoped>\n",
       "    .dataframe tbody tr th:only-of-type {\n",
       "        vertical-align: middle;\n",
       "    }\n",
       "\n",
       "    .dataframe tbody tr th {\n",
       "        vertical-align: top;\n",
       "    }\n",
       "\n",
       "    .dataframe thead th {\n",
       "        text-align: right;\n",
       "    }\n",
       "</style>\n",
       "<table border=\"1\" class=\"dataframe\">\n",
       "  <thead>\n",
       "    <tr style=\"text-align: right;\">\n",
       "      <th></th>\n",
       "      <th>sum_sq</th>\n",
       "      <th>df</th>\n",
       "      <th>F</th>\n",
       "      <th>PR(&gt;F)</th>\n",
       "    </tr>\n",
       "  </thead>\n",
       "  <tbody>\n",
       "    <tr>\n",
       "      <th>CRIM</th>\n",
       "      <td>241.727993</td>\n",
       "      <td>1.0</td>\n",
       "      <td>10.733502</td>\n",
       "      <td>1.126402e-03</td>\n",
       "    </tr>\n",
       "    <tr>\n",
       "      <th>ZN</th>\n",
       "      <td>257.226157</td>\n",
       "      <td>1.0</td>\n",
       "      <td>11.421671</td>\n",
       "      <td>7.836070e-04</td>\n",
       "    </tr>\n",
       "    <tr>\n",
       "      <th>INDUS</th>\n",
       "      <td>2.591314</td>\n",
       "      <td>1.0</td>\n",
       "      <td>0.115063</td>\n",
       "      <td>7.345971e-01</td>\n",
       "    </tr>\n",
       "    <tr>\n",
       "      <th>NOX</th>\n",
       "      <td>488.605951</td>\n",
       "      <td>1.0</td>\n",
       "      <td>21.695680</td>\n",
       "      <td>4.117296e-06</td>\n",
       "    </tr>\n",
       "    <tr>\n",
       "      <th>RM</th>\n",
       "      <td>1865.902935</td>\n",
       "      <td>1.0</td>\n",
       "      <td>82.852108</td>\n",
       "      <td>2.207486e-18</td>\n",
       "    </tr>\n",
       "    <tr>\n",
       "      <th>AGE</th>\n",
       "      <td>0.072792</td>\n",
       "      <td>1.0</td>\n",
       "      <td>0.003232</td>\n",
       "      <td>9.546859e-01</td>\n",
       "    </tr>\n",
       "    <tr>\n",
       "      <th>DIS</th>\n",
       "      <td>1232.544417</td>\n",
       "      <td>1.0</td>\n",
       "      <td>54.728947</td>\n",
       "      <td>6.017651e-13</td>\n",
       "    </tr>\n",
       "    <tr>\n",
       "      <th>RAD</th>\n",
       "      <td>478.172457</td>\n",
       "      <td>1.0</td>\n",
       "      <td>21.232399</td>\n",
       "      <td>5.189664e-06</td>\n",
       "    </tr>\n",
       "    <tr>\n",
       "      <th>TAX</th>\n",
       "      <td>242.053549</td>\n",
       "      <td>1.0</td>\n",
       "      <td>10.747958</td>\n",
       "      <td>1.117826e-03</td>\n",
       "    </tr>\n",
       "    <tr>\n",
       "      <th>PTRATIO</th>\n",
       "      <td>1195.939414</td>\n",
       "      <td>1.0</td>\n",
       "      <td>53.103567</td>\n",
       "      <td>1.268218e-12</td>\n",
       "    </tr>\n",
       "    <tr>\n",
       "      <th>B</th>\n",
       "      <td>275.903216</td>\n",
       "      <td>1.0</td>\n",
       "      <td>12.250993</td>\n",
       "      <td>5.072875e-04</td>\n",
       "    </tr>\n",
       "    <tr>\n",
       "      <th>LSTAT</th>\n",
       "      <td>2420.118669</td>\n",
       "      <td>1.0</td>\n",
       "      <td>107.461074</td>\n",
       "      <td>6.595808e-23</td>\n",
       "    </tr>\n",
       "    <tr>\n",
       "      <th>CHAS</th>\n",
       "      <td>219.279126</td>\n",
       "      <td>1.0</td>\n",
       "      <td>9.736700</td>\n",
       "      <td>1.912339e-03</td>\n",
       "    </tr>\n",
       "    <tr>\n",
       "      <th>Residual</th>\n",
       "      <td>11080.276284</td>\n",
       "      <td>492.0</td>\n",
       "      <td>NaN</td>\n",
       "      <td>NaN</td>\n",
       "    </tr>\n",
       "  </tbody>\n",
       "</table>\n",
       "</div>"
      ],
      "text/plain": [
       "                sum_sq     df           F        PR(>F)\n",
       "CRIM        241.727993    1.0   10.733502  1.126402e-03\n",
       "ZN          257.226157    1.0   11.421671  7.836070e-04\n",
       "INDUS         2.591314    1.0    0.115063  7.345971e-01\n",
       "NOX         488.605951    1.0   21.695680  4.117296e-06\n",
       "RM         1865.902935    1.0   82.852108  2.207486e-18\n",
       "AGE           0.072792    1.0    0.003232  9.546859e-01\n",
       "DIS        1232.544417    1.0   54.728947  6.017651e-13\n",
       "RAD         478.172457    1.0   21.232399  5.189664e-06\n",
       "TAX         242.053549    1.0   10.747958  1.117826e-03\n",
       "PTRATIO    1195.939414    1.0   53.103567  1.268218e-12\n",
       "B           275.903216    1.0   12.250993  5.072875e-04\n",
       "LSTAT      2420.118669    1.0  107.461074  6.595808e-23\n",
       "CHAS        219.279126    1.0    9.736700  1.912339e-03\n",
       "Residual  11080.276284  492.0         NaN           NaN"
      ]
     },
     "execution_count": 15,
     "metadata": {},
     "output_type": "execute_result"
    }
   ],
   "source": [
    "model_boston = sm.OLS.from_formula(\"MEDV ~ CRIM + ZN + INDUS + NOX + RM + AGE + DIS + RAD + TAX + PTRATIO + B + LSTAT + CHAS\", data=df_boston)\n",
    "result_boston = model_boston.fit()\n",
    "sm.stats.anova_lm(result_boston, typ=2)"
   ]
  },
  {
   "cell_type": "code",
   "execution_count": 16,
   "metadata": {},
   "outputs": [
    {
     "data": {
      "text/html": [
       "<div>\n",
       "<style scoped>\n",
       "    .dataframe tbody tr th:only-of-type {\n",
       "        vertical-align: middle;\n",
       "    }\n",
       "\n",
       "    .dataframe tbody tr th {\n",
       "        vertical-align: top;\n",
       "    }\n",
       "\n",
       "    .dataframe thead th {\n",
       "        text-align: right;\n",
       "    }\n",
       "</style>\n",
       "<table border=\"1\" class=\"dataframe\">\n",
       "  <thead>\n",
       "    <tr style=\"text-align: right;\">\n",
       "      <th></th>\n",
       "      <th>df</th>\n",
       "      <th>sum_sq</th>\n",
       "      <th>mean_sq</th>\n",
       "      <th>F</th>\n",
       "      <th>PR(&gt;F)</th>\n",
       "    </tr>\n",
       "  </thead>\n",
       "  <tbody>\n",
       "    <tr>\n",
       "      <th>C(CHAS)</th>\n",
       "      <td>2.0</td>\n",
       "      <td>258222.123856</td>\n",
       "      <td>129111.061928</td>\n",
       "      <td>1571.626788</td>\n",
       "      <td>2.495018e-217</td>\n",
       "    </tr>\n",
       "    <tr>\n",
       "      <th>Residual</th>\n",
       "      <td>504.0</td>\n",
       "      <td>41404.216144</td>\n",
       "      <td>82.151223</td>\n",
       "      <td>NaN</td>\n",
       "      <td>NaN</td>\n",
       "    </tr>\n",
       "  </tbody>\n",
       "</table>\n",
       "</div>"
      ],
      "text/plain": [
       "             df         sum_sq        mean_sq            F         PR(>F)\n",
       "C(CHAS)     2.0  258222.123856  129111.061928  1571.626788  2.495018e-217\n",
       "Residual  504.0   41404.216144      82.151223          NaN            NaN"
      ]
     },
     "execution_count": 16,
     "metadata": {},
     "output_type": "execute_result"
    }
   ],
   "source": [
    "model_chas = sm.OLS.from_formula(\"MEDV ~ C(CHAS) + 0\", data=df_boston)\n",
    "sm.stats.anova_lm(model_chas.fit())"
   ]
  },
  {
   "cell_type": "code",
   "execution_count": 18,
   "metadata": {},
   "outputs": [
    {
     "data": {
      "image/png": "[encoded data removed]",
      "text/plain": [
       "<Figure size 432x288 with 1 Axes>"
      ]
     },
     "metadata": {},
     "output_type": "display_data"
    }
   ],
   "source": [
    "import matplotlib.pylab as plt\n",
    "def make_regression2(n_sample = 100, bias=0, noise=0.3, random_state=0):\n",
    "    np.random.seed(random_state)\n",
    "    x = np.random.rand(n_sample) * 4\n",
    "    epsilon = noise * np.random.randn(n_sample)\n",
    "    y = x ** 2 + bias + epsilon\n",
    "    return x, y\n",
    "\n",
    "x2, y2 = make_regression2()\n",
    "plt.scatter(x2, y2)\n",
    "plt.show()"
   ]
  },
  {
   "cell_type": "code",
   "execution_count": 20,
   "metadata": {},
   "outputs": [
    {
     "data": {
      "image/png": "[encoded data removed]",
      "text/plain": [
       "<Figure size 1080x1080 with 42 Axes>"
      ]
     },
     "metadata": {},
     "output_type": "display_data"
    }
   ],
   "source": [
    "import seaborn as sns\n",
    "from statsmodels.datasets.longley import load_pandas\n",
    "dfy = load_pandas().endog\n",
    "dfX = load_pandas().exog\n",
    "df = pd.concat([dfy, dfX], axis=1)\n",
    "sns.pairplot(dfX)\n",
    "plt.show()"
   ]
  },
  {
   "cell_type": "code",
   "execution_count": 21,
   "metadata": {},
   "outputs": [
    {
     "data": {
      "text/html": [
       "<div>\n",
       "<style scoped>\n",
       "    .dataframe tbody tr th:only-of-type {\n",
       "        vertical-align: middle;\n",
       "    }\n",
       "\n",
       "    .dataframe tbody tr th {\n",
       "        vertical-align: top;\n",
       "    }\n",
       "\n",
       "    .dataframe thead th {\n",
       "        text-align: right;\n",
       "    }\n",
       "</style>\n",
       "<table border=\"1\" class=\"dataframe\">\n",
       "  <thead>\n",
       "    <tr style=\"text-align: right;\">\n",
       "      <th></th>\n",
       "      <th>GNPDEFL</th>\n",
       "      <th>GNP</th>\n",
       "      <th>UNEMP</th>\n",
       "      <th>ARMED</th>\n",
       "      <th>POP</th>\n",
       "      <th>YEAR</th>\n",
       "    </tr>\n",
       "  </thead>\n",
       "  <tbody>\n",
       "    <tr>\n",
       "      <th>GNPDEFL</th>\n",
       "      <td>1.000000</td>\n",
       "      <td>0.991589</td>\n",
       "      <td>0.620633</td>\n",
       "      <td>0.464744</td>\n",
       "      <td>0.979163</td>\n",
       "      <td>0.991149</td>\n",
       "    </tr>\n",
       "    <tr>\n",
       "      <th>GNP</th>\n",
       "      <td>0.991589</td>\n",
       "      <td>1.000000</td>\n",
       "      <td>0.604261</td>\n",
       "      <td>0.446437</td>\n",
       "      <td>0.991090</td>\n",
       "      <td>0.995273</td>\n",
       "    </tr>\n",
       "    <tr>\n",
       "      <th>UNEMP</th>\n",
       "      <td>0.620633</td>\n",
       "      <td>0.604261</td>\n",
       "      <td>1.000000</td>\n",
       "      <td>-0.177421</td>\n",
       "      <td>0.686552</td>\n",
       "      <td>0.668257</td>\n",
       "    </tr>\n",
       "    <tr>\n",
       "      <th>ARMED</th>\n",
       "      <td>0.464744</td>\n",
       "      <td>0.446437</td>\n",
       "      <td>-0.177421</td>\n",
       "      <td>1.000000</td>\n",
       "      <td>0.364416</td>\n",
       "      <td>0.417245</td>\n",
       "    </tr>\n",
       "    <tr>\n",
       "      <th>POP</th>\n",
       "      <td>0.979163</td>\n",
       "      <td>0.991090</td>\n",
       "      <td>0.686552</td>\n",
       "      <td>0.364416</td>\n",
       "      <td>1.000000</td>\n",
       "      <td>0.993953</td>\n",
       "    </tr>\n",
       "    <tr>\n",
       "      <th>YEAR</th>\n",
       "      <td>0.991149</td>\n",
       "      <td>0.995273</td>\n",
       "      <td>0.668257</td>\n",
       "      <td>0.417245</td>\n",
       "      <td>0.993953</td>\n",
       "      <td>1.000000</td>\n",
       "    </tr>\n",
       "  </tbody>\n",
       "</table>\n",
       "</div>"
      ],
      "text/plain": [
       "          GNPDEFL       GNP     UNEMP     ARMED       POP      YEAR\n",
       "GNPDEFL  1.000000  0.991589  0.620633  0.464744  0.979163  0.991149\n",
       "GNP      0.991589  1.000000  0.604261  0.446437  0.991090  0.995273\n",
       "UNEMP    0.620633  0.604261  1.000000 -0.177421  0.686552  0.668257\n",
       "ARMED    0.464744  0.446437 -0.177421  1.000000  0.364416  0.417245\n",
       "POP      0.979163  0.991090  0.686552  0.364416  1.000000  0.993953\n",
       "YEAR     0.991149  0.995273  0.668257  0.417245  0.993953  1.000000"
      ]
     },
     "execution_count": 21,
     "metadata": {},
     "output_type": "execute_result"
    }
   ],
   "source": [
    "dfX.corr()\n"
   ]
  },
  {
   "cell_type": "code",
   "execution_count": 22,
   "metadata": {},
   "outputs": [
    {
     "data": {
      "image/png": "[encoded data removed]",
      "text/plain": [
       "<Figure size 432x288 with 2 Axes>"
      ]
     },
     "metadata": {},
     "output_type": "display_data"
    }
   ],
   "source": [
    "cmap = sns.light_palette(\"darkgray\", as_cmap=True)\n",
    "sns.heatmap(dfX.corr(), annot=True, cmap=cmap)\n",
    "plt.show()"
   ]
  },
  {
   "cell_type": "code",
   "execution_count": 23,
   "metadata": {},
   "outputs": [
    {
     "name": "stdout",
     "output_type": "stream",
     "text": [
      "                            OLS Regression Results                            \n",
      "==============================================================================\n",
      "Dep. Variable:                 TOTEMP   R-squared:                       0.995\n",
      "Model:                            OLS   Adj. R-squared:                  0.992\n",
      "Method:                 Least Squares   F-statistic:                     330.3\n",
      "Date:                Tue, 03 Jul 2018   Prob (F-statistic):           4.98e-10\n",
      "Time:                        15:44:45   Log-Likelihood:                -109.62\n",
      "No. Observations:                  16   AIC:                             233.2\n",
      "Df Residuals:                       9   BIC:                             238.6\n",
      "Df Model:                           6                                         \n",
      "Covariance Type:            nonrobust                                         \n",
      "==============================================================================\n",
      "                 coef    std err          t      P>|t|      [0.025      0.975]\n",
      "------------------------------------------------------------------------------\n",
      "Intercept  -3.482e+06    8.9e+05     -3.911      0.004    -5.5e+06   -1.47e+06\n",
      "GNPDEFL       15.0619     84.915      0.177      0.863    -177.029     207.153\n",
      "POP           -0.0511      0.226     -0.226      0.826      -0.563       0.460\n",
      "GNP           -0.0358      0.033     -1.070      0.313      -0.112       0.040\n",
      "YEAR        1829.1515    455.478      4.016      0.003     798.788    2859.515\n",
      "ARMED         -1.0332      0.214     -4.822      0.001      -1.518      -0.549\n",
      "UNEMP         -2.0202      0.488     -4.136      0.003      -3.125      -0.915\n",
      "==============================================================================\n",
      "Omnibus:                        0.749   Durbin-Watson:                   2.559\n",
      "Prob(Omnibus):                  0.688   Jarque-Bera (JB):                0.684\n",
      "Skew:                           0.420   Prob(JB):                        0.710\n",
      "Kurtosis:                       2.434   Cond. No.                     4.86e+09\n",
      "==============================================================================\n",
      "\n",
      "Warnings:\n",
      "[1] Standard Errors assume that the covariance matrix of the errors is correctly specified.\n",
      "[2] The condition number is large, 4.86e+09. This might indicate that there are\n",
      "strong multicollinearity or other numerical problems.\n"
     ]
    },
    {
     "name": "stderr",
     "output_type": "stream",
     "text": [
      "/home/hskimim/anaconda3/lib/python3.6/site-packages/scipy/stats/stats.py:1394: UserWarning: kurtosistest only valid for n>=20 ... continuing anyway, n=16\n",
      "  \"anyway, n=%i\" % int(n))\n"
     ]
    }
   ],
   "source": [
    "model = sm.OLS.from_formula(\"TOTEMP ~ \"\n",
    "                            \"GNPDEFL + POP + GNP + \"\n",
    "                            \"YEAR + ARMED + UNEMP\", data=df)\n",
    "result = model.fit()\n",
    "print(result.summary())"
   ]
  },
  {
   "cell_type": "code",
   "execution_count": 24,
   "metadata": {
    "scrolled": true
   },
   "outputs": [
    {
     "name": "stdout",
     "output_type": "stream",
     "text": [
      "                            OLS Regression Results                            \n",
      "==============================================================================\n",
      "Dep. Variable:                 TOTEMP   R-squared:                       0.995\n",
      "Model:                            OLS   Adj. R-squared:                  0.992\n",
      "Method:                 Least Squares   F-statistic:                     330.3\n",
      "Date:                Tue, 03 Jul 2018   Prob (F-statistic):           4.98e-10\n",
      "Time:                        15:44:59   Log-Likelihood:                -109.62\n",
      "No. Observations:                  16   AIC:                             233.2\n",
      "Df Residuals:                       9   BIC:                             238.6\n",
      "Df Model:                           6                                         \n",
      "Covariance Type:            nonrobust                                         \n",
      "==================================================================================\n",
      "                     coef    std err          t      P>|t|      [0.025      0.975]\n",
      "----------------------------------------------------------------------------------\n",
      "Intercept       6.532e+04     76.214    857.026      0.000    6.51e+04    6.55e+04\n",
      "scale(GNPDEFL)   157.3796    887.266      0.177      0.863   -1849.755    2164.514\n",
      "scale(POP)      -344.1972   1522.652     -0.226      0.826   -3788.675    3100.281\n",
      "scale(GNP)     -3447.1925   3223.132     -1.070      0.313   -1.07e+04    3844.039\n",
      "scale(YEAR)     8431.9716   2099.652      4.016      0.003    3682.229    1.32e+04\n",
      "scale(ARMED)    -696.2102    144.382     -4.822      0.001   -1022.826    -369.594\n",
      "scale(UNEMP)   -1827.8860    441.900     -4.136      0.003   -2827.533    -828.239\n",
      "==============================================================================\n",
      "Omnibus:                        0.749   Durbin-Watson:                   2.559\n",
      "Prob(Omnibus):                  0.688   Jarque-Bera (JB):                0.684\n",
      "Skew:                           0.420   Prob(JB):                        0.710\n",
      "Kurtosis:                       2.434   Cond. No.                         111.\n",
      "==============================================================================\n",
      "\n",
      "Warnings:\n",
      "[1] Standard Errors assume that the covariance matrix of the errors is correctly specified.\n"
     ]
    },
    {
     "name": "stderr",
     "output_type": "stream",
     "text": [
      "/home/hskimim/anaconda3/lib/python3.6/site-packages/scipy/stats/stats.py:1394: UserWarning: kurtosistest only valid for n>=20 ... continuing anyway, n=16\n",
      "  \"anyway, n=%i\" % int(n))\n"
     ]
    }
   ],
   "source": [
    "model = sm.OLS.from_formula(\"TOTEMP ~ \"\n",
    "                            \"scale(GNPDEFL) + scale(POP) + scale(GNP) + \"\n",
    "                            \"scale(YEAR) + scale(ARMED) + scale(UNEMP)\", data=df)\n",
    "result = model.fit()\n",
    "print(result.summary())"
   ]
  },
  {
   "cell_type": "code",
   "execution_count": 25,
   "metadata": {},
   "outputs": [
    {
     "data": {
      "text/html": [
       "<div>\n",
       "<style scoped>\n",
       "    .dataframe tbody tr th:only-of-type {\n",
       "        vertical-align: middle;\n",
       "    }\n",
       "\n",
       "    .dataframe tbody tr th {\n",
       "        vertical-align: top;\n",
       "    }\n",
       "\n",
       "    .dataframe thead th {\n",
       "        text-align: right;\n",
       "    }\n",
       "</style>\n",
       "<table border=\"1\" class=\"dataframe\">\n",
       "  <thead>\n",
       "    <tr style=\"text-align: right;\">\n",
       "      <th></th>\n",
       "      <th>VIF Factor</th>\n",
       "      <th>features</th>\n",
       "    </tr>\n",
       "  </thead>\n",
       "  <tbody>\n",
       "    <tr>\n",
       "      <th>0</th>\n",
       "      <td>12425.514335</td>\n",
       "      <td>GNPDEFL</td>\n",
       "    </tr>\n",
       "    <tr>\n",
       "      <th>1</th>\n",
       "      <td>10290.435437</td>\n",
       "      <td>GNP</td>\n",
       "    </tr>\n",
       "    <tr>\n",
       "      <th>2</th>\n",
       "      <td>136.224354</td>\n",
       "      <td>UNEMP</td>\n",
       "    </tr>\n",
       "    <tr>\n",
       "      <th>3</th>\n",
       "      <td>39.983386</td>\n",
       "      <td>ARMED</td>\n",
       "    </tr>\n",
       "    <tr>\n",
       "      <th>4</th>\n",
       "      <td>101193.161993</td>\n",
       "      <td>POP</td>\n",
       "    </tr>\n",
       "    <tr>\n",
       "      <th>5</th>\n",
       "      <td>84709.950443</td>\n",
       "      <td>YEAR</td>\n",
       "    </tr>\n",
       "  </tbody>\n",
       "</table>\n",
       "</div>"
      ],
      "text/plain": [
       "      VIF Factor features\n",
       "0   12425.514335  GNPDEFL\n",
       "1   10290.435437      GNP\n",
       "2     136.224354    UNEMP\n",
       "3      39.983386    ARMED\n",
       "4  101193.161993      POP\n",
       "5   84709.950443     YEAR"
      ]
     },
     "execution_count": 25,
     "metadata": {},
     "output_type": "execute_result"
    }
   ],
   "source": [
    "from statsmodels.stats.outliers_influence import variance_inflation_factor\n",
    "\n",
    "vif = pd.DataFrame()\n",
    "vif[\"VIF Factor\"] = [variance_inflation_factor(dfX.values, i) for i in range(dfX.shape[1])]\n",
    "vif[\"features\"] = dfX.columns\n",
    "vif"
   ]
  },
  {
   "cell_type": "code",
   "execution_count": 26,
   "metadata": {},
   "outputs": [
    {
     "name": "stdout",
     "output_type": "stream",
     "text": [
      "                            OLS Regression Results                            \n",
      "==============================================================================\n",
      "Dep. Variable:                 TOTEMP   R-squared:                       0.985\n",
      "Model:                            OLS   Adj. R-squared:                  0.981\n",
      "Method:                 Least Squares   F-statistic:                     264.4\n",
      "Date:                Tue, 03 Jul 2018   Prob (F-statistic):           3.19e-11\n",
      "Time:                        15:47:14   Log-Likelihood:                -119.16\n",
      "No. Observations:                  16   AIC:                             246.3\n",
      "Df Residuals:                      12   BIC:                             249.4\n",
      "Df Model:                           3                                         \n",
      "Covariance Type:            nonrobust                                         \n",
      "================================================================================\n",
      "                   coef    std err          t      P>|t|      [0.025      0.975]\n",
      "--------------------------------------------------------------------------------\n",
      "Intercept     6.532e+04    119.824    545.106      0.000    6.51e+04    6.56e+04\n",
      "scale(GNP)    3925.3853    212.359     18.485      0.000    3462.696    4388.075\n",
      "scale(ARMED)  -325.2979    171.932     -1.892      0.083    -699.906      49.310\n",
      "scale(UNEMP)  -720.9526    193.085     -3.734      0.003   -1141.649    -300.257\n",
      "==============================================================================\n",
      "Omnibus:                        4.210   Durbin-Watson:                   0.904\n",
      "Prob(Omnibus):                  0.122   Jarque-Bera (JB):                1.788\n",
      "Skew:                           0.532   Prob(JB):                        0.409\n",
      "Kurtosis:                       4.245   Cond. No.                         3.26\n",
      "==============================================================================\n",
      "\n",
      "Warnings:\n",
      "[1] Standard Errors assume that the covariance matrix of the errors is correctly specified.\n"
     ]
    },
    {
     "name": "stderr",
     "output_type": "stream",
     "text": [
      "/home/hskimim/anaconda3/lib/python3.6/site-packages/scipy/stats/stats.py:1394: UserWarning: kurtosistest only valid for n>=20 ... continuing anyway, n=16\n",
      "  \"anyway, n=%i\" % int(n))\n"
     ]
    }
   ],
   "source": [
    "model2 = sm.OLS.from_formula(\"TOTEMP ~ scale(GNP) + scale(ARMED) + scale(UNEMP)\", data=df)\n",
    "result2 = model2.fit()\n",
    "print(result2.summary())"
   ]
  },
  {
   "cell_type": "code",
   "execution_count": 27,
   "metadata": {},
   "outputs": [],
   "source": [
    "from sklearn.datasets import load_boston\n",
    "boston = load_boston()\n",
    "\n",
    "dfX0 = pd.DataFrame(boston.data, columns=boston.feature_names)\n",
    "\n",
    "from patsy import dmatrix\n",
    "\n",
    "formula = \"scale(CRIM) + scale(I(CRIM ** 2)) + \" + \\\n",
    "    \"scale(ZN) + scale(I(ZN ** 2)) + scale(INDUS) + \" + \\\n",
    "    \"scale(NOX) + scale(RM) + scale(AGE) + \" + \\\n",
    "    \"scale(np.log(DIS)) + scale(RAD) + scale(TAX) + \" + \\\n",
    "    \"scale(np.log(PTRATIO)) + scale(B) + scale(np.log(LSTAT)) + CHAS\"\n",
    "dfX = dmatrix(formula, dfX0, return_type=\"dataframe\")\n",
    "dfy = pd.DataFrame(boston.target, columns=[\"MEDV\"])"
   ]
  },
  {
   "cell_type": "code",
   "execution_count": 28,
   "metadata": {},
   "outputs": [],
   "source": [
    "idx_outlier = \\\n",
    "     np.array([  7,  54, 148, 152, 160, 214, 253, 267, 364, 365, 367, 368, 369,\n",
    "               371, 372, 374, 380, 385, 397, 398, 399, 400, 401, 405, 409, 410,\n",
    "               412, 413, 414, 415, 416, 418, 419, 426, 445, 489, 490, 492, 505,\n",
    "               161, 162, 163, 166, 186, 195, 204, 225, 257, 267, 283, 368, 369,\n",
    "               370, 371, 372])\n",
    "    \n",
    "idx = list(set(range(len(dfX))).difference(idx_outlier))\n",
    "dfX = dfX.iloc[idx, :].reset_index(drop=True)\n",
    "dfy = dfy.iloc[idx, :].reset_index(drop=True)"
   ]
  },
  {
   "cell_type": "code",
   "execution_count": 29,
   "metadata": {},
   "outputs": [
    {
     "data": {
      "image/png": "[encoded data removed]",
      "text/plain": [
       "<Figure size 432x288 with 2 Axes>"
      ]
     },
     "metadata": {},
     "output_type": "display_data"
    }
   ],
   "source": [
    "cmap = sns.light_palette(\"black\", as_cmap=True)\n",
    "sns.heatmap(dfX.corr(), annot=True, fmt='3.1f', cmap=cmap)\n",
    "plt.show()"
   ]
  },
  {
   "cell_type": "code",
   "execution_count": 30,
   "metadata": {},
   "outputs": [
    {
     "data": {
      "text/html": [
       "<div>\n",
       "<style scoped>\n",
       "    .dataframe tbody tr th:only-of-type {\n",
       "        vertical-align: middle;\n",
       "    }\n",
       "\n",
       "    .dataframe tbody tr th {\n",
       "        vertical-align: top;\n",
       "    }\n",
       "\n",
       "    .dataframe thead th {\n",
       "        text-align: right;\n",
       "    }\n",
       "</style>\n",
       "<table border=\"1\" class=\"dataframe\">\n",
       "  <thead>\n",
       "    <tr style=\"text-align: right;\">\n",
       "      <th></th>\n",
       "      <th>VIF Factor</th>\n",
       "      <th>features</th>\n",
       "    </tr>\n",
       "  </thead>\n",
       "  <tbody>\n",
       "    <tr>\n",
       "      <th>0</th>\n",
       "      <td>1.061624</td>\n",
       "      <td>CHAS</td>\n",
       "    </tr>\n",
       "    <tr>\n",
       "      <th>1</th>\n",
       "      <td>1.338325</td>\n",
       "      <td>scale(B)</td>\n",
       "    </tr>\n",
       "    <tr>\n",
       "      <th>2</th>\n",
       "      <td>1.489092</td>\n",
       "      <td>Intercept</td>\n",
       "    </tr>\n",
       "    <tr>\n",
       "      <th>3</th>\n",
       "      <td>1.780320</td>\n",
       "      <td>scale(np.log(PTRATIO))</td>\n",
       "    </tr>\n",
       "    <tr>\n",
       "      <th>4</th>\n",
       "      <td>2.596496</td>\n",
       "      <td>scale(RM)</td>\n",
       "    </tr>\n",
       "    <tr>\n",
       "      <th>5</th>\n",
       "      <td>3.748931</td>\n",
       "      <td>scale(AGE)</td>\n",
       "    </tr>\n",
       "    <tr>\n",
       "      <th>6</th>\n",
       "      <td>3.807459</td>\n",
       "      <td>scale(INDUS)</td>\n",
       "    </tr>\n",
       "    <tr>\n",
       "      <th>7</th>\n",
       "      <td>4.682812</td>\n",
       "      <td>scale(np.log(LSTAT))</td>\n",
       "    </tr>\n",
       "    <tr>\n",
       "      <th>8</th>\n",
       "      <td>5.071802</td>\n",
       "      <td>scale(NOX)</td>\n",
       "    </tr>\n",
       "    <tr>\n",
       "      <th>9</th>\n",
       "      <td>5.215025</td>\n",
       "      <td>scale(np.log(DIS))</td>\n",
       "    </tr>\n",
       "    <tr>\n",
       "      <th>10</th>\n",
       "      <td>9.107858</td>\n",
       "      <td>scale(TAX)</td>\n",
       "    </tr>\n",
       "    <tr>\n",
       "      <th>11</th>\n",
       "      <td>10.218588</td>\n",
       "      <td>scale(I(CRIM ** 2))</td>\n",
       "    </tr>\n",
       "    <tr>\n",
       "      <th>12</th>\n",
       "      <td>11.254736</td>\n",
       "      <td>scale(RAD)</td>\n",
       "    </tr>\n",
       "    <tr>\n",
       "      <th>13</th>\n",
       "      <td>11.751869</td>\n",
       "      <td>scale(I(ZN ** 2))</td>\n",
       "    </tr>\n",
       "    <tr>\n",
       "      <th>14</th>\n",
       "      <td>14.646056</td>\n",
       "      <td>scale(ZN)</td>\n",
       "    </tr>\n",
       "    <tr>\n",
       "      <th>15</th>\n",
       "      <td>21.260182</td>\n",
       "      <td>scale(CRIM)</td>\n",
       "    </tr>\n",
       "  </tbody>\n",
       "</table>\n",
       "</div>"
      ],
      "text/plain": [
       "    VIF Factor                features\n",
       "0     1.061624                    CHAS\n",
       "1     1.338325                scale(B)\n",
       "2     1.489092               Intercept\n",
       "3     1.780320  scale(np.log(PTRATIO))\n",
       "4     2.596496               scale(RM)\n",
       "5     3.748931              scale(AGE)\n",
       "6     3.807459            scale(INDUS)\n",
       "7     4.682812    scale(np.log(LSTAT))\n",
       "8     5.071802              scale(NOX)\n",
       "9     5.215025      scale(np.log(DIS))\n",
       "10    9.107858              scale(TAX)\n",
       "11   10.218588     scale(I(CRIM ** 2))\n",
       "12   11.254736              scale(RAD)\n",
       "13   11.751869       scale(I(ZN ** 2))\n",
       "14   14.646056               scale(ZN)\n",
       "15   21.260182             scale(CRIM)"
      ]
     },
     "execution_count": 30,
     "metadata": {},
     "output_type": "execute_result"
    }
   ],
   "source": [
    "vif = pd.DataFrame()\n",
    "vif[\"VIF Factor\"] = [variance_inflation_factor(dfX.values, i) for i in range(dfX.shape[1])]\n",
    "vif[\"features\"] = dfX.columns\n",
    "vif = vif.sort_values(\"VIF Factor\").reset_index(drop=True)\n",
    "vif"
   ]
  },
  {
   "cell_type": "code",
   "execution_count": 31,
   "metadata": {},
   "outputs": [
    {
     "name": "stdout",
     "output_type": "stream",
     "text": [
      "                            OLS Regression Results                            \n",
      "==============================================================================\n",
      "Dep. Variable:                   MEDV   R-squared:                       0.872\n",
      "Model:                            OLS   Adj. R-squared:                  0.868\n",
      "Method:                 Least Squares   F-statistic:                     199.9\n",
      "Date:                Tue, 03 Jul 2018   Prob (F-statistic):          1.56e-185\n",
      "Time:                        15:48:18   Log-Likelihood:                 317.45\n",
      "No. Observations:                 456   AIC:                            -602.9\n",
      "Df Residuals:                     440   BIC:                            -536.9\n",
      "Df Model:                          15                                         \n",
      "Covariance Type:            nonrobust                                         \n",
      "==========================================================================================\n",
      "                             coef    std err          t      P>|t|      [0.025      0.975]\n",
      "------------------------------------------------------------------------------------------\n",
      "Intercept                  3.0345      0.007    432.436      0.000       3.021       3.048\n",
      "scale(CRIM)               -0.3469      0.043     -7.976      0.000      -0.432      -0.261\n",
      "scale(I(CRIM ** 2))        0.3075      0.071      4.331      0.000       0.168       0.447\n",
      "scale(ZN)                 -0.0465      0.022     -2.110      0.035      -0.090      -0.003\n",
      "scale(I(ZN ** 2))          0.0440      0.020      2.206      0.028       0.005       0.083\n",
      "scale(INDUS)               0.0037      0.012      0.323      0.747      -0.019       0.026\n",
      "scale(NOX)                -0.0652      0.013     -5.001      0.000      -0.091      -0.040\n",
      "scale(RM)                  0.0999      0.011      9.195      0.000       0.079       0.121\n",
      "scale(AGE)                -0.0273      0.011     -2.438      0.015      -0.049      -0.005\n",
      "scale(np.log(DIS))        -0.1008      0.014     -7.368      0.000      -0.128      -0.074\n",
      "scale(RAD)                 0.1634      0.020      8.106      0.000       0.124       0.203\n",
      "scale(TAX)                -0.0934      0.018     -5.153      0.000      -0.129      -0.058\n",
      "scale(np.log(PTRATIO))    -0.0699      0.008     -8.872      0.000      -0.085      -0.054\n",
      "scale(B)                   0.0492      0.007      6.699      0.000       0.035       0.064\n",
      "scale(np.log(LSTAT))      -0.1487      0.013    -11.074      0.000      -0.175      -0.122\n",
      "CHAS                       0.0659      0.026      2.580      0.010       0.016       0.116\n",
      "==============================================================================\n",
      "Omnibus:                       28.653   Durbin-Watson:                   1.309\n",
      "Prob(Omnibus):                  0.000   Jarque-Bera (JB):               43.266\n",
      "Skew:                           0.465   Prob(JB):                     4.03e-10\n",
      "Kurtosis:                       4.188   Cond. No.                         35.2\n",
      "==============================================================================\n",
      "\n",
      "Warnings:\n",
      "[1] Standard Errors assume that the covariance matrix of the errors is correctly specified.\n"
     ]
    }
   ],
   "source": [
    "model_boston1 = sm.OLS(np.log(dfy), dfX)\n",
    "result_boston1 = model_boston1.fit()\n",
    "print(result_boston1.summary())"
   ]
  }
 ],
 "metadata": {
  "kernelspec": {
   "display_name": "Python 3",
   "language": "python",
   "name": "python3"
  },
  "language_info": {
   "codemirror_mode": {
    "name": "ipython",
    "version": 3
   },
   "file_extension": ".py",
   "mimetype": "text/x-python",
   "name": "python",
   "nbconvert_exporter": "python",
   "pygments_lexer": "ipython3",
   "version": "3.6.5"
  }
 },
 "nbformat": 4,
 "nbformat_minor": 2
}
