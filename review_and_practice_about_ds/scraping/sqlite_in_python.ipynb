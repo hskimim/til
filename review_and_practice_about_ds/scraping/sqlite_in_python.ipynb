{
 "cells": [
  {
   "cell_type": "markdown",
   "metadata": {},
   "source": [
    "### SQLite 개요\n",
    "- 별도 서버나 프로세스, 특별한 설정을 할 필요도 없는, 트랜잭션이 가능한 SQL 데이타베이스 엔진\n",
    "- 오픈소스, 어떤 용도로든 무료\n",
    "- 대부분의 브라우저, 거의 모든 스마트폰, 수 많은 프로그램에 사용\n",
    "- SQLite 특징\n",
    "- SQL 데이타베이스 엔진 내장\n",
    "- 별도의 서버 프로세스가 없이, 직접 읽기/쓰기\n",
    "- 한 개의 파일에 여러 테이블, 색인, 트리거, 뷰 관리\n",
    "- 크로스 플랫폼, 작은 라이브러리: 200~350 KB, 매우 작은 메모리 (스택 4KB, Heap 100KB)1"
   ]
  },
  {
   "cell_type": "code",
   "execution_count": 7,
   "metadata": {
    "collapsed": true
   },
   "outputs": [],
   "source": [
    "import sqlite3"
   ]
  },
  {
   "cell_type": "code",
   "execution_count": 3,
   "metadata": {
    "collapsed": false
   },
   "outputs": [
    {
     "name": "stdout",
     "output_type": "stream",
     "text": [
      "2.6.0\n",
      "3.13.0\n"
     ]
    }
   ],
   "source": [
    "print(sqlite3.version)\n",
    "print(sqlite3.sqlite_version)"
   ]
  },
  {
   "cell_type": "code",
   "execution_count": 4,
   "metadata": {
    "collapsed": true
   },
   "outputs": [],
   "source": [
    "#  파일이 존재하면 삭제 (사용 주의 )\n",
    "import os\n",
    "\n",
    "fname = 'test_news.db3'\n",
    "if os.path.isfile(fname):\n",
    "    os.unlink(fname)\n",
    "    \n",
    "#  파일이 존재하지 않으면 생성 된다.\n",
    "db = sqlite3.connect(fname)  "
   ]
  },
  {
   "cell_type": "markdown",
   "metadata": {},
   "source": [
    "#### 일반적인 사용 수순\n",
    "- import sqlite3 - sqlite3 모듈 임포트\n",
    "- connect() - 연결객체 생성\n",
    "- cursor() - 커서객체 생성\n",
    "- execute() - SQL문 실행\n",
    "- fetch() - 실행결과 가져오기"
   ]
  },
  {
   "cell_type": "code",
   "execution_count": 9,
   "metadata": {
    "collapsed": false
   },
   "outputs": [
    {
     "name": "stdout",
     "output_type": "stream",
     "text": [
      "SQLITE version : 3.13.0\n"
     ]
    }
   ],
   "source": [
    "import sqlite3\n",
    "\n",
    "con = None\n",
    "\n",
    "try : \n",
    "    # connect () - 데이터베이스 파일에 연결하고, 연결 객체를 반환\n",
    "    con = sqlite3.connect('test_news.db3')\n",
    "    # cursor() - 커서객체 생성\n",
    "    cur = con.cursor()\n",
    "    # execute() - SQL문 실행\n",
    "    cur.execute('SELECT SQLITE_VERSION()')\n",
    "    # fetch() - 실행결과 가져오기\n",
    "    # 커서는 결과집합을 순회하여 데이터를 읽어온다.\n",
    "    val = cur.fetchone()\n",
    "    print('SQLITE version : %s' %val)\n",
    "\n",
    "except sqlite3.Error as e :\n",
    "    #실패하면, 예외처리 구문을 실행\n",
    "    print('Error %s' %e.args[0])\n",
    "\n",
    "finally : \n",
    "    if con : con.close()"
   ]
  },
  {
   "cell_type": "code",
   "execution_count": 8,
   "metadata": {
    "collapsed": false
   },
   "outputs": [
    {
     "name": "stdout",
     "output_type": "stream",
     "text": [
      "SQLITE version : 3.13.0\n"
     ]
    }
   ],
   "source": [
    "import sqlite3\n",
    "\n",
    "con = sqlite3.connect('test_news.db3')\n",
    "with con : \n",
    "    cur = con.cursor()\n",
    "    cur.execute('SELECT SQLITE_VERSION()')\n",
    "    \n",
    "    val = cur.fetchone()\n",
    "    print('SQLITE version : %s' %val)"
   ]
  },
  {
   "cell_type": "markdown",
   "metadata": {},
   "source": [
    "#### 테이블 만들기\n",
    "- create table\n",
    "- timestamp\n",
    "- 9 char(n), varchar(n), integer, float, text"
   ]
  },
  {
   "cell_type": "code",
   "execution_count": 10,
   "metadata": {
    "collapsed": true
   },
   "outputs": [],
   "source": [
    "con = sqlite3.connect('test_news.db3')\n",
    "\n",
    "with con : \n",
    "    cur = con.cursor()\n",
    "    cur.execute('create table news (id varchar(20), time timestamp, title text , agency varchar(20))')"
   ]
  },
  {
   "cell_type": "markdown",
   "metadata": {},
   "source": [
    "테이블 삭제"
   ]
  },
  {
   "cell_type": "code",
   "execution_count": 11,
   "metadata": {
    "collapsed": true
   },
   "outputs": [],
   "source": [
    "con = sqlite3.connect('test_news.db3')\n",
    "\n",
    "with con : \n",
    "    cur = con.cursor()\n",
    "    cur.execute('drop table news')\n",
    "    #더 좋은 표현은 아래의 것\n",
    "    cur.execute('drop table if exists news')"
   ]
  },
  {
   "cell_type": "markdown",
   "metadata": {},
   "source": [
    "테이블이 존재하지 않으면 생성"
   ]
  },
  {
   "cell_type": "code",
   "execution_count": 13,
   "metadata": {
    "collapsed": false
   },
   "outputs": [],
   "source": [
    "con = sqlite3.connect('test_news.db3')\n",
    "\n",
    "with con : \n",
    "    cur = con.cursor()\n",
    "    cur.execute('create table if not exists news (id varchar(20), time timestamp, title text, agency varchar(20))')"
   ]
  },
  {
   "cell_type": "markdown",
   "metadata": {},
   "source": [
    "데이터 삽입"
   ]
  },
  {
   "cell_type": "code",
   "execution_count": 14,
   "metadata": {
    "collapsed": true
   },
   "outputs": [],
   "source": [
    "con = sqlite3.connect('test_news.db3')\n",
    "\n",
    "with con : \n",
    "    cur = con.cursor()\n",
    "    cur.execute(\"insert into news VALUES('0003024670', '2013-08-29 11:39', '국민은행 가족친화 기업에 금리 인하', '매일경제')\")\n",
    "    cur.execute(\"insert into news VALUES('0003024522', '2013-08-29 09:03', '美양적완화 축소는 은행업종에 긍정적', '매일경제')\")\n",
    "    cur.execute(\"insert into news VALUES('0002464356', '2013-08-29 08:00', '<진화하는 MTS> KB투자증권, KB스마톡S', '헤럴드생생뉴스')\")\n",
    "    cur.execute(\"insert into news VALUES('0003106995', '2013-08-29 07:03', 'LG상사, STX에너지 인수전에 KB금융 컨소시엄', '머니투데이')\")"
   ]
  },
  {
   "cell_type": "markdown",
   "metadata": {},
   "source": [
    "한번에 여러 데이터 삽입"
   ]
  },
  {
   "cell_type": "code",
   "execution_count": 15,
   "metadata": {
    "collapsed": true
   },
   "outputs": [],
   "source": [
    "con = sqlite3.connect('test_news.db3')\n",
    "\n",
    "articles = (\n",
    "    ('0003024670', '2013-08-29 11:39', u'국민은행 가족친화 기업에 금리 인하', u'매일경제'),\n",
    "    ('0003024522', '2013-08-29 09:03', u'美양적완화 축소는 은행업종에 긍정적', u'매일경제'),\n",
    "    ('0002464356', '2013-08-29 08:00', u'<진화하는 MTS> KB투자증권, KB스마톡S', u'헤럴드생생뉴스'),\n",
    "    ('0003106995', '2013-08-29 07:03', u'LG상사, STX에너지 인수전에 KB금융 컨소시엄', u'머니투데이'),\n",
    ")\n",
    "\n",
    "with con:\n",
    "    cur = con.cursor()\n",
    "    cur.executemany(\"insert into news values (?, ?, ?, ?)\", articles)"
   ]
  },
  {
   "cell_type": "code",
   "execution_count": 16,
   "metadata": {
    "collapsed": true
   },
   "outputs": [],
   "source": [
    "sql_script = '''\n",
    "    drop table if exists news;\n",
    "    create table news (id varchar(20), time datetime, title text, agency varchar(20));\n",
    "    insert into news VALUES('0003024670', '2013-08-29 11:39', '국민은행 가족친화 기업에 금리 인하', '매일경제');\n",
    "    insert into news VALUES('0003024522', '2013-08-29 09:03', '美양적완화 축소는 은행업종에 긍정적', '매일경제');\n",
    "    insert into news VALUES('0002464356', '2013-08-29 08:00', '<진화하는 MTS> KB투자증권, KB스마톡S', '헤럴드생생뉴스');\n",
    "    insert into news VALUES('0003106995', '2013-08-29 07:03', 'LG상사, STX에너지 인수전에 KB금융 컨소시엄', '머니투데이');\n",
    "'''\n",
    "try:\n",
    "    con = sqlite3.connect('test_news.db3')\n",
    "    cur = con.cursor()\n",
    "    cur.executescript(sql_script)\n",
    "    con.commit()\n",
    "except sqlite3.Error as e:\n",
    "    if con:\n",
    "        con.rollback()\n",
    "    print (\"error %s\" % e.args[0])\n",
    "\n",
    "finally:\n",
    "    if con:\n",
    "        con.close()"
   ]
  },
  {
   "cell_type": "markdown",
   "metadata": {},
   "source": [
    "데이터 읽기"
   ]
  },
  {
   "cell_type": "code",
   "execution_count": 17,
   "metadata": {
    "collapsed": false
   },
   "outputs": [
    {
     "name": "stdout",
     "output_type": "stream",
     "text": [
      "국민은행 가족친화 기업에 금리 인하 | 2013-08-29 11:39(매일경제) \n",
      "美양적완화 축소는 은행업종에 긍정적 | 2013-08-29 09:03(매일경제) \n",
      "<진화하는 MTS> KB투자증권, KB스마톡S | 2013-08-29 08:00(헤럴드생생뉴스) \n",
      "LG상사, STX에너지 인수전에 KB금융 컨소시엄 | 2013-08-29 07:03(머니투데이) \n"
     ]
    }
   ],
   "source": [
    "con = sqlite3.connect('test_news.db3')\n",
    "\n",
    "with con : \n",
    "    cur = con.cursor()\n",
    "    cur.execute('select * from news')\n",
    "    \n",
    "    rows = cur.fetchall()\n",
    "    for row in rows : \n",
    "        print('%s | %s(%s) '% (row[2] , row[1] , row[3]))"
   ]
  },
  {
   "cell_type": "markdown",
   "metadata": {},
   "source": [
    "조건에 해당하는 row를 하나씩 처리"
   ]
  },
  {
   "cell_type": "code",
   "execution_count": 20,
   "metadata": {
    "collapsed": false
   },
   "outputs": [
    {
     "name": "stdout",
     "output_type": "stream",
     "text": [
      "국민은행 가족친화 기업에 금리 인하 | 2013-08-29 11:39 | 매일경제\n",
      "美양적완화 축소는 은행업종에 긍정적 | 2013-08-29 09:03 | 매일경제\n"
     ]
    }
   ],
   "source": [
    "con = sqlite3.connect('test_news.db3')\n",
    "\n",
    "with con : \n",
    "    cur = con.cursor()\n",
    "    cur.execute(\"select * from news where agency = '매일경제'\")\n",
    "    \n",
    "    while True : \n",
    "        row = cur.fetchone()\n",
    "        if row == None :\n",
    "            break\n",
    "        print(\"%s | %s | %s\" % (row[2], row[1], row[3]))"
   ]
  },
  {
   "cell_type": "code",
   "execution_count": 23,
   "metadata": {
    "collapsed": true
   },
   "outputs": [],
   "source": [
    "import pandas as pd\n"
   ]
  },
  {
   "cell_type": "code",
   "execution_count": 25,
   "metadata": {
    "collapsed": false,
    "scrolled": false
   },
   "outputs": [
    {
     "data": {
      "text/html": [
       "<div>\n",
       "<table border=\"1\" class=\"dataframe\">\n",
       "  <thead>\n",
       "    <tr style=\"text-align: right;\">\n",
       "      <th></th>\n",
       "      <th>type</th>\n",
       "      <th>name</th>\n",
       "      <th>tbl_name</th>\n",
       "      <th>rootpage</th>\n",
       "      <th>sql</th>\n",
       "    </tr>\n",
       "  </thead>\n",
       "  <tbody>\n",
       "    <tr>\n",
       "      <th>0</th>\n",
       "      <td>table</td>\n",
       "      <td>news</td>\n",
       "      <td>news</td>\n",
       "      <td>2</td>\n",
       "      <td>CREATE TABLE news (id varchar(20), time dateti...</td>\n",
       "    </tr>\n",
       "  </tbody>\n",
       "</table>\n",
       "</div>"
      ],
      "text/plain": [
       "    type  name tbl_name  rootpage  \\\n",
       "0  table  news     news         2   \n",
       "\n",
       "                                                 sql  \n",
       "0  CREATE TABLE news (id varchar(20), time dateti...  "
      ]
     },
     "execution_count": 25,
     "metadata": {},
     "output_type": "execute_result"
    }
   ],
   "source": [
    "query = 'SELECT * FROM sqlite_master WHERE type = \"table\"'\n",
    "\n",
    "con = sqlite3.connect('test_news.db3')\n",
    "with con : \n",
    "    df = pd.read_sql_query(query , con)\n",
    "df"
   ]
  },
  {
   "cell_type": "code",
   "execution_count": 28,
   "metadata": {
    "collapsed": false
   },
   "outputs": [
    {
     "data": {
      "text/html": [
       "<div>\n",
       "<table border=\"1\" class=\"dataframe\">\n",
       "  <thead>\n",
       "    <tr style=\"text-align: right;\">\n",
       "      <th></th>\n",
       "      <th>id</th>\n",
       "      <th>time</th>\n",
       "      <th>title</th>\n",
       "      <th>agency</th>\n",
       "    </tr>\n",
       "  </thead>\n",
       "  <tbody>\n",
       "    <tr>\n",
       "      <th>0</th>\n",
       "      <td>0003024670</td>\n",
       "      <td>2013-08-29 11:39</td>\n",
       "      <td>국민은행 가족친화 기업에 금리 인하</td>\n",
       "      <td>매일경제</td>\n",
       "    </tr>\n",
       "    <tr>\n",
       "      <th>1</th>\n",
       "      <td>0003024522</td>\n",
       "      <td>2013-08-29 09:03</td>\n",
       "      <td>美양적완화 축소는 은행업종에 긍정적</td>\n",
       "      <td>매일경제</td>\n",
       "    </tr>\n",
       "    <tr>\n",
       "      <th>2</th>\n",
       "      <td>0002464356</td>\n",
       "      <td>2013-08-29 08:00</td>\n",
       "      <td>&lt;진화하는 MTS&gt; KB투자증권, KB스마톡S</td>\n",
       "      <td>헤럴드생생뉴스</td>\n",
       "    </tr>\n",
       "    <tr>\n",
       "      <th>3</th>\n",
       "      <td>0003106995</td>\n",
       "      <td>2013-08-29 07:03</td>\n",
       "      <td>LG상사, STX에너지 인수전에 KB금융 컨소시엄</td>\n",
       "      <td>머니투데이</td>\n",
       "    </tr>\n",
       "  </tbody>\n",
       "</table>\n",
       "</div>"
      ],
      "text/plain": [
       "           id              time                        title   agency\n",
       "0  0003024670  2013-08-29 11:39          국민은행 가족친화 기업에 금리 인하     매일경제\n",
       "1  0003024522  2013-08-29 09:03          美양적완화 축소는 은행업종에 긍정적     매일경제\n",
       "2  0002464356  2013-08-29 08:00    <진화하는 MTS> KB투자증권, KB스마톡S  헤럴드생생뉴스\n",
       "3  0003106995  2013-08-29 07:03  LG상사, STX에너지 인수전에 KB금융 컨소시엄    머니투데이"
      ]
     },
     "execution_count": 28,
     "metadata": {},
     "output_type": "execute_result"
    }
   ],
   "source": [
    "con = sqlite3.connect('test_news.db3')\n",
    "df = pd.read_sql_query('SELECT * FROM news',con)\n",
    "df"
   ]
  },
  {
   "cell_type": "code",
   "execution_count": 30,
   "metadata": {
    "collapsed": false
   },
   "outputs": [
    {
     "data": {
      "text/html": [
       "<div>\n",
       "<table border=\"1\" class=\"dataframe\">\n",
       "  <thead>\n",
       "    <tr style=\"text-align: right;\">\n",
       "      <th></th>\n",
       "      <th>time</th>\n",
       "      <th>title</th>\n",
       "      <th>agency</th>\n",
       "    </tr>\n",
       "    <tr>\n",
       "      <th>id</th>\n",
       "      <th></th>\n",
       "      <th></th>\n",
       "      <th></th>\n",
       "    </tr>\n",
       "  </thead>\n",
       "  <tbody>\n",
       "    <tr>\n",
       "      <th>0003024670</th>\n",
       "      <td>2013-08-29 11:39:00</td>\n",
       "      <td>국민은행 가족친화 기업에 금리 인하</td>\n",
       "      <td>매일경제</td>\n",
       "    </tr>\n",
       "    <tr>\n",
       "      <th>0003024522</th>\n",
       "      <td>2013-08-29 09:03:00</td>\n",
       "      <td>美양적완화 축소는 은행업종에 긍정적</td>\n",
       "      <td>매일경제</td>\n",
       "    </tr>\n",
       "    <tr>\n",
       "      <th>0002464356</th>\n",
       "      <td>2013-08-29 08:00:00</td>\n",
       "      <td>&lt;진화하는 MTS&gt; KB투자증권, KB스마톡S</td>\n",
       "      <td>헤럴드생생뉴스</td>\n",
       "    </tr>\n",
       "    <tr>\n",
       "      <th>0003106995</th>\n",
       "      <td>2013-08-29 07:03:00</td>\n",
       "      <td>LG상사, STX에너지 인수전에 KB금융 컨소시엄</td>\n",
       "      <td>머니투데이</td>\n",
       "    </tr>\n",
       "  </tbody>\n",
       "</table>\n",
       "</div>"
      ],
      "text/plain": [
       "                          time                        title   agency\n",
       "id                                                                  \n",
       "0003024670 2013-08-29 11:39:00          국민은행 가족친화 기업에 금리 인하     매일경제\n",
       "0003024522 2013-08-29 09:03:00          美양적완화 축소는 은행업종에 긍정적     매일경제\n",
       "0002464356 2013-08-29 08:00:00    <진화하는 MTS> KB투자증권, KB스마톡S  헤럴드생생뉴스\n",
       "0003106995 2013-08-29 07:03:00  LG상사, STX에너지 인수전에 KB금융 컨소시엄    머니투데이"
      ]
     },
     "execution_count": 30,
     "metadata": {},
     "output_type": "execute_result"
    }
   ],
   "source": [
    "con = sqlite3.connect('test_news.db3')\n",
    "df = pd.read_sql_query('SELECT * FROM news',con,index_col='id')\n",
    "df['time'] = pd.to_datetime(df['time'])\n",
    "df"
   ]
  },
  {
   "cell_type": "markdown",
   "metadata": {},
   "source": [
    "조건부 읽기"
   ]
  },
  {
   "cell_type": "code",
   "execution_count": 34,
   "metadata": {
    "collapsed": false
   },
   "outputs": [
    {
     "data": {
      "text/html": [
       "<div>\n",
       "<table border=\"1\" class=\"dataframe\">\n",
       "  <thead>\n",
       "    <tr style=\"text-align: right;\">\n",
       "      <th></th>\n",
       "      <th>time</th>\n",
       "      <th>title</th>\n",
       "    </tr>\n",
       "  </thead>\n",
       "  <tbody>\n",
       "    <tr>\n",
       "      <th>0</th>\n",
       "      <td>2013-08-29 11:39</td>\n",
       "      <td>국민은행 가족친화 기업에 금리 인하</td>\n",
       "    </tr>\n",
       "    <tr>\n",
       "      <th>1</th>\n",
       "      <td>2013-08-29 09:03</td>\n",
       "      <td>美양적완화 축소는 은행업종에 긍정적</td>\n",
       "    </tr>\n",
       "  </tbody>\n",
       "</table>\n",
       "</div>"
      ],
      "text/plain": [
       "               time                title\n",
       "0  2013-08-29 11:39  국민은행 가족친화 기업에 금리 인하\n",
       "1  2013-08-29 09:03  美양적완화 축소는 은행업종에 긍정적"
      ]
     },
     "execution_count": 34,
     "metadata": {},
     "output_type": "execute_result"
    }
   ],
   "source": [
    "con = sqlite3.connect('test_news.db3')\n",
    "query = '''\n",
    "    SELECT time, title \n",
    "    FROM news \n",
    "    WHERE agency = \"매일경제\"\n",
    "'''\n",
    "df = pd.read_sql_query(query , con)\n",
    "df"
   ]
  },
  {
   "cell_type": "markdown",
   "metadata": {},
   "source": [
    "테이블에 쓰기"
   ]
  },
  {
   "cell_type": "code",
   "execution_count": 35,
   "metadata": {
    "collapsed": true
   },
   "outputs": [],
   "source": [
    "con = sqlite3.connect('test_news.db3')\n",
    "df.to_sql('maekyung' , con , if_exists='replace')"
   ]
  },
  {
   "cell_type": "code",
   "execution_count": 36,
   "metadata": {
    "collapsed": false
   },
   "outputs": [
    {
     "data": {
      "text/html": [
       "<div>\n",
       "<table border=\"1\" class=\"dataframe\">\n",
       "  <thead>\n",
       "    <tr style=\"text-align: right;\">\n",
       "      <th></th>\n",
       "      <th>type</th>\n",
       "      <th>name</th>\n",
       "      <th>tbl_name</th>\n",
       "      <th>rootpage</th>\n",
       "      <th>sql</th>\n",
       "    </tr>\n",
       "  </thead>\n",
       "  <tbody>\n",
       "    <tr>\n",
       "      <th>0</th>\n",
       "      <td>table</td>\n",
       "      <td>news</td>\n",
       "      <td>news</td>\n",
       "      <td>2</td>\n",
       "      <td>CREATE TABLE news (id varchar(20), time dateti...</td>\n",
       "    </tr>\n",
       "    <tr>\n",
       "      <th>1</th>\n",
       "      <td>table</td>\n",
       "      <td>maekyung</td>\n",
       "      <td>maekyung</td>\n",
       "      <td>3</td>\n",
       "      <td>CREATE TABLE \"maekyung\" (\\n\"index\" INTEGER,\\n ...</td>\n",
       "    </tr>\n",
       "  </tbody>\n",
       "</table>\n",
       "</div>"
      ],
      "text/plain": [
       "    type      name  tbl_name  rootpage  \\\n",
       "0  table      news      news         2   \n",
       "1  table  maekyung  maekyung         3   \n",
       "\n",
       "                                                 sql  \n",
       "0  CREATE TABLE news (id varchar(20), time dateti...  \n",
       "1  CREATE TABLE \"maekyung\" (\\n\"index\" INTEGER,\\n ...  "
      ]
     },
     "execution_count": 36,
     "metadata": {},
     "output_type": "execute_result"
    }
   ],
   "source": [
    "query = 'SELECT * FROM sqlite_master WHERE type = \"table\"'\n",
    "\n",
    "con = sqlite3.connect('test_news.db3')\n",
    "with con : \n",
    "    df = pd.read_sql_query(query , con)\n",
    "df"
   ]
  },
  {
   "cell_type": "code",
   "execution_count": 39,
   "metadata": {
    "collapsed": false
   },
   "outputs": [
    {
     "data": {
      "text/html": [
       "<div>\n",
       "<table border=\"1\" class=\"dataframe\">\n",
       "  <thead>\n",
       "    <tr style=\"text-align: right;\">\n",
       "      <th></th>\n",
       "      <th>index</th>\n",
       "      <th>time</th>\n",
       "      <th>title</th>\n",
       "    </tr>\n",
       "  </thead>\n",
       "  <tbody>\n",
       "    <tr>\n",
       "      <th>0</th>\n",
       "      <td>0</td>\n",
       "      <td>2013-08-29 11:39</td>\n",
       "      <td>국민은행 가족친화 기업에 금리 인하</td>\n",
       "    </tr>\n",
       "    <tr>\n",
       "      <th>1</th>\n",
       "      <td>1</td>\n",
       "      <td>2013-08-29 09:03</td>\n",
       "      <td>美양적완화 축소는 은행업종에 긍정적</td>\n",
       "    </tr>\n",
       "  </tbody>\n",
       "</table>\n",
       "</div>"
      ],
      "text/plain": [
       "   index              time                title\n",
       "0      0  2013-08-29 11:39  국민은행 가족친화 기업에 금리 인하\n",
       "1      1  2013-08-29 09:03  美양적완화 축소는 은행업종에 긍정적"
      ]
     },
     "execution_count": 39,
     "metadata": {},
     "output_type": "execute_result"
    }
   ],
   "source": [
    "query = '''\n",
    "SELECT *\n",
    "FROM maekyung \n",
    "'''\n",
    "con = sqlite3.connect('test_news.db3')\n",
    "with con : \n",
    "    df = pd.read_sql_query(query,con)\n",
    "df"
   ]
  },
  {
   "cell_type": "code",
   "execution_count": 40,
   "metadata": {
    "collapsed": false
   },
   "outputs": [
    {
     "data": {
      "text/html": [
       "<div>\n",
       "<table border=\"1\" class=\"dataframe\">\n",
       "  <thead>\n",
       "    <tr style=\"text-align: right;\">\n",
       "      <th></th>\n",
       "      <th>id</th>\n",
       "      <th>time</th>\n",
       "      <th>title</th>\n",
       "      <th>agency</th>\n",
       "    </tr>\n",
       "  </thead>\n",
       "  <tbody>\n",
       "    <tr>\n",
       "      <th>0</th>\n",
       "      <td>0003024670</td>\n",
       "      <td>2013-08-29 11:39</td>\n",
       "      <td>국민은행 가족친화 기업에 금리 인하</td>\n",
       "      <td>매일경제</td>\n",
       "    </tr>\n",
       "    <tr>\n",
       "      <th>1</th>\n",
       "      <td>0003024522</td>\n",
       "      <td>2013-08-29 09:03</td>\n",
       "      <td>美양적완화 축소는 은행업종에 긍정적</td>\n",
       "      <td>매일경제</td>\n",
       "    </tr>\n",
       "    <tr>\n",
       "      <th>2</th>\n",
       "      <td>0002464356</td>\n",
       "      <td>2013-08-29 08:00</td>\n",
       "      <td>&lt;진화하는 MTS&gt; KB투자증권, KB스마톡S</td>\n",
       "      <td>헤럴드생생뉴스</td>\n",
       "    </tr>\n",
       "    <tr>\n",
       "      <th>3</th>\n",
       "      <td>0003106995</td>\n",
       "      <td>2013-08-29 07:03</td>\n",
       "      <td>LG상사, STX에너지 인수전에 KB금융 컨소시엄</td>\n",
       "      <td>머니투데이</td>\n",
       "    </tr>\n",
       "  </tbody>\n",
       "</table>\n",
       "</div>"
      ],
      "text/plain": [
       "           id              time                        title   agency\n",
       "0  0003024670  2013-08-29 11:39          국민은행 가족친화 기업에 금리 인하     매일경제\n",
       "1  0003024522  2013-08-29 09:03          美양적완화 축소는 은행업종에 긍정적     매일경제\n",
       "2  0002464356  2013-08-29 08:00    <진화하는 MTS> KB투자증권, KB스마톡S  헤럴드생생뉴스\n",
       "3  0003106995  2013-08-29 07:03  LG상사, STX에너지 인수전에 KB금융 컨소시엄    머니투데이"
      ]
     },
     "execution_count": 40,
     "metadata": {},
     "output_type": "execute_result"
    }
   ],
   "source": [
    "query = '''\n",
    "SELECT *\n",
    "FROM news \n",
    "'''\n",
    "con = sqlite3.connect('test_news.db3')\n",
    "with con : \n",
    "    df = pd.read_sql_query(query,con)\n",
    "df"
   ]
  },
  {
   "cell_type": "markdown",
   "metadata": {},
   "source": [
    "환율 데이터 테이블"
   ]
  },
  {
   "cell_type": "code",
   "execution_count": 46,
   "metadata": {
    "collapsed": true
   },
   "outputs": [],
   "source": [
    "import datetime\n",
    "from pandas_datareader import data\n",
    "%matplotlib inline"
   ]
  },
  {
   "cell_type": "code",
   "execution_count": 47,
   "metadata": {
    "collapsed": false
   },
   "outputs": [
    {
     "data": {
      "text/plain": [
       "<matplotlib.axes._subplots.AxesSubplot at 0x7f9643ef4208>"
      ]
     },
     "execution_count": 47,
     "metadata": {},
     "output_type": "execute_result"
    },
    {
     "data": {
      "image/png": "[encoded data removed]",
      "text/plain": [
       "<matplotlib.figure.Figure at 0x7f963ddec9e8>"
      ]
     },
     "metadata": {},
     "output_type": "display_data"
    }
   ],
   "source": [
    "start = datetime.datetime(2000,1,1)\n",
    "end = datetime.datetime(2016,3,20)\n",
    "\n",
    "dexkous = data.get_data_fred('DEXKOUS', start=start, end=end)\n",
    "dexkous.plot(figsize=(12,4))"
   ]
  },
  {
   "cell_type": "code",
   "execution_count": 49,
   "metadata": {
    "collapsed": false
   },
   "outputs": [
    {
     "data": {
      "text/html": [
       "<div>\n",
       "<table border=\"1\" class=\"dataframe\">\n",
       "  <thead>\n",
       "    <tr style=\"text-align: right;\">\n",
       "      <th></th>\n",
       "      <th>DEXKOUS</th>\n",
       "    </tr>\n",
       "    <tr>\n",
       "      <th>DATE</th>\n",
       "      <th></th>\n",
       "    </tr>\n",
       "  </thead>\n",
       "  <tbody>\n",
       "    <tr>\n",
       "      <th>2016-03-14</th>\n",
       "      <td>1187.39</td>\n",
       "    </tr>\n",
       "    <tr>\n",
       "      <th>2016-03-15</th>\n",
       "      <td>1194.99</td>\n",
       "    </tr>\n",
       "    <tr>\n",
       "      <th>2016-03-16</th>\n",
       "      <td>1190.59</td>\n",
       "    </tr>\n",
       "    <tr>\n",
       "      <th>2016-03-17</th>\n",
       "      <td>1155.83</td>\n",
       "    </tr>\n",
       "    <tr>\n",
       "      <th>2016-03-18</th>\n",
       "      <td>1160.11</td>\n",
       "    </tr>\n",
       "  </tbody>\n",
       "</table>\n",
       "</div>"
      ],
      "text/plain": [
       "            DEXKOUS\n",
       "DATE               \n",
       "2016-03-14  1187.39\n",
       "2016-03-15  1194.99\n",
       "2016-03-16  1190.59\n",
       "2016-03-17  1155.83\n",
       "2016-03-18  1160.11"
      ]
     },
     "execution_count": 49,
     "metadata": {},
     "output_type": "execute_result"
    }
   ],
   "source": [
    "dexkous.tail()"
   ]
  },
  {
   "cell_type": "code",
   "execution_count": 50,
   "metadata": {
    "collapsed": false
   },
   "outputs": [
    {
     "data": {
      "text/html": [
       "<div>\n",
       "<table border=\"1\" class=\"dataframe\">\n",
       "  <thead>\n",
       "    <tr style=\"text-align: right;\">\n",
       "      <th></th>\n",
       "      <th>DATE</th>\n",
       "      <th>DEXKOUS</th>\n",
       "    </tr>\n",
       "  </thead>\n",
       "  <tbody>\n",
       "    <tr>\n",
       "      <th>4225</th>\n",
       "      <td>2016-03-14 00:00:00</td>\n",
       "      <td>1187.39</td>\n",
       "    </tr>\n",
       "    <tr>\n",
       "      <th>4226</th>\n",
       "      <td>2016-03-15 00:00:00</td>\n",
       "      <td>1194.99</td>\n",
       "    </tr>\n",
       "    <tr>\n",
       "      <th>4227</th>\n",
       "      <td>2016-03-16 00:00:00</td>\n",
       "      <td>1190.59</td>\n",
       "    </tr>\n",
       "    <tr>\n",
       "      <th>4228</th>\n",
       "      <td>2016-03-17 00:00:00</td>\n",
       "      <td>1155.83</td>\n",
       "    </tr>\n",
       "    <tr>\n",
       "      <th>4229</th>\n",
       "      <td>2016-03-18 00:00:00</td>\n",
       "      <td>1160.11</td>\n",
       "    </tr>\n",
       "  </tbody>\n",
       "</table>\n",
       "</div>"
      ],
      "text/plain": [
       "                     DATE  DEXKOUS\n",
       "4225  2016-03-14 00:00:00  1187.39\n",
       "4226  2016-03-15 00:00:00  1194.99\n",
       "4227  2016-03-16 00:00:00  1190.59\n",
       "4228  2016-03-17 00:00:00  1155.83\n",
       "4229  2016-03-18 00:00:00  1160.11"
      ]
     },
     "execution_count": 50,
     "metadata": {},
     "output_type": "execute_result"
    }
   ],
   "source": [
    "con = sqlite3.connect('dex.db3')\n",
    "dexkous.to_sql('dexkous',con,if_exists='replace')\n",
    "\n",
    "query = 'SELECT * FROM dexkous'\n",
    "df = pd.read_sql_query(query,con)\n",
    "df.tail()"
   ]
  },
  {
   "cell_type": "code",
   "execution_count": null,
   "metadata": {
    "collapsed": true
   },
   "outputs": [],
   "source": []
  }
 ],
 "metadata": {
  "kernelspec": {
   "display_name": "Python 3",
   "language": "python",
   "name": "python3"
  },
  "language_info": {
   "codemirror_mode": {
    "name": "ipython",
    "version": 3
   },
   "file_extension": ".py",
   "mimetype": "text/x-python",
   "name": "python",
   "nbconvert_exporter": "python",
   "pygments_lexer": "ipython3",
   "version": "3.6.0"
  }
 },
 "nbformat": 4,
 "nbformat_minor": 2
}
