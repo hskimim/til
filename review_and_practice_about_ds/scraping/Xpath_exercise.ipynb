{
 "cells": [
  {
   "cell_type": "markdown",
   "metadata": {},
   "source": [
    "### xpath \n",
    "- css selector가 아닌 xpath를 이용하여 웹 페이지의 html 엘리먼트를 선택한 객체를 생성할 수 있습니다."
   ]
  },
  {
   "cell_type": "markdown",
   "metadata": {},
   "source": [
    "- // : 가장 상위 Element\n",
    "\n",
    "- . : 현재 Element\n",
    "\n",
    "* : 조건에 맞는 앞부분의 하위 Element를 모두 살펴봄 ( css selector에서 한칸 띄기와 같음 )\n",
    "\n",
    "- / : 바로 아래 요소 ( css selector에서 > 와 같음 )\n",
    "\n",
    "- element[조건]\n",
    "\n",
    "- p[2] : p element의 두번째 element : index가 0이 아닌 1부터 시작\n",
    "\n",
    "- [@(attribute key)=\"(attribute value)\"]\n",
    "\n",
    "- [@id=\"email\"] : 아이디 값이 email인 element\n",
    "\n",
    "- [@class=\"pw\"] : 클래스 값이 pw인 element\n",
    "\n",
    "- not\n",
    "\n",
    "- not(조건) : 조건이 아닌 요소를 찾음\n"
   ]
  },
  {
   "cell_type": "code",
   "execution_count": 7,
   "metadata": {},
   "outputs": [],
   "source": [
    "import requests\n",
    "import scrapy\n",
    "from scrapy.http import TextResponse"
   ]
  },
  {
   "cell_type": "code",
   "execution_count": 10,
   "metadata": {},
   "outputs": [
    {
     "data": {
      "text/plain": [
       "<200 https://www.naver.com/>"
      ]
     },
     "execution_count": 10,
     "metadata": {},
     "output_type": "execute_result"
    }
   ],
   "source": [
    "url = 'http://naver.com'\n",
    "response = requests.get(url)\n",
    "response = TextResponse(response.url,body = response.text,encoding='utf-8')\n",
    "# Inherit from this class (instead of object) \n",
    "#to a keep a record of live instances\n",
    "response"
   ]
  },
  {
   "cell_type": "code",
   "execution_count": 12,
   "metadata": {},
   "outputs": [
    {
     "data": {
      "text/plain": [
       "['h조']"
      ]
     },
     "execution_count": 12,
     "metadata": {},
     "output_type": "execute_result"
    }
   ],
   "source": [
    "response.xpath('//*[@id=\"PM_ID_ct\"]/div[1]/div[2]/div[2]/div[1]/div/ul/li[7]/span')\n",
    "#네이버 실시간 검색 1위 xpat객체 가져오기\n",
    "response.xpath('//*[@id=\"PM_ID_ct\"]/div[1]/div[2]/div[2]/div[1]/div/ul/li[7]/a/span/text()')\n",
    "# xpath의 text()를 이용하여 xpath객체의 text 데이터 추출하기\n",
    "response.xpath('//*[@id=\"PM_ID_ct\"]/div[1]/div[2]/div[2]/div[1]/div/ul/li[7]/a/span/text()').extract()\n",
    "# extract 함수를 이용하여 xpath에서 추출된 text 데이터 리스트로 추출하기\n",
    "response.xpath('//*[@id=\"PM_ID_ct\"]/div[1]/div[2]/div[2]/div[1]/div/ul/li[7]/a/span[2]/text()').extract()"
   ]
  },
  {
   "cell_type": "code",
   "execution_count": null,
   "metadata": {},
   "outputs": [],
   "source": []
  },
  {
   "cell_type": "code",
   "execution_count": 16,
   "metadata": {},
   "outputs": [
    {
     "data": {
      "text/plain": [
       "<200 http://corners.gmarket.co.kr/Bestsellers>"
      ]
     },
     "execution_count": 16,
     "metadata": {},
     "output_type": "execute_result"
    }
   ],
   "source": [
    "url = 'http://corners.gmarket.co.kr/Bestsellers'\n",
    "response = requests.get(url)\n",
    "response = TextResponse(response.url,body = response.text,encoding='utf-8')\n",
    "# Inherit from this class (instead of object) \n",
    "#to a keep a record of live instances\n",
    "response"
   ]
  },
  {
   "cell_type": "code",
   "execution_count": 20,
   "metadata": {},
   "outputs": [
    {
     "data": {
      "text/plain": [
       "['르까프 케이스위스 7부팬츠 반바지 티셔츠 가격다운',\n",
       " '[밸롭]6월초특가 여름필수 밸롭 아쿠아슈즈 시즌',\n",
       " '국산 면스판 나시/속바지 3매',\n",
       " '[동원에프앤비]미네마인 스파클링 워터 500ml x40병 /탄산수',\n",
       " '[벨리에르]소프트플라넬 워싱 스프레드 1+1 (퀸)',\n",
       " '여름신상/쉬폰블라우스/티셔츠/셔츠/플라워모음전',\n",
       " '팬콧 아동 아쿠아슈즈 샌들 비치가운 플랩캡 비치백',\n",
       " '요즘맘/15%쿠폰/3+1사은품/엄마옷/빅사이즈/~3XL',\n",
       " '[보솜이]소프트 슬림 밴드/팬티 기저귀 x 4팩',\n",
       " '[어퓨]어퓨 6월 빅세일 UP TO 50% 선케어1+1',\n",
       " '브리치x모노드레스 원피스/티셔츠/스커트 +10%쿠폰',\n",
       " '[이글립스]이글립스 1+1+파우치 팩트/컨실러/글리터/틴트',\n",
       " '마담의류 엄마옷 빅사이즈 롱티 원피스 블라우스',\n",
       " '[디즈니]캐릭터 여름 아동샌들 아쿠아슈즈 슬리퍼 워터슈즈',\n",
       " '에스쁘아 베스트템 최대 50%off',\n",
       " '[존슨즈베이비]수딩내추럴 너리싱 로션 400ml x2개  +1개 본품 증정',\n",
       " '[탑모델]여름신상 스트랩/샌들/웨지/슬리퍼/플랫샌들',\n",
       " '[동원참치]동원 DHA참치 100gx10캔 +키즈참치 100gx3캔 (총13캔)',\n",
       " '((20%쿠폰))클리오/페리페라 6월 클럽데이 ~65%',\n",
       " '[웅진]빅토리아 탄산수 탄산음료 500mlx40 350mlx48캔 택2',\n",
       " '켈리스룸 여름신상~원피스/블라우스/쉬폰/점프슈트',\n",
       " '[섀르반]섀르반 여름 모자/신발/가방 外',\n",
       " '(1+1)쿨링바지 통바지/아이스슬랙스/반바지 XXL까지',\n",
       " '[잘풀리는집]잘풀리는집 따뜻한3겹 감동 25m30롤 2팩무료배송+쿠폰',\n",
       " '[청정원]프리미엄 소시지1.5kg+핫도그증정/닭가슴살/간식/캠핑',\n",
       " '(톰앤래빗) 지금필요한 BEST100',\n",
       " '[송월타월]송월우산  프리미엄우산 39종 모음전',\n",
       " '여름신상 루즈핏 원피스 블라우스 티셔츠',\n",
       " '시원한 냉감 기능성웨어 특가찬스 트레이닝복/티셔츠',\n",
       " '[라벨영]끝장 커버+밀착+지속/다크닝ZERO/쇼킹청춘비비크림',\n",
       " '모니카룸/신상/Best상품/감성데일리룩/캐주얼룩',\n",
       " '[숏핑] 우리쌀 증편피자 10팩(3종)',\n",
       " '[코리아나]앰플엔 단. 하루특가~앰플1+1/샤셰2매증정/물광피부',\n",
       " '[현대농산]국산 햅쌀 백미10kg/현미10kg/찹쌀10kg',\n",
       " '(HACCP)참들生포기김치 10kg/열무/총각김치/무료배송',\n",
       " '[종근당 건강]특가 아이케어 오메가3 3개월 영양제 건강식품',\n",
       " '로벤탈 가스와이드그릴 썬버너 캠핑 그릴 버너',\n",
       " '여름신상 균일가 루즈핏 티셔츠/하의/린넨/빅사이즈',\n",
       " '[썬업]쿠폰가11400 매일 과일야채샐러드 200ml 24팩/음료수',\n",
       " '[디프니]디프니~여름신상 롱원피스/티셔츠',\n",
       " '[아스파시아]솜포함 다용도/샤벳 바디필로우/대형쿠션',\n",
       " '[카카오프렌즈]핸드폰 갤럭시s9플러스 s8 s7 노트8 아이폰7 오버액션',\n",
       " '모스트맘 쿨하게가즈아~ 냉감 쿨세트/원피스/파자마',\n",
       " '애프리콧 여름신상 티셔츠특가/박스/루즈핏/여름티',\n",
       " '[릴리푸리]릴리푸리X지마켓/여름신상/여아/티셔츠/원피스/치렝스',\n",
       " '베지밀 A B 190ml 24팩/두유/GT/남양',\n",
       " '2018 New 차이슨 디베아 D18 무선 청소기',\n",
       " '타라디토 여름신상 원피스/블라우스/스커트',\n",
       " '비비고 왕교자 1.05kgx3개/만두/간식',\n",
       " '[락앤락]숨쉬는유리용기 2P기획세트 수박통 밀폐용기 균일가',\n",
       " '1+1 멀티채반+수박칼/멀티바가지/채반/주방용품',\n",
       " '[르젠옴므]르젠 남자셔츠 하와이안/린넨/오버핏/스트라이프/체크',\n",
       " '무료배송 페이크삭스/여름양말/골지양말/신상양말',\n",
       " '[동원샘물미네마인]동원 샘물 2Lx9병x3팩(총 27병) /생수',\n",
       " '[오뚜기]40%할인 오뚜기 참치/야채/고추 150g X 12개',\n",
       " '[에이지투웨니스]에이지투웨니스 에센스 커버팩트 시즌10 RX 1종견미리',\n",
       " '[쟈뎅]쿠폰가10000 시그니쳐 아이스커피 230ml 20팩+증정',\n",
       " '[트래드후스](신세계강남점)[IGOR] 트래드후스 18SS 이고르 본디 젤리슈즈 BONDI 10종',\n",
       " '[요즘에]여름신상 주말 역대급특가/반바지/치마/슬랙스/청바지',\n",
       " '[어퓨]어퓨 6월 빅세일 UP TO 50% 선케어1+1',\n",
       " '글램공감/ABCD컵 여성속옷세트/왕뽕/빅사이즈/버블돌',\n",
       " '[더데이걸][더데이걸VS헌트키즈] 특가 라이벌전 최대 80% 할인 ',\n",
       " '브리치x땡큐 티셔츠/원피스/스커트 +10%쿠폰',\n",
       " '+여름 반팔티+ 빅사이즈77-99 롱/루즈핏/스트라이프',\n",
       " '[쉬즈홈]시원한 여름 이불 베개/패드/토퍼/침구세트/시어서커',\n",
       " '[청정원]홍초900mlx1+500mlx2+어린이홍초증정/석류/블루베리',\n",
       " '[에뛰드하우스]에뛰드하우스 상반기 베스트 아이템 최대 50%',\n",
       " '[코데즈컴바인 이너웨어](신세계강남점)여성세트 (브라1/팬티2) 택1',\n",
       " '[디프니]디프니 여름신상 큐티원피스/블라우스/셔츠',\n",
       " '[데싱디바]한정수량) 데싱디바 네일팁 프리미엄 슬림핏 세트',\n",
       " '블레스유 여름신상 린넨원피스/블라우스',\n",
       " '반팔티셔츠/티셔츠/여름티셔츠/남자티셔츠/남성티셔츠',\n",
       " '타임리스 여름신상 린넨 티셔츠/민소매/나시/원피스',\n",
       " '[비버리힐스폴로클럽]1매3400원/드로즈/사각/팬티/남성/남자/세트/면/속옷',\n",
       " '1+1 영국 직수입 데오니카 데오드란트 스프레이 200ml',\n",
       " '브라썸/여성속옷/ABCD컵추가금NO/빅사이즈/브라팬티',\n",
       " 'CJ 햇반200gx24개/오뚜기밥24개/컵밥10개/컵반',\n",
       " '[아몬드브리즈]쿠폰가12400 매일 아몬드브리즈 190ml 24팩/두유',\n",
       " '시어서커 홑이불 여름이불세트 여름침구 여름패드세트',\n",
       " '여름신상 원피스44~110빅사이즈 루즈핏 린넨 쉬폰 롱',\n",
       " '[앤디애플]아동복/상하복/반바지/원피스/치마/레깅스/반팔',\n",
       " '[홈플러스](행사상품)청원생명쌀법인_청원생명쌀_10KG 포 ',\n",
       " '[동원참치]마일드참치 150gx7캔+후레쉬150gx3캔+(김자반2봉)/EPA',\n",
       " '메이킹유 예쁜룩 완성 블라우스/원피스 모음',\n",
       " '(특가행사) LCD-NOTE10 부기보드 8 10 12 전자노트',\n",
       " '[미쟝센]미쟝센 헤어 스프레이 5개 (3종 택1)',\n",
       " '[사조대림]대림 치킨너겟1kg+1kg/텐더1kg+1kg/샤오롱180gx10봉',\n",
       " '[브라운물티슈]브라운 아기물티슈 단독특가',\n",
       " '[데이블리]브라/팬티세트/노와이어브라/여성속옷/사기브라/여자',\n",
       " '티메이 원피스 블라우스 스커트 롱원피스',\n",
       " '[첨이첨이]아동팬티5매4900원특가/유아/런닝/순면/속옷/무료배송',\n",
       " '[하기스]2018년 NEW 하기스 보송보송 팬티 / 기저귀',\n",
       " '[바자르]바자르 여름 이불베개세트/사커리플/엠보',\n",
       " '파격특가 슈프림정품 반팔티 반바지 무지티 티셔츠',\n",
       " '[아디다스]나이키 아디다스 인기 반바지 쇼트 모음',\n",
       " '[파세코]파세코 써큘레이터 공기순환기 PCF-D087AB',\n",
       " '[쿠잉]앵콜특가 쿠잉 기저귀 팬티3팩/밴드2팩',\n",
       " '[립톤]상큼한 아이스티 복숭아 1500g+선택사은품/레몬/음료',\n",
       " '[동원참치]동원 건강한참치 100gx9캔 +마일드 100gx3캔 (총12캔)',\n",
       " '[비비안]국산/주니어브라/주니어속옷/쥬니어팬티/학생브라',\n",
       " '[한샘]재크 철제 6단 서랍장 외 철제수납 모음',\n",
       " '1+1 여름 신상품 워싱스프레드(Q)',\n",
       " '(주말특가) 에이핀 35cm 프리미엄 선풍기/리모컨 홍진',\n",
       " '[청정원]스파게티소스600gx2+300gx1+면500gx2/파스타',\n",
       " '단하루 역대급특가 투투 ~3XL/린넨/슬랙스/반바지',\n",
       " '행텐 /월드컵 /주니어 여름샌들 아쿠아샌들',\n",
       " '[첨이첨이]아동팬티 5매4900원/아동/속옷/런닝/유아/주니어',\n",
       " '[애경]리큐 반만쓰는 진한겔 리필 1.8L x 4개(일반)',\n",
       " '[아망떼]1+1여름베개커버/인견/순면/30x50/40x60/50x70',\n",
       " '[쉬즈홈]여름 엠보 패드 순면/매트리스커버/침대커버/이불패드',\n",
       " '항균 여름이불패드 여름이불세트 침대패드 여름침구',\n",
       " '체리온 여름신상 박스 롱티셔츠/라운드/전사나염/후드',\n",
       " '[스파오]남녀 반팔티/PK티셔츠/스트라이프T/나시/반바지/팬츠',\n",
       " '국산/봄신상/아동/내복/내의/주니어/실내복/잠옷',\n",
       " '샌들 99균일가 플랫샌들 스트랩 웨지 슬리퍼 슬링백',\n",
       " '[스웨덴에그팩]공식판매처/스웨덴 에그팩 8종 여름준비 특별패키지',\n",
       " '힐슈빌 여성샌들 여름샌들 샌들 스트랩 웨지 플랫샌들',\n",
       " '(6/27) 방탄소년단 BTS - BTS Memories Of 2017 DVD',\n",
       " '이벤트특가_대웅/보국 스탠드선풍기(CZ-T0521)',\n",
       " '[모다아울렛]온앤온 역시즌 단독찬스  양모코트外 (최초가 379000)',\n",
       " '[다온샵]특급할인 치마바지 ~3XL 청바지/반바지여자스키니SALE',\n",
       " '[대우]대우 에어프라이어 블랙 공기튀김기 포토상품평이벤트',\n",
       " '데일리샵 여름 티셔츠 신상/빅사이즈/반팔',\n",
       " '[백산수]농심 백산수 2L x 24병 / 생수',\n",
       " '[아이보리]아이보리 바디워시 오리지널 887ml 2개',\n",
       " '[크리넥스]순수3겹 화장지 27M 30롤x2팩/휴지 +증정',\n",
       " '[일리윤]일리윤 마스크팩 모음 20매/12매/10매 (26종 택1)',\n",
       " '[월드컵]월드컵 성인 키즈 인기 운동화/슬리퍼',\n",
       " '[토리밤]여름히트 풍기인견/자가드/유아동/주니어/내의/실내복',\n",
       " '30%쿠폰 3M 필트릿 신슐레이트 최저특가/이불/베개',\n",
       " '스파클생수 2리터 24병',\n",
       " '[에스오일](S-OIL) 모바일주유권 5만원/ 실시간발송',\n",
       " 'G마켓x브리치 바이름 스커트/원피스 + 10%쿠폰',\n",
       " '[블루포스]여름신상 반팔카라티/빅사이즈/단체커플티/남자옷',\n",
       " '[코스][소보제화] BEST 여름 여성샌들 6종 중 택1/ 코스(KHOS)',\n",
       " '[케이스위스]케이스위스  아동화 벨크로 찍찍이 키즈운동화 4118KS159 160 1',\n",
       " '[네슬레]네슬레 퓨어라이프 2Lx12 500mlx20 330mlx20 생수 물',\n",
       " '2017년산 햅쌀 황금미가 20kg/10kg',\n",
       " '브리치x럭키567 여름최신상 티셔츠 /원피스/스커트',\n",
       " '17곡 미숫가루1kg 2봉/콩가루 2봉',\n",
       " '칸타타 아이스커피 190mlx20팩/쟈뎅까페리얼/카페베네',\n",
       " '[돌핀]폴라레티 후르츠 트로피칼 아이스바 40mlx70개 쭈쭈바',\n",
       " '[윈드피아]가정용 업소용 벽걸이 스탠드 휴대용 선풍기  WA-370',\n",
       " '[아망떼]40수 순면100% 매트리스커버/이불커버/침대패드',\n",
       " '[트라이]5매4900원/여자팬티/여성팬티/여성속옷/여자속옷',\n",
       " 'AHC 바이탈 워터풀루트 6종세트 -2중 기능성 수분세트',\n",
       " '[아디다스키즈]아디다스 키즈 슈퍼스타 컴포트 홀로그램 AQ6279',\n",
       " '더다다/원피스형 롱티/신상/루즈/박시/빅사이즈',\n",
       " '[인텍스]INTEX사각유아풀/베이비무지개풀/돌고래튜브/발펌프',\n",
       " 'XXL~빅사이즈 밴딩팬츠 린넨 반청바지 스커트',\n",
       " '여름신상 원피스44~110빅사이즈 루즈핏 나시 린넨 롱',\n",
       " '원피스 빅사이즈 쉬폰 레이스 롱원피스 하객룩',\n",
       " '[도리도리]도리도리 아기물티슈 100매캡 10팩+10팩 식약처 cGMP',\n",
       " '디프니~여름신상~민소매티셔츠/나시/프린트/캐릭터',\n",
       " 'UV차단 기능성~4XL/여름 쿨레깅스/치마/린넨/밴딩팬츠',\n",
       " '[버켄스탁]버켄스탁/버켄스탁 에바/EVA/버켄/아리조나/마드리드/지제/여름 슬리퍼',\n",
       " '플랫 샌들 미들굽 스트랩 웨지 힐 통굽 여름 여자여성',\n",
       " '[유한킴벌리]하기스 네이처메이드 밴드형 기저귀 1~4단계 x3팩 구성택일',\n",
       " '가정용 접이식 불판 테이블 식탁',\n",
       " '요가복~5900/필라테스/휘트니스/레깅스/브라탑/4+1',\n",
       " '[요즘에]여름신상/청바지/슬랙스/반바지/마/7부/빅사이즈',\n",
       " '[미쟝센]미쟝센 컬링 에센스/미스트 2개 (6종 택1)',\n",
       " '완전손질 오징어 500g 3개이상구매시 하나 덤 증정',\n",
       " '린넨 강자 로드블링 신상9900원/원피스/린넨/하객',\n",
       " '[젤리스푼]아동복/상하복/원피스/반팔티/레깅스/팬츠/수영복',\n",
       " '역대급특가/반바지/치마바지/숏팬츠/청바지/SALE',\n",
       " '[클린앤클리어]에이클리어링 셀프 포밍클렌저 150g x2개  +1개 증정',\n",
       " '여름신상 남자청바지/빅사이즈/스판/일자/면바지/행사',\n",
       " '[아비노 베이비]데일리 모이스처 로션 354ml 2개 +2개 본품 증정',\n",
       " '[밀로앤개비](신세계강남점)밀로앤개비 동물모양 베개(솜포함) (MN)',\n",
       " '[제이준]본사공식 제이준 바캉스 마스크팩 특가',\n",
       " '[이노크아든]이노크 14형 초미풍 선풍기 발터치 리모콘 IA-S141',\n",
       " '(현대Hmall)[영실업] 시크릿 셀카폰 시크릿셀카폰',\n",
       " '아이러브베베물티슈핑크 100매 리필형X20팩',\n",
       " '올리(Ollie) 여성 여름 샌들/슬리퍼/에스파듀/통굽',\n",
       " '[CJ제일제당] VIPS 미니피자 12개입 外',\n",
       " '[에코샵모기장]18년 신형 AUTO_자동 모기장 원터치 텐트 사각 침대',\n",
       " '퀘이커 인스탄트 오트밀 시리얼 3가지맛 52팩',\n",
       " '[팬콧키즈]15%쿠폰할인+여름 신상 샌들 아쿠아슈즈',\n",
       " '[매일유업]쿠폰가9400 매일두유 99.89  190ml 24팩/두유/멸균',\n",
       " '어린이집 생일선물  유치원 학원 단체선물 문구세트',\n",
       " '[비너스]비비안외 브라팬티세트/A-F컵/여성속옷/여자/빅사이즈',\n",
       " '[개성]왕교자만두 418gx4봉 + 교자만두600gx2봉 +왕교자304g',\n",
       " '[카누](쿠폰가17900)카누아이스미니100T+20T/텀블러/커피',\n",
       " '반바지/5부/7부/비치/트레이닝/바지/남자/남성',\n",
       " '[상하목장]쿠폰가16500 매일 유기농 멸균우유 200ml x24팩/우유',\n",
       " '[레노마옴므][레노마셔츠] 2018 반소매 인기베트스셔츠 슬림 일반 33종  ',\n",
       " '[아키클래식]양말증정 여름샌들 운동화 기획전 스포츠샌들',\n",
       " '[크록스]크록스 라이트라이드 샌들 우먼 205106 여성 쿠션 샌들',\n",
       " 'SET(Who+You+포스터2종+지관통) 뉴이스트 W (NU`EST W) - Who  You  (Nuest W)',\n",
       " '[메디힐]메디힐 인기 마스크팩 20매+5매',\n",
       " '[크리넥스]크리넥스 마이비데리필 46매10팩/물티슈/화장지/휴지',\n",
       " '사은품 여름모자/여름가방/아동/리본햇/라탄백',\n",
       " '[빈스걸]빅사이즈XL~99까지 린넨 롱반팔 티셔츠 원피스 남방',\n",
       " '데일리콤마 디퓨저 본품 100ml 1+1+1+1 /신향 출시',\n",
       " '[아토세이프]참숯 습기매직싹 제습제 20개입/습기제거제/곰팡이',\n",
       " '롯데 설레임x20개/애플키위/밀크/커피/아이스크림',\n",
       " '[백산수]농심 백산수 500ML x 40병 / 생수',\n",
       " '[동원에프앤비]디 레몬 톡 500mlx20병+쿨피스톡레몬콜라24캔 /자몽',\n",
       " '[단군]G여름신상셔츠/남자남방/헨리넥/7부티셔츠/남자바지']"
      ]
     },
     "execution_count": 20,
     "metadata": {},
     "output_type": "execute_result"
    }
   ],
   "source": [
    "response.xpath('//*[@id=\"gBestWrap\"]/div/div[3]/div[2]/ul/li/a/text()').extract()"
   ]
  },
  {
   "cell_type": "code",
   "execution_count": null,
   "metadata": {},
   "outputs": [],
   "source": []
  },
  {
   "cell_type": "code",
   "execution_count": 22,
   "metadata": {
    "scrolled": true
   },
   "outputs": [
    {
     "data": {
      "text/plain": [
       "['르까프 케이스위스 7부팬츠 반바지 티셔츠 가격다운',\n",
       " '[벨리에르]소프트플라넬 워싱 스프레드 1+1 (퀸)',\n",
       " '[보솜이]소프트 슬림 밴드/팬티 기저귀 x 4팩',\n",
       " '마담의류 엄마옷 빅사이즈 롱티 원피스 블라우스',\n",
       " '[탑모델]여름신상 스트랩/샌들/웨지/슬리퍼/플랫샌들',\n",
       " '켈리스룸 여름신상~원피스/블라우스/쉬폰/점프슈트',\n",
       " '[청정원]프리미엄 소시지1.5kg+핫도그증정/닭가슴살/간식/캠핑',\n",
       " '시원한 냉감 기능성웨어 특가찬스 트레이닝복/티셔츠',\n",
       " '[코리아나]앰플엔 단. 하루특가~앰플1+1/샤셰2매증정/물광피부',\n",
       " '로벤탈 가스와이드그릴 썬버너 캠핑 그릴 버너',\n",
       " '[아스파시아]솜포함 다용도/샤벳 바디필로우/대형쿠션',\n",
       " '[릴리푸리]릴리푸리X지마켓/여름신상/여아/티셔츠/원피스/치렝스',\n",
       " '비비고 왕교자 1.05kgx3개/만두/간식',\n",
       " '무료배송 페이크삭스/여름양말/골지양말/신상양말',\n",
       " '[쟈뎅]쿠폰가10000 시그니쳐 아이스커피 230ml 20팩+증정',\n",
       " '글램공감/ABCD컵 여성속옷세트/왕뽕/빅사이즈/버블돌',\n",
       " '[쉬즈홈]시원한 여름 이불 베개/패드/토퍼/침구세트/시어서커',\n",
       " '[디프니]디프니 여름신상 큐티원피스/블라우스/셔츠',\n",
       " '타임리스 여름신상 린넨 티셔츠/민소매/나시/원피스',\n",
       " 'CJ 햇반200gx24개/오뚜기밥24개/컵밥10개/컵반',\n",
       " '[앤디애플]아동복/상하복/반바지/원피스/치마/레깅스/반팔',\n",
       " '(특가행사) LCD-NOTE10 부기보드 8 10 12 전자노트',\n",
       " '[데이블리]브라/팬티세트/노와이어브라/여성속옷/사기브라/여자',\n",
       " '[바자르]바자르 여름 이불베개세트/사커리플/엠보',\n",
       " '[쿠잉]앵콜특가 쿠잉 기저귀 팬티3팩/밴드2팩',\n",
       " '[한샘]재크 철제 6단 서랍장 외 철제수납 모음',\n",
       " '단하루 역대급특가 투투 ~3XL/린넨/슬랙스/반바지',\n",
       " '[아망떼]1+1여름베개커버/인견/순면/30x50/40x60/50x70',\n",
       " '[스파오]남녀 반팔티/PK티셔츠/스트라이프T/나시/반바지/팬츠',\n",
       " '힐슈빌 여성샌들 여름샌들 샌들 스트랩 웨지 플랫샌들',\n",
       " '[다온샵]특급할인 치마바지 ~3XL 청바지/반바지여자스키니SALE',\n",
       " '[아이보리]아이보리 바디워시 오리지널 887ml 2개',\n",
       " '[토리밤]여름히트 풍기인견/자가드/유아동/주니어/내의/실내복',\n",
       " 'G마켓x브리치 바이름 스커트/원피스 + 10%쿠폰',\n",
       " '[네슬레]네슬레 퓨어라이프 2Lx12 500mlx20 330mlx20 생수 물',\n",
       " '칸타타 아이스커피 190mlx20팩/쟈뎅까페리얼/카페베네',\n",
       " '[트라이]5매4900원/여자팬티/여성팬티/여성속옷/여자속옷',\n",
       " '[인텍스]INTEX사각유아풀/베이비무지개풀/돌고래튜브/발펌프',\n",
       " '[도리도리]도리도리 아기물티슈 100매캡 10팩+10팩 식약처 cGMP',\n",
       " '플랫 샌들 미들굽 스트랩 웨지 힐 통굽 여름 여자여성',\n",
       " '[요즘에]여름신상/청바지/슬랙스/반바지/마/7부/빅사이즈',\n",
       " '[젤리스푼]아동복/상하복/원피스/반팔티/레깅스/팬츠/수영복',\n",
       " '[아비노 베이비]데일리 모이스처 로션 354ml 2개 +2개 본품 증정',\n",
       " '(현대Hmall)[영실업] 시크릿 셀카폰 시크릿셀카폰',\n",
       " '[에코샵모기장]18년 신형 AUTO_자동 모기장 원터치 텐트 사각 침대',\n",
       " '어린이집 생일선물  유치원 학원 단체선물 문구세트',\n",
       " '반바지/5부/7부/비치/트레이닝/바지/남자/남성',\n",
       " '[크록스]크록스 라이트라이드 샌들 우먼 205106 여성 쿠션 샌들',\n",
       " '사은품 여름모자/여름가방/아동/리본햇/라탄백',\n",
       " '롯데 설레임x20개/애플키위/밀크/커피/아이스크림']"
      ]
     },
     "execution_count": 22,
     "metadata": {},
     "output_type": "execute_result"
    }
   ],
   "source": [
    "response.xpath('//*[@id=\"gBestWrap\"]/div/div[3]/div[2]/ul/li[@class=\"first\"]/a/text()').extract()"
   ]
  },
  {
   "cell_type": "code",
   "execution_count": 23,
   "metadata": {},
   "outputs": [
    {
     "data": {
      "text/plain": [
       "['http://item.gmarket.co.kr/Item?goodscode=671706035',\n",
       " 'http://item.gmarket.co.kr/Item?goodscode=973325059',\n",
       " 'http://item.gmarket.co.kr/Item?goodscode=1285400026',\n",
       " 'http://item.gmarket.co.kr/Item?goodscode=832134879',\n",
       " 'http://item.gmarket.co.kr/Item?goodscode=979744196',\n",
       " 'http://item.gmarket.co.kr/Item?goodscode=777247382',\n",
       " 'http://item.gmarket.co.kr/Item?goodscode=965465869',\n",
       " 'http://item.gmarket.co.kr/Item?goodscode=1317790486',\n",
       " 'http://item.gmarket.co.kr/Item?goodscode=794203493',\n",
       " 'http://item.gmarket.co.kr/Item?goodscode=828961805',\n",
       " 'http://item.gmarket.co.kr/Item?goodscode=1429013972',\n",
       " 'http://item.gmarket.co.kr/Item?goodscode=531241652',\n",
       " 'http://item.gmarket.co.kr/Item?goodscode=1305662543',\n",
       " 'http://item.gmarket.co.kr/Item?goodscode=539654017',\n",
       " 'http://item.gmarket.co.kr/Item?goodscode=1146806295',\n",
       " 'http://item.gmarket.co.kr/Item?goodscode=1180592933',\n",
       " 'http://item.gmarket.co.kr/Item?goodscode=776869793',\n",
       " 'http://item.gmarket.co.kr/Item?goodscode=1285018027',\n",
       " 'http://item.gmarket.co.kr/Item?goodscode=637636954',\n",
       " 'http://item.gmarket.co.kr/Item?goodscode=1218878378',\n",
       " 'http://item.gmarket.co.kr/Item?goodscode=1123304308',\n",
       " 'http://item.gmarket.co.kr/Item?goodscode=1161401569',\n",
       " 'http://item.gmarket.co.kr/Item?goodscode=1108678685',\n",
       " 'http://item.gmarket.co.kr/Item?goodscode=1290405215',\n",
       " 'http://item.gmarket.co.kr/Item?goodscode=1296862210',\n",
       " 'http://item.gmarket.co.kr/Item?goodscode=684341816',\n",
       " 'http://item.gmarket.co.kr/Item?goodscode=999475684',\n",
       " 'http://item.gmarket.co.kr/Item?goodscode=844435059',\n",
       " 'http://item.gmarket.co.kr/Item?goodscode=1197546674',\n",
       " 'http://item.gmarket.co.kr/Item?goodscode=1369604479',\n",
       " 'http://item.gmarket.co.kr/Item?goodscode=995353399',\n",
       " 'http://item.gmarket.co.kr/Item?goodscode=1417972144',\n",
       " 'http://item.gmarket.co.kr/Item?goodscode=945737715',\n",
       " 'http://item.gmarket.co.kr/Item?goodscode=952523826',\n",
       " 'http://item.gmarket.co.kr/Item?goodscode=110892292',\n",
       " 'http://item.gmarket.co.kr/Item?goodscode=202147137',\n",
       " 'http://item.gmarket.co.kr/Item?goodscode=1407925387',\n",
       " 'http://item.gmarket.co.kr/Item?goodscode=1119058562',\n",
       " 'http://item.gmarket.co.kr/Item?goodscode=893235102',\n",
       " 'http://item.gmarket.co.kr/Item?goodscode=189607991',\n",
       " 'http://item.gmarket.co.kr/Item?goodscode=718652571',\n",
       " 'http://item.gmarket.co.kr/Item?goodscode=1226508233',\n",
       " 'http://item.gmarket.co.kr/Item?goodscode=1311171220',\n",
       " 'http://item.gmarket.co.kr/Item?goodscode=992268051',\n",
       " 'http://item.gmarket.co.kr/Item?goodscode=1285035307',\n",
       " 'http://item.gmarket.co.kr/Item?goodscode=1291383259',\n",
       " 'http://item.gmarket.co.kr/Item?goodscode=1421482323',\n",
       " 'http://item.gmarket.co.kr/Item?goodscode=1254827560',\n",
       " 'http://item.gmarket.co.kr/Item?goodscode=1346558674',\n",
       " 'http://item.gmarket.co.kr/Item?goodscode=377054740',\n",
       " 'http://item.gmarket.co.kr/Item?goodscode=728535132',\n",
       " 'http://item.gmarket.co.kr/Item?goodscode=1274438216',\n",
       " 'http://item.gmarket.co.kr/Item?goodscode=214762051',\n",
       " 'http://item.gmarket.co.kr/Item?goodscode=636171264',\n",
       " 'http://item.gmarket.co.kr/Item?goodscode=854729785',\n",
       " 'http://item.gmarket.co.kr/Item?goodscode=276995152',\n",
       " 'http://item.gmarket.co.kr/Item?goodscode=1319148127',\n",
       " 'http://item.gmarket.co.kr/Item?goodscode=940248569',\n",
       " 'http://item.gmarket.co.kr/Item?goodscode=189847992',\n",
       " 'http://item.gmarket.co.kr/Item?goodscode=958395717',\n",
       " 'http://item.gmarket.co.kr/Item?goodscode=787562120',\n",
       " 'http://item.gmarket.co.kr/Item?goodscode=1437831520',\n",
       " 'http://item.gmarket.co.kr/Item?goodscode=1411298791',\n",
       " 'http://item.gmarket.co.kr/Item?goodscode=355956993',\n",
       " 'http://item.gmarket.co.kr/Item?goodscode=953762331',\n",
       " 'http://item.gmarket.co.kr/Item?goodscode=794857600',\n",
       " 'http://item.gmarket.co.kr/Item?goodscode=961506205',\n",
       " 'http://item.gmarket.co.kr/Item?goodscode=1425642926',\n",
       " 'http://item.gmarket.co.kr/Item?goodscode=180245891',\n",
       " 'http://item.gmarket.co.kr/Item?goodscode=1434416148',\n",
       " 'http://item.gmarket.co.kr/Item?goodscode=1275244573',\n",
       " 'http://item.gmarket.co.kr/Item?goodscode=656389305',\n",
       " 'http://item.gmarket.co.kr/Item?goodscode=1222921612',\n",
       " 'http://item.gmarket.co.kr/Item?goodscode=166590234',\n",
       " 'http://item.gmarket.co.kr/Item?goodscode=957435021',\n",
       " 'http://item.gmarket.co.kr/Item?goodscode=960753074',\n",
       " 'http://item.gmarket.co.kr/Item?goodscode=912027211',\n",
       " 'http://item.gmarket.co.kr/Item?goodscode=890295578',\n",
       " 'http://item.gmarket.co.kr/Item?goodscode=558514988',\n",
       " 'http://item.gmarket.co.kr/Item?goodscode=798416412',\n",
       " 'http://item.gmarket.co.kr/Item?goodscode=327160300',\n",
       " 'http://item.gmarket.co.kr/Item?goodscode=701321142',\n",
       " 'http://item.gmarket.co.kr/Item?goodscode=194073627',\n",
       " 'http://item.gmarket.co.kr/Item?goodscode=540362011',\n",
       " 'http://item.gmarket.co.kr/Item?goodscode=1180403667',\n",
       " 'http://item.gmarket.co.kr/Item?goodscode=702618848',\n",
       " 'http://item.gmarket.co.kr/Item?goodscode=327271421',\n",
       " 'http://item.gmarket.co.kr/Item?goodscode=642550326',\n",
       " 'http://item.gmarket.co.kr/Item?goodscode=919582447',\n",
       " 'http://item.gmarket.co.kr/Item?goodscode=1280233513',\n",
       " 'http://item.gmarket.co.kr/Item?goodscode=159518443',\n",
       " 'http://item.gmarket.co.kr/Item?goodscode=388309848',\n",
       " 'http://item.gmarket.co.kr/Item?goodscode=967415691',\n",
       " 'http://item.gmarket.co.kr/Item?goodscode=1403513474',\n",
       " 'http://item.gmarket.co.kr/Item?goodscode=183084529',\n",
       " 'http://item.gmarket.co.kr/Item?goodscode=959676095',\n",
       " 'http://item.gmarket.co.kr/Item?goodscode=1181237070',\n",
       " 'http://item.gmarket.co.kr/Item?goodscode=977127849',\n",
       " 'http://item.gmarket.co.kr/Item?goodscode=185111203',\n",
       " 'http://item.gmarket.co.kr/Item?goodscode=285003609',\n",
       " 'http://item.gmarket.co.kr/Item?goodscode=881139523',\n",
       " 'http://item.gmarket.co.kr/Item?goodscode=804811102',\n",
       " 'http://item.gmarket.co.kr/Item?goodscode=208041573',\n",
       " 'http://item.gmarket.co.kr/Item?goodscode=1139484752',\n",
       " 'http://item.gmarket.co.kr/Item?goodscode=197555399',\n",
       " 'http://item.gmarket.co.kr/Item?goodscode=1386450715',\n",
       " 'http://item.gmarket.co.kr/Item?goodscode=185126914',\n",
       " 'http://item.gmarket.co.kr/Item?goodscode=1444759602',\n",
       " 'http://item.gmarket.co.kr/Item?goodscode=410374883',\n",
       " 'http://item.gmarket.co.kr/Item?goodscode=738640502',\n",
       " 'http://item.gmarket.co.kr/Item?goodscode=798285227',\n",
       " 'http://item.gmarket.co.kr/Item?goodscode=628153284',\n",
       " 'http://item.gmarket.co.kr/Item?goodscode=1325084434',\n",
       " 'http://item.gmarket.co.kr/Item?goodscode=221697646',\n",
       " 'http://item.gmarket.co.kr/Item?goodscode=1409806101',\n",
       " 'http://item.gmarket.co.kr/Item?goodscode=1403282520',\n",
       " 'http://item.gmarket.co.kr/Item?goodscode=256042900',\n",
       " 'http://item.gmarket.co.kr/Item?goodscode=1442522083',\n",
       " 'http://item.gmarket.co.kr/Item?goodscode=921078104',\n",
       " 'http://item.gmarket.co.kr/Item?goodscode=1433160657',\n",
       " 'http://item.gmarket.co.kr/Item?goodscode=373058782',\n",
       " 'http://item.gmarket.co.kr/Item?goodscode=880695639',\n",
       " 'http://item.gmarket.co.kr/Item?goodscode=669317096',\n",
       " 'http://item.gmarket.co.kr/Item?goodscode=968154133',\n",
       " 'http://item.gmarket.co.kr/Item?goodscode=1410067356',\n",
       " 'http://item.gmarket.co.kr/Item?goodscode=1168112251',\n",
       " 'http://item.gmarket.co.kr/Item?goodscode=890615837',\n",
       " 'http://item.gmarket.co.kr/Item?goodscode=1322052136',\n",
       " 'http://item.gmarket.co.kr/Item?goodscode=825401881',\n",
       " 'http://item.gmarket.co.kr/Item?goodscode=1441662556',\n",
       " 'http://item.gmarket.co.kr/Item?goodscode=891721554',\n",
       " 'http://item.gmarket.co.kr/Item?goodscode=594234642',\n",
       " 'http://item.gmarket.co.kr/Item?goodscode=1255060576',\n",
       " 'http://item.gmarket.co.kr/Item?goodscode=205297444',\n",
       " 'http://item.gmarket.co.kr/Item?goodscode=1398518428',\n",
       " 'http://item.gmarket.co.kr/Item?goodscode=1397723111',\n",
       " 'http://item.gmarket.co.kr/Item?goodscode=217438578',\n",
       " 'http://item.gmarket.co.kr/Item?goodscode=858294811',\n",
       " 'http://item.gmarket.co.kr/Item?goodscode=1345149344',\n",
       " 'http://item.gmarket.co.kr/Item?goodscode=965421352',\n",
       " 'http://item.gmarket.co.kr/Item?goodscode=809778358',\n",
       " 'http://item.gmarket.co.kr/Item?goodscode=810766105',\n",
       " 'http://item.gmarket.co.kr/Item?goodscode=730723913',\n",
       " 'http://item.gmarket.co.kr/Item?goodscode=734171059',\n",
       " 'http://item.gmarket.co.kr/Item?goodscode=166590202',\n",
       " 'http://item.gmarket.co.kr/Item?goodscode=1351901689',\n",
       " 'http://item.gmarket.co.kr/Item?goodscode=1446017899',\n",
       " 'http://item.gmarket.co.kr/Item?goodscode=627247117',\n",
       " 'http://item.gmarket.co.kr/Item?goodscode=808665406',\n",
       " 'http://item.gmarket.co.kr/Item?goodscode=739420945',\n",
       " 'http://item.gmarket.co.kr/Item?goodscode=797848555',\n",
       " 'http://item.gmarket.co.kr/Item?goodscode=654592294',\n",
       " 'http://item.gmarket.co.kr/Item?goodscode=1189236639',\n",
       " 'http://item.gmarket.co.kr/Item?goodscode=180246192',\n",
       " 'http://item.gmarket.co.kr/Item?goodscode=506726276',\n",
       " 'http://item.gmarket.co.kr/Item?goodscode=1368898359',\n",
       " 'http://item.gmarket.co.kr/Item?goodscode=246131712',\n",
       " 'http://item.gmarket.co.kr/Item?goodscode=761482815',\n",
       " 'http://item.gmarket.co.kr/Item?goodscode=1446292522',\n",
       " 'http://item.gmarket.co.kr/Item?goodscode=692804728',\n",
       " 'http://item.gmarket.co.kr/Item?goodscode=189842449',\n",
       " 'http://item.gmarket.co.kr/Item?goodscode=776898356',\n",
       " 'http://item.gmarket.co.kr/Item?goodscode=988406623',\n",
       " 'http://item.gmarket.co.kr/Item?goodscode=932044429',\n",
       " 'http://item.gmarket.co.kr/Item?goodscode=399488337',\n",
       " 'http://item.gmarket.co.kr/Item?goodscode=163755526',\n",
       " 'http://item.gmarket.co.kr/Item?goodscode=1181114050',\n",
       " 'http://item.gmarket.co.kr/Item?goodscode=528849355',\n",
       " 'http://item.gmarket.co.kr/Item?goodscode=1101666997',\n",
       " 'http://item.gmarket.co.kr/Item?goodscode=833569696',\n",
       " 'http://item.gmarket.co.kr/Item?goodscode=1433885246',\n",
       " 'http://item.gmarket.co.kr/Item?goodscode=1333691173',\n",
       " 'http://item.gmarket.co.kr/Item?goodscode=847347502',\n",
       " 'http://item.gmarket.co.kr/Item?goodscode=1124058049',\n",
       " 'http://item.gmarket.co.kr/Item?goodscode=948956761',\n",
       " 'http://item.gmarket.co.kr/Item?goodscode=912259165',\n",
       " 'http://item.gmarket.co.kr/Item?goodscode=210244625',\n",
       " 'http://item.gmarket.co.kr/Item?goodscode=1232143934',\n",
       " 'http://item.gmarket.co.kr/Item?goodscode=944271604',\n",
       " 'http://item.gmarket.co.kr/Item?goodscode=892756668',\n",
       " 'http://item.gmarket.co.kr/Item?goodscode=819309142',\n",
       " 'http://item.gmarket.co.kr/Item?goodscode=581785464',\n",
       " 'http://item.gmarket.co.kr/Item?goodscode=873585148',\n",
       " 'http://item.gmarket.co.kr/Item?goodscode=918287146',\n",
       " 'http://item.gmarket.co.kr/Item?goodscode=993329317',\n",
       " 'http://item.gmarket.co.kr/Item?goodscode=890293572',\n",
       " 'http://item.gmarket.co.kr/Item?goodscode=1407702158',\n",
       " 'http://item.gmarket.co.kr/Item?goodscode=818435803',\n",
       " 'http://item.gmarket.co.kr/Item?goodscode=1340602413',\n",
       " 'http://item.gmarket.co.kr/Item?goodscode=1434676946',\n",
       " 'http://item.gmarket.co.kr/Item?goodscode=817478321',\n",
       " 'http://item.gmarket.co.kr/Item?goodscode=978612580',\n",
       " 'http://item.gmarket.co.kr/Item?goodscode=715005151',\n",
       " 'http://item.gmarket.co.kr/Item?goodscode=485094178',\n",
       " 'http://item.gmarket.co.kr/Item?goodscode=1231827609',\n",
       " 'http://item.gmarket.co.kr/Item?goodscode=914197604',\n",
       " 'http://item.gmarket.co.kr/Item?goodscode=1101620656',\n",
       " 'http://item.gmarket.co.kr/Item?goodscode=968137263',\n",
       " 'http://item.gmarket.co.kr/Item?goodscode=1285000366',\n",
       " 'http://item.gmarket.co.kr/Item?goodscode=912935274']"
      ]
     },
     "execution_count": 23,
     "metadata": {},
     "output_type": "execute_result"
    }
   ],
   "source": [
    "response.xpath('//*[@id=\"gBestWrap\"]/div/div[3]/div[2]/ul/li/a/@href').extract()"
   ]
  },
  {
   "cell_type": "code",
   "execution_count": 25,
   "metadata": {},
   "outputs": [],
   "source": [
    "req = requests.get('https://naver.com/')"
   ]
  },
  {
   "cell_type": "code",
   "execution_count": 27,
   "metadata": {},
   "outputs": [
    {
     "data": {
      "text/plain": [
       "<200 https://www.naver.com/>"
      ]
     },
     "execution_count": 27,
     "metadata": {},
     "output_type": "execute_result"
    }
   ],
   "source": [
    "response = TextResponse(req.url,body = req.text, encoding = 'utf-8')\n",
    "response"
   ]
  },
  {
   "cell_type": "code",
   "execution_count": 35,
   "metadata": {},
   "outputs": [
    {
     "data": {
      "text/plain": [
       "['1', '일본 세네갈']"
      ]
     },
     "execution_count": 35,
     "metadata": {},
     "output_type": "execute_result"
    }
   ],
   "source": [
    "response.xpath('//*[@id=\"PM_ID_ct\"]/div[1]/div[2]/div[2]/div[1]/div/ul/li[1]/a/span/text()').extract()"
   ]
  },
  {
   "cell_type": "code",
   "execution_count": 33,
   "metadata": {},
   "outputs": [
    {
     "data": {
      "text/plain": [
       "['1']"
      ]
     },
     "execution_count": 33,
     "metadata": {},
     "output_type": "execute_result"
    }
   ],
   "source": [
    "response.xpath('//*[@id=\"PM_ID_ct\"]/div[1]/div[2]/div[2]/div[1]/div/ul/li[1]/a/span[1]/text()').extract()"
   ]
  },
  {
   "cell_type": "code",
   "execution_count": 34,
   "metadata": {},
   "outputs": [
    {
     "data": {
      "text/plain": [
       "['일본 세네갈']"
      ]
     },
     "execution_count": 34,
     "metadata": {},
     "output_type": "execute_result"
    }
   ],
   "source": [
    "response.xpath('//*[@id=\"PM_ID_ct\"]/div[1]/div[2]/div[2]/div[1]/div/ul/li[1]/a/span[2]/text()').extract()"
   ]
  }
 ],
 "metadata": {
  "kernelspec": {
   "display_name": "Python 3",
   "language": "python",
   "name": "python3"
  },
  "language_info": {
   "codemirror_mode": {
    "name": "ipython",
    "version": 3
   },
   "file_extension": ".py",
   "mimetype": "text/x-python",
   "name": "python",
   "nbconvert_exporter": "python",
   "pygments_lexer": "ipython3",
   "version": "3.6.5"
  }
 },
 "nbformat": 4,
 "nbformat_minor": 2
}
