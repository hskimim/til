{
 "cells": [
  {
   "cell_type": "markdown",
   "metadata": {},
   "source": [
    "## 공시 목록 페이지 얻기\n",
    "- 페이징 없이 전체를 한번에 다운로드\n",
    "- 쿠키 값을 지정해주어야 함"
   ]
  },
  {
   "cell_type": "code",
   "execution_count": 19,
   "metadata": {
    "collapsed": true
   },
   "outputs": [],
   "source": [
    "import requests"
   ]
  },
  {
   "cell_type": "code",
   "execution_count": 20,
   "metadata": {
    "collapsed": false
   },
   "outputs": [
    {
     "data": {
      "text/plain": [
       "'\\r\\n\\r\\n\\r\\n\\r\\n\\t<!--검색건수-->\\r\\n<div class=\"table_list\"><p class=\"table_tit\">\\r\\n\\t<b>\\r\\n\\t\\t\\r\\n\\t\\t\\r\\n\\t\\t\\r\\n\\t\\t\\r\\n        \\r\\n        \\r\\n\\t\\t전체\\r\\n\\t\\t &nbsp;0건\\r\\n\\t\\t\\r\\n\\t\\t\\t\\r\\n\\t\\t\\t\\t\\r\\n\\t\\t\\t\\r\\n\\t\\t\\t\\t\\r\\n\\t\\t\\t\\r\\n\\t\\t\\t\\t\\r\\n\\t\\t\\t\\r\\n\\t\\t\\t\\t\\r\\n\\t\\t\\t\\r\\n\\t\\t\\t\\t\\r\\n\\t\\t\\t\\r\\n\\t\\t\\r\\n\\t</b></p>\\r\\n\\r\\n\\t<!--검색 sort -->\\r\\n\\t<div class=\"sort\" >\\r\\n\\t\\t\\r\\n\\t    \\t\\r\\n\\t\\t\\t\\r\\n\\t\\t\\t\\r\\n\\t\\t\\r\\n\\t\\t\\r\\n\\t\\t\\t\\r\\n\\t\\t\\t   <a href=\"#time1\" id=\"time1\" onclick=\"setOrder(time); return false;\">\\r\\n\\t\\t\\t\\t\\t<img name=\"sortImg\" id=\"time\" src=\"/images/sort/time/on_desc.gif\" alt=\"시간 내림차순\" title=\"시간 내림차순\" /></a>\\r\\n\\t\\t\\t\\t<a href=\"#crp1\" id=\"crp1\" onclick=\"setOrder(crp);  return false;\">\\r\\n\\t\\t\\t\\t\\t<img name=\"sortImg\" id=\"crp\" src=\"/images/sort/crp/off_asc.gif\" alt=\"회사별 오름차순\" title=\"회사별 오름차순\" /></a>\\r\\n\\t\\t\\t\\t<a href=\"#rpt1\"  id=\"rpt1\" onclick=\"setOrder(rpt);  return false;\">\\r\\n\\t\\t\\t\\t\\t<img name=\"sortImg\"  id=\"rpt\" src=\"/images/sort/rpt/off_asc.gif\" alt=\"보고서별 오름차순\" title=\"보고서별 오름차순\" /></a>\\r\\n\\t\\t\\t\\r\\n\\t\\t\\t\\r\\n\\t\\t\\t\\r\\n\\t\\t\\t\\r\\n\\t\\t\\r\\n\\t</div>\\r\\n\\r\\n<!--목록 -->\\r\\n<table summary=\"유가증권시장에 대한 시간, 공시대상회사, 보고서명, 제출인, 접수일자, 비고 등을 알리는 표입니다.\" style=\"table-layout: fixed;\">\\r\\n\\t<caption>유가'"
      ]
     },
     "execution_count": 20,
     "metadata": {},
     "output_type": "execute_result"
    }
   ],
   "source": [
    "url = 'http://dart.fss.or.kr/dsac001/search.ax?selectDate=2017.04.01'\n",
    "headers = {'Cookie':'DSAC001_MAXRESULTS=10000;'}\n",
    "\n",
    "r = requests.get(url, headers=headers)\n",
    "r.text[:1000]"
   ]
  },
  {
   "cell_type": "markdown",
   "metadata": {},
   "source": [
    "날짜 구간 생성"
   ]
  },
  {
   "cell_type": "code",
   "execution_count": 1,
   "metadata": {
    "collapsed": true
   },
   "outputs": [],
   "source": [
    "from datetime import datetime , timedelta"
   ]
  },
  {
   "cell_type": "code",
   "execution_count": 13,
   "metadata": {
    "collapsed": true
   },
   "outputs": [],
   "source": [
    "start_day = datetime(2018,4,1)\n",
    "end_day = datetime.today()"
   ]
  },
  {
   "cell_type": "code",
   "execution_count": 14,
   "metadata": {
    "collapsed": false
   },
   "outputs": [
    {
     "data": {
      "text/plain": [
       "datetime.timedelta(179, 30757, 244263)"
      ]
     },
     "execution_count": 14,
     "metadata": {},
     "output_type": "execute_result"
    }
   ],
   "source": [
    "delta = end_day - start_day\n",
    "delta"
   ]
  },
  {
   "cell_type": "code",
   "execution_count": 15,
   "metadata": {
    "collapsed": false
   },
   "outputs": [
    {
     "data": {
      "text/plain": [
       "179"
      ]
     },
     "execution_count": 15,
     "metadata": {},
     "output_type": "execute_result"
    }
   ],
   "source": [
    "delta.days"
   ]
  },
  {
   "cell_type": "code",
   "execution_count": 16,
   "metadata": {
    "collapsed": false
   },
   "outputs": [
    {
     "name": "stdout",
     "output_type": "stream",
     "text": [
      "2018-04-01\n",
      "2018-04-02\n",
      "2018-04-03\n",
      "2018-04-04\n",
      "2018-04-05\n",
      "2018-04-06\n",
      "2018-04-07\n",
      "2018-04-08\n",
      "2018-04-09\n",
      "2018-04-10\n",
      "2018-04-11\n",
      "2018-04-12\n",
      "2018-04-13\n",
      "2018-04-14\n",
      "2018-04-15\n",
      "2018-04-16\n",
      "2018-04-17\n",
      "2018-04-18\n",
      "2018-04-19\n",
      "2018-04-20\n",
      "2018-04-21\n",
      "2018-04-22\n",
      "2018-04-23\n",
      "2018-04-24\n",
      "2018-04-25\n",
      "2018-04-26\n",
      "2018-04-27\n",
      "2018-04-28\n",
      "2018-04-29\n",
      "2018-04-30\n",
      "2018-05-01\n",
      "2018-05-02\n",
      "2018-05-03\n",
      "2018-05-04\n",
      "2018-05-05\n",
      "2018-05-06\n",
      "2018-05-07\n",
      "2018-05-08\n",
      "2018-05-09\n",
      "2018-05-10\n",
      "2018-05-11\n",
      "2018-05-12\n",
      "2018-05-13\n",
      "2018-05-14\n",
      "2018-05-15\n",
      "2018-05-16\n",
      "2018-05-17\n",
      "2018-05-18\n",
      "2018-05-19\n",
      "2018-05-20\n",
      "2018-05-21\n",
      "2018-05-22\n",
      "2018-05-23\n",
      "2018-05-24\n",
      "2018-05-25\n",
      "2018-05-26\n",
      "2018-05-27\n",
      "2018-05-28\n",
      "2018-05-29\n",
      "2018-05-30\n",
      "2018-05-31\n",
      "2018-06-01\n",
      "2018-06-02\n",
      "2018-06-03\n",
      "2018-06-04\n",
      "2018-06-05\n",
      "2018-06-06\n",
      "2018-06-07\n",
      "2018-06-08\n",
      "2018-06-09\n",
      "2018-06-10\n",
      "2018-06-11\n",
      "2018-06-12\n",
      "2018-06-13\n",
      "2018-06-14\n",
      "2018-06-15\n",
      "2018-06-16\n",
      "2018-06-17\n",
      "2018-06-18\n",
      "2018-06-19\n",
      "2018-06-20\n",
      "2018-06-21\n",
      "2018-06-22\n",
      "2018-06-23\n",
      "2018-06-24\n",
      "2018-06-25\n",
      "2018-06-26\n",
      "2018-06-27\n",
      "2018-06-28\n",
      "2018-06-29\n",
      "2018-06-30\n",
      "2018-07-01\n",
      "2018-07-02\n",
      "2018-07-03\n",
      "2018-07-04\n",
      "2018-07-05\n",
      "2018-07-06\n",
      "2018-07-07\n",
      "2018-07-08\n",
      "2018-07-09\n",
      "2018-07-10\n",
      "2018-07-11\n",
      "2018-07-12\n",
      "2018-07-13\n",
      "2018-07-14\n",
      "2018-07-15\n",
      "2018-07-16\n",
      "2018-07-17\n",
      "2018-07-18\n",
      "2018-07-19\n",
      "2018-07-20\n",
      "2018-07-21\n",
      "2018-07-22\n",
      "2018-07-23\n",
      "2018-07-24\n",
      "2018-07-25\n",
      "2018-07-26\n",
      "2018-07-27\n",
      "2018-07-28\n",
      "2018-07-29\n",
      "2018-07-30\n",
      "2018-07-31\n",
      "2018-08-01\n",
      "2018-08-02\n",
      "2018-08-03\n",
      "2018-08-04\n",
      "2018-08-05\n",
      "2018-08-06\n",
      "2018-08-07\n",
      "2018-08-08\n",
      "2018-08-09\n",
      "2018-08-10\n",
      "2018-08-11\n",
      "2018-08-12\n",
      "2018-08-13\n",
      "2018-08-14\n",
      "2018-08-15\n",
      "2018-08-16\n",
      "2018-08-17\n",
      "2018-08-18\n",
      "2018-08-19\n",
      "2018-08-20\n",
      "2018-08-21\n",
      "2018-08-22\n",
      "2018-08-23\n",
      "2018-08-24\n",
      "2018-08-25\n",
      "2018-08-26\n",
      "2018-08-27\n",
      "2018-08-28\n",
      "2018-08-29\n",
      "2018-08-30\n",
      "2018-08-31\n",
      "2018-09-01\n",
      "2018-09-02\n",
      "2018-09-03\n",
      "2018-09-04\n",
      "2018-09-05\n",
      "2018-09-06\n",
      "2018-09-07\n",
      "2018-09-08\n",
      "2018-09-09\n",
      "2018-09-10\n",
      "2018-09-11\n",
      "2018-09-12\n",
      "2018-09-13\n",
      "2018-09-14\n",
      "2018-09-15\n",
      "2018-09-16\n",
      "2018-09-17\n",
      "2018-09-18\n",
      "2018-09-19\n",
      "2018-09-20\n",
      "2018-09-21\n",
      "2018-09-22\n",
      "2018-09-23\n",
      "2018-09-24\n",
      "2018-09-25\n",
      "2018-09-26\n",
      "2018-09-27\n"
     ]
    }
   ],
   "source": [
    "for i in range(delta.days + 1):\n",
    "    d = start_day + timedelta(days = i)\n",
    "    print(d.strftime('%Y-%m-%d'))"
   ]
  },
  {
   "cell_type": "markdown",
   "metadata": {},
   "source": [
    "폴더 생성"
   ]
  },
  {
   "cell_type": "code",
   "execution_count": 17,
   "metadata": {
    "collapsed": true
   },
   "outputs": [],
   "source": [
    "import os"
   ]
  },
  {
   "cell_type": "code",
   "execution_count": 18,
   "metadata": {
    "collapsed": true
   },
   "outputs": [],
   "source": [
    "def mkdir_sure(filename):\n",
    "    folder = os.path.dirname(filename)\n",
    "#     Returns the directory component of a pathname\n",
    "    if not os.path.exists(folder):\n",
    "#         Test whether a path exists.  Returns False for broken symbolic links\n",
    "        os.makedirs(folder)"
   ]
  },
  {
   "cell_type": "markdown",
   "metadata": {},
   "source": [
    "위에 것을 다 합쳐서 HTML 다운로드"
   ]
  },
  {
   "cell_type": "code",
   "execution_count": null,
   "metadata": {
    "collapsed": true
   },
   "outputs": [],
   "source": [
    "import os\n",
    "import requests\n",
    "from datetime import datetime, timedelta\n",
    "\n",
    "\n",
    "def mkdir_sure(filename):\n",
    "    folder=os.path.dirname(filename)\n",
    "    if not os.path.exists(folder):\n",
    "        os.makedirs(folder)\n",
    "\n",
    "if __name__ == '__main__':\n",
    "    start_day = datetime(2017, 4, 1)\n",
    "    end_day = datetime(2017, 4, 15)\n",
    "    delta = end_day - start_day\n",
    "\n",
    "    data_dir = './data_html/'\n",
    "    mkdir_sure(data_dir)\n",
    "\n",
    "    url_tmpl = 'http://dart.fss.or.kr/dsac001/search.ax?selectDate='\n",
    "    headers = {'Cookie':'DSAC001_MAXRESULTS=10000;'}\n",
    "\n",
    "    for i in range(delta.days + 1):\n",
    "        d = start_day + timedelta(days=i)\n",
    "        filename = 'DART-' + d.strftime('%Y-%m-%d') + '.html'\n",
    "\n",
    "        with open(data_dir + filename, 'wb') as f:\n",
    "            url = url_tmpl + d.strftime('%Y.%m.%d')\n",
    "            r = requests.get(url, headers=headers)\n",
    "            f.write(r.content)\n",
    "\n",
    "        fsize = os.path.getsize(data_dir + filename) / (1024 ** 2)\n",
    "        print (\"%s (%.2f MB) downloaded\" % (filename, fsize))"
   ]
  }
 ],
 "metadata": {
  "kernelspec": {
   "display_name": "Python 3",
   "language": "python",
   "name": "python3"
  },
  "language_info": {
   "codemirror_mode": {
    "name": "ipython",
    "version": 3
   },
   "file_extension": ".py",
   "mimetype": "text/x-python",
   "name": "python",
   "nbconvert_exporter": "python",
   "pygments_lexer": "ipython3",
   "version": "3.6.0"
  }
 },
 "nbformat": 4,
 "nbformat_minor": 2
}
