{
 "cells": [
  {
   "cell_type": "markdown",
   "metadata": {},
   "source": [
    "셀리니움은 브라우져를 자동화하는 툴로 테스팅을 목적으로 웹 어플리케이션을 자동화하는 목적으로 만들어졌지만 테스팅에 국한되서 사용되지는 않는다. 웹 기반의 작업들을 자동화하여 업무 효율성을 높일 수 있으며 다양한 언어와 다양한 브라우져를 지원한다."
   ]
  },
  {
   "cell_type": "code",
   "execution_count": 55,
   "metadata": {},
   "outputs": [],
   "source": [
    "from selenium import webdriver\n",
    "import time\n",
    "import pandas as pd\n",
    "from pandas.io.json import json_normalize"
   ]
  },
  {
   "cell_type": "code",
   "execution_count": 2,
   "metadata": {},
   "outputs": [],
   "source": [
    "driver = webdriver.Chrome()\n",
    "# make browser"
   ]
  },
  {
   "cell_type": "markdown",
   "metadata": {},
   "source": [
    "###### move to naver website\n",
    "driver.get('http://naver.com')"
   ]
  },
  {
   "cell_type": "code",
   "execution_count": 4,
   "metadata": {},
   "outputs": [],
   "source": [
    "driver.set_window_size(800,600)"
   ]
  },
  {
   "cell_type": "code",
   "execution_count": 5,
   "metadata": {},
   "outputs": [],
   "source": [
    "# 브라우저의 스크룰 위치 이동은 selenium webdriver 안에 메소드가 따로 없기 때문에 js 코드를 실행하여 \n",
    "# 실행할 수 있다.-- execute_script method\n",
    "script = 'window.scrollTo(200,300)'\n",
    "driver.execute_script(script)"
   ]
  },
  {
   "cell_type": "code",
   "execution_count": 6,
   "metadata": {},
   "outputs": [
    {
     "data": {
      "text/plain": [
       "'CDwindow-BC060A23508DB00B8DA53628D2ED7435'"
      ]
     },
     "execution_count": 6,
     "metadata": {},
     "output_type": "execute_result"
    }
   ],
   "source": [
    "# driver 의 현재 윈도우 객체를 저장한다. 이와 같이 윈도우의 객체를 저장하면 브라우져에\n",
    "# 여러 개의 탭이 있을 때 다른 탭에서 저장되어 있는 윈도우 객체의 탭으로 돌아올 수 있다.\n",
    "main_window = driver.current_window_handle\n",
    "main_window"
   ]
  },
  {
   "cell_type": "code",
   "execution_count": 7,
   "metadata": {},
   "outputs": [],
   "source": [
    "# new tap opens\n",
    "script = 'window.open(\"https://google.com\")'\n",
    "driver.execute_script(script)"
   ]
  },
  {
   "cell_type": "code",
   "execution_count": 15,
   "metadata": {},
   "outputs": [],
   "source": [
    "# alert 다루기\n",
    "# 아래와 같이 alert가 나오는 js code를 실행시키면 크롬 브라우져의 웹 페이지에서 alert메시지가 나옵니다. \n",
    "script = 'alert(\"selenium test\");'\n",
    "driver.execute_script(script)"
   ]
  },
  {
   "cell_type": "code",
   "execution_count": 24,
   "metadata": {},
   "outputs": [],
   "source": [
    "driver.execute_script(\"alert('selenium test');\")\n",
    "alert = driver.switch_to_alert()\n",
    "alert.text\n",
    "time.sleep(2)\n",
    "alert.accept()"
   ]
  },
  {
   "cell_type": "markdown",
   "metadata": {},
   "source": [
    "confirm은 alert와 비슷하지만 취소버튼도 있다. selenium 에서는 confirm의 확인,취소버튼을 누를 수 있는 기능을 제공한다. "
   ]
  },
  {
   "cell_type": "code",
   "execution_count": 27,
   "metadata": {},
   "outputs": [],
   "source": [
    "script = 'confirm(\"confirm?\");'\n",
    "driver.execute_script(script)"
   ]
  },
  {
   "cell_type": "code",
   "execution_count": 28,
   "metadata": {},
   "outputs": [
    {
     "data": {
      "text/plain": [
       "'confirm?'"
      ]
     },
     "execution_count": 28,
     "metadata": {},
     "output_type": "execute_result"
    }
   ],
   "source": [
    "alert = driver.switch_to_alert()\n",
    "alert.text"
   ]
  },
  {
   "cell_type": "code",
   "execution_count": 30,
   "metadata": {},
   "outputs": [],
   "source": [
    "alert.accept() #ok button\n",
    "alert.dismiss()# cancel button\n",
    "driver.close() #close the current window browser\n",
    "driver.quit()# quit the browser"
   ]
  },
  {
   "cell_type": "markdown",
   "metadata": {},
   "source": [
    "google vision api file uploading practice"
   ]
  },
  {
   "cell_type": "code",
   "execution_count": 31,
   "metadata": {},
   "outputs": [],
   "source": [
    "from selenium import webdriver\n",
    "driver = webdriver.Chrome()\n",
    "driver.get('https://cloud.google.com/vision/')"
   ]
  },
  {
   "cell_type": "markdown",
   "metadata": {},
   "source": [
    "google vision api에서 파일을 업로드하는 영역은 iframe으로 되어 있다. 웹페이지 안에 다른 url을 가지는 웹페이지를 보여주는 기능이 있는 태그를 iframe이라고한다. 우선 iframe으로 포커싱을 해주어야 한다."
   ]
  },
  {
   "cell_type": "code",
   "execution_count": 33,
   "metadata": {},
   "outputs": [],
   "source": [
    "iframe = driver.find_element_by_css_selector('#vision_demo_section > iframe')\n",
    "driver.switch_to_frame(iframe)"
   ]
  },
  {
   "cell_type": "code",
   "execution_count": 34,
   "metadata": {},
   "outputs": [],
   "source": [
    "# driver.switch_to_default_content\n",
    "# 위의 함수를 쓰면 포커싱이 iframe에서 나와 사이트를 다시 가리키게 됩니다."
   ]
  },
  {
   "cell_type": "code",
   "execution_count": 35,
   "metadata": {},
   "outputs": [],
   "source": [
    "# file upload\n",
    "# you should write the path of the file\n",
    "file_path = '/home/hskimim/Downloads/dog.png'\n",
    "driver.find_element_by_css_selector('#input').send_keys(file_path)"
   ]
  },
  {
   "cell_type": "code",
   "execution_count": 36,
   "metadata": {},
   "outputs": [],
   "source": [
    "driver.find_element_by_css_selector('#webDetection').click()"
   ]
  },
  {
   "cell_type": "code",
   "execution_count": 41,
   "metadata": {},
   "outputs": [
    {
     "name": "stdout",
     "output_type": "stream",
     "text": [
      "French Bulldog 1.29047\n",
      "Boston Terrier 1.28066\n",
      "Bulldog 1.27885\n",
      "Bull Terrier 1.07139\n",
      "Soft-coated Wheaten Terrier 0.98682\n",
      "Puppy 0.8898\n",
      "Border Collie 0.78608\n",
      "Terrier 0.6546\n",
      "Pet 0.6301\n",
      "Brindle 0.5639\n",
      "Dog breed 0.4977\n",
      "Breed 0.4297\n",
      "Veterinarian 0.4175\n",
      "Black Brindle 0.4112\n",
      "Dog 0\n"
     ]
    }
   ],
   "source": [
    "web_results = driver.find_elements_by_css_selector('#card > .container  > .row')[:15]\n",
    "for web_result in web_results:\n",
    "    print(\n",
    "    web_result.find_element_by_css_selector('.name').text,\n",
    "    web_result.find_element_by_css_selector('.score').text\n",
    "    )"
   ]
  },
  {
   "cell_type": "code",
   "execution_count": 44,
   "metadata": {},
   "outputs": [],
   "source": [
    "driver.find_element_by_css_selector('#fullTextAnnotation').click()"
   ]
  },
  {
   "cell_type": "code",
   "execution_count": 45,
   "metadata": {},
   "outputs": [
    {
     "data": {
      "text/plain": [
       "2"
      ]
     },
     "execution_count": 45,
     "metadata": {},
     "output_type": "execute_result"
    }
   ],
   "source": [
    "doc_results = driver.find_elements_by_css_selector('.page > .container.style-scope.vs-document > fieldset')\n",
    "len(doc_results)"
   ]
  },
  {
   "cell_type": "code",
   "execution_count": 46,
   "metadata": {},
   "outputs": [
    {
     "data": {
      "text/plain": [
       "['In the dog house', \"' 인기를 잃다 , 면목을 잃다\"]"
      ]
     },
     "execution_count": 46,
     "metadata": {},
     "output_type": "execute_result"
    }
   ],
   "source": [
    "documents = []\n",
    "for doc_result in doc_results:\n",
    "    words = doc_result.find_elements_by_css_selector('.container .word')\n",
    "    sentence_list = []\n",
    "    for word in words:\n",
    "        word = word.text.replace(' ','')\n",
    "        sentence_list.append(word)\n",
    "    documents.append(' '.join(sentence_list))\n",
    "documents"
   ]
  },
  {
   "cell_type": "code",
   "execution_count": 47,
   "metadata": {},
   "outputs": [],
   "source": [
    "driver.quit()"
   ]
  },
  {
   "cell_type": "markdown",
   "metadata": {},
   "source": [
    "### 스크래핑\n",
    "- gmarket 베스트 셀러 데이터를 수집"
   ]
  },
  {
   "cell_type": "code",
   "execution_count": 48,
   "metadata": {},
   "outputs": [],
   "source": [
    "url = 'http://corners.gmarket.co.kr/Bestsellers'\n",
    "driver = webdriver.Chrome()\n",
    "driver.get(url)"
   ]
  },
  {
   "cell_type": "code",
   "execution_count": 60,
   "metadata": {},
   "outputs": [
    {
     "data": {
      "text/plain": [
       "200"
      ]
     },
     "execution_count": 60,
     "metadata": {},
     "output_type": "execute_result"
    }
   ],
   "source": [
    "best_commodities = driver.find_elements_by_css_selector('.best-list:nth-child(3)>ul >li ')\n",
    "len(best_commodities)"
   ]
  },
  {
   "cell_type": "code",
   "execution_count": 72,
   "metadata": {},
   "outputs": [
    {
     "ename": "SyntaxError",
     "evalue": "invalid syntax (<ipython-input-72-6648ff33cec7>, line 6)",
     "output_type": "error",
     "traceback": [
      "\u001b[0;36m  File \u001b[0;32m\"<ipython-input-72-6648ff33cec7>\"\u001b[0;36m, line \u001b[0;32m6\u001b[0m\n\u001b[0;31m    's-price':commodity.find_element_by_css_selector('.s-price').split(\" \")[0].replace(',',\"\")[:-1],\u001b[0m\n\u001b[0m            ^\u001b[0m\n\u001b[0;31mSyntaxError\u001b[0m\u001b[0;31m:\u001b[0m invalid syntax\n"
     ]
    }
   ],
   "source": [
    "dict_list=[]\n",
    "for commodity in best_commodities[:100]:\n",
    "    dict_list.append({\n",
    "        'title':commodity.find_element_by_css_selector('.itemname').text,\n",
    "        'o-price':commodity.find_element_by_css_selector('.o-price')\\\n",
    "        .text.split(\" \")[0].replace(',',\"\")[:-1]\n",
    "        's-price':commodity.find_element_by_css_selector('.s-price').split(\" \")[0].replace(',',\"\")[:-1],\n",
    "        'link':commodity.find_element_by_css_selector('.itemname').get_attribute('href')\n",
    "    })\n",
    "df = pd.DataFrame(dict_list)\n",
    "df"
   ]
  },
  {
   "cell_type": "code",
   "execution_count": 68,
   "metadata": {},
   "outputs": [
    {
     "data": {
      "text/plain": [
       "25    \n",
       "44    \n",
       "89    \n",
       "Name: o-price, dtype: object"
      ]
     },
     "execution_count": 68,
     "metadata": {},
     "output_type": "execute_result"
    }
   ],
   "source": [
    "is_nodata=df['o-price']==''\n",
    "df['o-price'][is_nodata]"
   ]
  },
  {
   "cell_type": "code",
   "execution_count": 69,
   "metadata": {},
   "outputs": [
    {
     "data": {
      "text/html": [
       "<div>\n",
       "<style scoped>\n",
       "    .dataframe tbody tr th:only-of-type {\n",
       "        vertical-align: middle;\n",
       "    }\n",
       "\n",
       "    .dataframe tbody tr th {\n",
       "        vertical-align: top;\n",
       "    }\n",
       "\n",
       "    .dataframe thead th {\n",
       "        text-align: right;\n",
       "    }\n",
       "</style>\n",
       "<table border=\"1\" class=\"dataframe\">\n",
       "  <thead>\n",
       "    <tr style=\"text-align: right;\">\n",
       "      <th></th>\n",
       "      <th>link</th>\n",
       "      <th>o-price</th>\n",
       "      <th>s-price</th>\n",
       "      <th>title</th>\n",
       "    </tr>\n",
       "  </thead>\n",
       "  <tbody>\n",
       "    <tr>\n",
       "      <th>0</th>\n",
       "      <td>http://item.gmarket.co.kr/Item?goodscode=62724...</td>\n",
       "      <td>19,500원</td>\n",
       "      <td>5,900원 69%</td>\n",
       "      <td>더다다/원피스형 롱티/신상/루즈/박시/빅사이즈</td>\n",
       "    </tr>\n",
       "    <tr>\n",
       "      <th>1</th>\n",
       "      <td>http://item.gmarket.co.kr/Item?goodscode=14301...</td>\n",
       "      <td>39,000원</td>\n",
       "      <td>28,470원 27%</td>\n",
       "      <td>[아디다스]니짜 CQ2332외 4종 택1 G/ 아디다스</td>\n",
       "    </tr>\n",
       "    <tr>\n",
       "      <th>2</th>\n",
       "      <td>http://item.gmarket.co.kr/Item?goodscode=63617...</td>\n",
       "      <td>30,000원</td>\n",
       "      <td>12,900원 57%</td>\n",
       "      <td>[동원샘물미네마인]동원 샘물 2Lx9병x3팩(총 27병) /생수</td>\n",
       "    </tr>\n",
       "    <tr>\n",
       "      <th>3</th>\n",
       "      <td>http://item.gmarket.co.kr/Item?goodscode=41037...</td>\n",
       "      <td>24,000원</td>\n",
       "      <td>4,900원 79%</td>\n",
       "      <td>[아망떼]1+1여름베개커버/인견/순면/30x50/40x60/50x70</td>\n",
       "    </tr>\n",
       "    <tr>\n",
       "      <th>4</th>\n",
       "      <td>http://item.gmarket.co.kr/Item?goodscode=14365...</td>\n",
       "      <td>39,900원</td>\n",
       "      <td>32,900원 17%</td>\n",
       "      <td>[하기스]2018년형 에어솔솔 썸머 팬티 / 밴드 기저귀 2팩</td>\n",
       "    </tr>\n",
       "    <tr>\n",
       "      <th>5</th>\n",
       "      <td>http://item.gmarket.co.kr/Item?goodscode=13005...</td>\n",
       "      <td>20,000원</td>\n",
       "      <td>12,900원 35%</td>\n",
       "      <td>[하림]하림 프로라인 치킨너겟 1kg 2봉+치킨너겟 100g(증정)</td>\n",
       "    </tr>\n",
       "    <tr>\n",
       "      <th>6</th>\n",
       "      <td>http://item.gmarket.co.kr/Item?goodscode=87359...</td>\n",
       "      <td>30,000원</td>\n",
       "      <td>13,900원 53%</td>\n",
       "      <td>[동원덴마크우유]동원 인포켓치즈 20g x20개+(저키x8개 or 치즈디퍼즈)</td>\n",
       "    </tr>\n",
       "    <tr>\n",
       "      <th>7</th>\n",
       "      <td>http://item.gmarket.co.kr/Item?goodscode=86949...</td>\n",
       "      <td>29,600원</td>\n",
       "      <td>8,900원 69%</td>\n",
       "      <td>유스타일팜 여름신상/빅사이즈/밴딩/데님/스커트</td>\n",
       "    </tr>\n",
       "    <tr>\n",
       "      <th>8</th>\n",
       "      <td>http://item.gmarket.co.kr/Item?goodscode=91202...</td>\n",
       "      <td>27,100원</td>\n",
       "      <td>16,900원 37%</td>\n",
       "      <td>CJ 햇반210gx24개/오뚜기밥24개/컵밥10개/컵반</td>\n",
       "    </tr>\n",
       "    <tr>\n",
       "      <th>9</th>\n",
       "      <td>http://item.gmarket.co.kr/Item?goodscode=14298...</td>\n",
       "      <td>29,000원</td>\n",
       "      <td>14,900원 48%</td>\n",
       "      <td>나이키 스우시 라운드 반팔 티셔츠</td>\n",
       "    </tr>\n",
       "    <tr>\n",
       "      <th>10</th>\n",
       "      <td>http://item.gmarket.co.kr/Item?goodscode=14299...</td>\n",
       "      <td>18,900원</td>\n",
       "      <td>8,900원 52%</td>\n",
       "      <td>자두와 살구의 특별한 만남 신품종 플럼코트 450g</td>\n",
       "    </tr>\n",
       "    <tr>\n",
       "      <th>11</th>\n",
       "      <td>http://item.gmarket.co.kr/Item?goodscode=94765...</td>\n",
       "      <td>65,900원</td>\n",
       "      <td>19,900원 69%</td>\n",
       "      <td>티셔츠5장9900 원피스/티셔츠/린넨팬츠 세트</td>\n",
       "    </tr>\n",
       "    <tr>\n",
       "      <th>12</th>\n",
       "      <td>http://item.gmarket.co.kr/Item?goodscode=86088...</td>\n",
       "      <td>42,900원</td>\n",
       "      <td>12,900원 69%</td>\n",
       "      <td>대박난박양 빅사이즈 원피스 블라우스 티셔츠 바지</td>\n",
       "    </tr>\n",
       "    <tr>\n",
       "      <th>13</th>\n",
       "      <td>http://item.gmarket.co.kr/Item?goodscode=14098...</td>\n",
       "      <td>32,900원</td>\n",
       "      <td>9,900원 69%</td>\n",
       "      <td>샌들 99균일가 플랫샌들 스트랩 웨지 슬리퍼 슬링백</td>\n",
       "    </tr>\n",
       "    <tr>\n",
       "      <th>14</th>\n",
       "      <td>http://item.gmarket.co.kr/Item?goodscode=14260...</td>\n",
       "      <td>14,900원</td>\n",
       "      <td>4,500원 69%</td>\n",
       "      <td>[티비제이]TBJ 남녀 여름 티셔츠/팬츠 특가 상품 모음</td>\n",
       "    </tr>\n",
       "    <tr>\n",
       "      <th>15</th>\n",
       "      <td>http://item.gmarket.co.kr/Item?goodscode=94895...</td>\n",
       "      <td>32,900원</td>\n",
       "      <td>9,900원 69%</td>\n",
       "      <td>올리(Ollie) 여성 여름 샌들/슬리퍼/에스파듀/통굽</td>\n",
       "    </tr>\n",
       "    <tr>\n",
       "      <th>16</th>\n",
       "      <td>http://item.gmarket.co.kr/Item?goodscode=13773...</td>\n",
       "      <td>24,800원</td>\n",
       "      <td>19,800원 20%</td>\n",
       "      <td>3+1 2018년 프롬비 휴대용 선풍기 매직스톰 핸즈프리</td>\n",
       "    </tr>\n",
       "    <tr>\n",
       "      <th>17</th>\n",
       "      <td>http://item.gmarket.co.kr/Item?goodscode=12802...</td>\n",
       "      <td>32,900원</td>\n",
       "      <td>9,900원 69%</td>\n",
       "      <td>티메이 원피스 블라우스 스커트 롱원피스</td>\n",
       "    </tr>\n",
       "    <tr>\n",
       "      <th>18</th>\n",
       "      <td>http://item.gmarket.co.kr/Item?goodscode=12958...</td>\n",
       "      <td>21,400원</td>\n",
       "      <td>13,900원 35%</td>\n",
       "      <td>[순창](기획)순창 찰고추장1kgx2+450gx2/양념/소스</td>\n",
       "    </tr>\n",
       "    <tr>\n",
       "      <th>19</th>\n",
       "      <td>http://item.gmarket.co.kr/Item?goodscode=11767...</td>\n",
       "      <td>32,900원</td>\n",
       "      <td>9,900원 69%</td>\n",
       "      <td>언니드랑 블라우스/원피스/팬츠/스커트/린넨</td>\n",
       "    </tr>\n",
       "    <tr>\n",
       "      <th>20</th>\n",
       "      <td>http://item.gmarket.co.kr/Item?goodscode=18511...</td>\n",
       "      <td>23,000원</td>\n",
       "      <td>11,900원 48%</td>\n",
       "      <td>[동원참치]동원 건강한참치 100gx9캔 +마일드 100gx3캔 (총12캔)</td>\n",
       "    </tr>\n",
       "    <tr>\n",
       "      <th>21</th>\n",
       "      <td>http://item.gmarket.co.kr/Item?goodscode=83035...</td>\n",
       "      <td>20,000원</td>\n",
       "      <td>9,900원 50%</td>\n",
       "      <td>[카카오프렌즈]카카오 노트8 5 4 S9 S8 G6 아이폰X 7 핸드폰 케이스</td>\n",
       "    </tr>\n",
       "    <tr>\n",
       "      <th>22</th>\n",
       "      <td>http://item.gmarket.co.kr/Item?goodscode=85712...</td>\n",
       "      <td>32,900원</td>\n",
       "      <td>9,900원 69%</td>\n",
       "      <td>[영실업]포터리스쿨 도자기스튜디오 LOL서프라이즈 주얼젤리</td>\n",
       "    </tr>\n",
       "    <tr>\n",
       "      <th>23</th>\n",
       "      <td>http://item.gmarket.co.kr/Item?goodscode=16375...</td>\n",
       "      <td>23,000원</td>\n",
       "      <td>6,900원 70%</td>\n",
       "      <td>역대급특가/반바지/치마바지/숏팬츠/청바지/SALE</td>\n",
       "    </tr>\n",
       "    <tr>\n",
       "      <th>24</th>\n",
       "      <td>http://item.gmarket.co.kr/Item?goodscode=75377...</td>\n",
       "      <td>63,000원</td>\n",
       "      <td>18,900원 70%</td>\n",
       "      <td>재입고 마지막 수량 크록스 특가 50종 택1(G180621)</td>\n",
       "    </tr>\n",
       "    <tr>\n",
       "      <th>25</th>\n",
       "      <td>http://item.gmarket.co.kr/Item?goodscode=87400...</td>\n",
       "      <td>53,000원</td>\n",
       "      <td>53,000원</td>\n",
       "      <td>2018 최신판 세이펜 허니북1탄/2탄/송아리 선택구매</td>\n",
       "    </tr>\n",
       "    <tr>\n",
       "      <th>26</th>\n",
       "      <td>http://item.gmarket.co.kr/Item?goodscode=73453...</td>\n",
       "      <td>75,600원</td>\n",
       "      <td>37,800원 50%</td>\n",
       "      <td>[미샤]미샤 6월 썸머 페스티벌 전품목 1+1 (6/19~6/23)</td>\n",
       "    </tr>\n",
       "    <tr>\n",
       "      <th>27</th>\n",
       "      <td>http://item.gmarket.co.kr/Item?goodscode=14295...</td>\n",
       "      <td>13,500원</td>\n",
       "      <td>10,900원 19%</td>\n",
       "      <td>키즈웰 젤리스트로우 800GX2개</td>\n",
       "    </tr>\n",
       "    <tr>\n",
       "      <th>28</th>\n",
       "      <td>http://item.gmarket.co.kr/Item?goodscode=79828...</td>\n",
       "      <td>36,000원</td>\n",
       "      <td>6,900원 80%</td>\n",
       "      <td>항균 여름이불패드 여름이불세트 침대패드 여름침구</td>\n",
       "    </tr>\n",
       "    <tr>\n",
       "      <th>29</th>\n",
       "      <td>http://item.gmarket.co.kr/Item?goodscode=95974...</td>\n",
       "      <td>23,000원</td>\n",
       "      <td>6,900원 70%</td>\n",
       "      <td>5900원~아쿠아슈즈 샌들 남성 여성샌들 아쿠아신발</td>\n",
       "    </tr>\n",
       "    <tr>\n",
       "      <th>...</th>\n",
       "      <td>...</td>\n",
       "      <td>...</td>\n",
       "      <td>...</td>\n",
       "      <td>...</td>\n",
       "    </tr>\n",
       "    <tr>\n",
       "      <th>70</th>\n",
       "      <td>http://item.gmarket.co.kr/Item?goodscode=96333...</td>\n",
       "      <td>41,900원</td>\n",
       "      <td>13,500원 67%</td>\n",
       "      <td>[테리파머]호텔수건 미국목화 타올 수건 리본포장 타월</td>\n",
       "    </tr>\n",
       "    <tr>\n",
       "      <th>71</th>\n",
       "      <td>http://item.gmarket.co.kr/Item?goodscode=98282...</td>\n",
       "      <td>129,000원</td>\n",
       "      <td>89,900원 30%</td>\n",
       "      <td>[한샘](최대혜택가84900원) 디퍼 메모리폼 양면형 토퍼 매트리스 SS 슈퍼싱글(...</td>\n",
       "    </tr>\n",
       "    <tr>\n",
       "      <th>72</th>\n",
       "      <td>http://item.gmarket.co.kr/Item?goodscode=14379...</td>\n",
       "      <td>28,900원</td>\n",
       "      <td>8,900원 69%</td>\n",
       "      <td>셀비엔 런칭특가 BEST 인기제품 단독 특가전</td>\n",
       "    </tr>\n",
       "    <tr>\n",
       "      <th>73</th>\n",
       "      <td>http://item.gmarket.co.kr/Item?goodscode=22691...</td>\n",
       "      <td>35,000원</td>\n",
       "      <td>10,900원 68%</td>\n",
       "      <td>[월튼키즈]여름세일/상하복/원피스/티셔츠/팬츠/래쉬가드</td>\n",
       "    </tr>\n",
       "    <tr>\n",
       "      <th>74</th>\n",
       "      <td>http://item.gmarket.co.kr/Item?goodscode=23787...</td>\n",
       "      <td>20,900원</td>\n",
       "      <td>14,200원 32%</td>\n",
       "      <td>우리스카이종이컵 2000개/6.5oz자판기용 /국내산</td>\n",
       "    </tr>\n",
       "    <tr>\n",
       "      <th>75</th>\n",
       "      <td>http://item.gmarket.co.kr/Item?goodscode=55574...</td>\n",
       "      <td>32,900원</td>\n",
       "      <td>22,500원 31%</td>\n",
       "      <td>[크리넥스]클래식클린 플러스 화장지 30롤 2팩+증정/휴지/각티슈</td>\n",
       "    </tr>\n",
       "    <tr>\n",
       "      <th>76</th>\n",
       "      <td>http://item.gmarket.co.kr/Item?goodscode=82896...</td>\n",
       "      <td>19,600원</td>\n",
       "      <td>9,800원 50%</td>\n",
       "      <td>[어퓨]어퓨 6월 빅세일 UP TO 50% 선케어1+1</td>\n",
       "    </tr>\n",
       "    <tr>\n",
       "      <th>77</th>\n",
       "      <td>http://item.gmarket.co.kr/Item?goodscode=66931...</td>\n",
       "      <td>18,900원</td>\n",
       "      <td>6,900원 63%</td>\n",
       "      <td>데일리샵 여름 티셔츠 신상/빅사이즈/반팔</td>\n",
       "    </tr>\n",
       "    <tr>\n",
       "      <th>78</th>\n",
       "      <td>http://item.gmarket.co.kr/Item?goodscode=13451...</td>\n",
       "      <td>45,900원</td>\n",
       "      <td>13,900원 69%</td>\n",
       "      <td>브리치x럭키567 여름최신상 티셔츠 /원피스/스커트</td>\n",
       "    </tr>\n",
       "    <tr>\n",
       "      <th>79</th>\n",
       "      <td>http://item.gmarket.co.kr/Item?goodscode=18024...</td>\n",
       "      <td>42,900원</td>\n",
       "      <td>12,900원 69%</td>\n",
       "      <td>[디프니]디프니 여름신상 큐티원피스/블라우스/셔츠</td>\n",
       "    </tr>\n",
       "    <tr>\n",
       "      <th>80</th>\n",
       "      <td>http://item.gmarket.co.kr/Item?goodscode=87110...</td>\n",
       "      <td>77,600원</td>\n",
       "      <td>23,300원 69%</td>\n",
       "      <td>원피스/슬랙스/블라우스/스커트/점프수트/린넨원피스</td>\n",
       "    </tr>\n",
       "    <tr>\n",
       "      <th>81</th>\n",
       "      <td>http://item.gmarket.co.kr/Item?goodscode=11468...</td>\n",
       "      <td>20,000원</td>\n",
       "      <td>14,000원 30%</td>\n",
       "      <td>에스쁘아 베스트템 최대 50%off</td>\n",
       "    </tr>\n",
       "    <tr>\n",
       "      <th>82</th>\n",
       "      <td>http://item.gmarket.co.kr/Item?goodscode=11240...</td>\n",
       "      <td>21,900원</td>\n",
       "      <td>11,900원 45%</td>\n",
       "      <td>아이러브베베물티슈핑크 100매 리필형X20팩</td>\n",
       "    </tr>\n",
       "    <tr>\n",
       "      <th>83</th>\n",
       "      <td>http://item.gmarket.co.kr/Item?goodscode=67974...</td>\n",
       "      <td>26,300원</td>\n",
       "      <td>7,900원 69%</td>\n",
       "      <td>또~ 신상 업뎃 플랫 샌들 7900원 세일~/스트랩/웨지</td>\n",
       "    </tr>\n",
       "    <tr>\n",
       "      <th>84</th>\n",
       "      <td>http://item.gmarket.co.kr/Item?goodscode=35330...</td>\n",
       "      <td>23,000원</td>\n",
       "      <td>7,900원 65%</td>\n",
       "      <td>S~4XL 반팔티/티셔츠/남자/면티/남성/의류/티/반팔</td>\n",
       "    </tr>\n",
       "    <tr>\n",
       "      <th>85</th>\n",
       "      <td>http://item.gmarket.co.kr/Item?goodscode=59423...</td>\n",
       "      <td>50,000원</td>\n",
       "      <td>48,000원 4%</td>\n",
       "      <td>[에스오일](S-OIL) 모바일주유권 5만원/ 실시간발송</td>\n",
       "    </tr>\n",
       "    <tr>\n",
       "      <th>86</th>\n",
       "      <td>http://item.gmarket.co.kr/Item?goodscode=63763...</td>\n",
       "      <td>22,000원</td>\n",
       "      <td>14,300원 35%</td>\n",
       "      <td>((20%쿠폰))클리오/페리페라 6월 클럽데이 ~65%</td>\n",
       "    </tr>\n",
       "    <tr>\n",
       "      <th>87</th>\n",
       "      <td>http://item.gmarket.co.kr/Item?goodscode=17752...</td>\n",
       "      <td>21,000원</td>\n",
       "      <td>10,000원 52%</td>\n",
       "      <td>[동원에프앤비]포도씨유 900mlx3병+카놀라유 900mlx3병+(김자반2봉)</td>\n",
       "    </tr>\n",
       "    <tr>\n",
       "      <th>88</th>\n",
       "      <td>http://item.gmarket.co.kr/Item?goodscode=14019...</td>\n",
       "      <td>13,900원</td>\n",
       "      <td>9,900원 28%</td>\n",
       "      <td>[에프킬라]에프킬라 에어로졸 킨 500ml x 4개 / 모기약</td>\n",
       "    </tr>\n",
       "    <tr>\n",
       "      <th>89</th>\n",
       "      <td>http://item.gmarket.co.kr/Item?goodscode=98295...</td>\n",
       "      <td>7,000원</td>\n",
       "      <td>7,000원</td>\n",
       "      <td>[신디키즈 외]여름 신상 티셔츠/원피스 외 균일가 3 900원~</td>\n",
       "    </tr>\n",
       "    <tr>\n",
       "      <th>90</th>\n",
       "      <td>http://item.gmarket.co.kr/Item?goodscode=15138...</td>\n",
       "      <td>48,000원</td>\n",
       "      <td>40,900원 14%</td>\n",
       "      <td>[맥심]쿠폰가36900원~/화이트/모카골드 420T/400T/커피믹스</td>\n",
       "    </tr>\n",
       "    <tr>\n",
       "      <th>91</th>\n",
       "      <td>http://item.gmarket.co.kr/Item?goodscode=14413...</td>\n",
       "      <td>25,600원</td>\n",
       "      <td>7,700원 69%</td>\n",
       "      <td>[드넬]드넬 루즈핏티셔츠/블라우스/원피스/프릴/롱셔츠</td>\n",
       "    </tr>\n",
       "    <tr>\n",
       "      <th>92</th>\n",
       "      <td>http://item.gmarket.co.kr/Item?goodscode=94600...</td>\n",
       "      <td>32,900원</td>\n",
       "      <td>9,900원 69%</td>\n",
       "      <td>그랜피니 NEW 신상 반팔/반바지/오버핏 무료배송</td>\n",
       "    </tr>\n",
       "    <tr>\n",
       "      <th>93</th>\n",
       "      <td>http://item.gmarket.co.kr/Item?goodscode=68434...</td>\n",
       "      <td>49,600원</td>\n",
       "      <td>14,900원 69%</td>\n",
       "      <td>(톰앤래빗) 지금필요한 BEST100</td>\n",
       "    </tr>\n",
       "    <tr>\n",
       "      <th>94</th>\n",
       "      <td>http://item.gmarket.co.kr/Item?goodscode=11976...</td>\n",
       "      <td>26,800원</td>\n",
       "      <td>11,800원 55%</td>\n",
       "      <td>베베맘마 아기 물티슈 100매 X 20팩 리필형</td>\n",
       "    </tr>\n",
       "    <tr>\n",
       "      <th>95</th>\n",
       "      <td>http://item.gmarket.co.kr/Item?goodscode=17514...</td>\n",
       "      <td>33,000원</td>\n",
       "      <td>9,900원 70%</td>\n",
       "      <td>[올시즌]여름청바지/스키니/9부/세미일자/빅사이즈/반바지</td>\n",
       "    </tr>\n",
       "    <tr>\n",
       "      <th>96</th>\n",
       "      <td>http://item.gmarket.co.kr/Item?goodscode=52884...</td>\n",
       "      <td>42,900원</td>\n",
       "      <td>12,900원 69%</td>\n",
       "      <td>여름신상 남자청바지/빅사이즈/스판/일자/면바지/행사</td>\n",
       "    </tr>\n",
       "    <tr>\n",
       "      <th>97</th>\n",
       "      <td>http://item.gmarket.co.kr/Item?goodscode=70132...</td>\n",
       "      <td>46,900원</td>\n",
       "      <td>42,210원 10%</td>\n",
       "      <td>[홈플러스]동진협동_갯마을천년의솜씨_20KG 포</td>\n",
       "    </tr>\n",
       "    <tr>\n",
       "      <th>98</th>\n",
       "      <td>http://item.gmarket.co.kr/Item?goodscode=14416...</td>\n",
       "      <td>29,000원</td>\n",
       "      <td>16,700원 42%</td>\n",
       "      <td>더마틱스 울트라겔 7g 15g 상처 흉터 연고</td>\n",
       "    </tr>\n",
       "    <tr>\n",
       "      <th>99</th>\n",
       "      <td>http://item.gmarket.co.kr/Item?goodscode=15196...</td>\n",
       "      <td>19,500원</td>\n",
       "      <td>5,900원 69%</td>\n",
       "      <td>그림아이 여름신상추가 시원한 상하복 모음</td>\n",
       "    </tr>\n",
       "  </tbody>\n",
       "</table>\n",
       "<p>100 rows × 4 columns</p>\n",
       "</div>"
      ],
      "text/plain": [
       "                                                 link   o-price      s-price                                              title\n",
       "0   http://item.gmarket.co.kr/Item?goodscode=62724...   19,500원   5,900원 69%                          더다다/원피스형 롱티/신상/루즈/박시/빅사이즈\n",
       "1   http://item.gmarket.co.kr/Item?goodscode=14301...   39,000원  28,470원 27%                     [아디다스]니짜 CQ2332외 4종 택1 G/ 아디다스\n",
       "2   http://item.gmarket.co.kr/Item?goodscode=63617...   30,000원  12,900원 57%                [동원샘물미네마인]동원 샘물 2Lx9병x3팩(총 27병) /생수\n",
       "3   http://item.gmarket.co.kr/Item?goodscode=41037...   24,000원   4,900원 79%             [아망떼]1+1여름베개커버/인견/순면/30x50/40x60/50x70\n",
       "4   http://item.gmarket.co.kr/Item?goodscode=14365...   39,900원  32,900원 17%                 [하기스]2018년형 에어솔솔 썸머 팬티 / 밴드 기저귀 2팩\n",
       "5   http://item.gmarket.co.kr/Item?goodscode=13005...   20,000원  12,900원 35%              [하림]하림 프로라인 치킨너겟 1kg 2봉+치킨너겟 100g(증정)\n",
       "6   http://item.gmarket.co.kr/Item?goodscode=87359...   30,000원  13,900원 53%        [동원덴마크우유]동원 인포켓치즈 20g x20개+(저키x8개 or 치즈디퍼즈)\n",
       "7   http://item.gmarket.co.kr/Item?goodscode=86949...   29,600원   8,900원 69%                          유스타일팜 여름신상/빅사이즈/밴딩/데님/스커트\n",
       "8   http://item.gmarket.co.kr/Item?goodscode=91202...   27,100원  16,900원 37%                     CJ 햇반210gx24개/오뚜기밥24개/컵밥10개/컵반\n",
       "9   http://item.gmarket.co.kr/Item?goodscode=14298...   29,000원  14,900원 48%                                 나이키 스우시 라운드 반팔 티셔츠\n",
       "10  http://item.gmarket.co.kr/Item?goodscode=14299...   18,900원   8,900원 52%                       자두와 살구의 특별한 만남 신품종 플럼코트 450g\n",
       "11  http://item.gmarket.co.kr/Item?goodscode=94765...   65,900원  19,900원 69%                          티셔츠5장9900 원피스/티셔츠/린넨팬츠 세트\n",
       "12  http://item.gmarket.co.kr/Item?goodscode=86088...   42,900원  12,900원 69%                         대박난박양 빅사이즈 원피스 블라우스 티셔츠 바지\n",
       "13  http://item.gmarket.co.kr/Item?goodscode=14098...   32,900원   9,900원 69%                       샌들 99균일가 플랫샌들 스트랩 웨지 슬리퍼 슬링백\n",
       "14  http://item.gmarket.co.kr/Item?goodscode=14260...   14,900원   4,500원 69%                    [티비제이]TBJ 남녀 여름 티셔츠/팬츠 특가 상품 모음\n",
       "15  http://item.gmarket.co.kr/Item?goodscode=94895...   32,900원   9,900원 69%                     올리(Ollie) 여성 여름 샌들/슬리퍼/에스파듀/통굽\n",
       "16  http://item.gmarket.co.kr/Item?goodscode=13773...   24,800원  19,800원 20%                    3+1 2018년 프롬비 휴대용 선풍기 매직스톰 핸즈프리\n",
       "17  http://item.gmarket.co.kr/Item?goodscode=12802...   32,900원   9,900원 69%                              티메이 원피스 블라우스 스커트 롱원피스\n",
       "18  http://item.gmarket.co.kr/Item?goodscode=12958...   21,400원  13,900원 35%                  [순창](기획)순창 찰고추장1kgx2+450gx2/양념/소스\n",
       "19  http://item.gmarket.co.kr/Item?goodscode=11767...   32,900원   9,900원 69%                            언니드랑 블라우스/원피스/팬츠/스커트/린넨\n",
       "20  http://item.gmarket.co.kr/Item?goodscode=18511...   23,000원  11,900원 48%         [동원참치]동원 건강한참치 100gx9캔 +마일드 100gx3캔 (총12캔)\n",
       "21  http://item.gmarket.co.kr/Item?goodscode=83035...   20,000원   9,900원 50%        [카카오프렌즈]카카오 노트8 5 4 S9 S8 G6 아이폰X 7 핸드폰 케이스\n",
       "22  http://item.gmarket.co.kr/Item?goodscode=85712...   32,900원   9,900원 69%                   [영실업]포터리스쿨 도자기스튜디오 LOL서프라이즈 주얼젤리\n",
       "23  http://item.gmarket.co.kr/Item?goodscode=16375...   23,000원   6,900원 70%                        역대급특가/반바지/치마바지/숏팬츠/청바지/SALE\n",
       "24  http://item.gmarket.co.kr/Item?goodscode=75377...   63,000원  18,900원 70%                  재입고 마지막 수량 크록스 특가 50종 택1(G180621)\n",
       "25  http://item.gmarket.co.kr/Item?goodscode=87400...   53,000원      53,000원                     2018 최신판 세이펜 허니북1탄/2탄/송아리 선택구매\n",
       "26  http://item.gmarket.co.kr/Item?goodscode=73453...   75,600원  37,800원 50%              [미샤]미샤 6월 썸머 페스티벌 전품목 1+1 (6/19~6/23)\n",
       "27  http://item.gmarket.co.kr/Item?goodscode=14295...   13,500원  10,900원 19%                                 키즈웰 젤리스트로우 800GX2개\n",
       "28  http://item.gmarket.co.kr/Item?goodscode=79828...   36,000원   6,900원 80%                         항균 여름이불패드 여름이불세트 침대패드 여름침구\n",
       "29  http://item.gmarket.co.kr/Item?goodscode=95974...   23,000원   6,900원 70%                       5900원~아쿠아슈즈 샌들 남성 여성샌들 아쿠아신발\n",
       "..                                                ...       ...          ...                                                ...\n",
       "70  http://item.gmarket.co.kr/Item?goodscode=96333...   41,900원  13,500원 67%                      [테리파머]호텔수건 미국목화 타올 수건 리본포장 타월\n",
       "71  http://item.gmarket.co.kr/Item?goodscode=98282...  129,000원  89,900원 30%  [한샘](최대혜택가84900원) 디퍼 메모리폼 양면형 토퍼 매트리스 SS 슈퍼싱글(...\n",
       "72  http://item.gmarket.co.kr/Item?goodscode=14379...   28,900원   8,900원 69%                          셀비엔 런칭특가 BEST 인기제품 단독 특가전\n",
       "73  http://item.gmarket.co.kr/Item?goodscode=22691...   35,000원  10,900원 68%                     [월튼키즈]여름세일/상하복/원피스/티셔츠/팬츠/래쉬가드\n",
       "74  http://item.gmarket.co.kr/Item?goodscode=23787...   20,900원  14,200원 32%                      우리스카이종이컵 2000개/6.5oz자판기용 /국내산\n",
       "75  http://item.gmarket.co.kr/Item?goodscode=55574...   32,900원  22,500원 31%               [크리넥스]클래식클린 플러스 화장지 30롤 2팩+증정/휴지/각티슈\n",
       "76  http://item.gmarket.co.kr/Item?goodscode=82896...   19,600원   9,800원 50%                     [어퓨]어퓨 6월 빅세일 UP TO 50% 선케어1+1\n",
       "77  http://item.gmarket.co.kr/Item?goodscode=66931...   18,900원   6,900원 63%                             데일리샵 여름 티셔츠 신상/빅사이즈/반팔\n",
       "78  http://item.gmarket.co.kr/Item?goodscode=13451...   45,900원  13,900원 69%                       브리치x럭키567 여름최신상 티셔츠 /원피스/스커트\n",
       "79  http://item.gmarket.co.kr/Item?goodscode=18024...   42,900원  12,900원 69%                        [디프니]디프니 여름신상 큐티원피스/블라우스/셔츠\n",
       "80  http://item.gmarket.co.kr/Item?goodscode=87110...   77,600원  23,300원 69%                        원피스/슬랙스/블라우스/스커트/점프수트/린넨원피스\n",
       "81  http://item.gmarket.co.kr/Item?goodscode=11468...   20,000원  14,000원 30%                                에스쁘아 베스트템 최대 50%off\n",
       "82  http://item.gmarket.co.kr/Item?goodscode=11240...   21,900원  11,900원 45%                           아이러브베베물티슈핑크 100매 리필형X20팩\n",
       "83  http://item.gmarket.co.kr/Item?goodscode=67974...   26,300원   7,900원 69%                    또~ 신상 업뎃 플랫 샌들 7900원 세일~/스트랩/웨지\n",
       "84  http://item.gmarket.co.kr/Item?goodscode=35330...   23,000원   7,900원 65%                     S~4XL 반팔티/티셔츠/남자/면티/남성/의류/티/반팔\n",
       "85  http://item.gmarket.co.kr/Item?goodscode=59423...   50,000원   48,000원 4%                    [에스오일](S-OIL) 모바일주유권 5만원/ 실시간발송\n",
       "86  http://item.gmarket.co.kr/Item?goodscode=63763...   22,000원  14,300원 35%                     ((20%쿠폰))클리오/페리페라 6월 클럽데이 ~65%\n",
       "87  http://item.gmarket.co.kr/Item?goodscode=17752...   21,000원  10,000원 52%        [동원에프앤비]포도씨유 900mlx3병+카놀라유 900mlx3병+(김자반2봉)\n",
       "88  http://item.gmarket.co.kr/Item?goodscode=14019...   13,900원   9,900원 28%                 [에프킬라]에프킬라 에어로졸 킨 500ml x 4개 / 모기약\n",
       "89  http://item.gmarket.co.kr/Item?goodscode=98295...    7,000원       7,000원                [신디키즈 외]여름 신상 티셔츠/원피스 외 균일가 3 900원~\n",
       "90  http://item.gmarket.co.kr/Item?goodscode=15138...   48,000원  40,900원 14%             [맥심]쿠폰가36900원~/화이트/모카골드 420T/400T/커피믹스\n",
       "91  http://item.gmarket.co.kr/Item?goodscode=14413...   25,600원   7,700원 69%                      [드넬]드넬 루즈핏티셔츠/블라우스/원피스/프릴/롱셔츠\n",
       "92  http://item.gmarket.co.kr/Item?goodscode=94600...   32,900원   9,900원 69%                        그랜피니 NEW 신상 반팔/반바지/오버핏 무료배송\n",
       "93  http://item.gmarket.co.kr/Item?goodscode=68434...   49,600원  14,900원 69%                               (톰앤래빗) 지금필요한 BEST100\n",
       "94  http://item.gmarket.co.kr/Item?goodscode=11976...   26,800원  11,800원 55%                         베베맘마 아기 물티슈 100매 X 20팩 리필형\n",
       "95  http://item.gmarket.co.kr/Item?goodscode=17514...   33,000원   9,900원 70%                    [올시즌]여름청바지/스키니/9부/세미일자/빅사이즈/반바지\n",
       "96  http://item.gmarket.co.kr/Item?goodscode=52884...   42,900원  12,900원 69%                       여름신상 남자청바지/빅사이즈/스판/일자/면바지/행사\n",
       "97  http://item.gmarket.co.kr/Item?goodscode=70132...   46,900원  42,210원 10%                         [홈플러스]동진협동_갯마을천년의솜씨_20KG 포\n",
       "98  http://item.gmarket.co.kr/Item?goodscode=14416...   29,000원  16,700원 42%                          더마틱스 울트라겔 7g 15g 상처 흉터 연고\n",
       "99  http://item.gmarket.co.kr/Item?goodscode=15196...   19,500원   5,900원 69%                             그림아이 여름신상추가 시원한 상하복 모음\n",
       "\n",
       "[100 rows x 4 columns]"
      ]
     },
     "execution_count": 69,
     "metadata": {},
     "output_type": "execute_result"
    }
   ],
   "source": [
    "df['o-price'][is_nodata] = df['s-price'][is_nodata]\n",
    "df"
   ]
  },
  {
   "cell_type": "code",
   "execution_count": null,
   "metadata": {},
   "outputs": [],
   "source": [
    "ratio = (df['o-price'].astype('int')-df['s-price'].astype('int'))/df['o-price'].astype('int')\n",
    "ratio = (ratio*100).astype('int').astype('str')+'%'\n",
    "df['ratio']=ratio\n",
    "df"
   ]
  },
  {
   "cell_type": "code",
   "execution_count": null,
   "metadata": {},
   "outputs": [],
   "source": [
    "driver.quit()"
   ]
  }
 ],
 "metadata": {
  "kernelspec": {
   "display_name": "Python 3",
   "language": "python",
   "name": "python3"
  },
  "language_info": {
   "codemirror_mode": {
    "name": "ipython",
    "version": 3
   },
   "file_extension": ".py",
   "mimetype": "text/x-python",
   "name": "python",
   "nbconvert_exporter": "python",
   "pygments_lexer": "ipython3",
   "version": "3.6.5"
  }
 },
 "nbformat": 4,
 "nbformat_minor": 2
}
