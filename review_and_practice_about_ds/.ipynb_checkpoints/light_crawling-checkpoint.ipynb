{
 "cells": [
  {
   "cell_type": "code",
   "execution_count": 45,
   "metadata": {
    "collapsed": true
   },
   "outputs": [],
   "source": [
    "import requests\n",
    "from bs4 import BeautifulSoup\n",
    "from IPython.display import display , Markdown"
   ]
  },
  {
   "cell_type": "markdown",
   "metadata": {},
   "source": [
    "r.text is the content of the response in unicode, and r.content is the content of the response in bytes."
   ]
  },
  {
   "cell_type": "code",
   "execution_count": 71,
   "metadata": {
    "collapsed": false
   },
   "outputs": [],
   "source": [
    "def __page_num(PageNum=1):\n",
    "    return 'https://finance.naver.com/news/mainnews.nhn?&page={}'.format(PageNum)\n",
    "\n",
    "def light_crawling(PageNum):\n",
    "    url = __page_num(PageNum)\n",
    "    response = requests.get(url)\n",
    "    dom = BeautifulSoup(response.content, 'lxml')\n",
    "    keywords = dom.select(\"ul.newsList > li\")\n",
    "    if PageNum == 1 :\n",
    "        stacked_title = [keyword.select_one('dl > dt > a').text for keyword in keywords]\n",
    "        stacked_summary = [keyword.select_one('dl > dd').text for keyword in keywords]\n",
    "    else : \n",
    "        stacked_title = [keyword.select_one('dl > dd.articleSubject > a').text for keyword in keywords]\n",
    "        stacked_summary = [keyword.select_one('dl > dd.articleSummary').text for keyword in keywords]\n",
    "#     unzip_title = [j  for x in stacked_title for j in x]\n",
    "#     unzip_summary = [j  for x in stacked_summary for j in x]\n",
    "#     print('Training Data set shape : ', (len(unzip_title)),str(len(unzip_summary)))\n",
    "    return stacked_title , stacked_summary"
   ]
  },
  {
   "cell_type": "code",
   "execution_count": 74,
   "metadata": {
    "collapsed": false,
    "scrolled": true
   },
   "outputs": [],
   "source": [
    "title1 , summary1 = light_crawling(1)\n",
    "title2 , summary2 = light_crawling(2)\n",
    "\n",
    "title = title1 + title2\n",
    "summary = summary1 + summary2"
   ]
  }
 ],
 "metadata": {
  "kernelspec": {
   "display_name": "Python 3",
   "language": "python",
   "name": "python3"
  },
  "language_info": {
   "codemirror_mode": {
    "name": "ipython",
    "version": 3
   },
   "file_extension": ".py",
   "mimetype": "text/x-python",
   "name": "python",
   "nbconvert_exporter": "python",
   "pygments_lexer": "ipython3",
   "version": "3.6.0"
  }
 },
 "nbformat": 4,
 "nbformat_minor": 2
}
