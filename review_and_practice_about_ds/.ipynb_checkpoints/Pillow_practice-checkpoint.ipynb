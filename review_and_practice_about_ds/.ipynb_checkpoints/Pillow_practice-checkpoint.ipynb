{
 "cells": [
  {
   "cell_type": "markdown",
   "metadata": {},
   "source": [
    "### 이미지 스크린샷\n",
    "- youtube  페이지를 이미지로 스크린샷을 만들고\n",
    "- 영상있는 부분의 위치를 파악\n",
    "- 영상이 있는 부분을 pillow를 이용해서 자르기\n",
    "- 영장을 저장해서 위에서 실습했던 google vision api 에 넣어서 결과를 확인\n",
    "- "
   ]
  },
  {
   "cell_type": "code",
   "execution_count": 7,
   "metadata": {},
   "outputs": [],
   "source": [
    "from selenium import webdriver\n",
    "from PIL import Image as pil\n",
    "import time"
   ]
  },
  {
   "cell_type": "code",
   "execution_count": 5,
   "metadata": {},
   "outputs": [],
   "source": [
    "url = 'https://youtube.com/watch?v=UThGcWBIMpU&t=500s'"
   ]
  },
  {
   "cell_type": "raw",
   "metadata": {},
   "source": [
    "driver = webdriver.Chrome()\n",
    "driver.get(url)\n",
    "time.sleep(1)\n",
    "driver.save_screenshot('')"
   ]
  },
  {
   "cell_type": "code",
   "execution_count": 8,
   "metadata": {},
   "outputs": [],
   "source": [
    "driver.quit()"
   ]
  }
 ],
 "metadata": {
  "kernelspec": {
   "display_name": "Python 3",
   "language": "python",
   "name": "python3"
  },
  "language_info": {
   "codemirror_mode": {
    "name": "ipython",
    "version": 3
   },
   "file_extension": ".py",
   "mimetype": "text/x-python",
   "name": "python",
   "nbconvert_exporter": "python",
   "pygments_lexer": "ipython3",
   "version": "3.6.5"
  }
 },
 "nbformat": 4,
 "nbformat_minor": 2
}
