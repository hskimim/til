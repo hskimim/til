{
 "cells": [
  {
   "cell_type": "markdown",
   "metadata": {},
   "source": [
    "### SQLite 개요\n",
    "- 별도 서버나 프로세스, 특별한 설정을 할 필요도 없는, 트랜잭션이 가능한 SQL 데이타베이스 엔진\n",
    "- 오픈소스, 어떤 용도로든 무료\n",
    "- 대부분의 브라우저, 거의 모든 스마트폰, 수 많은 프로그램에 사용\n",
    "- SQLite 특징\n",
    "- SQL 데이타베이스 엔진 내장\n",
    "- 별도의 서버 프로세스가 없이, 직접 읽기/쓰기\n",
    "- 한 개의 파일에 여러 테이블, 색인, 트리거, 뷰 관리\n",
    "- 크로스 플랫폼, 작은 라이브러리: 200~350 KB, 매우 작은 메모리 (스택 4KB, Heap 100KB)1"
   ]
  },
  {
   "cell_type": "code",
   "execution_count": 7,
   "metadata": {
    "collapsed": true
   },
   "outputs": [],
   "source": [
    "import sqlite3"
   ]
  },
  {
   "cell_type": "code",
   "execution_count": 3,
   "metadata": {
    "collapsed": false
   },
   "outputs": [
    {
     "name": "stdout",
     "output_type": "stream",
     "text": [
      "2.6.0\n",
      "3.13.0\n"
     ]
    }
   ],
   "source": [
    "print(sqlite3.version)\n",
    "print(sqlite3.sqlite_version)"
   ]
  },
  {
   "cell_type": "code",
   "execution_count": 4,
   "metadata": {
    "collapsed": true
   },
   "outputs": [],
   "source": [
    "#  파일이 존재하면 삭제 (사용 주의 )\n",
    "import os\n",
    "\n",
    "fname = 'test_news.db3'\n",
    "if os.path.isfile(fname):\n",
    "    os.unlink(fname)\n",
    "    \n",
    "#  파일이 존재하지 않으면 생성 된다.\n",
    "db = sqlite3.connect(fname)  "
   ]
  },
  {
   "cell_type": "markdown",
   "metadata": {},
   "source": [
    "#### 일반적인 사용 수순\n",
    "- import sqlite3 - sqlite3 모듈 임포트\n",
    "- connect() - 연결객체 생성\n",
    "- cursor() - 커서객체 생성\n",
    "- execute() - SQL문 실행\n",
    "- fetch() - 실행결과 가져오기"
   ]
  },
  {
   "cell_type": "code",
   "execution_count": 9,
   "metadata": {
    "collapsed": false
   },
   "outputs": [
    {
     "name": "stdout",
     "output_type": "stream",
     "text": [
      "SQLITE version : 3.13.0\n"
     ]
    }
   ],
   "source": [
    "import sqlite3\n",
    "\n",
    "con = None\n",
    "\n",
    "try : \n",
    "    # connect () - 데이터베이스 파일에 연결하고, 연결 객체를 반환\n",
    "    con = sqlite3.connect('test_news.db3')\n",
    "    # cursor() - 커서객체 생성\n",
    "    cur = con.cursor()\n",
    "    # execute() - SQL문 실행\n",
    "    cur.execute('SELECT SQLITE_VERSION()')\n",
    "    # fetch() - 실행결과 가져오기\n",
    "    # 커서는 결과집합을 순회하여 데이터를 읽어온다.\n",
    "    val = cur.fetchone()\n",
    "    print('SQLITE version : %s' %val)\n",
    "\n",
    "except sqlite3.Error as e :\n",
    "    #실패하면, 예외처리 구문을 실행\n",
    "    print('Error %s' %e.args[0])\n",
    "\n",
    "finally : \n",
    "    if con : con.close()"
   ]
  },
  {
   "cell_type": "code",
   "execution_count": 8,
   "metadata": {
    "collapsed": false
   },
   "outputs": [
    {
     "name": "stdout",
     "output_type": "stream",
     "text": [
      "SQLITE version : 3.13.0\n"
     ]
    }
   ],
   "source": [
    "import sqlite3\n",
    "\n",
    "con = sqlite3.connect('test_news.db3')\n",
    "with con : \n",
    "    cur = con.cursor()\n",
    "    cur.execute('SELECT SQLITE_VERSION()')\n",
    "    \n",
    "    val = cur.fetchone()\n",
    "    print('SQLITE version : %s' %val)"
   ]
  },
  {
   "cell_type": "markdown",
   "metadata": {},
   "source": [
    "#### 테이블 만들기\n",
    "- create table\n",
    "- timestamp\n",
    "- 9 char(n), varchar(n), integer, float, text"
   ]
  },
  {
   "cell_type": "code",
   "execution_count": 10,
   "metadata": {
    "collapsed": true
   },
   "outputs": [],
   "source": [
    "con = sqlite3.connect('test_news.db3')\n",
    "\n",
    "with con : \n",
    "    cur = con.cursor()\n",
    "    cur.execute('create table news (id varchar(20), time timestamp, title text , agency varchar(20))')"
   ]
  },
  {
   "cell_type": "markdown",
   "metadata": {},
   "source": [
    "테이블 삭제"
   ]
  },
  {
   "cell_type": "code",
   "execution_count": 11,
   "metadata": {
    "collapsed": true
   },
   "outputs": [],
   "source": [
    "con = sqlite3.connect('test_news.db3')\n",
    "\n",
    "with con : \n",
    "    cur = con.cursor()\n",
    "    cur.execute('drop table news')\n",
    "    #더 좋은 표현은 아래의 것\n",
    "    cur.execute('drop table if exists news')"
   ]
  },
  {
   "cell_type": "markdown",
   "metadata": {},
   "source": [
    "테이블이 존재하지 않으면 생성"
   ]
  },
  {
   "cell_type": "code",
   "execution_count": 13,
   "metadata": {
    "collapsed": false
   },
   "outputs": [],
   "source": [
    "con = sqlite3.connect('test_news.db3')\n",
    "\n",
    "with con : \n",
    "    cur = con.cursor()\n",
    "    cur.execute('create table if not exists news (id varchar(20), time timestamp, title text, agency varchar(20))')"
   ]
  },
  {
   "cell_type": "markdown",
   "metadata": {},
   "source": [
    "데이터 삽입"
   ]
  },
  {
   "cell_type": "code",
   "execution_count": 14,
   "metadata": {
    "collapsed": true
   },
   "outputs": [],
   "source": [
    "con = sqlite3.connect('test_news.db3')\n",
    "\n",
    "with con : \n",
    "    cur = con.cursor()\n",
    "    cur.execute(\"insert into news VALUES('0003024670', '2013-08-29 11:39', '국민은행 가족친화 기업에 금리 인하', '매일경제')\")\n",
    "    cur.execute(\"insert into news VALUES('0003024522', '2013-08-29 09:03', '美양적완화 축소는 은행업종에 긍정적', '매일경제')\")\n",
    "    cur.execute(\"insert into news VALUES('0002464356', '2013-08-29 08:00', '<진화하는 MTS> KB투자증권, KB스마톡S', '헤럴드생생뉴스')\")\n",
    "    cur.execute(\"insert into news VALUES('0003106995', '2013-08-29 07:03', 'LG상사, STX에너지 인수전에 KB금융 컨소시엄', '머니투데이')\")"
   ]
  },
  {
   "cell_type": "markdown",
   "metadata": {},
   "source": [
    "한번에 여러 데이터 삽입"
   ]
  },
  {
   "cell_type": "code",
   "execution_count": 15,
   "metadata": {
    "collapsed": true
   },
   "outputs": [],
   "source": [
    "con = sqlite3.connect('test_news.db3')\n",
    "\n",
    "articles = (\n",
    "    ('0003024670', '2013-08-29 11:39', u'국민은행 가족친화 기업에 금리 인하', u'매일경제'),\n",
    "    ('0003024522', '2013-08-29 09:03', u'美양적완화 축소는 은행업종에 긍정적', u'매일경제'),\n",
    "    ('0002464356', '2013-08-29 08:00', u'<진화하는 MTS> KB투자증권, KB스마톡S', u'헤럴드생생뉴스'),\n",
    "    ('0003106995', '2013-08-29 07:03', u'LG상사, STX에너지 인수전에 KB금융 컨소시엄', u'머니투데이'),\n",
    ")\n",
    "\n",
    "with con:\n",
    "    cur = con.cursor()\n",
    "    cur.executemany(\"insert into news values (?, ?, ?, ?)\", articles)"
   ]
  },
  {
   "cell_type": "code",
   "execution_count": 16,
   "metadata": {
    "collapsed": true
   },
   "outputs": [],
   "source": [
    "sql_script = '''\n",
    "    drop table if exists news;\n",
    "    create table news (id varchar(20), time datetime, title text, agency varchar(20));\n",
    "    insert into news VALUES('0003024670', '2013-08-29 11:39', '국민은행 가족친화 기업에 금리 인하', '매일경제');\n",
    "    insert into news VALUES('0003024522', '2013-08-29 09:03', '美양적완화 축소는 은행업종에 긍정적', '매일경제');\n",
    "    insert into news VALUES('0002464356', '2013-08-29 08:00', '<진화하는 MTS> KB투자증권, KB스마톡S', '헤럴드생생뉴스');\n",
    "    insert into news VALUES('0003106995', '2013-08-29 07:03', 'LG상사, STX에너지 인수전에 KB금융 컨소시엄', '머니투데이');\n",
    "'''\n",
    "try:\n",
    "    con = sqlite3.connect('test_news.db3')\n",
    "    cur = con.cursor()\n",
    "    cur.executescript(sql_script)\n",
    "    con.commit()\n",
    "except sqlite3.Error as e:\n",
    "    if con:\n",
    "        con.rollback()\n",
    "    print (\"error %s\" % e.args[0])\n",
    "\n",
    "finally:\n",
    "    if con:\n",
    "        con.close()"
   ]
  },
  {
   "cell_type": "markdown",
   "metadata": {},
   "source": [
    "데이터 읽기"
   ]
  },
  {
   "cell_type": "code",
   "execution_count": 17,
   "metadata": {
    "collapsed": false
   },
   "outputs": [
    {
     "name": "stdout",
     "output_type": "stream",
     "text": [
      "국민은행 가족친화 기업에 금리 인하 | 2013-08-29 11:39(매일경제) \n",
      "美양적완화 축소는 은행업종에 긍정적 | 2013-08-29 09:03(매일경제) \n",
      "<진화하는 MTS> KB투자증권, KB스마톡S | 2013-08-29 08:00(헤럴드생생뉴스) \n",
      "LG상사, STX에너지 인수전에 KB금융 컨소시엄 | 2013-08-29 07:03(머니투데이) \n"
     ]
    }
   ],
   "source": [
    "con = sqlite3.connect('test_news.db3')\n",
    "\n",
    "with con : \n",
    "    cur = con.cursor()\n",
    "    cur.execute('select * from news')\n",
    "    \n",
    "    rows = cur.fetchall()\n",
    "    for row in rows : \n",
    "        print('%s | %s(%s) '% (row[2] , row[1] , row[3]))"
   ]
  },
  {
   "cell_type": "markdown",
   "metadata": {},
   "source": [
    "조건에 해당하는 row를 하나씩 처리"
   ]
  },
  {
   "cell_type": "code",
   "execution_count": 20,
   "metadata": {
    "collapsed": false
   },
   "outputs": [
    {
     "name": "stdout",
     "output_type": "stream",
     "text": [
      "국민은행 가족친화 기업에 금리 인하 | 2013-08-29 11:39 | 매일경제\n",
      "美양적완화 축소는 은행업종에 긍정적 | 2013-08-29 09:03 | 매일경제\n"
     ]
    }
   ],
   "source": [
    "con = sqlite3.connect('test_news.db3')\n",
    "\n",
    "with con : \n",
    "    cur = con.cursor()\n",
    "    cur.execute(\"select * from news where agency = '매일경제'\")\n",
    "    \n",
    "    while True : \n",
    "        row = cur.fetchone()\n",
    "        if row == None :\n",
    "            break\n",
    "        print(\"%s | %s | %s\" % (row[2], row[1], row[3]))"
   ]
  }
 ],
 "metadata": {
  "kernelspec": {
   "display_name": "Python 3",
   "language": "python",
   "name": "python3"
  },
  "language_info": {
   "codemirror_mode": {
    "name": "ipython",
    "version": 3
   },
   "file_extension": ".py",
   "mimetype": "text/x-python",
   "name": "python",
   "nbconvert_exporter": "python",
   "pygments_lexer": "ipython3",
   "version": "3.6.0"
  }
 },
 "nbformat": 4,
 "nbformat_minor": 2
}
