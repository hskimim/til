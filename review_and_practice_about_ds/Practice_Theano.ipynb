{
 "cells": [
  {
   "cell_type": "markdown",
   "metadata": {},
   "source": [
    "## Theano 기본 사용법\n",
    "- 심볼 변수 정의\n",
    "- 심볼 관계 정의\n",
    "- 심볼 함수 정의\n",
    "- 심볼 함수 사용"
   ]
  },
  {
   "cell_type": "code",
   "execution_count": 1,
   "metadata": {},
   "outputs": [],
   "source": [
    "# MKL 라이브러리가 설치되어 있으면 다음 코드를 우선 실행한다.\n",
    "import os\n",
    "os.environ['MKL_THREADING_LAYER'] = 'GNU'"
   ]
  },
  {
   "cell_type": "code",
   "execution_count": 10,
   "metadata": {},
   "outputs": [],
   "source": [
    "import theano\n",
    "import theano.tensor as T"
   ]
  },
  {
   "cell_type": "code",
   "execution_count": 15,
   "metadata": {},
   "outputs": [],
   "source": [
    "x1 = T.dscalar('x1')\n",
    "y1 = T.dscalar('y1')\n",
    "# double scalar : dscalar"
   ]
  },
  {
   "cell_type": "code",
   "execution_count": 16,
   "metadata": {},
   "outputs": [
    {
     "data": {
      "text/plain": [
       "(theano.tensor.var.TensorVariable, theano.tensor.var.TensorVariable)"
      ]
     },
     "execution_count": 16,
     "metadata": {},
     "output_type": "execute_result"
    }
   ],
   "source": [
    "type(x1),type(y1)"
   ]
  },
  {
   "cell_type": "code",
   "execution_count": 17,
   "metadata": {},
   "outputs": [],
   "source": [
    "x2 = T.dvector('x2')\n",
    "y2 = T.dvector('y2')"
   ]
  },
  {
   "cell_type": "code",
   "execution_count": 18,
   "metadata": {},
   "outputs": [],
   "source": [
    "x3 = T.dmatrix('x3')\n",
    "y3 = T.dmatrix('y3')"
   ]
  },
  {
   "cell_type": "code",
   "execution_count": 20,
   "metadata": {},
   "outputs": [],
   "source": [
    "z1 = x1 + y1"
   ]
  },
  {
   "cell_type": "code",
   "execution_count": 21,
   "metadata": {},
   "outputs": [
    {
     "data": {
      "text/plain": [
       "theano.tensor.var.TensorVariable"
      ]
     },
     "execution_count": 21,
     "metadata": {},
     "output_type": "execute_result"
    }
   ],
   "source": [
    "type(z1)"
   ]
  },
  {
   "cell_type": "code",
   "execution_count": 22,
   "metadata": {},
   "outputs": [],
   "source": [
    "u1 = T.exp(z1)"
   ]
  },
  {
   "cell_type": "code",
   "execution_count": 23,
   "metadata": {},
   "outputs": [
    {
     "data": {
      "text/plain": [
       "theano.tensor.var.TensorVariable"
      ]
     },
     "execution_count": 23,
     "metadata": {},
     "output_type": "execute_result"
    }
   ],
   "source": [
    "type(u1)"
   ]
  },
  {
   "cell_type": "code",
   "execution_count": 24,
   "metadata": {},
   "outputs": [
    {
     "data": {
      "text/plain": [
       "theano.tensor.var.TensorVariable"
      ]
     },
     "execution_count": 24,
     "metadata": {},
     "output_type": "execute_result"
    }
   ],
   "source": [
    "z2 = T.dot(x2, y2)\n",
    "type(z2)"
   ]
  },
  {
   "cell_type": "code",
   "execution_count": 25,
   "metadata": {},
   "outputs": [
    {
     "data": {
      "text/plain": [
       "theano.tensor.var.TensorVariable"
      ]
     },
     "execution_count": 25,
     "metadata": {},
     "output_type": "execute_result"
    }
   ],
   "source": [
    "z3 = T.sum(x3) + T.mean(y3)\n",
    "type(z3)"
   ]
  },
  {
   "cell_type": "code",
   "execution_count": 26,
   "metadata": {},
   "outputs": [
    {
     "data": {
      "text/plain": [
       "'x1'"
      ]
     },
     "execution_count": 26,
     "metadata": {},
     "output_type": "execute_result"
    }
   ],
   "source": [
    "theano.printing.pprint(x1)"
   ]
  },
  {
   "cell_type": "code",
   "execution_count": 27,
   "metadata": {},
   "outputs": [
    {
     "data": {
      "text/plain": [
       "'exp((x1 + y1))'"
      ]
     },
     "execution_count": 27,
     "metadata": {},
     "output_type": "execute_result"
    }
   ],
   "source": [
    "theano.printing.pprint(u1)"
   ]
  },
  {
   "cell_type": "code",
   "execution_count": 29,
   "metadata": {},
   "outputs": [],
   "source": [
    "from IPython.display import SVG"
   ]
  },
  {
   "cell_type": "code",
   "execution_count": 30,
   "metadata": {},
   "outputs": [
    {
     "data": {
      "image/svg+xml": [
       "<svg height=\"204pt\" viewBox=\"0.00 0.00 474.00 204.00\" width=\"474pt\" xmlns=\"http://www.w3.org/2000/svg\" xmlns:xlink=\"http://www.w3.org/1999/xlink\">\n",
       "<g class=\"graph\" id=\"graph0\" transform=\"scale(1 1) rotate(0) translate(4 200)\">\n",
       "<title>G</title>\n",
       "<polygon fill=\"#ffffff\" points=\"-4,4 -4,-200 470,-200 470,4 -4,4\" stroke=\"transparent\"/>\n",
       "<!-- 139724166715824 -->\n",
       "<g class=\"node\" id=\"node1\">\n",
       "<title>139724166715824</title>\n",
       "<ellipse cx=\"233\" cy=\"-91\" fill=\"#ffaabb\" rx=\"108.5808\" ry=\"18\" stroke=\"#000000\"/>\n",
       "<text fill=\"#000000\" font-family=\"Times,serif\" font-size=\"14.00\" text-anchor=\"middle\" x=\"233\" y=\"-87.3\">Elemwise{add,no_inplace}</text>\n",
       "</g>\n",
       "<!-- 139724166716048 -->\n",
       "<g class=\"node\" id=\"node4\">\n",
       "<title>139724166716048</title>\n",
       "<polygon fill=\"#0000ff\" points=\"317,-36 149,-36 149,0 317,0 317,-36\" stroke=\"#000000\"/>\n",
       "<text fill=\"#000000\" font-family=\"Times,serif\" font-size=\"14.00\" text-anchor=\"middle\" x=\"233\" y=\"-14.3\">TensorType(float64, scalar)</text>\n",
       "</g>\n",
       "<!-- 139724166715824&#45;&gt;139724166716048 -->\n",
       "<g class=\"edge\" id=\"edge3\">\n",
       "<title>139724166715824-&gt;139724166716048</title>\n",
       "<path d=\"M233,-72.9551C233,-64.8828 233,-55.1764 233,-46.1817\" fill=\"none\" stroke=\"#000000\"/>\n",
       "<polygon fill=\"#000000\" points=\"236.5001,-46.0903 233,-36.0904 229.5001,-46.0904 236.5001,-46.0903\" stroke=\"#000000\"/>\n",
       "</g>\n",
       "<!-- 139724166716216 -->\n",
       "<g class=\"node\" id=\"node2\">\n",
       "<title>139724166716216</title>\n",
       "<polygon fill=\"#00ff00\" points=\"224,-196 0,-196 0,-160 224,-160 224,-196\" stroke=\"#000000\"/>\n",
       "<text fill=\"#000000\" font-family=\"Times,serif\" font-size=\"14.00\" text-anchor=\"middle\" x=\"112\" y=\"-174.3\">name=x1 TensorType(float64, scalar)</text>\n",
       "</g>\n",
       "<!-- 139724166716216&#45;&gt;139724166715824 -->\n",
       "<g class=\"edge\" id=\"edge1\">\n",
       "<title>139724166716216-&gt;139724166715824</title>\n",
       "<path d=\"M137.0713,-159.9735C155.3632,-146.8215 180.3265,-128.8727 200.2024,-114.5818\" fill=\"none\" stroke=\"#000000\"/>\n",
       "<polygon fill=\"#000000\" points=\"202.2989,-117.3852 208.3748,-108.7057 198.2124,-111.7018 202.2989,-117.3852\" stroke=\"#000000\"/>\n",
       "<text fill=\"#000000\" font-family=\"Times,serif\" font-size=\"14.00\" text-anchor=\"middle\" x=\"183.5\" y=\"-130.8\">0</text>\n",
       "</g>\n",
       "<!-- 139724166715656 -->\n",
       "<g class=\"node\" id=\"node3\">\n",
       "<title>139724166715656</title>\n",
       "<polygon fill=\"#00ff00\" points=\"466,-196 242,-196 242,-160 466,-160 466,-196\" stroke=\"#000000\"/>\n",
       "<text fill=\"#000000\" font-family=\"Times,serif\" font-size=\"14.00\" text-anchor=\"middle\" x=\"354\" y=\"-174.3\">name=y1 TensorType(float64, scalar)</text>\n",
       "</g>\n",
       "<!-- 139724166715656&#45;&gt;139724166715824 -->\n",
       "<g class=\"edge\" id=\"edge2\">\n",
       "<title>139724166715656-&gt;139724166715824</title>\n",
       "<path d=\"M328.9287,-159.9735C310.6368,-146.8215 285.6735,-128.8727 265.7976,-114.5818\" fill=\"none\" stroke=\"#000000\"/>\n",
       "<polygon fill=\"#000000\" points=\"267.7876,-111.7018 257.6252,-108.7057 263.7011,-117.3852 267.7876,-111.7018\" stroke=\"#000000\"/>\n",
       "<text fill=\"#000000\" font-family=\"Times,serif\" font-size=\"14.00\" text-anchor=\"middle\" x=\"304.5\" y=\"-130.8\">1</text>\n",
       "</g>\n",
       "</g>\n",
       "</svg>"
      ],
      "text/plain": [
       "<IPython.core.display.SVG object>"
      ]
     },
     "execution_count": 30,
     "metadata": {},
     "output_type": "execute_result"
    }
   ],
   "source": [
    "SVG(theano.printing.pydotprint(z1, return_image=True, format='svg'))"
   ]
  },
  {
   "cell_type": "code",
   "execution_count": 31,
   "metadata": {},
   "outputs": [
    {
     "name": "stdout",
     "output_type": "stream",
     "text": [
      "CPU times: user 17.4 ms, sys: 7.83 ms, total: 25.3 ms\n",
      "Wall time: 432 ms\n"
     ]
    }
   ],
   "source": [
    "%time f1 = theano.function(inputs=[x1, y1], outputs=z1)"
   ]
  },
  {
   "cell_type": "code",
   "execution_count": 32,
   "metadata": {},
   "outputs": [
    {
     "data": {
      "text/plain": [
       "array(3.)"
      ]
     },
     "execution_count": 32,
     "metadata": {},
     "output_type": "execute_result"
    }
   ],
   "source": [
    "f1(1, 2)"
   ]
  },
  {
   "cell_type": "code",
   "execution_count": 33,
   "metadata": {},
   "outputs": [
    {
     "data": {
      "text/plain": [
       "array(11.)"
      ]
     },
     "execution_count": 33,
     "metadata": {},
     "output_type": "execute_result"
    }
   ],
   "source": [
    "f2 = theano.function([x2, y2], z2)\n",
    "f2([1, 2], [3, 4])"
   ]
  },
  {
   "cell_type": "code",
   "execution_count": 34,
   "metadata": {},
   "outputs": [
    {
     "data": {
      "text/plain": [
       "array(6.5)"
      ]
     },
     "execution_count": 34,
     "metadata": {},
     "output_type": "execute_result"
    }
   ],
   "source": [
    "f3 = theano.function([x3, y3], z3)\n",
    "f3([[1], [2]], [[3], [4]])"
   ]
  },
  {
   "cell_type": "code",
   "execution_count": 308,
   "metadata": {},
   "outputs": [
    {
     "data": {
      "image/png": "[encoded data removed]",
      "text/plain": [
       "<Figure size 720x480 with 1 Axes>"
      ]
     },
     "metadata": {},
     "output_type": "display_data"
    }
   ],
   "source": [
    "from sklearn.datasets import load_iris\n",
    "iris = load_iris()\n",
    "\n",
    "idx = np.in1d(iris.target, [0, 2])\n",
    "X_data = iris.data[idx, 0:2]\n",
    "y_data = iris.target[idx] / 2\n",
    "\n",
    "plt.figure(figsize=(12, 8), dpi=60)\n",
    "plt.scatter(X_data[:, 0], X_data[:, 1], c=y_data, s=100, edgecolor='k')\n",
    "plt.show()"
   ]
  },
  {
   "cell_type": "code",
   "execution_count": 309,
   "metadata": {},
   "outputs": [],
   "source": [
    "X = T.dmatrix('X')\n",
    "y = T.dvector('y')\n",
    "np.random.seed(0)\n",
    "w = theano.shared(0.01 * np.random.randn(2), name=\"w\")\n",
    "b = theano.shared(0.01 * np.random.randn(1)[0], name=\"b\")\n",
    "d = 1 / (1 + T.exp(-(T.dot(X, w) + b)))\n",
    "cost = T.sum((y - d)**2)"
   ]
  },
  {
   "cell_type": "code",
   "execution_count": 310,
   "metadata": {},
   "outputs": [],
   "source": [
    "gw, gb = T.grad(cost, [w, b])\n",
    "mu = 0.02\n",
    "train = theano.function([X, y], cost, updates=[(w, w - mu * gw), (b, b - mu * gb)])"
   ]
  },
  {
   "cell_type": "code",
   "execution_count": 311,
   "metadata": {},
   "outputs": [
    {
     "name": "stdout",
     "output_type": "stream",
     "text": [
      "   0:  24.77347311486501\n",
      "5000:  0.45317122306045554\n",
      "10000:  0.3241803908257833\n",
      "15000:  0.27527414407827694\n",
      "20000:  0.24644462083161872\n",
      "25000:  0.22578632464299425\n",
      "30000:  0.20943628630982544\n",
      "35000:  0.19574994280399383\n",
      "40000:  0.1839012314674033\n",
      "45000:  0.17342418805657386\n",
      "50000:  0.164030857756478\n",
      "55000:  0.15552910067339065\n",
      "60000:  0.14778205011655646\n",
      "65000:  0.1406867622047945\n",
      "70000:  0.13416235991020245\n",
      "75000:  0.12814312910582956\n",
      "80000:  0.12257430887114672\n",
      "85000:  0.11740940314354592\n",
      "90000:  0.1126083826343458\n",
      "95000:  0.10813642702660105\n",
      "100000:  0.10396300775876327\n",
      "105000:  0.10006119413583017\n",
      "110000:  0.09640711180991211\n",
      "115000:  0.09297950929337245\n",
      "120000:  0.08975940384498139\n",
      "125000:  0.08672978754756357\n",
      "130000:  0.0838753802795022\n",
      "135000:  0.08118242004987412\n",
      "140000:  0.07863848365201244\n",
      "145000:  0.0762323322801927\n",
      "150000:  0.07395377794408993\n",
      "155000:  0.07179356737309964\n",
      "160000:  0.06974328074157965\n",
      "165000:  0.06779524303157247\n",
      "170000:  0.06594244622783407\n",
      "175000:  0.06417848083853121\n",
      "180000:  0.06249747547507793\n",
      "185000:  0.06089404342032304\n",
      "190000:  0.05936323527448976\n",
      "195000:  0.057900496901375345\n",
      "200000:  0.0565016320084789\n",
      "205000:  0.05516276878785929\n",
      "210000:  0.05388033012334795\n",
      "215000:  0.05265100693630843\n",
      "220000:  0.05147173429918156\n",
      "225000:  0.05033966999422016\n",
      "230000:  0.049252175236473496\n",
      "235000:  0.04820679731592544\n",
      "240000:  0.04720125394403694\n",
      "245000:  0.04623341911675863\n",
      "250000:  0.045301310328798784\n",
      "255000:  0.04440307699396046\n",
      "260000:  0.043536989943500956\n",
      "265000:  0.0427014318894458\n",
      "270000:  0.04189488875318138\n",
      "275000:  0.04111594177078553\n",
      "280000:  0.040363260296506324\n",
      "285000:  0.03963559523497016\n",
      "290000:  0.03893177304000945\n",
      "295000:  0.03825069022483601\n",
      "300000:  0.03759130833466293\n",
      "305000:  0.03695264933732627\n",
      "310000:  0.0363337913929854\n",
      "315000:  0.0357338649674084\n",
      "320000:  0.03515204925737049\n",
      "325000:  0.03458756889967732\n",
      "330000:  0.03403969093857985\n",
      "335000:  0.03350772202822822\n",
      "340000:  0.032991005849911936\n",
      "345000:  0.03248892072512693\n",
      "350000:  0.03200087740762742\n",
      "355000:  0.03152631703946689\n",
      "360000:  0.031064709256835257\n",
      "365000:  0.03061555043380264\n",
      "370000:  0.030178362051840095\n",
      "375000:  0.02975268918532404\n",
      "380000:  0.02933809909378157\n",
      "385000:  0.02893417991188108\n",
      "390000:  0.028540539429845073\n",
      "395000:  0.02815680395705917\n",
      "400000:  0.02778261726213696\n",
      "405000:  0.027417639584094933\n",
      "410000:  0.027061546708886344\n",
      "415000:  0.026714029106394515\n",
      "420000:  0.026374791123469028\n",
      "425000:  0.02604355022876366\n",
      "430000:  0.025720036305706982\n",
      "435000:  0.02540399098995022\n",
      "440000:  0.025095167048296323\n",
      "445000:  0.024793327795929826\n",
      "450000:  0.02449824654945316\n",
      "455000:  0.024209706113080886\n",
      "460000:  0.023927498295800077\n",
      "465000:  0.023651423457217418\n",
      "470000:  0.023381290080406396\n",
      "475000:  0.023116914369559715\n",
      "480000:  0.022858119871187868\n",
      "485000:  0.02260473711696903\n",
      "490000:  0.022356603287096384\n",
      "495000:  0.02211356189255637\n",
      "500000:  0.02187546247524669\n",
      "505000:  0.021642160324794248\n",
      "510000:  0.021413516210935797\n",
      "515000:  0.021189396130582582\n",
      "520000:  0.020969671068476022\n",
      "525000:  0.020754216770871563\n",
      "530000:  0.020542913531180602\n",
      "535000:  0.0203356459869104\n",
      "540000:  0.020132302927386114\n",
      "545000:  0.019932777111370533\n",
      "550000:  0.019736965094152202\n",
      "555000:  0.019544767063429218\n",
      "560000:  0.019356086683565744\n",
      "565000:  0.019170830947794724\n",
      "570000:  0.018988910037625508\n",
      "575000:  0.018810237189335974\n",
      "580000:  0.018634728567089125\n",
      "585000:  0.01846230314213043\n",
      "590000:  0.018292882577958813\n",
      "595000:  0.01812639112097884\n",
      "600000:  0.017962755496365796\n",
      "605000:  0.017801904808895232\n",
      "610000:  0.017643770448429928\n",
      "615000:  0.017488285999848908\n",
      "620000:  0.017335387157131385\n",
      "625000:  0.017185011641428438\n",
      "630000:  0.017037099122856753\n",
      "635000:  0.01689159114583728\n",
      "640000:  0.016748431057857387\n",
      "645000:  0.016607563941423126\n",
      "650000:  0.01646893654892667\n",
      "655000:  0.01633249724053021\n",
      "660000:  0.016198195924678305\n",
      "665000:  0.016065984001285075\n",
      "670000:  0.015935814307292503\n",
      "675000:  0.015807641064673836\n",
      "680000:  0.015681419830555692\n",
      "685000:  0.015557107449508906\n",
      "690000:  0.01543466200788217\n",
      "695000:  0.015314042789954034\n",
      "700000:  0.015195210235993224\n",
      "705000:  0.015078125902028883\n",
      "710000:  0.01496275242126479\n",
      "715000:  0.014849053467073102\n",
      "720000:  0.014736993717468354\n",
      "725000:  0.014626538821067958\n",
      "730000:  0.014517655364336834\n",
      "735000:  0.014410310840196372\n",
      "740000:  0.014304473617886561\n",
      "745000:  0.014200112913940974\n",
      "750000:  0.01409719876433623\n",
      "755000:  0.013995701997746848\n",
      "760000:  0.013895594209820424\n",
      "765000:  0.013796847738387635\n",
      "770000:  0.013699435639666696\n",
      "775000:  0.01360333166538847\n",
      "780000:  0.01350851024073043\n",
      "785000:  0.013414946443099115\n",
      "790000:  0.013322615981703513\n",
      "795000:  0.01323149517790106\n",
      "800000:  0.013141560946249303\n",
      "805000:  0.013052790776223398\n",
      "810000:  0.01296516271466256\n",
      "815000:  0.012878655348806589\n",
      "820000:  0.01279324778992906\n",
      "825000:  0.012708919657618034\n",
      "830000:  0.012625651064550865\n",
      "835000:  0.012543422601842293\n",
      "840000:  0.012462215324897332\n",
      "845000:  0.01238201073973666\n",
      "850000:  0.012302790789860322\n",
      "855000:  0.012224537843504961\n",
      "860000:  0.012147234681371735\n",
      "865000:  0.012070864484748861\n",
      "870000:  0.011995410824070334\n",
      "875000:  0.01192085764781706\n",
      "880000:  0.011847189271836945\n",
      "885000:  0.01177439036901293\n",
      "890000:  0.011702445959245496\n",
      "895000:  0.011631341399806363\n",
      "900000:  0.011561062375988966\n",
      "905000:  0.011491594892059684\n",
      "910000:  0.011422925262514426\n",
      "915000:  0.011355040103624866\n",
      "920000:  0.01128792632524693\n",
      "925000:  0.011221571122887424\n",
      "930000:  0.011155961970063808\n",
      "935000:  0.011091086610840068\n",
      "940000:  0.011026933052647531\n",
      "945000:  0.010963489559324888\n",
      "950000:  0.010900744644354076\n",
      "955000:  0.010838687064337986\n",
      "960000:  0.010777305812667216\n",
      "965000:  0.01071659011337818\n",
      "970000:  0.010656529415181281\n",
      "975000:  0.010597113385723793\n",
      "980000:  0.010538331905971475\n",
      "985000:  0.010480175064801115\n",
      "990000:  0.010422633153740467\n",
      "995000:  0.010365696661839362\n"
     ]
    }
   ],
   "source": [
    "for i in range(1000000):\n",
    "    cost_i = train(X_data, y_data)\n",
    "    if i % 5000 == 0:\n",
    "        print(\"{:4d}: \".format(i), cost_i)"
   ]
  },
  {
   "cell_type": "code",
   "execution_count": 312,
   "metadata": {},
   "outputs": [
    {
     "data": {
      "text/plain": [
       "array([0., 0., 0., 0., 0., 0., 0., 0., 0., 0., 0., 0., 0., 0., 0., 0., 0.,\n",
       "       0., 0., 0., 0., 0., 0., 0., 0., 0., 0., 0., 0., 0., 0., 0., 0., 0.,\n",
       "       0., 0., 0., 0., 0., 0., 0., 0., 0., 0., 0., 0., 0., 0., 0., 0., 1.,\n",
       "       1., 1., 1., 1., 1., 1., 1., 1., 1., 1., 1., 1., 1., 1., 1., 1., 1.,\n",
       "       1., 1., 1., 1., 1., 1., 1., 1., 1., 1., 1., 1., 1., 1., 1., 1., 1.,\n",
       "       1., 1., 1., 1., 1., 1., 1., 1., 1., 1., 1., 1., 1., 1., 1.])"
      ]
     },
     "execution_count": 312,
     "metadata": {},
     "output_type": "execute_result"
    }
   ],
   "source": [
    "y_pred = T.round(d)\n",
    "y_pred_func = theano.function([X], y_pred)\n",
    "y_pred = y_pred_func(X_data)\n",
    "y_pred"
   ]
  },
  {
   "cell_type": "code",
   "execution_count": 313,
   "metadata": {},
   "outputs": [
    {
     "data": {
      "text/plain": [
       "array([[50,  0],\n",
       "       [ 0, 50]])"
      ]
     },
     "execution_count": 313,
     "metadata": {},
     "output_type": "execute_result"
    }
   ],
   "source": [
    "from sklearn.metrics import confusion_matrix\n",
    "confusion_matrix(y_data, y_pred)"
   ]
  },
  {
   "cell_type": "code",
   "execution_count": 314,
   "metadata": {},
   "outputs": [
    {
     "data": {
      "text/plain": [
       "1.0"
      ]
     },
     "execution_count": 314,
     "metadata": {},
     "output_type": "execute_result"
    }
   ],
   "source": [
    "accuracy_score(y_data,y_pred)"
   ]
  }
 ],
 "metadata": {
  "kernelspec": {
   "display_name": "Python 3",
   "language": "python",
   "name": "python3"
  },
  "language_info": {
   "codemirror_mode": {
    "name": "ipython",
    "version": 3
   },
   "file_extension": ".py",
   "mimetype": "text/x-python",
   "name": "python",
   "nbconvert_exporter": "python",
   "pygments_lexer": "ipython3",
   "version": "3.6.5"
  }
 },
 "nbformat": 4,
 "nbformat_minor": 2
}
