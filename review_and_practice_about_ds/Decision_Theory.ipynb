{
 "cells": [
  {
   "cell_type": "markdown",
   "metadata": {},
   "source": [
    "## Subject of this notebook is about 'Difference between `Generative model VS Discriminant model`"
   ]
  },
  {
   "cell_type": "markdown",
   "metadata": {},
   "source": [
    "- Typical Generative model\n",
    "    - GaussianNB\n",
    "    - BernoulliNB\n",
    "    - MultinomialNB\n",
    "- Typical Discriminant model\n",
    "    - Logistic-regression"
   ]
  },
  {
   "cell_type": "markdown",
   "metadata": {},
   "source": [
    "### Classification decomposition\n",
    "- we can divide the process of classification into 2 steps.\n",
    "- 1) inference stage\n",
    "    - Calculate learning & modeling for taking `P(C=k|x)`\n",
    "    - In generative model, we calculate `prior` and `likelihood` \n",
    "- 2) decision stage\n",
    "    - using posterior probability `P(C=k|x)` and make class assignment decision\n",
    "- if we make decision by `joint probabilty` then we call this process as `conditional probabilistic generative model`\n",
    "- if we make decision by `making discriminant function` then we call this process as `conditional prob discriminant model`"
   ]
  },
  {
   "cell_type": "markdown",
   "metadata": {},
   "source": [
    "- data X , label Y\n",
    "    - Build a model -- Learn p(x|y)(`likelihood`) and p(y)(`prior`) \n",
    "        - Learn p(y|x) indirectly -- p(y|x) is proportional p(x|y)p(y) --this is Generative\n",
    "    - Learn p(y|x) directly -- this is Discriminative"
   ]
  },
  {
   "cell_type": "markdown",
   "metadata": {},
   "source": [
    "즉, 데이터 x와 그 데이터들의 라벨이 주어졌을 때, Classification을 위해서 필요한 겂은 결국 p(y|x)로 같지만, generative model은 먼저 p(x|y)를 modeling하고 이 값들을 learning한 후에 p(y|x) is portional p(x|y)p(y)를 통해 데이터x의 class y의 확률을 계산하게 된다. 반면 discriminatice model은 model 자체가 p(y|x)르 ㄹ바로 learning하기 때문에 이 값을 바로 사용하면 된다. 따라서 판별 모델은 어떤 식으로 라벨이 분포해 있는지 사전 정보를 알 필요가 전혀 없지만, generative model을 사용하기 위해서는 이 값을 내가 미리 가정해야만 한다. 간단하게 생각하면 support vector machine은 판별 모형으로 별다른 가정이 할당되어 있지 않지만, 생성 모형중 하나인 Gaussian mixture model은 모든 클러스터들이 혹은 클래스들이 Gaussian의 mixture 형태로 주어진다고 가정하게 된다. 이 경우는 데이터와 클래스의 결합 확률을 계산하는 것이다."
   ]
  },
  {
   "cell_type": "code",
   "execution_count": 2,
   "metadata": {},
   "outputs": [],
   "source": [
    "import numpy as np\n",
    "import pandas as pd\n",
    "import statsmodels.api as sm"
   ]
  },
  {
   "cell_type": "code",
   "execution_count": 3,
   "metadata": {},
   "outputs": [],
   "source": [
    "from sklearn.datasets import load_iris"
   ]
  },
  {
   "cell_type": "code",
   "execution_count": 13,
   "metadata": {},
   "outputs": [],
   "source": [
    "from sklearn.datasets import make_classification\n",
    "X0, y = make_classification(n_features=1, n_redundant=0, n_informative=1,n_clusters_per_class=1, random_state=4)\n",
    "X = sm.add_constant(X0)"
   ]
  },
  {
   "cell_type": "code",
   "execution_count": 5,
   "metadata": {},
   "outputs": [],
   "source": [
    "from sklearn.linear_model import LogisticRegression # discriminative model\n",
    "from sklearn.naive_bayes import GaussianNB # generative model\n",
    "from sklearn.naive_bayes import MultinomialNB# generative model\n",
    "from sklearn.naive_bayes import BernoulliNB# generative model\n",
    "from sklearn.discriminant_analysis import QuadraticDiscriminantAnalysis# generative model\n",
    "from sklearn.discriminant_analysis import LinearDiscriminantAnalysis# generative model"
   ]
  },
  {
   "cell_type": "code",
   "execution_count": 15,
   "metadata": {},
   "outputs": [
    {
     "name": "stdout",
     "output_type": "stream",
     "text": [
      "                           Logit Regression Results                           \n",
      "==============================================================================\n",
      "Dep. Variable:                      y   No. Observations:                  100\n",
      "Model:                          Logit   Df Residuals:                       98\n",
      "Method:                           MLE   Df Model:                            1\n",
      "Date:                Sat, 21 Jul 2018   Pseudo R-squ.:                  0.7679\n",
      "Time:                        00:07:23   Log-Likelihood:                -16.084\n",
      "converged:                       True   LL-Null:                       -69.295\n",
      "                                        LLR p-value:                 5.963e-25\n",
      "==============================================================================\n",
      "                 coef    std err          z      P>|z|      [0.025      0.975]\n",
      "------------------------------------------------------------------------------\n",
      "const          0.2515      0.477      0.527      0.598      -0.683       1.186\n",
      "x1             4.2382      0.902      4.699      0.000       2.470       6.006\n",
      "==============================================================================\n"
     ]
    }
   ],
   "source": [
    "logit_mod = sm.Logit(y, X)\n",
    "logit_res = logit_mod.fit(disp=0)\n",
    "print(logit_res.summary())"
   ]
  },
  {
   "cell_type": "code",
   "execution_count": 17,
   "metadata": {},
   "outputs": [],
   "source": [
    "from sklearn.linear_model import LogisticRegression\n",
    "model = LogisticRegression().fit(X0, y)"
   ]
  },
  {
   "cell_type": "code",
   "execution_count": 18,
   "metadata": {},
   "outputs": [
    {
     "data": {
      "text/html": [
       "<div>\n",
       "<style scoped>\n",
       "    .dataframe tbody tr th:only-of-type {\n",
       "        vertical-align: middle;\n",
       "    }\n",
       "\n",
       "    .dataframe tbody tr th {\n",
       "        vertical-align: top;\n",
       "    }\n",
       "\n",
       "    .dataframe thead th {\n",
       "        text-align: right;\n",
       "    }\n",
       "</style>\n",
       "<table border=\"1\" class=\"dataframe\">\n",
       "  <thead>\n",
       "    <tr style=\"text-align: right;\">\n",
       "      <th></th>\n",
       "      <th>InMichelin</th>\n",
       "      <th>Restaurant Name</th>\n",
       "      <th>Food</th>\n",
       "      <th>Decor</th>\n",
       "      <th>Service</th>\n",
       "      <th>Price</th>\n",
       "    </tr>\n",
       "  </thead>\n",
       "  <tbody>\n",
       "    <tr>\n",
       "      <th>159</th>\n",
       "      <td>0</td>\n",
       "      <td>Terrace in the Sky</td>\n",
       "      <td>23</td>\n",
       "      <td>25</td>\n",
       "      <td>21</td>\n",
       "      <td>62</td>\n",
       "    </tr>\n",
       "    <tr>\n",
       "      <th>160</th>\n",
       "      <td>1</td>\n",
       "      <td>Tocqueville</td>\n",
       "      <td>25</td>\n",
       "      <td>21</td>\n",
       "      <td>24</td>\n",
       "      <td>65</td>\n",
       "    </tr>\n",
       "    <tr>\n",
       "      <th>161</th>\n",
       "      <td>1</td>\n",
       "      <td>Triomphe</td>\n",
       "      <td>25</td>\n",
       "      <td>22</td>\n",
       "      <td>22</td>\n",
       "      <td>65</td>\n",
       "    </tr>\n",
       "    <tr>\n",
       "      <th>162</th>\n",
       "      <td>0</td>\n",
       "      <td>Village</td>\n",
       "      <td>20</td>\n",
       "      <td>20</td>\n",
       "      <td>19</td>\n",
       "      <td>40</td>\n",
       "    </tr>\n",
       "    <tr>\n",
       "      <th>163</th>\n",
       "      <td>1</td>\n",
       "      <td>Vong</td>\n",
       "      <td>23</td>\n",
       "      <td>24</td>\n",
       "      <td>21</td>\n",
       "      <td>60</td>\n",
       "    </tr>\n",
       "  </tbody>\n",
       "</table>\n",
       "</div>"
      ],
      "text/plain": [
       "     InMichelin     Restaurant Name  Food  Decor  Service  Price\n",
       "159           0  Terrace in the Sky    23     25       21     62\n",
       "160           1         Tocqueville    25     21       24     65\n",
       "161           1            Triomphe    25     22       22     65\n",
       "162           0             Village    20     20       19     40\n",
       "163           1                Vong    23     24       21     60"
      ]
     },
     "execution_count": 18,
     "metadata": {},
     "output_type": "execute_result"
    }
   ],
   "source": [
    "df = pd.read_csv(\"http://www.stat.tamu.edu/~sheather/book/docs/datasets/MichelinNY.csv\", \n",
    "                 encoding=\"latin1\")\n",
    "df.tail()"
   ]
  },
  {
   "cell_type": "code",
   "execution_count": 19,
   "metadata": {},
   "outputs": [
    {
     "name": "stdout",
     "output_type": "stream",
     "text": [
      "                           Logit Regression Results                           \n",
      "==============================================================================\n",
      "Dep. Variable:             InMichelin   No. Observations:                  164\n",
      "Model:                          Logit   Df Residuals:                      159\n",
      "Method:                           MLE   Df Model:                            4\n",
      "Date:                Sat, 21 Jul 2018   Pseudo R-squ.:                  0.3428\n",
      "Time:                        00:08:25   Log-Likelihood:                -74.198\n",
      "converged:                       True   LL-Null:                       -112.89\n",
      "                                        LLR p-value:                 6.213e-16\n",
      "==============================================================================\n",
      "                 coef    std err          z      P>|z|      [0.025      0.975]\n",
      "------------------------------------------------------------------------------\n",
      "Intercept    -11.1975      2.309     -4.850      0.000     -15.723      -6.672\n",
      "Food           0.4048      0.131      3.080      0.002       0.147       0.662\n",
      "Decor          0.1000      0.089      1.121      0.262      -0.075       0.275\n",
      "Service       -0.1924      0.124     -1.557      0.119      -0.435       0.050\n",
      "Price          0.0917      0.032      2.889      0.004       0.029       0.154\n",
      "==============================================================================\n"
     ]
    }
   ],
   "source": [
    "model = sm.Logit.from_formula(\"InMichelin ~ Food + Decor + Service + Price\", df)\n",
    "result = model.fit(disp=0)\n",
    "print(result.summary())"
   ]
  },
  {
   "cell_type": "markdown",
   "metadata": {},
   "source": [
    "you can use logistic regression when the dependent variable's boundary in linear regression problem is `[0,1]`"
   ]
  },
  {
   "cell_type": "code",
   "execution_count": 21,
   "metadata": {},
   "outputs": [
    {
     "data": {
      "text/html": [
       "<div>\n",
       "<style scoped>\n",
       "    .dataframe tbody tr th:only-of-type {\n",
       "        vertical-align: middle;\n",
       "    }\n",
       "\n",
       "    .dataframe tbody tr th {\n",
       "        vertical-align: top;\n",
       "    }\n",
       "\n",
       "    .dataframe thead th {\n",
       "        text-align: right;\n",
       "    }\n",
       "</style>\n",
       "<table border=\"1\" class=\"dataframe\">\n",
       "  <thead>\n",
       "    <tr style=\"text-align: right;\">\n",
       "      <th></th>\n",
       "      <th>Food</th>\n",
       "      <th>InMichelin</th>\n",
       "      <th>NotInMichelin</th>\n",
       "      <th>mi</th>\n",
       "      <th>proportion</th>\n",
       "    </tr>\n",
       "  </thead>\n",
       "  <tbody>\n",
       "    <tr>\n",
       "      <th>9</th>\n",
       "      <td>24</td>\n",
       "      <td>6</td>\n",
       "      <td>1</td>\n",
       "      <td>7</td>\n",
       "      <td>0.86</td>\n",
       "    </tr>\n",
       "    <tr>\n",
       "      <th>10</th>\n",
       "      <td>25</td>\n",
       "      <td>11</td>\n",
       "      <td>1</td>\n",
       "      <td>12</td>\n",
       "      <td>0.92</td>\n",
       "    </tr>\n",
       "    <tr>\n",
       "      <th>11</th>\n",
       "      <td>26</td>\n",
       "      <td>1</td>\n",
       "      <td>1</td>\n",
       "      <td>2</td>\n",
       "      <td>0.50</td>\n",
       "    </tr>\n",
       "    <tr>\n",
       "      <th>12</th>\n",
       "      <td>27</td>\n",
       "      <td>6</td>\n",
       "      <td>1</td>\n",
       "      <td>7</td>\n",
       "      <td>0.86</td>\n",
       "    </tr>\n",
       "    <tr>\n",
       "      <th>13</th>\n",
       "      <td>28</td>\n",
       "      <td>4</td>\n",
       "      <td>0</td>\n",
       "      <td>4</td>\n",
       "      <td>1.00</td>\n",
       "    </tr>\n",
       "  </tbody>\n",
       "</table>\n",
       "</div>"
      ],
      "text/plain": [
       "    Food  InMichelin  NotInMichelin  mi  proportion\n",
       "9     24           6              1   7        0.86\n",
       "10    25          11              1  12        0.92\n",
       "11    26           1              1   2        0.50\n",
       "12    27           6              1   7        0.86\n",
       "13    28           4              0   4        1.00"
      ]
     },
     "execution_count": 21,
     "metadata": {},
     "output_type": "execute_result"
    }
   ],
   "source": [
    "df = pd.read_csv(\"http://www.stat.tamu.edu/~sheather/book/docs/datasets/MichelinFood.txt\", sep=\"\\t\")\n",
    "df.tail()"
   ]
  },
  {
   "cell_type": "markdown",
   "metadata": {},
   "source": [
    "this is definitely linear regression form. But the boundary of dependent variable(proportion) is between 0 and 1."
   ]
  },
  {
   "cell_type": "code",
   "execution_count": 23,
   "metadata": {},
   "outputs": [
    {
     "data": {
      "image/png": "[encoded data removed]",
      "text/plain": [
       "<Figure size 432x288 with 1 Axes>"
      ]
     },
     "metadata": {},
     "output_type": "display_data"
    }
   ],
   "source": [
    "import matplotlib.pylab as plt\n",
    "df.plot(kind=\"scatter\", x=\"Food\", y=\"proportion\", s=100)\n",
    "plt.show()"
   ]
  },
  {
   "cell_type": "code",
   "execution_count": 24,
   "metadata": {},
   "outputs": [
    {
     "name": "stdout",
     "output_type": "stream",
     "text": [
      "                           Logit Regression Results                           \n",
      "==============================================================================\n",
      "Dep. Variable:             proportion   No. Observations:                   14\n",
      "Model:                          Logit   Df Residuals:                       12\n",
      "Method:                           MLE   Df Model:                            1\n",
      "Date:                Sat, 21 Jul 2018   Pseudo R-squ.:                  0.4816\n",
      "Time:                        00:11:11   Log-Likelihood:                -4.9712\n",
      "converged:                       True   LL-Null:                       -9.5904\n",
      "                                        LLR p-value:                  0.002370\n",
      "==============================================================================\n",
      "                 coef    std err          z      P>|z|      [0.025      0.975]\n",
      "------------------------------------------------------------------------------\n",
      "const        -10.3600      5.211     -1.988      0.047     -20.574      -0.146\n",
      "Food           0.4671      0.235      1.991      0.046       0.007       0.927\n",
      "==============================================================================\n"
     ]
    }
   ],
   "source": [
    "X = sm.add_constant(df.Food)\n",
    "y = df.proportion\n",
    "model = sm.Logit(y, X)\n",
    "result = model.fit(disp=0)\n",
    "print(result.summary())"
   ]
  },
  {
   "cell_type": "code",
   "execution_count": 26,
   "metadata": {},
   "outputs": [
    {
     "data": {
      "image/png": "[encoded data removed]",
      "text/plain": [
       "<Figure size 432x288 with 1 Axes>"
      ]
     },
     "metadata": {},
     "output_type": "display_data"
    }
   ],
   "source": [
    "df.plot(kind=\"scatter\", x=\"Food\", y=\"proportion\", s=50, alpha=0.5)\n",
    "xx = np.linspace(10, 35, 100)\n",
    "plt.plot(xx, result.predict(sm.add_constant(xx)), \"r\", lw=4)\n",
    "plt.xlim(10, 35)\n",
    "plt.show()"
   ]
  },
  {
   "cell_type": "markdown",
   "metadata": {},
   "source": [
    "- QDA\n",
    "    - Assume Guassian distribution\n",
    "- LDA\n",
    "    - QDA + same Covariance matrices assumption\n",
    "- Naive Bayes\n",
    "    - every independent variable is independent in conditional condition.(conditional independent)"
   ]
  },
  {
   "cell_type": "code",
   "execution_count": 28,
   "metadata": {},
   "outputs": [],
   "source": [
    "#let's use the iris data from scikit-learn(yeah!)\n",
    "from sklearn.datasets import load_iris\n",
    "dfX = pd.DataFrame(iris.data,columns=iris.feature_names)\n",
    "dfy = pd.DataFrame(iris.target,columns=['y'])"
   ]
  },
  {
   "cell_type": "code",
   "execution_count": 39,
   "metadata": {},
   "outputs": [
    {
     "name": "stderr",
     "output_type": "stream",
     "text": [
      "/home/hskimim/anaconda3/lib/python3.6/site-packages/sklearn/utils/validation.py:578: DataConversionWarning: A column-vector y was passed when a 1d array was expected. Please change the shape of y to (n_samples, ), for example using ravel().\n",
      "  y = column_or_1d(y, warn=True)\n"
     ]
    }
   ],
   "source": [
    "qda = QuadraticDiscriminantAnalysis(store_covariance=True).fit(dfX,dfy)"
   ]
  },
  {
   "cell_type": "code",
   "execution_count": 40,
   "metadata": {},
   "outputs": [
    {
     "data": {
      "text/plain": [
       "(array([[5.006, 3.418, 1.464, 0.244],\n",
       "        [5.936, 2.77 , 4.26 , 1.326],\n",
       "        [6.588, 2.974, 5.552, 2.026]]), (3, 4))"
      ]
     },
     "execution_count": 40,
     "metadata": {},
     "output_type": "execute_result"
    }
   ],
   "source": [
    "qda.means_ , (qda.means_).shape\n",
    "# 3 is about label number , 4 is about data number"
   ]
  },
  {
   "cell_type": "code",
   "execution_count": 44,
   "metadata": {},
   "outputs": [
    {
     "data": {
      "text/plain": [
       "[array([[0.12424898, 0.10029796, 0.01613878, 0.01054694],\n",
       "        [0.10029796, 0.14517959, 0.01168163, 0.01143673],\n",
       "        [0.01613878, 0.01168163, 0.03010612, 0.00569796],\n",
       "        [0.01054694, 0.01143673, 0.00569796, 0.01149388]]),\n",
       " array([[0.26643265, 0.08518367, 0.18289796, 0.05577959],\n",
       "        [0.08518367, 0.09846939, 0.08265306, 0.04120408],\n",
       "        [0.18289796, 0.08265306, 0.22081633, 0.07310204],\n",
       "        [0.05577959, 0.04120408, 0.07310204, 0.03910612]]),\n",
       " array([[0.40434286, 0.09376327, 0.3032898 , 0.04909388],\n",
       "        [0.09376327, 0.10400408, 0.07137959, 0.04762857],\n",
       "        [0.3032898 , 0.07137959, 0.30458776, 0.04882449],\n",
       "        [0.04909388, 0.04762857, 0.04882449, 0.07543265]])]"
      ]
     },
     "execution_count": 44,
     "metadata": {},
     "output_type": "execute_result"
    }
   ],
   "source": [
    "qda.covariance_ "
   ]
  },
  {
   "cell_type": "code",
   "execution_count": 50,
   "metadata": {},
   "outputs": [
    {
     "name": "stderr",
     "output_type": "stream",
     "text": [
      "/home/hskimim/anaconda3/lib/python3.6/site-packages/sklearn/utils/validation.py:578: DataConversionWarning: A column-vector y was passed when a 1d array was expected. Please change the shape of y to (n_samples, ), for example using ravel().\n",
      "  y = column_or_1d(y, warn=True)\n"
     ]
    }
   ],
   "source": [
    "lda = LinearDiscriminantAnalysis(store_covariance=True).fit(dfX,dfy)"
   ]
  },
  {
   "cell_type": "code",
   "execution_count": 51,
   "metadata": {},
   "outputs": [
    {
     "data": {
      "text/plain": [
       "array([[5.006, 3.418, 1.464, 0.244],\n",
       "       [5.936, 2.77 , 4.26 , 1.326],\n",
       "       [6.588, 2.974, 5.552, 2.026]])"
      ]
     },
     "execution_count": 51,
     "metadata": {},
     "output_type": "execute_result"
    }
   ],
   "source": [
    "lda.means_"
   ]
  },
  {
   "cell_type": "code",
   "execution_count": 52,
   "metadata": {},
   "outputs": [
    {
     "data": {
      "text/plain": [
       "array([[0.259708  , 0.09122   , 0.16409333, 0.037704  ],\n",
       "       [0.09122   , 0.11356667, 0.05413333, 0.03275467],\n",
       "       [0.16409333, 0.05413333, 0.18146667, 0.04169067],\n",
       "       [0.037704  , 0.03275467, 0.04169067, 0.04117067]])"
      ]
     },
     "execution_count": 52,
     "metadata": {},
     "output_type": "execute_result"
    }
   ],
   "source": [
    "lda.covariance_"
   ]
  },
  {
   "cell_type": "code",
   "execution_count": 53,
   "metadata": {},
   "outputs": [],
   "source": [
    "from sklearn.metrics import classification_report , confusion_matrix"
   ]
  },
  {
   "cell_type": "code",
   "execution_count": 54,
   "metadata": {},
   "outputs": [
    {
     "name": "stdout",
     "output_type": "stream",
     "text": [
      "             precision    recall  f1-score   support\n",
      "\n",
      "          0       1.00      1.00      1.00        50\n",
      "          1       0.98      0.96      0.97        50\n",
      "          2       0.96      0.98      0.97        50\n",
      "\n",
      "avg / total       0.98      0.98      0.98       150\n",
      "\n"
     ]
    }
   ],
   "source": [
    "print(classification_report(dfy.values,lda.predict(dfX)))"
   ]
  },
  {
   "cell_type": "code",
   "execution_count": 55,
   "metadata": {},
   "outputs": [
    {
     "data": {
      "text/plain": [
       "array([[50,  0,  0],\n",
       "       [ 0, 48,  2],\n",
       "       [ 0,  1, 49]])"
      ]
     },
     "execution_count": 55,
     "metadata": {},
     "output_type": "execute_result"
    }
   ],
   "source": [
    "confusion_matrix(dfy.values,lda.predict(dfX))"
   ]
  },
  {
   "cell_type": "code",
   "execution_count": 56,
   "metadata": {},
   "outputs": [
    {
     "name": "stderr",
     "output_type": "stream",
     "text": [
      "/home/hskimim/anaconda3/lib/python3.6/site-packages/sklearn/utils/validation.py:578: DataConversionWarning: A column-vector y was passed when a 1d array was expected. Please change the shape of y to (n_samples, ), for example using ravel().\n",
      "  y = column_or_1d(y, warn=True)\n"
     ]
    }
   ],
   "source": [
    "model_norm = GaussianNB().fit(dfX,dfy)\n",
    "model_mult = MultinomialNB().fit(dfX,dfy)\n",
    "model_bern = BernoulliNB().fit(dfX,dfy)"
   ]
  },
  {
   "cell_type": "markdown",
   "metadata": {},
   "source": [
    "#### 연습문제 2\n",
    "- MNIST Digit 분류 문제에서 sklearn.preprocessing.Binarizer로 x값을 0, 1로 바꾼다(값이 8 이상이면 1, 8 미만이면 0). 즉 흰색과 검은색 픽셀로만 구성된 이미지로 만든다. 이 이미지에 대해 베르누이 나이브 베이즈 모형을 적용한다.\n",
    "- BernoulliNB 클래스의 binarize 인수를 사용하여 같은 문제를 풀어본다."
   ]
  },
  {
   "cell_type": "code",
   "execution_count": 70,
   "metadata": {},
   "outputs": [],
   "source": [
    "#1\n",
    "from sklearn.datasets import load_digits\n",
    "digits = load_digits()"
   ]
  },
  {
   "cell_type": "code",
   "execution_count": 71,
   "metadata": {},
   "outputs": [],
   "source": [
    "dfX = digits.data\n",
    "dfy = digits.target"
   ]
  },
  {
   "cell_type": "code",
   "execution_count": 64,
   "metadata": {},
   "outputs": [],
   "source": [
    "from sklearn.preprocessing import Binarizer\n",
    "binarizer = Binarizer(threshold=8)"
   ]
  },
  {
   "cell_type": "code",
   "execution_count": 65,
   "metadata": {},
   "outputs": [
    {
     "data": {
      "text/plain": [
       "array([[0., 0., 0., ..., 0., 0., 0.],\n",
       "       [0., 0., 0., ..., 1., 0., 0.],\n",
       "       [0., 0., 0., ..., 1., 1., 0.],\n",
       "       ...,\n",
       "       [0., 0., 0., ..., 0., 0., 0.],\n",
       "       [0., 0., 0., ..., 1., 0., 0.],\n",
       "       [0., 0., 1., ..., 1., 0., 0.]])"
      ]
     },
     "execution_count": 65,
     "metadata": {},
     "output_type": "execute_result"
    }
   ],
   "source": [
    "binarizer.fit(dfX)\n",
    "dfX = binarizer.transform(dfX)\n",
    "dfX"
   ]
  },
  {
   "cell_type": "code",
   "execution_count": 66,
   "metadata": {},
   "outputs": [
    {
     "data": {
      "text/plain": [
       "BernoulliNB(alpha=1.0, binarize=0.0, class_prior=None, fit_prior=True)"
      ]
     },
     "execution_count": 66,
     "metadata": {},
     "output_type": "execute_result"
    }
   ],
   "source": [
    "model_bern = BernoulliNB().fit(dfX,dfy)\n",
    "model_bern"
   ]
  },
  {
   "cell_type": "code",
   "execution_count": 68,
   "metadata": {},
   "outputs": [
    {
     "name": "stdout",
     "output_type": "stream",
     "text": [
      "             precision    recall  f1-score   support\n",
      "\n",
      "          0       0.99      0.96      0.97       178\n",
      "          1       0.82      0.80      0.81       182\n",
      "          2       0.89      0.88      0.88       177\n",
      "          3       0.95      0.85      0.89       183\n",
      "          4       0.97      0.93      0.95       181\n",
      "          5       0.92      0.91      0.91       182\n",
      "          6       0.97      0.94      0.96       181\n",
      "          7       0.88      0.98      0.93       179\n",
      "          8       0.81      0.80      0.81       174\n",
      "          9       0.79      0.90      0.84       180\n",
      "\n",
      "avg / total       0.90      0.90      0.90      1797\n",
      "\n"
     ]
    }
   ],
   "source": [
    "print(classification_report(dfy,model_bern.predict(dfX)))"
   ]
  },
  {
   "cell_type": "code",
   "execution_count": 69,
   "metadata": {},
   "outputs": [
    {
     "data": {
      "text/plain": [
       "array([[171,   0,   0,   0,   1,   3,   2,   0,   0,   1],\n",
       "       [  0, 146,   8,   0,   0,   1,   3,   0,  13,  11],\n",
       "       [  1,   8, 156,   3,   0,   0,   0,   1,   4,   4],\n",
       "       [  0,   2,   2, 155,   0,   2,   0,   7,   5,  10],\n",
       "       [  0,   3,   0,   0, 168,   1,   1,   5,   3,   0],\n",
       "       [  0,   0,   1,   2,   2, 166,   0,   0,   0,  11],\n",
       "       [  1,   5,   0,   0,   2,   0, 171,   0,   2,   0],\n",
       "       [  0,   0,   2,   0,   0,   0,   0, 175,   1,   1],\n",
       "       [  0,  15,   7,   1,   0,   5,   0,   2, 139,   5],\n",
       "       [  0,   0,   0,   3,   0,   3,   0,   8,   4, 162]])"
      ]
     },
     "execution_count": 69,
     "metadata": {},
     "output_type": "execute_result"
    }
   ],
   "source": [
    "confusion_matrix(dfy,model_bern.predict(dfX))"
   ]
  },
  {
   "cell_type": "code",
   "execution_count": 74,
   "metadata": {
    "scrolled": true
   },
   "outputs": [
    {
     "data": {
      "text/plain": [
       "BernoulliNB(alpha=1.0, binarize=8.0, class_prior=None, fit_prior=True)"
      ]
     },
     "execution_count": 74,
     "metadata": {},
     "output_type": "execute_result"
    }
   ],
   "source": [
    "#2\n",
    "model_bern = BernoulliNB(binarize=8.).fit(dfX,dfy)\n",
    "model_bern"
   ]
  },
  {
   "cell_type": "code",
   "execution_count": 75,
   "metadata": {},
   "outputs": [
    {
     "name": "stdout",
     "output_type": "stream",
     "text": [
      "             precision    recall  f1-score   support\n",
      "\n",
      "          0       0.99      0.96      0.97       178\n",
      "          1       0.82      0.80      0.81       182\n",
      "          2       0.89      0.88      0.88       177\n",
      "          3       0.95      0.85      0.89       183\n",
      "          4       0.97      0.93      0.95       181\n",
      "          5       0.92      0.91      0.91       182\n",
      "          6       0.97      0.94      0.96       181\n",
      "          7       0.88      0.98      0.93       179\n",
      "          8       0.81      0.80      0.81       174\n",
      "          9       0.79      0.90      0.84       180\n",
      "\n",
      "avg / total       0.90      0.90      0.90      1797\n",
      "\n"
     ]
    }
   ],
   "source": [
    "print(classification_report(dfy,model_bern.predict(dfX)))"
   ]
  },
  {
   "cell_type": "code",
   "execution_count": 76,
   "metadata": {},
   "outputs": [
    {
     "data": {
      "text/plain": [
       "array([[171,   0,   0,   0,   1,   3,   2,   0,   0,   1],\n",
       "       [  0, 146,   8,   0,   0,   1,   3,   0,  13,  11],\n",
       "       [  1,   8, 156,   3,   0,   0,   0,   1,   4,   4],\n",
       "       [  0,   2,   2, 155,   0,   2,   0,   7,   5,  10],\n",
       "       [  0,   3,   0,   0, 168,   1,   1,   5,   3,   0],\n",
       "       [  0,   0,   1,   2,   2, 166,   0,   0,   0,  11],\n",
       "       [  1,   5,   0,   0,   2,   0, 171,   0,   2,   0],\n",
       "       [  0,   0,   2,   0,   0,   0,   0, 175,   1,   1],\n",
       "       [  0,  15,   7,   1,   0,   5,   0,   2, 139,   5],\n",
       "       [  0,   0,   0,   3,   0,   3,   0,   8,   4, 162]])"
      ]
     },
     "execution_count": 76,
     "metadata": {},
     "output_type": "execute_result"
    }
   ],
   "source": [
    "confusion_matrix(dfy,model_bern.predict(dfX))"
   ]
  }
 ],
 "metadata": {
  "kernelspec": {
   "display_name": "Python 3",
   "language": "python",
   "name": "python3"
  },
  "language_info": {
   "codemirror_mode": {
    "name": "ipython",
    "version": 3
   },
   "file_extension": ".py",
   "mimetype": "text/x-python",
   "name": "python",
   "nbconvert_exporter": "python",
   "pygments_lexer": "ipython3",
   "version": "3.6.5"
  }
 },
 "nbformat": 4,
 "nbformat_minor": 2
}
