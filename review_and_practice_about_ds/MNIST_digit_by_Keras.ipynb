{
 "cells": [
  {
   "cell_type": "code",
   "execution_count": 4,
   "metadata": {},
   "outputs": [],
   "source": [
    "import numpy as np\n",
    "import pandas as pd\n",
    "from keras.datasets import mnist\n",
    "from keras.utils import np_utils"
   ]
  },
  {
   "cell_type": "code",
   "execution_count": 5,
   "metadata": {},
   "outputs": [],
   "source": [
    "(X_train0, y_train0), (X_test0, y_test0) = mnist.load_data()\n",
    "X_train = X_train0[:, :, :, np.newaxis].astype('float32') / 255.0\n",
    "X_test = X_test0[:, :, :, np.newaxis].astype('float32') / 255.0\n",
    "Y_train = np_utils.to_categorical(y_train0, 10)\n",
    "Y_test = np_utils.to_categorical(y_test0, 10)"
   ]
  },
  {
   "cell_type": "code",
   "execution_count": 6,
   "metadata": {},
   "outputs": [],
   "source": [
    "from keras.models import Sequential\n",
    "from keras.layers import Conv2D, MaxPooling2D, Flatten, Dense, Dropout\n",
    "from keras.optimizers import Adadelta\n",
    "from keras.regularizers import l2"
   ]
  },
  {
   "cell_type": "code",
   "execution_count": 13,
   "metadata": {},
   "outputs": [],
   "source": [
    "from keras.models import Sequential\n",
    "from keras.layers import Conv2D, MaxPooling2D, Flatten, Dense, Dropout\n",
    "from keras.optimizers import Adadelta\n",
    "from keras.regularizers import l2\n",
    "\n",
    "\n",
    "model1 = Sequential()\n",
    "model1.add(Conv2D(4, (5, 5), activation='relu', input_shape=(28, 28, 1), kernel_initializer=\"glorot_uniform\"))\n",
    "model1.add(MaxPooling2D())\n",
    "model1.add(Flatten())\n",
    "model1.add(Dense(10, activation='softmax', kernel_initializer=\"glorot_uniform\"))\n",
    "\n",
    "np.random.seed(0)\n",
    "model1.compile(loss='categorical_crossentropy', metrics=['accuracy'], optimizer=Adadelta())"
   ]
  },
  {
   "cell_type": "code",
   "execution_count": 14,
   "metadata": {
    "scrolled": true
   },
   "outputs": [
    {
     "name": "stdout",
     "output_type": "stream",
     "text": [
      "_________________________________________________________________\n",
      "Layer (type)                 Output Shape              Param #   \n",
      "=================================================================\n",
      "conv2d_2 (Conv2D)            (None, 24, 24, 4)         104       \n",
      "_________________________________________________________________\n",
      "max_pooling2d_2 (MaxPooling2 (None, 12, 12, 4)         0         \n",
      "_________________________________________________________________\n",
      "flatten_2 (Flatten)          (None, 576)               0         \n",
      "_________________________________________________________________\n",
      "dense_2 (Dense)              (None, 10)                5770      \n",
      "=================================================================\n",
      "Total params: 5,874\n",
      "Trainable params: 5,874\n",
      "Non-trainable params: 0\n",
      "_________________________________________________________________\n"
     ]
    }
   ],
   "source": [
    "model1.summary()"
   ]
  },
  {
   "cell_type": "code",
   "execution_count": 15,
   "metadata": {},
   "outputs": [
    {
     "name": "stdout",
     "output_type": "stream",
     "text": [
      "Train on 60000 samples, validate on 10000 samples\n",
      "Epoch 1/10\n",
      " - 7s - loss: 0.8208 - acc: 0.7694 - val_loss: 0.3484 - val_acc: 0.9007\n",
      "Epoch 2/10\n",
      " - 7s - loss: 0.3129 - acc: 0.9105 - val_loss: 0.2688 - val_acc: 0.9218\n",
      "Epoch 3/10\n",
      " - 7s - loss: 0.2510 - acc: 0.9286 - val_loss: 0.2149 - val_acc: 0.9381\n",
      "Epoch 4/10\n",
      " - 7s - loss: 0.2113 - acc: 0.9405 - val_loss: 0.1787 - val_acc: 0.9495\n",
      "Epoch 5/10\n",
      " - 8s - loss: 0.1816 - acc: 0.9490 - val_loss: 0.1558 - val_acc: 0.9548\n",
      "Epoch 6/10\n",
      " - 8s - loss: 0.1600 - acc: 0.9543 - val_loss: 0.1392 - val_acc: 0.9583\n",
      "Epoch 7/10\n",
      " - 8s - loss: 0.1427 - acc: 0.9596 - val_loss: 0.1261 - val_acc: 0.9620\n",
      "Epoch 8/10\n",
      " - 8s - loss: 0.1298 - acc: 0.9636 - val_loss: 0.1154 - val_acc: 0.9654\n",
      "Epoch 9/10\n",
      " - 8s - loss: 0.1193 - acc: 0.9659 - val_loss: 0.1102 - val_acc: 0.9668\n",
      "Epoch 10/10\n",
      " - 8s - loss: 0.1111 - acc: 0.9681 - val_loss: 0.1007 - val_acc: 0.9690\n",
      "CPU times: user 6min 20s, sys: 25.6 s, total: 6min 46s\n",
      "Wall time: 1min 14s\n"
     ]
    }
   ],
   "source": [
    "%%time\n",
    "hist1 = model1.fit(X_train, Y_train, epochs=10, batch_size=600, validation_data=(X_test, Y_test), verbose=2)"
   ]
  },
  {
   "cell_type": "code",
   "execution_count": 19,
   "metadata": {
    "scrolled": true
   },
   "outputs": [
    {
     "data": {
      "image/png": "[encoded data removed]",
      "text/plain": [
       "<Figure size 432x288 with 1 Axes>"
      ]
     },
     "metadata": {},
     "output_type": "display_data"
    }
   ],
   "source": [
    "import matplotlib.pylab as plt\n",
    "plt.plot(hist1.history['acc'], 'b-', label=\"training\")\n",
    "plt.plot(hist1.history['val_acc'], 'r:', label=\"test\")\n",
    "plt.legend()\n",
    "plt.show()"
   ]
  },
  {
   "cell_type": "code",
   "execution_count": 17,
   "metadata": {},
   "outputs": [],
   "source": [
    "np.random.seed(0)\n",
    "\n",
    "model2 = Sequential()\n",
    "\n",
    "model2.add(Conv2D(4, (5, 5), activation='relu', input_shape=(28, 28, 1), kernel_initializer=\"glorot_uniform\"))\n",
    "model2.add(MaxPooling2D())\n",
    "model2.add(Conv2D(4, (5, 5), activation='relu', kernel_initializer=\"glorot_uniform\"))\n",
    "model2.add(MaxPooling2D())\n",
    "model2.add(Flatten())\n",
    "model2.add(Dense(10, activation='softmax', kernel_initializer=\"glorot_uniform\"))\n",
    "model2.compile(loss='categorical_crossentropy', metrics=['accuracy'], optimizer=Adadelta())"
   ]
  },
  {
   "cell_type": "code",
   "execution_count": 18,
   "metadata": {},
   "outputs": [
    {
     "name": "stdout",
     "output_type": "stream",
     "text": [
      "_________________________________________________________________\n",
      "Layer (type)                 Output Shape              Param #   \n",
      "=================================================================\n",
      "conv2d_3 (Conv2D)            (None, 24, 24, 4)         104       \n",
      "_________________________________________________________________\n",
      "max_pooling2d_3 (MaxPooling2 (None, 12, 12, 4)         0         \n",
      "_________________________________________________________________\n",
      "conv2d_4 (Conv2D)            (None, 8, 8, 4)           404       \n",
      "_________________________________________________________________\n",
      "max_pooling2d_4 (MaxPooling2 (None, 4, 4, 4)           0         \n",
      "_________________________________________________________________\n",
      "flatten_3 (Flatten)          (None, 64)                0         \n",
      "_________________________________________________________________\n",
      "dense_3 (Dense)              (None, 10)                650       \n",
      "=================================================================\n",
      "Total params: 1,158\n",
      "Trainable params: 1,158\n",
      "Non-trainable params: 0\n",
      "_________________________________________________________________\n"
     ]
    }
   ],
   "source": [
    "model2.summary()"
   ]
  },
  {
   "cell_type": "code",
   "execution_count": 20,
   "metadata": {
    "scrolled": true
   },
   "outputs": [
    {
     "name": "stdout",
     "output_type": "stream",
     "text": [
      "Train on 60000 samples, validate on 10000 samples\n",
      "Epoch 1/20\n",
      " - 9s - loss: 1.0248 - acc: 0.6604 - val_loss: 0.4346 - val_acc: 0.8598\n",
      "Epoch 2/20\n",
      " - 8s - loss: 0.3465 - acc: 0.8943 - val_loss: 0.2700 - val_acc: 0.9197\n",
      "Epoch 3/20\n",
      " - 9s - loss: 0.2665 - acc: 0.9192 - val_loss: 0.2224 - val_acc: 0.9325\n",
      "Epoch 4/20\n",
      " - 10s - loss: 0.2281 - acc: 0.9312 - val_loss: 0.1974 - val_acc: 0.9400\n",
      "Epoch 5/20\n",
      " - 9s - loss: 0.2018 - acc: 0.9393 - val_loss: 0.1785 - val_acc: 0.9472\n",
      "Epoch 6/20\n",
      " - 10s - loss: 0.1842 - acc: 0.9449 - val_loss: 0.1575 - val_acc: 0.9537\n",
      "Epoch 7/20\n",
      " - 10s - loss: 0.1694 - acc: 0.9491 - val_loss: 0.1481 - val_acc: 0.9565\n",
      "Epoch 8/20\n",
      " - 9s - loss: 0.1583 - acc: 0.9528 - val_loss: 0.1384 - val_acc: 0.9592\n",
      "Epoch 9/20\n",
      " - 10s - loss: 0.1480 - acc: 0.9560 - val_loss: 0.1287 - val_acc: 0.9623\n",
      "Epoch 10/20\n",
      " - 10s - loss: 0.1399 - acc: 0.9582 - val_loss: 0.1253 - val_acc: 0.9627\n",
      "Epoch 11/20\n",
      " - 9s - loss: 0.1338 - acc: 0.9602 - val_loss: 0.1158 - val_acc: 0.9653\n",
      "Epoch 12/20\n",
      " - 9s - loss: 0.1285 - acc: 0.9616 - val_loss: 0.1121 - val_acc: 0.9668\n",
      "Epoch 13/20\n",
      " - 9s - loss: 0.1238 - acc: 0.9630 - val_loss: 0.1066 - val_acc: 0.9675\n",
      "Epoch 14/20\n",
      " - 9s - loss: 0.1191 - acc: 0.9646 - val_loss: 0.1038 - val_acc: 0.9686\n",
      "Epoch 15/20\n",
      " - 9s - loss: 0.1148 - acc: 0.9652 - val_loss: 0.1011 - val_acc: 0.9696\n",
      "Epoch 16/20\n",
      " - 9s - loss: 0.1114 - acc: 0.9670 - val_loss: 0.1007 - val_acc: 0.9692\n",
      "Epoch 17/20\n",
      " - 9s - loss: 0.1079 - acc: 0.9675 - val_loss: 0.0951 - val_acc: 0.9713\n",
      "Epoch 18/20\n",
      " - 9s - loss: 0.1047 - acc: 0.9685 - val_loss: 0.0927 - val_acc: 0.9728\n",
      "Epoch 19/20\n",
      " - 9s - loss: 0.1025 - acc: 0.9691 - val_loss: 0.0927 - val_acc: 0.9720\n",
      "Epoch 20/20\n",
      " - 9s - loss: 0.1004 - acc: 0.9698 - val_loss: 0.0905 - val_acc: 0.9714\n",
      "CPU times: user 15min 46s, sys: 1min 9s, total: 16min 56s\n",
      "Wall time: 3min 4s\n"
     ]
    }
   ],
   "source": [
    "%%time\n",
    "hist2 = model2.fit(X_train, Y_train, epochs=20, batch_size=600, validation_data=(X_test, Y_test), verbose=2)"
   ]
  },
  {
   "cell_type": "code",
   "execution_count": 21,
   "metadata": {},
   "outputs": [
    {
     "data": {
      "image/png": "[encoded data removed]",
      "text/plain": [
       "<Figure size 432x288 with 1 Axes>"
      ]
     },
     "metadata": {},
     "output_type": "display_data"
    }
   ],
   "source": [
    "plt.plot(hist2.history['acc'], 'b-', label=\"training\")\n",
    "plt.plot(hist2.history['val_acc'], 'r:', label=\"test\")\n",
    "plt.legend()\n",
    "plt.show()"
   ]
  }
 ],
 "metadata": {
  "kernelspec": {
   "display_name": "Python 3",
   "language": "python",
   "name": "python3"
  },
  "language_info": {
   "codemirror_mode": {
    "name": "ipython",
    "version": 3
   },
   "file_extension": ".py",
   "mimetype": "text/x-python",
   "name": "python",
   "nbconvert_exporter": "python",
   "pygments_lexer": "ipython3",
   "version": "3.6.5"
  }
 },
 "nbformat": 4,
 "nbformat_minor": 2
}
