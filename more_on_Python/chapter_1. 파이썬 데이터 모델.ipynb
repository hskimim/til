{
 "cells": [
  {
   "cell_type": "markdown",
   "metadata": {},
   "source": [
    "# 1. 파이썬 데이터 모델"
   ]
  },
  {
   "cell_type": "markdown",
   "metadata": {},
   "source": [
    "- 다른 객체지향 언어와는 다르게, 파이썬은 자료형의 길이를 구할 때, `collection.len()` 이 아닌, `len(collection)` 을 사용한다.\n",
    "- 이러한 모습들이 pythonic 한 부분이고, 파이썬 데이터 모델이라고 하며, 이번 챕터에서는 데이터 모델들에 대해서 알아본다.\n",
    "- 데이터 모델은 일종의 `프레임 워크`로써, 파이썬을 설명하는 것이라고 생각할 수 있으며, \n",
    "- 시퀀스 , 반복자 , 함수 , 클래스 , 콘텍스트 , 등 언어 자체의 구성단위에 대한 인터페이스를 공식적으로 정의한다."
   ]
  },
  {
   "cell_type": "markdown",
   "metadata": {},
   "source": [
    "- 프레임워크에서 호출되는 메서드를 생성하는 데에는 시간이 많이 걸린다. 이에 따라서 파이썬 인터프리터는 특별 메서드를 호출해, 기본적인 객체 연산을 수행한다. 특별 메소드(special method)는 양쪽에 언더바`_` 를 가지고 있고, double under 를 줄여, 던더 메소드라고 불린다.\n",
    "- 예를 들어, obj[key] 와 같은 , indexing 과 더 나아가 slicing 은 `__getitem__()` 이라는 특별메소드가 지원한다."
   ]
  },
  {
   "cell_type": "code",
   "execution_count": 38,
   "metadata": {},
   "outputs": [],
   "source": [
    "import collections \n",
    "from random import choice \n",
    "\n",
    "Card = collections.namedtuple('Card',['rank','suit'])\n",
    "\n",
    "class FrenchDeck:\n",
    "    ranks = [str(n) for n in range(2,11)] + list('JQKA')\n",
    "    suits = 'spades diamonds clubs hearts'.split()\n",
    "    \n",
    "    def __init__(self):\n",
    "        self._cards = [Card(rank,suit) for suit in self.suits for rank in self.ranks]\n",
    "        \n",
    "    def __len__(self):\n",
    "        return len(self._cards)\n",
    "    \n",
    "    def __getitem__(self,position):\n",
    "        return self._cards[position]"
   ]
  },
  {
   "cell_type": "markdown",
   "metadata": {},
   "source": [
    "- 우선적으로, collections.namedtuple()을 이용해서 개별 카드를 나타내는 클래스를 구현하는 것을 볼 수 있다.\n",
    "- namedtuple 을 통해서, 메소드를 가지지 않으면서 일련의 속성을 지닌 클래스를 만들 수 있다."
   ]
  },
  {
   "cell_type": "code",
   "execution_count": 39,
   "metadata": {},
   "outputs": [
    {
     "data": {
      "text/plain": [
       "Card(rank='7', suit='diamonds')"
      ]
     },
     "execution_count": 39,
     "metadata": {},
     "output_type": "execute_result"
    }
   ],
   "source": [
    "beer_card = Card('7','diamonds')\n",
    "beer_card"
   ]
  },
  {
   "cell_type": "code",
   "execution_count": 41,
   "metadata": {},
   "outputs": [
    {
     "name": "stdout",
     "output_type": "stream",
     "text": [
      "52\n",
      "Card(rank='2', suit='spades')\n"
     ]
    }
   ],
   "source": [
    "deck = FrenchDeck()\n",
    "print(len(deck)) #__len__ 메소드가 제공한다.\n",
    "print(deck[0]) #__getitem__ 메소드가 제공한다."
   ]
  },
  {
   "cell_type": "code",
   "execution_count": 10,
   "metadata": {},
   "outputs": [
    {
     "name": "stdout",
     "output_type": "stream",
     "text": [
      "Card(rank='8', suit='diamonds')\n",
      "Card(rank='Q', suit='clubs')\n",
      "Card(rank='6', suit='spades')\n"
     ]
    }
   ],
   "source": [
    "from random import choice \n",
    "for _ in range(3):\n",
    "    print(choice(deck))"
   ]
  },
  {
   "cell_type": "markdown",
   "metadata": {},
   "source": [
    "### 특별 메서드를 통해 파이썬 데이터 모델을 사용할 때의 두 가지 장점을 알 수 있다.\n",
    "- 표준 연산을 수행하기 위해 클래스 자체에서 구현한 임의 메서드명을 암기할 필요가 없다.\n",
    "    - 즉, 시퀀스의 길이를 알기 위해서, 해당 메소드의 이름을 외우기 보다는(ex.collenctions.len()), 특별메소드가 지원하는 기능을 사용하면 된다. (ex.len(collections))\n",
    "- 파이썬 표준 라이브러리에서 제공하는 풍부한 기능을 그대로 쓸 수 있다.(별도의 구현의 필요가 없다)"
   ]
  },
  {
   "cell_type": "code",
   "execution_count": 44,
   "metadata": {},
   "outputs": [
    {
     "ename": "TypeError",
     "evalue": "object of type 'FrenchDeck' has no len()",
     "output_type": "error",
     "traceback": [
      "\u001b[0;31m---------------------------------------------------------------------------\u001b[0m",
      "\u001b[0;31mTypeError\u001b[0m                                 Traceback (most recent call last)",
      "\u001b[0;32m<ipython-input-44-4c81fdf4f882>\u001b[0m in \u001b[0;36m<module>\u001b[0;34m()\u001b[0m\n\u001b[1;32m     18\u001b[0m \u001b[0;34m\u001b[0m\u001b[0m\n\u001b[1;32m     19\u001b[0m \u001b[0mdeck\u001b[0m \u001b[0;34m=\u001b[0m \u001b[0mFrenchDeck\u001b[0m\u001b[0;34m(\u001b[0m\u001b[0;34m)\u001b[0m\u001b[0;34m\u001b[0m\u001b[0m\n\u001b[0;32m---> 20\u001b[0;31m \u001b[0mprint\u001b[0m\u001b[0;34m(\u001b[0m\u001b[0mlen\u001b[0m\u001b[0;34m(\u001b[0m\u001b[0mdeck\u001b[0m\u001b[0;34m)\u001b[0m\u001b[0;34m)\u001b[0m \u001b[0;31m#__len__ 메소드가 제공한다.\u001b[0m\u001b[0;34m\u001b[0m\u001b[0m\n\u001b[0m\u001b[1;32m     21\u001b[0m \u001b[0mprint\u001b[0m\u001b[0;34m(\u001b[0m\u001b[0mdeck\u001b[0m\u001b[0;34m[\u001b[0m\u001b[0;36m0\u001b[0m\u001b[0;34m]\u001b[0m\u001b[0;34m)\u001b[0m \u001b[0;31m#__getitem__ 메소드가 제공한다.\u001b[0m\u001b[0;34m\u001b[0m\u001b[0m\n",
      "\u001b[0;31mTypeError\u001b[0m: object of type 'FrenchDeck' has no len()"
     ]
    }
   ],
   "source": [
    "import collections \n",
    "from random import choice \n",
    "\n",
    "Card = collections.namedtuple('Card',['rank','suit'])\n",
    "\n",
    "class FrenchDeck:\n",
    "    ranks = [str(n) for n in range(2,11)] + list('JQKA')\n",
    "    suits = 'spades diamonds clubs hearts'.split()\n",
    "    \n",
    "    def __init__(self):\n",
    "        self._cards = [Card(rank,suit) for suit in self.suits for rank in self.ranks]\n",
    "        \n",
    "#     def __len__(self):\n",
    "#         return len(self._cards)\n",
    "    \n",
    "#     def __getitem__(self,position):\n",
    "#         return self._cards[position]\n",
    "\n",
    "deck = FrenchDeck()\n",
    "print(len(deck)) #__len__ 메소드가 제공한다.\n",
    "print(deck[0]) #__getitem__ 메소드가 제공한다."
   ]
  },
  {
   "cell_type": "code",
   "execution_count": 47,
   "metadata": {},
   "outputs": [
    {
     "ename": "TypeError",
     "evalue": "object of type 'FrenchDeck' has no len()",
     "output_type": "error",
     "traceback": [
      "\u001b[0;31m---------------------------------------------------------------------------\u001b[0m",
      "\u001b[0;31mTypeError\u001b[0m                                 Traceback (most recent call last)",
      "\u001b[0;32m<ipython-input-47-658482e7b621>\u001b[0m in \u001b[0;36m<module>\u001b[0;34m()\u001b[0m\n\u001b[1;32m      1\u001b[0m \u001b[0;32mfrom\u001b[0m \u001b[0mrandom\u001b[0m \u001b[0;32mimport\u001b[0m \u001b[0mchoice\u001b[0m\u001b[0;34m\u001b[0m\u001b[0m\n\u001b[1;32m      2\u001b[0m \u001b[0;32mfor\u001b[0m \u001b[0m_\u001b[0m \u001b[0;32min\u001b[0m \u001b[0mrange\u001b[0m\u001b[0;34m(\u001b[0m\u001b[0;36m3\u001b[0m\u001b[0;34m)\u001b[0m\u001b[0;34m:\u001b[0m\u001b[0;34m\u001b[0m\u001b[0m\n\u001b[0;32m----> 3\u001b[0;31m     \u001b[0mprint\u001b[0m\u001b[0;34m(\u001b[0m\u001b[0mchoice\u001b[0m\u001b[0;34m(\u001b[0m\u001b[0mdeck\u001b[0m\u001b[0;34m)\u001b[0m\u001b[0;34m)\u001b[0m\u001b[0;34m\u001b[0m\u001b[0m\n\u001b[0m\u001b[1;32m      4\u001b[0m \u001b[0;31m#random 함수에는 len함수가 필요하다!\u001b[0m\u001b[0;34m\u001b[0m\u001b[0;34m\u001b[0m\u001b[0m\n",
      "\u001b[0;32m~/anaconda3/lib/python3.6/random.py\u001b[0m in \u001b[0;36mchoice\u001b[0;34m(self, seq)\u001b[0m\n\u001b[1;32m    253\u001b[0m         \u001b[0;34m\"\"\"Choose a random element from a non-empty sequence.\"\"\"\u001b[0m\u001b[0;34m\u001b[0m\u001b[0m\n\u001b[1;32m    254\u001b[0m         \u001b[0;32mtry\u001b[0m\u001b[0;34m:\u001b[0m\u001b[0;34m\u001b[0m\u001b[0m\n\u001b[0;32m--> 255\u001b[0;31m             \u001b[0mi\u001b[0m \u001b[0;34m=\u001b[0m \u001b[0mself\u001b[0m\u001b[0;34m.\u001b[0m\u001b[0m_randbelow\u001b[0m\u001b[0;34m(\u001b[0m\u001b[0mlen\u001b[0m\u001b[0;34m(\u001b[0m\u001b[0mseq\u001b[0m\u001b[0;34m)\u001b[0m\u001b[0;34m)\u001b[0m\u001b[0;34m\u001b[0m\u001b[0m\n\u001b[0m\u001b[1;32m    256\u001b[0m         \u001b[0;32mexcept\u001b[0m \u001b[0mValueError\u001b[0m\u001b[0;34m:\u001b[0m\u001b[0;34m\u001b[0m\u001b[0m\n\u001b[1;32m    257\u001b[0m             \u001b[0;32mraise\u001b[0m \u001b[0mIndexError\u001b[0m\u001b[0;34m(\u001b[0m\u001b[0;34m'Cannot choose from an empty sequence'\u001b[0m\u001b[0;34m)\u001b[0m \u001b[0;32mfrom\u001b[0m \u001b[0;32mNone\u001b[0m\u001b[0;34m\u001b[0m\u001b[0m\n",
      "\u001b[0;31mTypeError\u001b[0m: object of type 'FrenchDeck' has no len()"
     ]
    }
   ],
   "source": [
    "from random import choice \n",
    "for _ in range(3):\n",
    "    print(choice(deck))\n",
    "#random 함수에는 len함수가 필요하다!"
   ]
  },
  {
   "cell_type": "markdown",
   "metadata": {},
   "source": [
    "- 위의 예시에는 `__len__` 과 `__getitem__` 던더 메소드를 없애고 같은 연산을 한 결과이다. \n",
    "- 이와 같이 두 가지 특별 메서드를 구현함으로써 FrenchDeck 은 표준 파이썬 시퀀스처럼 작동하므로 반복 및 슬라이싱 등의 핵심 언어 기능 및 기타 연산들까지 (random.choice , reversed , sorted) 들과 같은 표준 라이브러리를 사용할 수 있다."
   ]
  },
  {
   "cell_type": "markdown",
   "metadata": {},
   "source": [
    "### 특별 메소드는 어떻게 사용되나?\n",
    "\n",
    "- 일단, 던더 메소드는 우리가 호출하기 위함이 아닌, 파이썬 인터프리터가 호출하기 위한 것이다.\n",
    "    - `len(list_obj)` 를 실행하면, 파이썬 인터프리터는 `list_obj.__len__()` 를 호출한다.\n",
    "\n",
    "- 그렇다고 해서, 항상 len()을 실행했을 때, 같은 던더 메소드로 가는 것은 아니다. \n",
    "    - 메소드를 호출하는 것은 가장 빠른 방법이 아니다.\n",
    "    - 실제로, list , str , bytearray 와 같은 내장 자료형의 len() 함수는 던더 메소드가 아닌, PyVartObject C 구조체의 ob_size 필드 값을 반환한다.\n",
    "\n",
    "- 던더 메소드는 암묵적으로 실행되는 경우도 존재한다.\n",
    "    - choice 함수를 실행하기 위해서, len() 함수를 호출하며, 이 함수는 다시 `__len__()` 메소드를 호출한다.\n",
    "\n",
    "- 실제로 던더 메소드를 호출해야 하는 경우는 그리 많지 않고, 내장 함수를 호출하는 것이 좋다.\n",
    "\n",
    "- 시퀀스를 흉내내기 위해서 특별 메서드가 널리 사용된다."
   ]
  },
  {
   "cell_type": "markdown",
   "metadata": {},
   "source": [
    "_________________________"
   ]
  },
  {
   "cell_type": "markdown",
   "metadata": {},
   "source": [
    "### 수치형 흉내 내기\n",
    "- + 과 같은 연산자에 사용자 정의 객체가 응답할 수 있게 해주는 몇몇 던더 메소드가 있다.\n",
    "- 자세한 것은 나중에 다시 다루도록 하고, 간단한 예제를 통해 던더 메서드를 사용하는 방법을 알아보자"
   ]
  },
  {
   "cell_type": "code",
   "execution_count": 70,
   "metadata": {
    "collapsed": true
   },
   "outputs": [],
   "source": [
    "from math import hypot\n",
    "\n",
    "class Vector():\n",
    "    \n",
    "    def __init__(self,x=0,y=0):\n",
    "        self.x = x\n",
    "        self.y = y\n",
    "        \n",
    "    def __repr__(self):\n",
    "        # __repr__ 던더 메서드는 객체를 문자열로 표현하기 위해 repr() 내장 메서드에 의해 호출된다. \n",
    "        #해당 메소드가 없으면 Vector 객체는 콘솔에 바이너리의 형태로 출력된다.\n",
    "        return 'Vector(%r,%r)' % (self.x , self.y)\n",
    "    \n",
    "    def __abs__(self):\n",
    "        return hypot(self.x, self.y)\n",
    "    \n",
    "    def __bool__(self):\n",
    "        #__bool__을 따로 선언해 주지 않고, bool(x)를 소스 코드로 실행하면, __len__() 던더 메서드가 실행되고, 길이가 0이 아니면,\n",
    "        # True 를 반환해준다. 우리는 2차원 벡터의 유클리디언 길이가 0 이상이면 True 를 반환하게끔 만드려 했으므로 bool 던더를 따로 만든다.\n",
    "        return bool(abs(self))\n",
    "    \n",
    "    def __add__(self,other):\n",
    "        x = self.x + other.x\n",
    "        y = self.y + other.y\n",
    "        return Vector(x,y)\n",
    "    \n",
    "    def __mul__(self,scalar):\n",
    "        return Vector(self.x * scalar , self.y * scalar)\n",
    "    \n",
    "    #add 와 mul 산술 연산자는 모두 피연산자를 변경하지 않고, Vector 객체를 새롭게 만들어서 반환한다."
   ]
  },
  {
   "cell_type": "markdown",
   "metadata": {},
   "source": [
    "#### `__repr__` 와 `__str__` 의 차이점 \n",
    "- 아래의 datetime 예시를 보면 알 수 있다시피, str은 readable 이 관건으로 유저를 위한 것이다.\n",
    "- repr은 unambiguous 가 관건으로 개발자를 위한 것이다.\n",
    "- 하지만 repr 가 str 을 포괄하는 관점으로 repr 사용을 우선시한다."
   ]
  },
  {
   "cell_type": "code",
   "execution_count": 79,
   "metadata": {},
   "outputs": [
    {
     "name": "stdout",
     "output_type": "stream",
     "text": [
      "foo\n",
      "foo\n",
      "foo\n",
      "<__main__.Sic object at 0x7f0b48e95978>\n"
     ]
    }
   ],
   "source": [
    "class Sic(object): \n",
    "    def __repr__(object): return 'foo'\n",
    "\n",
    "print( str(Sic()))\n",
    "print( repr(Sic()))\n",
    "\n",
    "class Sic(object):\n",
    "    def __str__(object): return 'foo'\n",
    "\n",
    "print( str(Sic()))\n",
    "print( repr(Sic()))\n"
   ]
  },
  {
   "cell_type": "code",
   "execution_count": 77,
   "metadata": {},
   "outputs": [
    {
     "name": "stdout",
     "output_type": "stream",
     "text": [
      "2018-12-17 16:49:00.333145\n",
      "datetime.datetime(2018, 12, 17, 16, 49, 0, 333145)\n"
     ]
    }
   ],
   "source": [
    "import datetime\n",
    "today = datetime.datetime.now()\n",
    "print(str(today))\n",
    "print(repr(today))"
   ]
  }
 ],
 "metadata": {
  "kernelspec": {
   "display_name": "Python 3",
   "language": "python",
   "name": "python3"
  },
  "language_info": {
   "codemirror_mode": {
    "name": "ipython",
    "version": 3
   },
   "file_extension": ".py",
   "mimetype": "text/x-python",
   "name": "python",
   "nbconvert_exporter": "python",
   "pygments_lexer": "ipython3",
   "version": "3.6.3"
  }
 },
 "nbformat": 4,
 "nbformat_minor": 2
}
